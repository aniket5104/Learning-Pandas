{
 "cells": [
  {
   "cell_type": "markdown",
   "id": "27e0260f",
   "metadata": {},
   "source": [
    "# What is pandas?\n",
    "Pandas is a fast, powerful, flexible and easy to use open source data analysis and manipulation tool, built on the top of python programming language."
   ]
  },
  {
   "cell_type": "markdown",
   "id": "e1935f39",
   "metadata": {},
   "source": [
    "---"
   ]
  },
  {
   "cell_type": "markdown",
   "id": "628a75bc",
   "metadata": {},
   "source": [
    "## Pandas Series:\n",
    "A pandas series is like a column in a table. It is a 1-D Array holding data of any type."
   ]
  },
  {
   "cell_type": "markdown",
   "id": "6c5dddcb",
   "metadata": {},
   "source": [
    "---"
   ]
  },
  {
   "cell_type": "markdown",
   "id": "2b21d96c",
   "metadata": {},
   "source": [
    "## Importing Pandas:"
   ]
  },
  {
   "cell_type": "code",
   "execution_count": 4,
   "id": "496e7b7f",
   "metadata": {},
   "outputs": [],
   "source": [
    "import pandas as pd\n",
    "import numpy as np"
   ]
  },
  {
   "cell_type": "markdown",
   "id": "7beb18fb",
   "metadata": {},
   "source": [
    "---"
   ]
  },
  {
   "cell_type": "markdown",
   "id": "43e1f475",
   "metadata": {},
   "source": [
    "## Series from list"
   ]
  },
  {
   "cell_type": "markdown",
   "id": "3c91dcd5",
   "metadata": {},
   "source": [
    "### Series of String "
   ]
  },
  {
   "cell_type": "code",
   "execution_count": 6,
   "id": "d0a32bd4",
   "metadata": {},
   "outputs": [
    {
     "data": {
      "text/plain": [
       "0      India\n",
       "1     Israel\n",
       "2     Russia\n",
       "3    America\n",
       "dtype: object"
      ]
     },
     "execution_count": 6,
     "metadata": {},
     "output_type": "execute_result"
    }
   ],
   "source": [
    "#1. First create a python list\n",
    "country=['India','Israel','Russia','America']\n",
    "#2. Use pd.Series() to convert it into a series\n",
    "pd.Series(country)"
   ]
  },
  {
   "cell_type": "markdown",
   "id": "f45dbea8",
   "metadata": {},
   "source": [
    "### Series of Integers"
   ]
  },
  {
   "cell_type": "code",
   "execution_count": 7,
   "id": "02f264ae",
   "metadata": {},
   "outputs": [
    {
     "data": {
      "text/plain": [
       "0     12\n",
       "1     35\n",
       "2     56\n",
       "3     23\n",
       "4     89\n",
       "5    100\n",
       "dtype: int64"
      ]
     },
     "execution_count": 7,
     "metadata": {},
     "output_type": "execute_result"
    }
   ],
   "source": [
    "Runs= [12, 35, 56 ,23, 89, 100]\n",
    "pd.Series(Runs)"
   ]
  },
  {
   "cell_type": "markdown",
   "id": "c7cf1224",
   "metadata": {},
   "source": [
    "### Creating Custom index"
   ]
  },
  {
   "cell_type": "code",
   "execution_count": 9,
   "id": "61719971",
   "metadata": {},
   "outputs": [
    {
     "data": {
      "text/plain": [
       "Maths        89\n",
       "Chemistry    57\n",
       "IWD          87\n",
       "Python       67\n",
       " Hindi       43\n",
       "dtype: int64"
      ]
     },
     "execution_count": 9,
     "metadata": {},
     "output_type": "execute_result"
    }
   ],
   "source": [
    "marks=[89,57, 87, 67, 43]\n",
    "subjects= ['Maths', 'Chemistry', 'IWD', 'Python', ' Hindi']\n",
    "pd.Series(marks, index= subjects)"
   ]
  },
  {
   "cell_type": "markdown",
   "id": "741017db",
   "metadata": {},
   "source": [
    "### Setting a name:"
   ]
  },
  {
   "cell_type": "code",
   "execution_count": 11,
   "id": "470f98e7",
   "metadata": {},
   "outputs": [
    {
     "data": {
      "text/plain": [
       "Maths        89\n",
       "Chemistry    57\n",
       "IWD          87\n",
       "Python       67\n",
       " Hindi       43\n",
       "Name: Aniket ke Marks, dtype: int64"
      ]
     },
     "execution_count": 11,
     "metadata": {},
     "output_type": "execute_result"
    }
   ],
   "source": [
    "marks= pd.Series(marks, index = subjects, name= \"Aniket ke Marks\")\n",
    "marks"
   ]
  },
  {
   "cell_type": "markdown",
   "id": "5ee90ed3",
   "metadata": {},
   "source": [
    "---"
   ]
  },
  {
   "cell_type": "markdown",
   "id": "d856592d",
   "metadata": {},
   "source": [
    "## Series from Dict"
   ]
  },
  {
   "cell_type": "code",
   "execution_count": 12,
   "id": "c578c013",
   "metadata": {},
   "outputs": [
    {
     "data": {
      "text/plain": [
       "maths        97\n",
       "Python       87\n",
       "Chemistry    86\n",
       "English      90\n",
       "dtype: int64"
      ]
     },
     "execution_count": 12,
     "metadata": {},
     "output_type": "execute_result"
    }
   ],
   "source": [
    "marks= {\n",
    "    'maths': 97,\n",
    "    'Python': 87,\n",
    "    'Chemistry': 86,\n",
    "    'English' : 90\n",
    "}\n",
    "marks_series= pd.Series(marks)\n",
    "marks_series"
   ]
  },
  {
   "cell_type": "markdown",
   "id": "124a346d",
   "metadata": {},
   "source": [
    "---"
   ]
  }
 ],
 "metadata": {
  "kernelspec": {
   "display_name": ".venv",
   "language": "python",
   "name": "python3"
  },
  "language_info": {
   "codemirror_mode": {
    "name": "ipython",
    "version": 3
   },
   "file_extension": ".py",
   "mimetype": "text/x-python",
   "name": "python",
   "nbconvert_exporter": "python",
   "pygments_lexer": "ipython3",
   "version": "3.12.2"
  }
 },
 "nbformat": 4,
 "nbformat_minor": 5
}
