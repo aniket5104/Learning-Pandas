{
 "cells": [
  {
   "cell_type": "markdown",
   "id": "0579efd3",
   "metadata": {},
   "source": [
    "# Series methods\n",
    "\n",
    "## .head(num) and .tail(num):\n",
    "- returns values upto num(max= 5) indeices from beginning and ending respectively\n",
    "- Default: num = 5"
   ]
  },
  {
   "cell_type": "code",
   "execution_count": 1,
   "id": "e4fd17a9",
   "metadata": {},
   "outputs": [],
   "source": [
    "import numpy as np \n",
    "import pandas as pd "
   ]
  },
  {
   "cell_type": "code",
   "execution_count": 4,
   "id": "eee0da06",
   "metadata": {},
   "outputs": [
    {
     "data": {
      "text/plain": [
       "0    48\n",
       "1    57\n",
       "Name: Subscribers gained, dtype: int64"
      ]
     },
     "execution_count": 4,
     "metadata": {},
     "output_type": "execute_result"
    }
   ],
   "source": [
    "df = pd.read_csv('C:/Users/anike/OneDrive/Desktop/Learning Pandas/Datasets/Session-16/subs.csv')\n",
    "s= df['Subscribers gained']\n",
    "s.head(2)"
   ]
  },
  {
   "cell_type": "markdown",
   "id": "8d2b622e",
   "metadata": {},
   "source": [
    "---"
   ]
  },
  {
   "cell_type": "markdown",
   "id": "c1c39a33",
   "metadata": {},
   "source": [
    "## .sample():\n",
    "- randomly returns a sample data at an index."
   ]
  },
  {
   "cell_type": "code",
   "execution_count": 5,
   "id": "0adcc901",
   "metadata": {},
   "outputs": [
    {
     "data": {
      "text/plain": [
       "160    113\n",
       "Name: Subscribers gained, dtype: int64"
      ]
     },
     "execution_count": 5,
     "metadata": {},
     "output_type": "execute_result"
    }
   ],
   "source": [
    "s.sample()"
   ]
  },
  {
   "cell_type": "markdown",
   "id": "8ad154d1",
   "metadata": {},
   "source": [
    "---"
   ]
  },
  {
   "cell_type": "markdown",
   "id": "983db8c0",
   "metadata": {},
   "source": [
    "## .value_counts():\n",
    "- returns the no of occurences of the value in the dataset"
   ]
  },
  {
   "cell_type": "code",
   "execution_count": 8,
   "id": "70d55f2a",
   "metadata": {},
   "outputs": [
    {
     "data": {
      "text/plain": [
       "lead\n",
       "Akshay Kumar            48\n",
       "Amitabh Bachchan        45\n",
       "Ajay Devgn              38\n",
       "Salman Khan             31\n",
       "Sanjay Dutt             26\n",
       "                        ..\n",
       "Tanishaa Mukerji         1\n",
       "Tanuja                   1\n",
       "Ankit                    1\n",
       "Rakhee Gulzar            1\n",
       "Geetika Vidya Ohlyan     1\n",
       "Name: count, Length: 566, dtype: int64"
      ]
     },
     "execution_count": 8,
     "metadata": {},
     "output_type": "execute_result"
    }
   ],
   "source": [
    "df= pd.read_csv('C:/Users/anike/OneDrive/Desktop/Learning Pandas/Datasets/Session-16/bollywood.csv', index_col='movie')\n",
    "s= df['lead']\n",
    "s.value_counts()"
   ]
  },
  {
   "cell_type": "markdown",
   "id": "0fb31ba0",
   "metadata": {},
   "source": [
    "---"
   ]
  },
  {
   "cell_type": "markdown",
   "id": "19ade7f1",
   "metadata": {},
   "source": [
    "## .sort_values():\n",
    "- returns a copy of series with sorted order of values.\n",
    "- By default returns in ascending order\n",
    "- for desending order s.sort_values(ascendning= False)\n",
    "- for making change in original dataset: s.sort_values(inplace= True)"
   ]
  },
  {
   "cell_type": "code",
   "execution_count": 38,
   "id": "53e39dd0",
   "metadata": {},
   "outputs": [
    {
     "data": {
      "text/plain": [
       "match_no\n",
       "8        0\n",
       "87       0\n",
       "93       0\n",
       "91       0\n",
       "206      0\n",
       "      ... \n",
       "164    100\n",
       "120    100\n",
       "123    108\n",
       "126    109\n",
       "128    113\n",
       "Name: runs, Length: 215, dtype: int64"
      ]
     },
     "execution_count": 38,
     "metadata": {},
     "output_type": "execute_result"
    }
   ],
   "source": [
    "df= pd.read_csv('C:/Users/anike/OneDrive/Desktop/Learning Pandas/Datasets/Session-16/kohli_ipl.csv', index_col='match_no')\n",
    "vk= df['runs']\n",
    "vk.sort_values()"
   ]
  },
  {
   "cell_type": "code",
   "execution_count": 39,
   "id": "a68b5702",
   "metadata": {},
   "outputs": [
    {
     "data": {
      "text/plain": [
       "match_no\n",
       "128    113\n",
       "126    109\n",
       "123    108\n",
       "120    100\n",
       "164    100\n",
       "      ... \n",
       "93       0\n",
       "130      0\n",
       "206      0\n",
       "207      0\n",
       "211      0\n",
       "Name: runs, Length: 215, dtype: int64"
      ]
     },
     "execution_count": 39,
     "metadata": {},
     "output_type": "execute_result"
    }
   ],
   "source": [
    "vk.sort_values(ascending=False)"
   ]
  },
  {
   "cell_type": "code",
   "execution_count": null,
   "id": "e2d0906b",
   "metadata": {},
   "outputs": [
    {
     "data": {
      "text/plain": [
       "match_no\n",
       "8        0\n",
       "87       0\n",
       "93       0\n",
       "91       0\n",
       "206      0\n",
       "      ... \n",
       "164    100\n",
       "120    100\n",
       "123    108\n",
       "126    109\n",
       "128    113\n",
       "Name: runs, Length: 215, dtype: int64"
      ]
     },
     "execution_count": 23,
     "metadata": {},
     "output_type": "execute_result"
    }
   ],
   "source": [
    "vk=df['runs'].copy()\n",
    "vk.sort_values(inplace=True)\n",
    "vk "
   ]
  },
  {
   "cell_type": "markdown",
   "id": "c5391f40",
   "metadata": {},
   "source": [
    "---"
   ]
  },
  {
   "cell_type": "markdown",
   "id": "c5747ebc",
   "metadata": {},
   "source": [
    "#                                    TIP:\n",
    "- Method Chaining: accesing one method after another is called method chaining\n",
    "- e.g."
   ]
  },
  {
   "cell_type": "code",
   "execution_count": 40,
   "id": "9e13af54",
   "metadata": {},
   "outputs": [
    {
     "data": {
      "text/plain": [
       "np.int64(113)"
      ]
     },
     "execution_count": 40,
     "metadata": {},
     "output_type": "execute_result"
    }
   ],
   "source": [
    "vk.sort_values(ascending=False).head(1).values[0]"
   ]
  },
  {
   "cell_type": "markdown",
   "id": "f33dcff1",
   "metadata": {},
   "source": [
    "---"
   ]
  },
  {
   "cell_type": "markdown",
   "id": "13ebc6bc",
   "metadata": {},
   "source": [
    "## .sort_index()\n",
    "- sorts index in alphabetical or ascending order based on the dtype of index\n",
    "- use inplace = True for making changes into real data set"
   ]
  },
  {
   "cell_type": "code",
   "execution_count": 41,
   "id": "e593c7b4",
   "metadata": {},
   "outputs": [
    {
     "data": {
      "text/plain": [
       "match_no\n",
       "215     7\n",
       "214    25\n",
       "213    73\n",
       "212    20\n",
       "211     0\n",
       "       ..\n",
       "5       1\n",
       "4      12\n",
       "3      13\n",
       "2      23\n",
       "1       1\n",
       "Name: runs, Length: 215, dtype: int64"
      ]
     },
     "execution_count": 41,
     "metadata": {},
     "output_type": "execute_result"
    }
   ],
   "source": [
    "vk.sort_index(inplace= True, ascending= False)\n",
    "vk"
   ]
  },
  {
   "cell_type": "markdown",
   "id": "cdd23735",
   "metadata": {},
   "source": [
    "---"
   ]
  },
  {
   "cell_type": "markdown",
   "id": "ff539192",
   "metadata": {},
   "source": [
    "## .count():\n",
    "- returns the total no. of values which are not 'nan'"
   ]
  },
  {
   "cell_type": "code",
   "execution_count": 42,
   "id": "27840043",
   "metadata": {},
   "outputs": [
    {
     "data": {
      "text/plain": [
       "np.int64(215)"
      ]
     },
     "execution_count": 42,
     "metadata": {},
     "output_type": "execute_result"
    }
   ],
   "source": [
    "vk.count()"
   ]
  },
  {
   "cell_type": "markdown",
   "id": "82b27175",
   "metadata": {},
   "source": [
    "---"
   ]
  },
  {
   "cell_type": "markdown",
   "id": "71fa0898",
   "metadata": {},
   "source": [
    "## .sum() and .product():\n",
    "- return the sum and product of all alues in the dataset"
   ]
  },
  {
   "cell_type": "code",
   "execution_count": 44,
   "id": "affc4b1f",
   "metadata": {},
   "outputs": [
    {
     "data": {
      "text/plain": [
       "np.int64(6634)"
      ]
     },
     "execution_count": 44,
     "metadata": {},
     "output_type": "execute_result"
    }
   ],
   "source": [
    "vk.sum()"
   ]
  },
  {
   "cell_type": "code",
   "execution_count": 43,
   "id": "a689aaf8",
   "metadata": {},
   "outputs": [
    {
     "data": {
      "text/plain": [
       "np.int64(0)"
      ]
     },
     "execution_count": 43,
     "metadata": {},
     "output_type": "execute_result"
    }
   ],
   "source": [
    "vk.product()"
   ]
  },
  {
   "cell_type": "markdown",
   "id": "6dad81bf",
   "metadata": {},
   "source": [
    "---"
   ]
  },
  {
   "cell_type": "markdown",
   "id": "f5b3e15d",
   "metadata": {},
   "source": [
    "## Statistical methods:\n",
    "\n",
    "1. .mean():"
   ]
  },
  {
   "cell_type": "code",
   "execution_count": 35,
   "id": "ce9362da",
   "metadata": {},
   "outputs": [],
   "source": [
    "df= pd.read_csv('C:/Users/anike/OneDrive/Desktop/Learning Pandas/Datasets/Session-16/bollywood.csv', index_col='movie')\n",
    "s= df['lead']"
   ]
  },
  {
   "cell_type": "code",
   "execution_count": 45,
   "id": "6837c2fd",
   "metadata": {},
   "outputs": [
    {
     "data": {
      "text/plain": [
       "np.float64(30.855813953488372)"
      ]
     },
     "execution_count": 45,
     "metadata": {},
     "output_type": "execute_result"
    }
   ],
   "source": [
    "vk.mean()"
   ]
  },
  {
   "cell_type": "markdown",
   "id": "e3ee7ba6",
   "metadata": {},
   "source": [
    "2. .median():"
   ]
  },
  {
   "cell_type": "code",
   "execution_count": 47,
   "id": "12bb0c60",
   "metadata": {},
   "outputs": [
    {
     "data": {
      "text/plain": [
       "np.float64(24.0)"
      ]
     },
     "execution_count": 47,
     "metadata": {},
     "output_type": "execute_result"
    }
   ],
   "source": [
    "vk.median()"
   ]
  },
  {
   "cell_type": "markdown",
   "id": "34e0b73b",
   "metadata": {},
   "source": [
    "3. .mode():"
   ]
  },
  {
   "cell_type": "code",
   "execution_count": 48,
   "id": "18ac7134",
   "metadata": {},
   "outputs": [
    {
     "data": {
      "text/plain": [
       "0    Akshay Kumar\n",
       "Name: lead, dtype: object"
      ]
     },
     "execution_count": 48,
     "metadata": {},
     "output_type": "execute_result"
    }
   ],
   "source": [
    "s.mode()"
   ]
  },
  {
   "cell_type": "code",
   "execution_count": 50,
   "id": "f516880b",
   "metadata": {},
   "outputs": [
    {
     "name": "stdout",
     "output_type": "stream",
     "text": [
      "688.0024777222343\n",
      "26.22980132830278\n"
     ]
    }
   ],
   "source": [
    "print(vk.var()) #for variance\n",
    "print(vk.std()) #for standard deviation"
   ]
  },
  {
   "cell_type": "markdown",
   "id": "d980a176",
   "metadata": {},
   "source": [
    "---"
   ]
  },
  {
   "cell_type": "markdown",
   "id": "2837b0df",
   "metadata": {},
   "source": [
    "## max() and min():\n",
    "- return max and min value from the series."
   ]
  },
  {
   "cell_type": "code",
   "execution_count": 52,
   "id": "ebb82965",
   "metadata": {},
   "outputs": [
    {
     "name": "stdout",
     "output_type": "stream",
     "text": [
      "113\n"
     ]
    }
   ],
   "source": [
    "vk.min() #for minimum value\n",
    "print(vk.max()) #for maximum value"
   ]
  },
  {
   "cell_type": "markdown",
   "id": "3c6eb615",
   "metadata": {},
   "source": [
    "---"
   ]
  },
  {
   "cell_type": "markdown",
   "id": "ae73168f",
   "metadata": {},
   "source": [
    "## .describe():\n",
    "- provides a summary of the series."
   ]
  },
  {
   "cell_type": "code",
   "execution_count": 53,
   "id": "0ab8f5a1",
   "metadata": {},
   "outputs": [
    {
     "data": {
      "text/plain": [
       "count    215.000000\n",
       "mean      30.855814\n",
       "std       26.229801\n",
       "min        0.000000\n",
       "25%        9.000000\n",
       "50%       24.000000\n",
       "75%       48.000000\n",
       "max      113.000000\n",
       "Name: runs, dtype: float64"
      ]
     },
     "execution_count": 53,
     "metadata": {},
     "output_type": "execute_result"
    }
   ],
   "source": [
    "vk.describe() #for summary statistics"
   ]
  },
  {
   "cell_type": "markdown",
   "id": "278e10fe",
   "metadata": {},
   "source": [
    "---"
   ]
  }
 ],
 "metadata": {
  "kernelspec": {
   "display_name": ".venv",
   "language": "python",
   "name": "python3"
  },
  "language_info": {
   "codemirror_mode": {
    "name": "ipython",
    "version": 3
   },
   "file_extension": ".py",
   "mimetype": "text/x-python",
   "name": "python",
   "nbconvert_exporter": "python",
   "pygments_lexer": "ipython3",
   "version": "3.12.2"
  }
 },
 "nbformat": 4,
 "nbformat_minor": 5
}
