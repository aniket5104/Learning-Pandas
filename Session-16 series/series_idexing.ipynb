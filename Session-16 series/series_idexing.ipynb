{
 "cells": [
  {
   "cell_type": "code",
   "execution_count": 18,
   "id": "7bb80d12",
   "metadata": {},
   "outputs": [],
   "source": [
    "import pandas as pd\n",
    "import numpy as np"
   ]
  },
  {
   "cell_type": "code",
   "execution_count": 19,
   "id": "ef370aa8",
   "metadata": {},
   "outputs": [],
   "source": [
    "df= pd.read_csv('Datasets/Session-16/bollywood.csv')\n",
    "movies = df['movie']"
   ]
  },
  {
   "cell_type": "code",
   "execution_count": 20,
   "id": "25056cc4",
   "metadata": {},
   "outputs": [],
   "source": [
    "df = pd.read_csv('Datasets/Session-16/kohli_ipl.csv')\n",
    "vk= df['runs']"
   ]
  },
  {
   "cell_type": "markdown",
   "id": "cdfe1cd9",
   "metadata": {},
   "source": [
    "---"
   ]
  },
  {
   "cell_type": "markdown",
   "id": "11b04492",
   "metadata": {},
   "source": [
    "# Series Indexing:"
   ]
  },
  {
   "cell_type": "code",
   "execution_count": 21,
   "id": "68a771b3",
   "metadata": {},
   "outputs": [
    {
     "data": {
      "text/plain": [
       "a     12\n",
       "b     13\n",
       "c     14\n",
       "d     35\n",
       "e     46\n",
       "f     57\n",
       "g     68\n",
       "h     79\n",
       "i     90\n",
       "j    101\n",
       "dtype: int64"
      ]
     },
     "execution_count": 21,
     "metadata": {},
     "output_type": "execute_result"
    }
   ],
   "source": [
    "x=pd.Series([12, 13, 14, 35, 46, 57, 68, 79, 90, 101], index=['a', 'b', 'c', 'd', 'e', 'f', 'g', 'h', 'i', 'j'])\n",
    "# Series Indexing:\n",
    "x"
   ]
  },
  {
   "cell_type": "code",
   "execution_count": 22,
   "id": "f422a06e",
   "metadata": {},
   "outputs": [
    {
     "data": {
      "text/plain": [
       "np.int64(12)"
      ]
     },
     "execution_count": 22,
     "metadata": {},
     "output_type": "execute_result"
    }
   ],
   "source": [
    "x.a"
   ]
  },
  {
   "cell_type": "code",
   "execution_count": 23,
   "id": "200c9c54",
   "metadata": {},
   "outputs": [
    {
     "name": "stderr",
     "output_type": "stream",
     "text": [
      "C:\\Users\\anike\\AppData\\Local\\Temp\\ipykernel_5756\\2374535372.py:1: FutureWarning: Series.__getitem__ treating keys as positions is deprecated. In a future version, integer keys will always be treated as labels (consistent with DataFrame behavior). To access a value by position, use `ser.iloc[pos]`\n",
      "  x[4]\n"
     ]
    },
    {
     "data": {
      "text/plain": [
       "np.int64(46)"
      ]
     },
     "execution_count": 23,
     "metadata": {},
     "output_type": "execute_result"
    }
   ],
   "source": [
    "x[4]"
   ]
  },
  {
   "cell_type": "markdown",
   "id": "729ce1cd",
   "metadata": {},
   "source": [
    "---"
   ]
  },
  {
   "cell_type": "markdown",
   "id": "6f9d62fc",
   "metadata": {},
   "source": [
    "## NOTE: negative indexing 'x[-1]' dosnt works in series"
   ]
  },
  {
   "cell_type": "code",
   "execution_count": 24,
   "id": "e5efe4df",
   "metadata": {},
   "outputs": [
    {
     "data": {
      "text/plain": [
       "1499    Awara Paagal Deewana\n",
       "Name: movie, dtype: object"
      ]
     },
     "execution_count": 24,
     "metadata": {},
     "output_type": "execute_result"
    }
   ],
   "source": [
    "# movies[-1] ## this will throw an error\n",
    "movies[-1:] ## this will work"
   ]
  },
  {
   "cell_type": "markdown",
   "id": "5e6d337c",
   "metadata": {},
   "source": [
    "---"
   ]
  },
  {
   "cell_type": "markdown",
   "id": "a07325ff",
   "metadata": {},
   "source": [
    "## Slicing of series:"
   ]
  },
  {
   "cell_type": "code",
   "execution_count": 25,
   "id": "d340992c",
   "metadata": {},
   "outputs": [
    {
     "data": {
      "text/plain": [
       "5      9\n",
       "6     34\n",
       "7      0\n",
       "8     21\n",
       "9      3\n",
       "10    10\n",
       "11    38\n",
       "12     3\n",
       "13    11\n",
       "14    50\n",
       "Name: runs, dtype: int64"
      ]
     },
     "execution_count": 25,
     "metadata": {},
     "output_type": "execute_result"
    }
   ],
   "source": [
    "vk[5:15]  # Slicing from index 5 to 9"
   ]
  },
  {
   "cell_type": "code",
   "execution_count": 26,
   "id": "e12d8a7d",
   "metadata": {},
   "outputs": [
    {
     "data": {
      "text/plain": [
       "30     34\n",
       "31     42\n",
       "32     13\n",
       "33     58\n",
       "34      3\n",
       "       ..\n",
       "210     0\n",
       "211    20\n",
       "212    73\n",
       "213    25\n",
       "214     7\n",
       "Name: runs, Length: 185, dtype: int64"
      ]
     },
     "execution_count": 26,
     "metadata": {},
     "output_type": "execute_result"
    }
   ],
   "source": [
    "vk[30:] # Slicing from index 30 to the end"
   ]
  },
  {
   "cell_type": "markdown",
   "id": "fb831dfb",
   "metadata": {},
   "source": [
    "---"
   ]
  },
  {
   "cell_type": "markdown",
   "id": "b6682db2",
   "metadata": {},
   "source": [
    "## NOTE:\n",
    "-Negative indexing works in slicing."
   ]
  },
  {
   "cell_type": "code",
   "execution_count": 27,
   "id": "5da6417a",
   "metadata": {},
   "outputs": [
    {
     "data": {
      "text/plain": [
       "210     0\n",
       "211    20\n",
       "212    73\n",
       "213    25\n",
       "214     7\n",
       "Name: runs, dtype: int64"
      ]
     },
     "execution_count": 27,
     "metadata": {},
     "output_type": "execute_result"
    }
   ],
   "source": [
    "vk[-5:] # Slicing from the last 5 elements"
   ]
  },
  {
   "cell_type": "markdown",
   "id": "5420c468",
   "metadata": {},
   "source": [
    "---"
   ]
  },
  {
   "cell_type": "markdown",
   "id": "8bf775c2",
   "metadata": {},
   "source": [
    "## Fancy indexing:"
   ]
  },
  {
   "cell_type": "code",
   "execution_count": 28,
   "id": "52e5d6f2",
   "metadata": {},
   "outputs": [
    {
     "data": {
      "text/plain": [
       "0     1\n",
       "2    13\n",
       "4     1\n",
       "6    34\n",
       "Name: runs, dtype: int64"
      ]
     },
     "execution_count": 28,
     "metadata": {},
     "output_type": "execute_result"
    }
   ],
   "source": [
    "vk[[0, 2, 4, 6]] # Fancy indexing to get specific indices"
   ]
  },
  {
   "cell_type": "markdown",
   "id": "c9bff8d6",
   "metadata": {},
   "source": [
    "---"
   ]
  },
  {
   "cell_type": "markdown",
   "id": "73c19f24",
   "metadata": {},
   "source": [
    "## Editing a series:"
   ]
  },
  {
   "cell_type": "markdown",
   "id": "e78a5893",
   "metadata": {},
   "source": [
    "### using indexing:"
   ]
  },
  {
   "cell_type": "code",
   "execution_count": 29,
   "id": "febc476a",
   "metadata": {},
   "outputs": [
    {
     "data": {
      "text/plain": [
       "0       0\n",
       "1      23\n",
       "2      13\n",
       "3      12\n",
       "4       1\n",
       "       ..\n",
       "210     0\n",
       "211    20\n",
       "212    73\n",
       "213    25\n",
       "214     7\n",
       "Name: runs, Length: 215, dtype: int64"
      ]
     },
     "execution_count": 29,
     "metadata": {},
     "output_type": "execute_result"
    }
   ],
   "source": [
    "vk[0]= 0\n",
    "vk"
   ]
  },
  {
   "cell_type": "markdown",
   "id": "bf144448",
   "metadata": {},
   "source": [
    "### WHAT if we edit an index which Doesnt exists?\n",
    "- A new index of that name will be created and the value specified will be stored in it.\n",
    "- No error will thrown\n",
    "- But reading a non-esxisting index will throw an error"
   ]
  },
  {
   "cell_type": "code",
   "execution_count": 30,
   "id": "2ba66191",
   "metadata": {},
   "outputs": [
    {
     "data": {
      "text/plain": [
       "0        0\n",
       "1       23\n",
       "2       13\n",
       "3       12\n",
       "4        1\n",
       "      ... \n",
       "211     20\n",
       "212     73\n",
       "213     25\n",
       "214      7\n",
       "215    100\n",
       "Name: runs, Length: 216, dtype: int64"
      ]
     },
     "execution_count": 30,
     "metadata": {},
     "output_type": "execute_result"
    }
   ],
   "source": [
    "vk[215]=100\n",
    "vk"
   ]
  },
  {
   "cell_type": "markdown",
   "id": "0e8523a7",
   "metadata": {},
   "source": [
    "### Editing using fancy Indexing:"
   ]
  },
  {
   "cell_type": "code",
   "execution_count": 17,
   "id": "604a5c65",
   "metadata": {},
   "outputs": [
    {
     "data": {
      "text/plain": [
       "0      100\n",
       "1       90\n",
       "2       91\n",
       "3       25\n",
       "4        1\n",
       "      ... \n",
       "211     20\n",
       "212     73\n",
       "213     25\n",
       "214      7\n",
       "215    100\n",
       "Name: runs, Length: 216, dtype: int64"
      ]
     },
     "execution_count": 17,
     "metadata": {},
     "output_type": "execute_result"
    }
   ],
   "source": [
    "vk[0:4]=[100, 90, 91, 25]\n",
    "vk"
   ]
  },
  {
   "cell_type": "markdown",
   "id": "9a30dc3a",
   "metadata": {},
   "source": [
    "---"
   ]
  }
 ],
 "metadata": {
  "kernelspec": {
   "display_name": ".venv",
   "language": "python",
   "name": "python3"
  },
  "language_info": {
   "codemirror_mode": {
    "name": "ipython",
    "version": 3
   },
   "file_extension": ".py",
   "mimetype": "text/x-python",
   "name": "python",
   "nbconvert_exporter": "python",
   "pygments_lexer": "ipython3",
   "version": "3.12.2"
  }
 },
 "nbformat": 4,
 "nbformat_minor": 5
}
