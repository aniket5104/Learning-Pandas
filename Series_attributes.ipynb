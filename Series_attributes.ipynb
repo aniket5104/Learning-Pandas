{
 "cells": [
  {
   "cell_type": "markdown",
   "id": "a8bc7aea",
   "metadata": {},
   "source": [
    "# Series Attributes:"
   ]
  },
  {
   "cell_type": "markdown",
   "id": "0a85ff95",
   "metadata": {},
   "source": [
    "## .size: \n",
    "- Returns the no. of items in the series."
   ]
  },
  {
   "cell_type": "code",
   "execution_count": null,
   "id": "f5fba61d",
   "metadata": {},
   "outputs": [
    {
     "data": {
      "text/plain": [
       "4"
      ]
     },
     "execution_count": 3,
     "metadata": {},
     "output_type": "execute_result"
    }
   ],
   "source": [
    "import numpy as np\n",
    "import pandas as pd\n",
    "marks= {\n",
    "    'maths': 97,\n",
    "    'Python': 87,\n",
    "    'Chemistry': 86,\n",
    "    'English' : 90\n",
    "}\n",
    "marks_series= pd.Series(marks)\n",
    "marks_series.size #output = 4"
   ]
  },
  {
   "cell_type": "markdown",
   "id": "e267ab7c",
   "metadata": {},
   "source": [
    "## .dtype:\n",
    "- returns the datatype of elements stored in the series"
   ]
  },
  {
   "cell_type": "code",
   "execution_count": 5,
   "id": "e40c6056",
   "metadata": {},
   "outputs": [
    {
     "data": {
      "text/plain": [
       "dtype('int64')"
      ]
     },
     "execution_count": 5,
     "metadata": {},
     "output_type": "execute_result"
    }
   ],
   "source": [
    "marks_series.dtype"
   ]
  },
  {
   "cell_type": "markdown",
   "id": "3d310e62",
   "metadata": {},
   "source": [
    "## .is_unique:\n",
    "- returns boolean value based on whether the series has all unique objects or not"
   ]
  },
  {
   "cell_type": "code",
   "execution_count": 7,
   "id": "f6a5c6bc",
   "metadata": {},
   "outputs": [
    {
     "data": {
      "text/plain": [
       "True"
      ]
     },
     "execution_count": 7,
     "metadata": {},
     "output_type": "execute_result"
    }
   ],
   "source": [
    "marks_series.is_unique"
   ]
  },
  {
   "cell_type": "markdown",
   "id": "6a685c37",
   "metadata": {},
   "source": [
    "## .index:\n",
    "- returns an index object which stores all the index values"
   ]
  },
  {
   "cell_type": "code",
   "execution_count": 8,
   "id": "4e192d05",
   "metadata": {},
   "outputs": [
    {
     "data": {
      "text/plain": [
       "Index(['maths', 'Python', 'Chemistry', 'English'], dtype='object')"
      ]
     },
     "execution_count": 8,
     "metadata": {},
     "output_type": "execute_result"
    }
   ],
   "source": [
    "marks_series.index"
   ]
  },
  {
   "cell_type": "markdown",
   "id": "8c0fe00b",
   "metadata": {},
   "source": [
    "## .values:\n",
    "- returns a numpy array of all values inside the series"
   ]
  },
  {
   "cell_type": "code",
   "execution_count": 9,
   "id": "cda16e9e",
   "metadata": {},
   "outputs": [
    {
     "data": {
      "text/plain": [
       "array([97, 87, 86, 90])"
      ]
     },
     "execution_count": 9,
     "metadata": {},
     "output_type": "execute_result"
    }
   ],
   "source": [
    "marks_series.values"
   ]
  },
  {
   "cell_type": "markdown",
   "id": "ba9ca496",
   "metadata": {},
   "source": [
    "---"
   ]
  }
 ],
 "metadata": {
  "kernelspec": {
   "display_name": ".venv",
   "language": "python",
   "name": "python3"
  },
  "language_info": {
   "codemirror_mode": {
    "name": "ipython",
    "version": 3
   },
   "file_extension": ".py",
   "mimetype": "text/x-python",
   "name": "python",
   "nbconvert_exporter": "python",
   "pygments_lexer": "ipython3",
   "version": "3.12.2"
  }
 },
 "nbformat": 4,
 "nbformat_minor": 5
}
