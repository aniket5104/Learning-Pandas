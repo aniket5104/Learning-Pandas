{
 "cells": [
  {
   "cell_type": "markdown",
   "id": "8d30b2a9",
   "metadata": {},
   "source": [
    "# Mathematical Functions on Dataframe:"
   ]
  },
  {
   "cell_type": "markdown",
   "id": "092dff5a",
   "metadata": {},
   "source": [
    "---"
   ]
  },
  {
   "cell_type": "code",
   "execution_count": 7,
   "id": "596f79bb",
   "metadata": {},
   "outputs": [],
   "source": [
    "import pandas as pd\n",
    "import numpy as np"
   ]
  },
  {
   "cell_type": "code",
   "execution_count": 8,
   "id": "5d935911",
   "metadata": {},
   "outputs": [],
   "source": [
    "df= pd.read_csv('C:/Users/anike/OneDrive/Desktop/Learning Pandas/Datasets/Session-17/ipl-matches.csv')\n",
    "ipl= pd.DataFrame(df)\n",
    "df= pd.read_csv('C:/Users/anike/OneDrive/Desktop/Learning Pandas/Datasets/Session-17/movies.csv')\n",
    "movies= pd.DataFrame(df)"
   ]
  },
  {
   "cell_type": "markdown",
   "id": "55f28aca",
   "metadata": {},
   "source": [
    "---"
   ]
  },
  {
   "cell_type": "markdown",
   "id": "3b565577",
   "metadata": {},
   "source": [
    "## .sum():\n",
    "- returns column wise sum of the dataframe.\n",
    "- returns row wise sum when axis=1."
   ]
  },
  {
   "cell_type": "code",
   "execution_count": 10,
   "id": "5c11c30e",
   "metadata": {},
   "outputs": [
    {
     "data": {
      "text/plain": [
       "0    12\n",
       "1    15\n",
       "2    18\n",
       "dtype: int64"
      ]
     },
     "execution_count": 10,
     "metadata": {},
     "output_type": "execute_result"
    }
   ],
   "source": [
    "student= pd.DataFrame([\n",
    "    [1, 2, 3],\n",
    "    [4, 5, 6], \n",
    "    [7, 8, 9]\n",
    "\n",
    "    ])\n",
    "student.sum()  # column wise sum"
   ]
  },
  {
   "cell_type": "code",
   "execution_count": 11,
   "id": "460f6729",
   "metadata": {},
   "outputs": [
    {
     "data": {
      "text/plain": [
       "0     6\n",
       "1    15\n",
       "2    24\n",
       "dtype: int64"
      ]
     },
     "execution_count": 11,
     "metadata": {},
     "output_type": "execute_result"
    }
   ],
   "source": [
    "student.sum(axis=1)  # row wise sum "
   ]
  },
  {
   "cell_type": "markdown",
   "id": "f458c936",
   "metadata": {
    "vscode": {
     "languageId": "markdown"
    }
   },
   "source": [
    "---"
   ]
  },
  {
   "cell_type": "markdown",
   "id": "67ae0624",
   "metadata": {},
   "source": [
    "## .mean():\n",
    "- returns column wise mean of the dataframe.\n",
    "- returns row wise mean when axis=1."
   ]
  },
  {
   "cell_type": "code",
   "execution_count": null,
   "id": "52854a58",
   "metadata": {},
   "outputs": [
    {
     "data": {
      "text/plain": [
       "0    4.0\n",
       "1    5.0\n",
       "2    6.0\n",
       "dtype: float64"
      ]
     },
     "execution_count": 13,
     "metadata": {},
     "output_type": "execute_result"
    }
   ],
   "source": [
    "student.mean()  # column wise mean"
   ]
  },
  {
   "cell_type": "markdown",
   "id": "76806c44",
   "metadata": {},
   "source": [
    "---"
   ]
  },
  {
   "cell_type": "markdown",
   "id": "00f11473",
   "metadata": {},
   "source": [
    "# NOTE:\n",
    "Similarly there are mathematicals for .var(), .min(), .max(), .median(), std(),etc."
   ]
  },
  {
   "cell_type": "markdown",
   "id": "59708ecf",
   "metadata": {},
   "source": [
    "---"
   ]
  },
  {
   "cell_type": "markdown",
   "id": "3438d68a",
   "metadata": {},
   "source": [
    "# Selecting COlumns from a dataframe:"
   ]
  },
  {
   "cell_type": "markdown",
   "id": "d666045f",
   "metadata": {},
   "source": [
    "## Fetching single column from a dataframe:"
   ]
  },
  {
   "cell_type": "code",
   "execution_count": 16,
   "id": "42e76eb9",
   "metadata": {},
   "outputs": [
    {
     "data": {
      "text/plain": [
       "0                   Uri: The Surgical Strike\n",
       "1                              Battalion 609\n",
       "2       The Accidental Prime Minister (film)\n",
       "3                            Why Cheat India\n",
       "4                            Evening Shadows\n",
       "                        ...                 \n",
       "1624                   Tera Mera Saath Rahen\n",
       "1625                    Yeh Zindagi Ka Safar\n",
       "1626                         Sabse Bada Sukh\n",
       "1627                                   Daaka\n",
       "1628                                Humsafar\n",
       "Name: title_x, Length: 1629, dtype: object"
      ]
     },
     "execution_count": 16,
     "metadata": {},
     "output_type": "execute_result"
    }
   ],
   "source": [
    "movies['title_x']  # selecting a single column"
   ]
  },
  {
   "cell_type": "code",
   "execution_count": 17,
   "id": "3479f983",
   "metadata": {},
   "outputs": [
    {
     "data": {
      "text/plain": [
       "pandas.core.series.Series"
      ]
     },
     "execution_count": 17,
     "metadata": {},
     "output_type": "execute_result"
    }
   ],
   "source": [
    "type(movies['title_x'])  # returns a series"
   ]
  },
  {
   "cell_type": "markdown",
   "id": "ee465563",
   "metadata": {},
   "source": [
    "## Fetching multiple columns:"
   ]
  },
  {
   "cell_type": "code",
   "execution_count": 20,
   "id": "4a6d3cb0",
   "metadata": {},
   "outputs": [
    {
     "data": {
      "text/html": [
       "<div>\n",
       "<style scoped>\n",
       "    .dataframe tbody tr th:only-of-type {\n",
       "        vertical-align: middle;\n",
       "    }\n",
       "\n",
       "    .dataframe tbody tr th {\n",
       "        vertical-align: top;\n",
       "    }\n",
       "\n",
       "    .dataframe thead th {\n",
       "        text-align: right;\n",
       "    }\n",
       "</style>\n",
       "<table border=\"1\" class=\"dataframe\">\n",
       "  <thead>\n",
       "    <tr style=\"text-align: right;\">\n",
       "      <th></th>\n",
       "      <th>title_x</th>\n",
       "      <th>year_of_release</th>\n",
       "      <th>actors</th>\n",
       "    </tr>\n",
       "  </thead>\n",
       "  <tbody>\n",
       "    <tr>\n",
       "      <th>0</th>\n",
       "      <td>Uri: The Surgical Strike</td>\n",
       "      <td>2019</td>\n",
       "      <td>Vicky Kaushal|Paresh Rawal|Mohit Raina|Yami Ga...</td>\n",
       "    </tr>\n",
       "    <tr>\n",
       "      <th>1</th>\n",
       "      <td>Battalion 609</td>\n",
       "      <td>2019</td>\n",
       "      <td>Vicky Ahuja|Shoaib Ibrahim|Shrikant Kamat|Elen...</td>\n",
       "    </tr>\n",
       "    <tr>\n",
       "      <th>2</th>\n",
       "      <td>The Accidental Prime Minister (film)</td>\n",
       "      <td>2019</td>\n",
       "      <td>Anupam Kher|Akshaye Khanna|Aahana Kumra|Atul S...</td>\n",
       "    </tr>\n",
       "    <tr>\n",
       "      <th>3</th>\n",
       "      <td>Why Cheat India</td>\n",
       "      <td>2019</td>\n",
       "      <td>Emraan Hashmi|Shreya Dhanwanthary|Snighdadeep ...</td>\n",
       "    </tr>\n",
       "    <tr>\n",
       "      <th>4</th>\n",
       "      <td>Evening Shadows</td>\n",
       "      <td>2018</td>\n",
       "      <td>Mona Ambegaonkar|Ananth Narayan Mahadevan|Deva...</td>\n",
       "    </tr>\n",
       "    <tr>\n",
       "      <th>...</th>\n",
       "      <td>...</td>\n",
       "      <td>...</td>\n",
       "      <td>...</td>\n",
       "    </tr>\n",
       "    <tr>\n",
       "      <th>1624</th>\n",
       "      <td>Tera Mera Saath Rahen</td>\n",
       "      <td>2001</td>\n",
       "      <td>Ajay Devgn|Sonali Bendre|Namrata Shirodkar|Pre...</td>\n",
       "    </tr>\n",
       "    <tr>\n",
       "      <th>1625</th>\n",
       "      <td>Yeh Zindagi Ka Safar</td>\n",
       "      <td>2001</td>\n",
       "      <td>Ameesha Patel|Jimmy Sheirgill|Nafisa Ali|Gulsh...</td>\n",
       "    </tr>\n",
       "    <tr>\n",
       "      <th>1626</th>\n",
       "      <td>Sabse Bada Sukh</td>\n",
       "      <td>2018</td>\n",
       "      <td>Vijay Arora|Asrani|Rajni Bala|Kumud Damle|Utpa...</td>\n",
       "    </tr>\n",
       "    <tr>\n",
       "      <th>1627</th>\n",
       "      <td>Daaka</td>\n",
       "      <td>2019</td>\n",
       "      <td>Gippy Grewal|Zareen Khan|</td>\n",
       "    </tr>\n",
       "    <tr>\n",
       "      <th>1628</th>\n",
       "      <td>Humsafar</td>\n",
       "      <td>2011</td>\n",
       "      <td>Fawad Khan|</td>\n",
       "    </tr>\n",
       "  </tbody>\n",
       "</table>\n",
       "<p>1629 rows × 3 columns</p>\n",
       "</div>"
      ],
      "text/plain": [
       "                                   title_x  year_of_release  \\\n",
       "0                 Uri: The Surgical Strike             2019   \n",
       "1                            Battalion 609             2019   \n",
       "2     The Accidental Prime Minister (film)             2019   \n",
       "3                          Why Cheat India             2019   \n",
       "4                          Evening Shadows             2018   \n",
       "...                                    ...              ...   \n",
       "1624                 Tera Mera Saath Rahen             2001   \n",
       "1625                  Yeh Zindagi Ka Safar             2001   \n",
       "1626                       Sabse Bada Sukh             2018   \n",
       "1627                                 Daaka             2019   \n",
       "1628                              Humsafar             2011   \n",
       "\n",
       "                                                 actors  \n",
       "0     Vicky Kaushal|Paresh Rawal|Mohit Raina|Yami Ga...  \n",
       "1     Vicky Ahuja|Shoaib Ibrahim|Shrikant Kamat|Elen...  \n",
       "2     Anupam Kher|Akshaye Khanna|Aahana Kumra|Atul S...  \n",
       "3     Emraan Hashmi|Shreya Dhanwanthary|Snighdadeep ...  \n",
       "4     Mona Ambegaonkar|Ananth Narayan Mahadevan|Deva...  \n",
       "...                                                 ...  \n",
       "1624  Ajay Devgn|Sonali Bendre|Namrata Shirodkar|Pre...  \n",
       "1625  Ameesha Patel|Jimmy Sheirgill|Nafisa Ali|Gulsh...  \n",
       "1626  Vijay Arora|Asrani|Rajni Bala|Kumud Damle|Utpa...  \n",
       "1627                          Gippy Grewal|Zareen Khan|  \n",
       "1628                                        Fawad Khan|  \n",
       "\n",
       "[1629 rows x 3 columns]"
      ]
     },
     "execution_count": 20,
     "metadata": {},
     "output_type": "execute_result"
    }
   ],
   "source": [
    "movies[['title_x','year_of_release','actors']]  # selecting multiple columns"
   ]
  },
  {
   "cell_type": "code",
   "execution_count": 21,
   "id": "02c17edc",
   "metadata": {},
   "outputs": [
    {
     "data": {
      "text/plain": [
       "pandas.core.frame.DataFrame"
      ]
     },
     "execution_count": 21,
     "metadata": {},
     "output_type": "execute_result"
    }
   ],
   "source": [
    "type(movies[['title_x','year_of_release','actors']])  # returns a dataframe"
   ]
  },
  {
   "cell_type": "markdown",
   "id": "d4862585",
   "metadata": {},
   "source": [
    "---"
   ]
  },
  {
   "cell_type": "markdown",
   "id": "fb18840b",
   "metadata": {},
   "source": [
    "## loc() and iloc():\n",
    "- loc()--> returns series based on label.\n",
    "- iloc()---> retruns a series based on indexing."
   ]
  },
  {
   "cell_type": "code",
   "execution_count": 23,
   "id": "4d3de1bf",
   "metadata": {},
   "outputs": [
    {
     "data": {
      "text/html": [
       "<div>\n",
       "<style scoped>\n",
       "    .dataframe tbody tr th:only-of-type {\n",
       "        vertical-align: middle;\n",
       "    }\n",
       "\n",
       "    .dataframe tbody tr th {\n",
       "        vertical-align: top;\n",
       "    }\n",
       "\n",
       "    .dataframe thead th {\n",
       "        text-align: right;\n",
       "    }\n",
       "</style>\n",
       "<table border=\"1\" class=\"dataframe\">\n",
       "  <thead>\n",
       "    <tr style=\"text-align: right;\">\n",
       "      <th></th>\n",
       "      <th>Name</th>\n",
       "      <th>Age</th>\n",
       "      <th>City</th>\n",
       "      <th>Score</th>\n",
       "    </tr>\n",
       "  </thead>\n",
       "  <tbody>\n",
       "    <tr>\n",
       "      <th>A1</th>\n",
       "      <td>Aniket</td>\n",
       "      <td>21</td>\n",
       "      <td>Patna</td>\n",
       "      <td>85</td>\n",
       "    </tr>\n",
       "    <tr>\n",
       "      <th>A2</th>\n",
       "      <td>Ravi</td>\n",
       "      <td>22</td>\n",
       "      <td>Delhi</td>\n",
       "      <td>90</td>\n",
       "    </tr>\n",
       "    <tr>\n",
       "      <th>A3</th>\n",
       "      <td>Sneha</td>\n",
       "      <td>20</td>\n",
       "      <td>Mumbai</td>\n",
       "      <td>78</td>\n",
       "    </tr>\n",
       "    <tr>\n",
       "      <th>A4</th>\n",
       "      <td>Pooja</td>\n",
       "      <td>23</td>\n",
       "      <td>Bangalore</td>\n",
       "      <td>88</td>\n",
       "    </tr>\n",
       "    <tr>\n",
       "      <th>A5</th>\n",
       "      <td>Aman</td>\n",
       "      <td>21</td>\n",
       "      <td>Ranchi</td>\n",
       "      <td>92</td>\n",
       "    </tr>\n",
       "  </tbody>\n",
       "</table>\n",
       "</div>"
      ],
      "text/plain": [
       "      Name  Age       City  Score\n",
       "A1  Aniket   21      Patna     85\n",
       "A2    Ravi   22      Delhi     90\n",
       "A3   Sneha   20     Mumbai     78\n",
       "A4   Pooja   23  Bangalore     88\n",
       "A5    Aman   21     Ranchi     92"
      ]
     },
     "execution_count": 23,
     "metadata": {},
     "output_type": "execute_result"
    }
   ],
   "source": [
    "data = {\n",
    "    'Name': ['Aniket', 'Ravi', 'Sneha', 'Pooja', 'Aman'],\n",
    "    'Age': [21, 22, 20, 23, 21],\n",
    "    'City': ['Patna', 'Delhi', 'Mumbai', 'Bangalore', 'Ranchi'],\n",
    "    'Score': [85, 90, 78, 88, 92]\n",
    "}\n",
    "\n",
    "df = pd.DataFrame(data, index=['A1', 'A2', 'A3', 'A4', 'A5'])\n",
    "df"
   ]
  },
  {
   "cell_type": "code",
   "execution_count": 24,
   "id": "7db3007c",
   "metadata": {},
   "outputs": [
    {
     "data": {
      "text/plain": [
       "Name     Aniket\n",
       "Age          21\n",
       "City      Patna\n",
       "Score        85\n",
       "Name: A1, dtype: object"
      ]
     },
     "execution_count": 24,
     "metadata": {},
     "output_type": "execute_result"
    }
   ],
   "source": [
    "df.loc['A1']  # returns the row with index 'A1'"
   ]
  },
  {
   "cell_type": "code",
   "execution_count": 28,
   "id": "9c4dac8e",
   "metadata": {},
   "outputs": [
    {
     "data": {
      "text/html": [
       "<div>\n",
       "<style scoped>\n",
       "    .dataframe tbody tr th:only-of-type {\n",
       "        vertical-align: middle;\n",
       "    }\n",
       "\n",
       "    .dataframe tbody tr th {\n",
       "        vertical-align: top;\n",
       "    }\n",
       "\n",
       "    .dataframe thead th {\n",
       "        text-align: right;\n",
       "    }\n",
       "</style>\n",
       "<table border=\"1\" class=\"dataframe\">\n",
       "  <thead>\n",
       "    <tr style=\"text-align: right;\">\n",
       "      <th></th>\n",
       "      <th>Name</th>\n",
       "      <th>Age</th>\n",
       "      <th>City</th>\n",
       "      <th>Score</th>\n",
       "    </tr>\n",
       "  </thead>\n",
       "  <tbody>\n",
       "    <tr>\n",
       "      <th>A1</th>\n",
       "      <td>Aniket</td>\n",
       "      <td>21</td>\n",
       "      <td>Patna</td>\n",
       "      <td>85</td>\n",
       "    </tr>\n",
       "    <tr>\n",
       "      <th>A2</th>\n",
       "      <td>Ravi</td>\n",
       "      <td>22</td>\n",
       "      <td>Delhi</td>\n",
       "      <td>90</td>\n",
       "    </tr>\n",
       "    <tr>\n",
       "      <th>A3</th>\n",
       "      <td>Sneha</td>\n",
       "      <td>20</td>\n",
       "      <td>Mumbai</td>\n",
       "      <td>78</td>\n",
       "    </tr>\n",
       "  </tbody>\n",
       "</table>\n",
       "</div>"
      ],
      "text/plain": [
       "      Name  Age    City  Score\n",
       "A1  Aniket   21   Patna     85\n",
       "A2    Ravi   22   Delhi     90\n",
       "A3   Sneha   20  Mumbai     78"
      ]
     },
     "execution_count": 28,
     "metadata": {},
     "output_type": "execute_result"
    }
   ],
   "source": [
    "df.loc['A1': 'A3']  # returns the row from index 'A1' to 'A3'"
   ]
  },
  {
   "cell_type": "code",
   "execution_count": 30,
   "id": "102b758a",
   "metadata": {},
   "outputs": [
    {
     "data": {
      "text/plain": [
       "Name     Aniket\n",
       "Age          21\n",
       "City      Patna\n",
       "Score        85\n",
       "Name: A1, dtype: object"
      ]
     },
     "execution_count": 30,
     "metadata": {},
     "output_type": "execute_result"
    }
   ],
   "source": [
    "df.iloc[0]  # returns the first row based on index as series"
   ]
  },
  {
   "cell_type": "code",
   "execution_count": 32,
   "id": "3812da9c",
   "metadata": {},
   "outputs": [
    {
     "data": {
      "text/html": [
       "<div>\n",
       "<style scoped>\n",
       "    .dataframe tbody tr th:only-of-type {\n",
       "        vertical-align: middle;\n",
       "    }\n",
       "\n",
       "    .dataframe tbody tr th {\n",
       "        vertical-align: top;\n",
       "    }\n",
       "\n",
       "    .dataframe thead th {\n",
       "        text-align: right;\n",
       "    }\n",
       "</style>\n",
       "<table border=\"1\" class=\"dataframe\">\n",
       "  <thead>\n",
       "    <tr style=\"text-align: right;\">\n",
       "      <th></th>\n",
       "      <th>Name</th>\n",
       "      <th>Age</th>\n",
       "      <th>City</th>\n",
       "      <th>Score</th>\n",
       "    </tr>\n",
       "  </thead>\n",
       "  <tbody>\n",
       "    <tr>\n",
       "      <th>A1</th>\n",
       "      <td>Aniket</td>\n",
       "      <td>21</td>\n",
       "      <td>Patna</td>\n",
       "      <td>85</td>\n",
       "    </tr>\n",
       "    <tr>\n",
       "      <th>A2</th>\n",
       "      <td>Ravi</td>\n",
       "      <td>22</td>\n",
       "      <td>Delhi</td>\n",
       "      <td>90</td>\n",
       "    </tr>\n",
       "    <tr>\n",
       "      <th>A3</th>\n",
       "      <td>Sneha</td>\n",
       "      <td>20</td>\n",
       "      <td>Mumbai</td>\n",
       "      <td>78</td>\n",
       "    </tr>\n",
       "  </tbody>\n",
       "</table>\n",
       "</div>"
      ],
      "text/plain": [
       "      Name  Age    City  Score\n",
       "A1  Aniket   21   Patna     85\n",
       "A2    Ravi   22   Delhi     90\n",
       "A3   Sneha   20  Mumbai     78"
      ]
     },
     "execution_count": 32,
     "metadata": {},
     "output_type": "execute_result"
    }
   ],
   "source": [
    "df.iloc[0:3]"
   ]
  },
  {
   "cell_type": "markdown",
   "id": "ea6d14c2",
   "metadata": {},
   "source": [
    "---"
   ]
  },
  {
   "cell_type": "markdown",
   "id": "57dfd9e5",
   "metadata": {},
   "source": [
    "## Selecting rows and columns using loc() and iloc():\n",
    "- loc() --> returns series based on label.\n",
    "- iloc() --> returns a series based on indexing.\n",
    "- loc[] and iloc[] can be used to select specific rows and columns from a DataFrame.\n",
    "\n"
   ]
  },
  {
   "cell_type": "code",
   "execution_count": null,
   "id": "088ceb50",
   "metadata": {},
   "outputs": [
    {
     "data": {
      "text/html": [
       "<div>\n",
       "<style scoped>\n",
       "    .dataframe tbody tr th:only-of-type {\n",
       "        vertical-align: middle;\n",
       "    }\n",
       "\n",
       "    .dataframe tbody tr th {\n",
       "        vertical-align: top;\n",
       "    }\n",
       "\n",
       "    .dataframe thead th {\n",
       "        text-align: right;\n",
       "    }\n",
       "</style>\n",
       "<table border=\"1\" class=\"dataframe\">\n",
       "  <thead>\n",
       "    <tr style=\"text-align: right;\">\n",
       "      <th></th>\n",
       "      <th>title_x</th>\n",
       "      <th>imdb_id</th>\n",
       "      <th>poster_path</th>\n",
       "    </tr>\n",
       "  </thead>\n",
       "  <tbody>\n",
       "    <tr>\n",
       "      <th>0</th>\n",
       "      <td>Uri: The Surgical Strike</td>\n",
       "      <td>tt8291224</td>\n",
       "      <td>https://upload.wikimedia.org/wikipedia/en/thum...</td>\n",
       "    </tr>\n",
       "    <tr>\n",
       "      <th>1</th>\n",
       "      <td>Battalion 609</td>\n",
       "      <td>tt9472208</td>\n",
       "      <td>NaN</td>\n",
       "    </tr>\n",
       "    <tr>\n",
       "      <th>2</th>\n",
       "      <td>The Accidental Prime Minister (film)</td>\n",
       "      <td>tt6986710</td>\n",
       "      <td>https://upload.wikimedia.org/wikipedia/en/thum...</td>\n",
       "    </tr>\n",
       "  </tbody>\n",
       "</table>\n",
       "</div>"
      ],
      "text/plain": [
       "                                title_x    imdb_id  \\\n",
       "0              Uri: The Surgical Strike  tt8291224   \n",
       "1                         Battalion 609  tt9472208   \n",
       "2  The Accidental Prime Minister (film)  tt6986710   \n",
       "\n",
       "                                         poster_path  \n",
       "0  https://upload.wikimedia.org/wikipedia/en/thum...  \n",
       "1                                                NaN  \n",
       "2  https://upload.wikimedia.org/wikipedia/en/thum...  "
      ]
     },
     "execution_count": 34,
     "metadata": {},
     "output_type": "execute_result"
    }
   ],
   "source": [
    "movies.iloc[0:3, 0:3]  # returns the first three rows and first three columns"
   ]
  },
  {
   "cell_type": "code",
   "execution_count": 37,
   "id": "8be2230a",
   "metadata": {},
   "outputs": [
    {
     "data": {
      "text/html": [
       "<div>\n",
       "<style scoped>\n",
       "    .dataframe tbody tr th:only-of-type {\n",
       "        vertical-align: middle;\n",
       "    }\n",
       "\n",
       "    .dataframe tbody tr th {\n",
       "        vertical-align: top;\n",
       "    }\n",
       "\n",
       "    .dataframe thead th {\n",
       "        text-align: right;\n",
       "    }\n",
       "</style>\n",
       "<table border=\"1\" class=\"dataframe\">\n",
       "  <thead>\n",
       "    <tr style=\"text-align: right;\">\n",
       "      <th></th>\n",
       "      <th>title_x</th>\n",
       "      <th>imdb_id</th>\n",
       "      <th>poster_path</th>\n",
       "    </tr>\n",
       "  </thead>\n",
       "  <tbody>\n",
       "    <tr>\n",
       "      <th>0</th>\n",
       "      <td>Uri: The Surgical Strike</td>\n",
       "      <td>tt8291224</td>\n",
       "      <td>https://upload.wikimedia.org/wikipedia/en/thum...</td>\n",
       "    </tr>\n",
       "    <tr>\n",
       "      <th>1</th>\n",
       "      <td>Battalion 609</td>\n",
       "      <td>tt9472208</td>\n",
       "      <td>NaN</td>\n",
       "    </tr>\n",
       "    <tr>\n",
       "      <th>2</th>\n",
       "      <td>The Accidental Prime Minister (film)</td>\n",
       "      <td>tt6986710</td>\n",
       "      <td>https://upload.wikimedia.org/wikipedia/en/thum...</td>\n",
       "    </tr>\n",
       "  </tbody>\n",
       "</table>\n",
       "</div>"
      ],
      "text/plain": [
       "                                title_x    imdb_id  \\\n",
       "0              Uri: The Surgical Strike  tt8291224   \n",
       "1                         Battalion 609  tt9472208   \n",
       "2  The Accidental Prime Minister (film)  tt6986710   \n",
       "\n",
       "                                         poster_path  \n",
       "0  https://upload.wikimedia.org/wikipedia/en/thum...  \n",
       "1                                                NaN  \n",
       "2  https://upload.wikimedia.org/wikipedia/en/thum...  "
      ]
     },
     "execution_count": 37,
     "metadata": {},
     "output_type": "execute_result"
    }
   ],
   "source": [
    "movies.loc[0:2,'title_x':'poster_path']  # returns rows from 'title_x' to 'actors'"
   ]
  },
  {
   "cell_type": "markdown",
   "id": "15571caa",
   "metadata": {},
   "source": [
    "---"
   ]
  }
 ],
 "metadata": {
  "kernelspec": {
   "display_name": ".venv",
   "language": "python",
   "name": "python3"
  },
  "language_info": {
   "codemirror_mode": {
    "name": "ipython",
    "version": 3
   },
   "file_extension": ".py",
   "mimetype": "text/x-python",
   "name": "python",
   "nbconvert_exporter": "python",
   "pygments_lexer": "ipython3",
   "version": "3.12.2"
  }
 },
 "nbformat": 4,
 "nbformat_minor": 5
}
