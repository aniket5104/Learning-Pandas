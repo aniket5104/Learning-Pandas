{
 "cells": [
  {
   "cell_type": "code",
   "execution_count": 1,
   "id": "74164184",
   "metadata": {},
   "outputs": [],
   "source": [
    "import pandas as pd\n",
    "import numpy as np"
   ]
  },
  {
   "cell_type": "code",
   "execution_count": 2,
   "id": "5bdfee6a",
   "metadata": {},
   "outputs": [],
   "source": [
    "df= pd.read_csv('C:/Users/anike/OneDrive/Desktop/Learning Pandas/Datasets/Session-17/ipl-matches.csv')\n",
    "ipl= pd.DataFrame(df)\n",
    "df= pd.read_csv('C:/Users/anike/OneDrive/Desktop/Learning Pandas/Datasets/Session-17/movies.csv')\n",
    "movies= pd.DataFrame(df)"
   ]
  },
  {
   "cell_type": "markdown",
   "id": "57477dc0",
   "metadata": {},
   "source": [
    "# Filtering a Dataframe:\n",
    "1. Find all the winners season wise"
   ]
  },
  {
   "cell_type": "code",
   "execution_count": 3,
   "id": "10132e06",
   "metadata": {},
   "outputs": [
    {
     "data": {
      "text/html": [
       "<div>\n",
       "<style scoped>\n",
       "    .dataframe tbody tr th:only-of-type {\n",
       "        vertical-align: middle;\n",
       "    }\n",
       "\n",
       "    .dataframe tbody tr th {\n",
       "        vertical-align: top;\n",
       "    }\n",
       "\n",
       "    .dataframe thead th {\n",
       "        text-align: right;\n",
       "    }\n",
       "</style>\n",
       "<table border=\"1\" class=\"dataframe\">\n",
       "  <thead>\n",
       "    <tr style=\"text-align: right;\">\n",
       "      <th></th>\n",
       "      <th>Season</th>\n",
       "      <th>WinningTeam</th>\n",
       "    </tr>\n",
       "  </thead>\n",
       "  <tbody>\n",
       "    <tr>\n",
       "      <th>0</th>\n",
       "      <td>2022</td>\n",
       "      <td>Gujarat Titans</td>\n",
       "    </tr>\n",
       "    <tr>\n",
       "      <th>74</th>\n",
       "      <td>2021</td>\n",
       "      <td>Chennai Super Kings</td>\n",
       "    </tr>\n",
       "    <tr>\n",
       "      <th>134</th>\n",
       "      <td>2020/21</td>\n",
       "      <td>Mumbai Indians</td>\n",
       "    </tr>\n",
       "    <tr>\n",
       "      <th>194</th>\n",
       "      <td>2019</td>\n",
       "      <td>Mumbai Indians</td>\n",
       "    </tr>\n",
       "    <tr>\n",
       "      <th>254</th>\n",
       "      <td>2018</td>\n",
       "      <td>Chennai Super Kings</td>\n",
       "    </tr>\n",
       "    <tr>\n",
       "      <th>314</th>\n",
       "      <td>2017</td>\n",
       "      <td>Mumbai Indians</td>\n",
       "    </tr>\n",
       "    <tr>\n",
       "      <th>373</th>\n",
       "      <td>2016</td>\n",
       "      <td>Sunrisers Hyderabad</td>\n",
       "    </tr>\n",
       "    <tr>\n",
       "      <th>433</th>\n",
       "      <td>2015</td>\n",
       "      <td>Mumbai Indians</td>\n",
       "    </tr>\n",
       "    <tr>\n",
       "      <th>492</th>\n",
       "      <td>2014</td>\n",
       "      <td>Kolkata Knight Riders</td>\n",
       "    </tr>\n",
       "    <tr>\n",
       "      <th>552</th>\n",
       "      <td>2013</td>\n",
       "      <td>Mumbai Indians</td>\n",
       "    </tr>\n",
       "    <tr>\n",
       "      <th>628</th>\n",
       "      <td>2012</td>\n",
       "      <td>Kolkata Knight Riders</td>\n",
       "    </tr>\n",
       "    <tr>\n",
       "      <th>702</th>\n",
       "      <td>2011</td>\n",
       "      <td>Chennai Super Kings</td>\n",
       "    </tr>\n",
       "    <tr>\n",
       "      <th>775</th>\n",
       "      <td>2009/10</td>\n",
       "      <td>Chennai Super Kings</td>\n",
       "    </tr>\n",
       "    <tr>\n",
       "      <th>835</th>\n",
       "      <td>2009</td>\n",
       "      <td>Deccan Chargers</td>\n",
       "    </tr>\n",
       "    <tr>\n",
       "      <th>892</th>\n",
       "      <td>2007/08</td>\n",
       "      <td>Rajasthan Royals</td>\n",
       "    </tr>\n",
       "  </tbody>\n",
       "</table>\n",
       "</div>"
      ],
      "text/plain": [
       "      Season            WinningTeam\n",
       "0       2022         Gujarat Titans\n",
       "74      2021    Chennai Super Kings\n",
       "134  2020/21         Mumbai Indians\n",
       "194     2019         Mumbai Indians\n",
       "254     2018    Chennai Super Kings\n",
       "314     2017         Mumbai Indians\n",
       "373     2016    Sunrisers Hyderabad\n",
       "433     2015         Mumbai Indians\n",
       "492     2014  Kolkata Knight Riders\n",
       "552     2013         Mumbai Indians\n",
       "628     2012  Kolkata Knight Riders\n",
       "702     2011    Chennai Super Kings\n",
       "775  2009/10    Chennai Super Kings\n",
       "835     2009        Deccan Chargers\n",
       "892  2007/08       Rajasthan Royals"
      ]
     },
     "execution_count": 3,
     "metadata": {},
     "output_type": "execute_result"
    }
   ],
   "source": [
    "mask=ipl['MatchNumber']== 'Final'\n",
    "new_df= ipl[mask]\n",
    "new_df= new_df[['Season','WinningTeam']]\n",
    "new_df"
   ]
  },
  {
   "cell_type": "code",
   "execution_count": 4,
   "id": "18e5faa8",
   "metadata": {},
   "outputs": [
    {
     "data": {
      "text/html": [
       "<div>\n",
       "<style scoped>\n",
       "    .dataframe tbody tr th:only-of-type {\n",
       "        vertical-align: middle;\n",
       "    }\n",
       "\n",
       "    .dataframe tbody tr th {\n",
       "        vertical-align: top;\n",
       "    }\n",
       "\n",
       "    .dataframe thead th {\n",
       "        text-align: right;\n",
       "    }\n",
       "</style>\n",
       "<table border=\"1\" class=\"dataframe\">\n",
       "  <thead>\n",
       "    <tr style=\"text-align: right;\">\n",
       "      <th></th>\n",
       "      <th>Season</th>\n",
       "      <th>WinningTeam</th>\n",
       "    </tr>\n",
       "  </thead>\n",
       "  <tbody>\n",
       "    <tr>\n",
       "      <th>0</th>\n",
       "      <td>2022</td>\n",
       "      <td>Gujarat Titans</td>\n",
       "    </tr>\n",
       "    <tr>\n",
       "      <th>74</th>\n",
       "      <td>2021</td>\n",
       "      <td>Chennai Super Kings</td>\n",
       "    </tr>\n",
       "    <tr>\n",
       "      <th>134</th>\n",
       "      <td>2020/21</td>\n",
       "      <td>Mumbai Indians</td>\n",
       "    </tr>\n",
       "    <tr>\n",
       "      <th>194</th>\n",
       "      <td>2019</td>\n",
       "      <td>Mumbai Indians</td>\n",
       "    </tr>\n",
       "    <tr>\n",
       "      <th>254</th>\n",
       "      <td>2018</td>\n",
       "      <td>Chennai Super Kings</td>\n",
       "    </tr>\n",
       "    <tr>\n",
       "      <th>314</th>\n",
       "      <td>2017</td>\n",
       "      <td>Mumbai Indians</td>\n",
       "    </tr>\n",
       "    <tr>\n",
       "      <th>373</th>\n",
       "      <td>2016</td>\n",
       "      <td>Sunrisers Hyderabad</td>\n",
       "    </tr>\n",
       "    <tr>\n",
       "      <th>433</th>\n",
       "      <td>2015</td>\n",
       "      <td>Mumbai Indians</td>\n",
       "    </tr>\n",
       "    <tr>\n",
       "      <th>492</th>\n",
       "      <td>2014</td>\n",
       "      <td>Kolkata Knight Riders</td>\n",
       "    </tr>\n",
       "    <tr>\n",
       "      <th>552</th>\n",
       "      <td>2013</td>\n",
       "      <td>Mumbai Indians</td>\n",
       "    </tr>\n",
       "    <tr>\n",
       "      <th>628</th>\n",
       "      <td>2012</td>\n",
       "      <td>Kolkata Knight Riders</td>\n",
       "    </tr>\n",
       "    <tr>\n",
       "      <th>702</th>\n",
       "      <td>2011</td>\n",
       "      <td>Chennai Super Kings</td>\n",
       "    </tr>\n",
       "    <tr>\n",
       "      <th>775</th>\n",
       "      <td>2009/10</td>\n",
       "      <td>Chennai Super Kings</td>\n",
       "    </tr>\n",
       "    <tr>\n",
       "      <th>835</th>\n",
       "      <td>2009</td>\n",
       "      <td>Deccan Chargers</td>\n",
       "    </tr>\n",
       "    <tr>\n",
       "      <th>892</th>\n",
       "      <td>2007/08</td>\n",
       "      <td>Rajasthan Royals</td>\n",
       "    </tr>\n",
       "  </tbody>\n",
       "</table>\n",
       "</div>"
      ],
      "text/plain": [
       "      Season            WinningTeam\n",
       "0       2022         Gujarat Titans\n",
       "74      2021    Chennai Super Kings\n",
       "134  2020/21         Mumbai Indians\n",
       "194     2019         Mumbai Indians\n",
       "254     2018    Chennai Super Kings\n",
       "314     2017         Mumbai Indians\n",
       "373     2016    Sunrisers Hyderabad\n",
       "433     2015         Mumbai Indians\n",
       "492     2014  Kolkata Knight Riders\n",
       "552     2013         Mumbai Indians\n",
       "628     2012  Kolkata Knight Riders\n",
       "702     2011    Chennai Super Kings\n",
       "775  2009/10    Chennai Super Kings\n",
       "835     2009        Deccan Chargers\n",
       "892  2007/08       Rajasthan Royals"
      ]
     },
     "execution_count": 4,
     "metadata": {},
     "output_type": "execute_result"
    }
   ],
   "source": [
    "ipl[ipl['MatchNumber']== 'Final'][['Season','WinningTeam']] #in one line"
   ]
  },
  {
   "cell_type": "markdown",
   "id": "b3c1e7db",
   "metadata": {},
   "source": [
    "2. How many super over finishes occurred?"
   ]
  },
  {
   "cell_type": "code",
   "execution_count": 10,
   "id": "04c0b45e",
   "metadata": {},
   "outputs": [
    {
     "data": {
      "text/plain": [
       "14"
      ]
     },
     "execution_count": 10,
     "metadata": {},
     "output_type": "execute_result"
    }
   ],
   "source": [
    "ipl[ipl['SuperOver']=='Y'].shape[0] #count of matches with Super Over`"
   ]
  },
  {
   "cell_type": "markdown",
   "id": "ba19be91",
   "metadata": {},
   "source": [
    "3. How many matches csk won in kolkata?"
   ]
  },
  {
   "cell_type": "code",
   "execution_count": 32,
   "id": "0e1a9801",
   "metadata": {},
   "outputs": [
    {
     "data": {
      "text/plain": [
       "5"
      ]
     },
     "execution_count": 32,
     "metadata": {},
     "output_type": "execute_result"
    }
   ],
   "source": [
    "ipl[(ipl['City']=='Kolkata') & (ipl['WinningTeam']=='Chennai Super Kings')].shape[0] #csk won in kolkata    "
   ]
  },
  {
   "cell_type": "markdown",
   "id": "b20dd1f7",
   "metadata": {},
   "source": [
    "4. Toss Winner is Match winner in percentage."
   ]
  },
  {
   "cell_type": "code",
   "execution_count": 40,
   "id": "23afe1c3",
   "metadata": {},
   "outputs": [
    {
     "data": {
      "text/plain": [
       "51.473684210526315"
      ]
     },
     "execution_count": 40,
     "metadata": {},
     "output_type": "execute_result"
    }
   ],
   "source": [
    "ipl[ipl['WinningTeam']== ipl['TossWinner']].shape[0]/ ipl.shape[0] * 100 #Toss Winner is Match winner in percentage "
   ]
  },
  {
   "cell_type": "markdown",
   "id": "ae590db4",
   "metadata": {},
   "source": [
    "5. movies with rating greater than 8 and votes>10000"
   ]
  },
  {
   "cell_type": "code",
   "execution_count": 42,
   "id": "a43c34a7",
   "metadata": {},
   "outputs": [
    {
     "data": {
      "text/html": [
       "<div>\n",
       "<style scoped>\n",
       "    .dataframe tbody tr th:only-of-type {\n",
       "        vertical-align: middle;\n",
       "    }\n",
       "\n",
       "    .dataframe tbody tr th {\n",
       "        vertical-align: top;\n",
       "    }\n",
       "\n",
       "    .dataframe thead th {\n",
       "        text-align: right;\n",
       "    }\n",
       "</style>\n",
       "<table border=\"1\" class=\"dataframe\">\n",
       "  <thead>\n",
       "    <tr style=\"text-align: right;\">\n",
       "      <th></th>\n",
       "      <th>title_x</th>\n",
       "      <th>imdb_id</th>\n",
       "      <th>poster_path</th>\n",
       "      <th>wiki_link</th>\n",
       "      <th>title_y</th>\n",
       "      <th>original_title</th>\n",
       "      <th>is_adult</th>\n",
       "      <th>year_of_release</th>\n",
       "      <th>runtime</th>\n",
       "      <th>genres</th>\n",
       "      <th>imdb_rating</th>\n",
       "      <th>imdb_votes</th>\n",
       "      <th>story</th>\n",
       "      <th>summary</th>\n",
       "      <th>tagline</th>\n",
       "      <th>actors</th>\n",
       "      <th>wins_nominations</th>\n",
       "      <th>release_date</th>\n",
       "    </tr>\n",
       "  </thead>\n",
       "  <tbody>\n",
       "    <tr>\n",
       "      <th>0</th>\n",
       "      <td>Uri: The Surgical Strike</td>\n",
       "      <td>tt8291224</td>\n",
       "      <td>https://upload.wikimedia.org/wikipedia/en/thum...</td>\n",
       "      <td>https://en.wikipedia.org/wiki/Uri:_The_Surgica...</td>\n",
       "      <td>Uri: The Surgical Strike</td>\n",
       "      <td>Uri: The Surgical Strike</td>\n",
       "      <td>0</td>\n",
       "      <td>2019</td>\n",
       "      <td>138</td>\n",
       "      <td>Action|Drama|War</td>\n",
       "      <td>8.4</td>\n",
       "      <td>35112</td>\n",
       "      <td>Divided over five chapters  the film chronicle...</td>\n",
       "      <td>Indian army special forces execute a covert op...</td>\n",
       "      <td>NaN</td>\n",
       "      <td>Vicky Kaushal|Paresh Rawal|Mohit Raina|Yami Ga...</td>\n",
       "      <td>4 wins</td>\n",
       "      <td>11 January 2019 (USA)</td>\n",
       "    </tr>\n",
       "  </tbody>\n",
       "</table>\n",
       "</div>"
      ],
      "text/plain": [
       "                    title_x    imdb_id  \\\n",
       "0  Uri: The Surgical Strike  tt8291224   \n",
       "\n",
       "                                         poster_path  \\\n",
       "0  https://upload.wikimedia.org/wikipedia/en/thum...   \n",
       "\n",
       "                                           wiki_link  \\\n",
       "0  https://en.wikipedia.org/wiki/Uri:_The_Surgica...   \n",
       "\n",
       "                    title_y            original_title  is_adult  \\\n",
       "0  Uri: The Surgical Strike  Uri: The Surgical Strike         0   \n",
       "\n",
       "   year_of_release runtime            genres  imdb_rating  imdb_votes  \\\n",
       "0             2019     138  Action|Drama|War          8.4       35112   \n",
       "\n",
       "                                               story  \\\n",
       "0  Divided over five chapters  the film chronicle...   \n",
       "\n",
       "                                             summary tagline  \\\n",
       "0  Indian army special forces execute a covert op...     NaN   \n",
       "\n",
       "                                              actors wins_nominations  \\\n",
       "0  Vicky Kaushal|Paresh Rawal|Mohit Raina|Yami Ga...           4 wins   \n",
       "\n",
       "            release_date  \n",
       "0  11 January 2019 (USA)  "
      ]
     },
     "execution_count": 42,
     "metadata": {},
     "output_type": "execute_result"
    }
   ],
   "source": [
    "movies.head(1)"
   ]
  },
  {
   "cell_type": "code",
   "execution_count": 46,
   "id": "6f37ce62",
   "metadata": {},
   "outputs": [
    {
     "data": {
      "text/plain": [
       "43"
      ]
     },
     "execution_count": 46,
     "metadata": {},
     "output_type": "execute_result"
    }
   ],
   "source": [
    "movies[(movies['imdb_rating']>8) & (movies['imdb_votes']>10000)].shape[0] #count of movies with imdb rating > 8 and votes > 10000"
   ]
  },
  {
   "cell_type": "markdown",
   "id": "69c0e682",
   "metadata": {},
   "source": [
    "6. Action movies with rating higher than 7.5. "
   ]
  },
  {
   "cell_type": "code",
   "execution_count": 49,
   "id": "f8bd4e14",
   "metadata": {},
   "outputs": [
    {
     "data": {
      "text/plain": [
       "33"
      ]
     },
     "execution_count": 49,
     "metadata": {},
     "output_type": "execute_result"
    }
   ],
   "source": [
    "mask1= movies['genres'].str.split('|').apply(lambda x: 'Action' in x)\n",
    "mask2= movies['imdb_rating']> 7.5\n",
    "movies[mask1 & mask2].shape[0] #count of action movies with imdb rating > 7.5"
   ]
  }
 ],
 "metadata": {
  "kernelspec": {
   "display_name": ".venv",
   "language": "python",
   "name": "python3"
  },
  "language_info": {
   "codemirror_mode": {
    "name": "ipython",
    "version": 3
   },
   "file_extension": ".py",
   "mimetype": "text/x-python",
   "name": "python",
   "nbconvert_exporter": "python",
   "pygments_lexer": "ipython3",
   "version": "3.12.2"
  }
 },
 "nbformat": 4,
 "nbformat_minor": 5
}
