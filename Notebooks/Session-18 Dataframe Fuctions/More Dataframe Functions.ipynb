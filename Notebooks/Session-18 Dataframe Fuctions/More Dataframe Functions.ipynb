{
 "cells": [
  {
   "cell_type": "code",
   "execution_count": 208,
   "id": "852a223c",
   "metadata": {},
   "outputs": [],
   "source": [
    "import pandas as pd\n",
    "import numpy as np\n",
    "import matplotlib.pyplot as plt"
   ]
  },
  {
   "cell_type": "code",
   "execution_count": 209,
   "id": "d6f8dedf",
   "metadata": {},
   "outputs": [],
   "source": [
    "df= pd.read_csv('C:/Users/anike/OneDrive/Desktop/Learning Pandas/Datasets/Session-17/ipl-matches.csv')\n",
    "ipl= pd.DataFrame(df)\n",
    "df= pd.read_csv('C:/Users/anike/OneDrive/Desktop/Learning Pandas/Datasets/Session-17/movies.csv')\n",
    "movies= pd.DataFrame(df)\n",
    "df = pd.read_csv(\"C:/Users/anike/OneDrive/Desktop/Learning Pandas/Datasets/Session-16/kohli_ipl.csv\")\n",
    "vk= df['runs']\n",
    "df= pd.read_csv('C:/Users/anike/OneDrive/Desktop/Learning Pandas/Datasets/Session-17/batsman_runs_ipl.csv')\n",
    "batsman= pd.DataFrame(df)"
   ]
  },
  {
   "cell_type": "markdown",
   "id": "d26dfd2a",
   "metadata": {},
   "source": [
    "---"
   ]
  },
  {
   "cell_type": "markdown",
   "id": "61194b0f",
   "metadata": {},
   "source": [
    "#  More DataFrame Methods():"
   ]
  },
  {
   "cell_type": "markdown",
   "id": "bb937ae1",
   "metadata": {},
   "source": [
    "## value_counts(): \n",
    "- returns the frequency of unique rows in dataframe."
   ]
  },
  {
   "cell_type": "code",
   "execution_count": 210,
   "id": "8ffbe9fa",
   "metadata": {},
   "outputs": [
    {
     "data": {
      "application/vnd.microsoft.datawrangler.viewer.v0+json": {
       "columns": [
        {
         "name": "('iq', 'marks', 'package')",
         "rawType": "object",
         "type": "unknown"
        },
        {
         "name": "count",
         "rawType": "int64",
         "type": "integer"
        }
       ],
       "ref": "05ba442e-73f3-42ac-908b-1c1d71f25926",
       "rows": [
        [
         "(np.int64(80), np.int64(70), np.int64(14))",
         "2"
        ],
        [
         "(np.int64(90), np.int64(70), np.int64(7))",
         "1"
        ],
        [
         "(np.int64(100), np.int64(80), np.int64(10))",
         "1"
        ],
        [
         "(np.int64(120), np.int64(100), np.int64(5))",
         "1"
        ]
       ],
       "shape": {
        "columns": 1,
        "rows": 4
       }
      },
      "text/plain": [
       "iq   marks  package\n",
       "80   70     14         2\n",
       "90   70     7          1\n",
       "100  80     10         1\n",
       "120  100    5          1\n",
       "Name: count, dtype: int64"
      ]
     },
     "execution_count": 210,
     "metadata": {},
     "output_type": "execute_result"
    }
   ],
   "source": [
    "marks= pd.DataFrame([\n",
    "    [100, 80, 10],\n",
    "    [90, 70, 7],\n",
    "    [120, 100, 5],\n",
    "    [80,70, 14],\n",
    "    [80,70, 14],\n",
    "],columns= ['iq','marks','package'])\n",
    "\n",
    "marks.value_counts()"
   ]
  },
  {
   "cell_type": "markdown",
   "id": "7a7a991b",
   "metadata": {},
   "source": [
    "### Find which player has won most potm in finals and playoffs in IPL."
   ]
  },
  {
   "cell_type": "code",
   "execution_count": 211,
   "id": "d6ad0a7e",
   "metadata": {},
   "outputs": [
    {
     "data": {
      "application/vnd.microsoft.datawrangler.viewer.v0+json": {
       "columns": [
        {
         "name": "Player_of_Match",
         "rawType": "object",
         "type": "string"
        },
        {
         "name": "count",
         "rawType": "int64",
         "type": "integer"
        }
       ],
       "ref": "1be53cbe-b03c-4b6f-867c-8c540d5c2806",
       "rows": [
        [
         "F du Plessis",
         "3"
        ],
        [
         "SK Raina",
         "3"
        ],
        [
         "KA Pollard",
         "3"
        ],
        [
         "JJ Bumrah",
         "2"
        ],
        [
         "AB de Villiers",
         "2"
        ],
        [
         "MK Pandey",
         "2"
        ],
        [
         "M Vijay",
         "2"
        ],
        [
         "A Kumble",
         "2"
        ],
        [
         "YK Pathan",
         "2"
        ],
        [
         "SR Watson",
         "2"
        ],
        [
         "HH Pandya",
         "1"
        ],
        [
         "RM Patidar",
         "1"
        ],
        [
         "JC Buttler",
         "1"
        ],
        [
         "RR Pant",
         "1"
        ],
        [
         "KS Williamson",
         "1"
        ],
        [
         "MP Stoinis",
         "1"
        ],
        [
         "TA Boult",
         "1"
        ],
        [
         "SP Narine",
         "1"
        ],
        [
         "RD Gaikwad",
         "1"
        ],
        [
         "VR Iyer",
         "1"
        ],
        [
         "DA Miller",
         "1"
        ],
        [
         "Washington Sundar",
         "1"
        ],
        [
         "NM Coulter-Nile",
         "1"
        ],
        [
         "KV Sharma",
         "1"
        ],
        [
         "BCJ Cutting",
         "1"
        ],
        [
         "KH Pandya",
         "1"
        ],
        [
         "SA Yadav",
         "1"
        ],
        [
         "Rashid Khan",
         "1"
        ],
        [
         "AD Russell",
         "1"
        ],
        [
         "RG Sharma",
         "1"
        ],
        [
         "A Nehra",
         "1"
        ],
        [
         "DA Warner",
         "1"
        ],
        [
         "MC Henriques",
         "1"
        ],
        [
         "Harbhajan Singh",
         "1"
        ],
        [
         "BJ Hodge",
         "1"
        ],
        [
         "UT Yadav",
         "1"
        ],
        [
         "V Sehwag",
         "1"
        ],
        [
         "MS Bisla",
         "1"
        ],
        [
         "MEK Hussey",
         "1"
        ],
        [
         "CH Gayle",
         "1"
        ],
        [
         "MS Dhoni",
         "1"
        ],
        [
         "MM Patel",
         "1"
        ],
        [
         "DE Bollinger",
         "1"
        ],
        [
         "AC Gilchrist",
         "1"
        ],
        [
         "M Ntini",
         "1"
        ]
       ],
       "shape": {
        "columns": 1,
        "rows": 45
       }
      },
      "text/plain": [
       "Player_of_Match\n",
       "F du Plessis         3\n",
       "SK Raina             3\n",
       "KA Pollard           3\n",
       "JJ Bumrah            2\n",
       "AB de Villiers       2\n",
       "MK Pandey            2\n",
       "M Vijay              2\n",
       "A Kumble             2\n",
       "YK Pathan            2\n",
       "SR Watson            2\n",
       "HH Pandya            1\n",
       "RM Patidar           1\n",
       "JC Buttler           1\n",
       "RR Pant              1\n",
       "KS Williamson        1\n",
       "MP Stoinis           1\n",
       "TA Boult             1\n",
       "SP Narine            1\n",
       "RD Gaikwad           1\n",
       "VR Iyer              1\n",
       "DA Miller            1\n",
       "Washington Sundar    1\n",
       "NM Coulter-Nile      1\n",
       "KV Sharma            1\n",
       "BCJ Cutting          1\n",
       "KH Pandya            1\n",
       "SA Yadav             1\n",
       "Rashid Khan          1\n",
       "AD Russell           1\n",
       "RG Sharma            1\n",
       "A Nehra              1\n",
       "DA Warner            1\n",
       "MC Henriques         1\n",
       "Harbhajan Singh      1\n",
       "BJ Hodge             1\n",
       "UT Yadav             1\n",
       "V Sehwag             1\n",
       "MS Bisla             1\n",
       "MEK Hussey           1\n",
       "CH Gayle             1\n",
       "MS Dhoni             1\n",
       "MM Patel             1\n",
       "DE Bollinger         1\n",
       "AC Gilchrist         1\n",
       "M Ntini              1\n",
       "Name: count, dtype: int64"
      ]
     },
     "execution_count": 211,
     "metadata": {},
     "output_type": "execute_result"
    }
   ],
   "source": [
    "ipl[~ipl['MatchNumber'].str.isdigit()]['Player_of_Match'].value_counts()"
   ]
  },
  {
   "cell_type": "markdown",
   "id": "077d695f",
   "metadata": {},
   "source": [
    "### IPL Toss Decsion Plot in pie chart"
   ]
  },
  {
   "cell_type": "code",
   "execution_count": 212,
   "id": "d6ecb33e",
   "metadata": {},
   "outputs": [
    {
     "data": {
      "application/vnd.microsoft.datawrangler.viewer.v0+json": {
       "columns": [
        {
         "name": "index",
         "rawType": "int64",
         "type": "integer"
        },
        {
         "name": "ID",
         "rawType": "int64",
         "type": "integer"
        },
        {
         "name": "City",
         "rawType": "object",
         "type": "string"
        },
        {
         "name": "Date",
         "rawType": "object",
         "type": "string"
        },
        {
         "name": "Season",
         "rawType": "object",
         "type": "string"
        },
        {
         "name": "MatchNumber",
         "rawType": "object",
         "type": "string"
        },
        {
         "name": "Team1",
         "rawType": "object",
         "type": "string"
        },
        {
         "name": "Team2",
         "rawType": "object",
         "type": "string"
        },
        {
         "name": "Venue",
         "rawType": "object",
         "type": "string"
        },
        {
         "name": "TossWinner",
         "rawType": "object",
         "type": "string"
        },
        {
         "name": "TossDecision",
         "rawType": "object",
         "type": "string"
        },
        {
         "name": "SuperOver",
         "rawType": "object",
         "type": "string"
        },
        {
         "name": "WinningTeam",
         "rawType": "object",
         "type": "string"
        },
        {
         "name": "WonBy",
         "rawType": "object",
         "type": "string"
        },
        {
         "name": "Margin",
         "rawType": "float64",
         "type": "float"
        },
        {
         "name": "method",
         "rawType": "object",
         "type": "unknown"
        },
        {
         "name": "Player_of_Match",
         "rawType": "object",
         "type": "string"
        },
        {
         "name": "Team1Players",
         "rawType": "object",
         "type": "string"
        },
        {
         "name": "Team2Players",
         "rawType": "object",
         "type": "string"
        },
        {
         "name": "Umpire1",
         "rawType": "object",
         "type": "string"
        },
        {
         "name": "Umpire2",
         "rawType": "object",
         "type": "string"
        }
       ],
       "ref": "2a914a15-5acb-4f0f-85e0-ecce16809ffb",
       "rows": [
        [
         "0",
         "1312200",
         "Ahmedabad",
         "2022-05-29",
         "2022",
         "Final",
         "Rajasthan Royals",
         "Gujarat Titans",
         "Narendra Modi Stadium, Ahmedabad",
         "Rajasthan Royals",
         "bat",
         "N",
         "Gujarat Titans",
         "Wickets",
         "7.0",
         null,
         "HH Pandya",
         "['YBK Jaiswal', 'JC Buttler', 'SV Samson', 'D Padikkal', 'SO Hetmyer', 'R Ashwin', 'R Parag', 'TA Boult', 'OC McCoy', 'M Prasidh Krishna', 'YS Chahal']",
         "['WP Saha', 'Shubman Gill', 'MS Wade', 'HH Pandya', 'DA Miller', 'R Tewatia', 'Rashid Khan', 'R Sai Kishore', 'LH Ferguson', 'Yash Dayal', 'Mohammed Shami']",
         "CB Gaffaney",
         "Nitin Menon"
        ]
       ],
       "shape": {
        "columns": 20,
        "rows": 1
       }
      },
      "text/html": [
       "<div>\n",
       "<style scoped>\n",
       "    .dataframe tbody tr th:only-of-type {\n",
       "        vertical-align: middle;\n",
       "    }\n",
       "\n",
       "    .dataframe tbody tr th {\n",
       "        vertical-align: top;\n",
       "    }\n",
       "\n",
       "    .dataframe thead th {\n",
       "        text-align: right;\n",
       "    }\n",
       "</style>\n",
       "<table border=\"1\" class=\"dataframe\">\n",
       "  <thead>\n",
       "    <tr style=\"text-align: right;\">\n",
       "      <th></th>\n",
       "      <th>ID</th>\n",
       "      <th>City</th>\n",
       "      <th>Date</th>\n",
       "      <th>Season</th>\n",
       "      <th>MatchNumber</th>\n",
       "      <th>Team1</th>\n",
       "      <th>Team2</th>\n",
       "      <th>Venue</th>\n",
       "      <th>TossWinner</th>\n",
       "      <th>TossDecision</th>\n",
       "      <th>SuperOver</th>\n",
       "      <th>WinningTeam</th>\n",
       "      <th>WonBy</th>\n",
       "      <th>Margin</th>\n",
       "      <th>method</th>\n",
       "      <th>Player_of_Match</th>\n",
       "      <th>Team1Players</th>\n",
       "      <th>Team2Players</th>\n",
       "      <th>Umpire1</th>\n",
       "      <th>Umpire2</th>\n",
       "    </tr>\n",
       "  </thead>\n",
       "  <tbody>\n",
       "    <tr>\n",
       "      <th>0</th>\n",
       "      <td>1312200</td>\n",
       "      <td>Ahmedabad</td>\n",
       "      <td>2022-05-29</td>\n",
       "      <td>2022</td>\n",
       "      <td>Final</td>\n",
       "      <td>Rajasthan Royals</td>\n",
       "      <td>Gujarat Titans</td>\n",
       "      <td>Narendra Modi Stadium, Ahmedabad</td>\n",
       "      <td>Rajasthan Royals</td>\n",
       "      <td>bat</td>\n",
       "      <td>N</td>\n",
       "      <td>Gujarat Titans</td>\n",
       "      <td>Wickets</td>\n",
       "      <td>7.0</td>\n",
       "      <td>NaN</td>\n",
       "      <td>HH Pandya</td>\n",
       "      <td>['YBK Jaiswal', 'JC Buttler', 'SV Samson', 'D ...</td>\n",
       "      <td>['WP Saha', 'Shubman Gill', 'MS Wade', 'HH Pan...</td>\n",
       "      <td>CB Gaffaney</td>\n",
       "      <td>Nitin Menon</td>\n",
       "    </tr>\n",
       "  </tbody>\n",
       "</table>\n",
       "</div>"
      ],
      "text/plain": [
       "        ID       City        Date Season MatchNumber             Team1  \\\n",
       "0  1312200  Ahmedabad  2022-05-29   2022       Final  Rajasthan Royals   \n",
       "\n",
       "            Team2                             Venue        TossWinner  \\\n",
       "0  Gujarat Titans  Narendra Modi Stadium, Ahmedabad  Rajasthan Royals   \n",
       "\n",
       "  TossDecision SuperOver     WinningTeam    WonBy  Margin method  \\\n",
       "0          bat         N  Gujarat Titans  Wickets     7.0    NaN   \n",
       "\n",
       "  Player_of_Match                                       Team1Players  \\\n",
       "0       HH Pandya  ['YBK Jaiswal', 'JC Buttler', 'SV Samson', 'D ...   \n",
       "\n",
       "                                        Team2Players      Umpire1      Umpire2  \n",
       "0  ['WP Saha', 'Shubman Gill', 'MS Wade', 'HH Pan...  CB Gaffaney  Nitin Menon  "
      ]
     },
     "execution_count": 212,
     "metadata": {},
     "output_type": "execute_result"
    }
   ],
   "source": [
    "ipl.head(1)"
   ]
  },
  {
   "cell_type": "code",
   "execution_count": 213,
   "id": "4aa482e5",
   "metadata": {},
   "outputs": [
    {
     "data": {
      "text/plain": [
       "<Axes: ylabel='count'>"
      ]
     },
     "execution_count": 213,
     "metadata": {},
     "output_type": "execute_result"
    },
    {
     "data": {
      "image/png": "[encoded data removed]",
      "text/plain": [
       "<Figure size 300x300 with 1 Axes>"
      ]
     },
     "metadata": {},
     "output_type": "display_data"
    }
   ],
   "source": [
    "ipl['TossDecision'].value_counts().plot.pie(figsize=(3,3), autopct='%1.1f%%', startangle=90, shadow=True)"
   ]
  },
  {
   "cell_type": "markdown",
   "id": "9ffc4d29",
   "metadata": {},
   "source": [
    "### How many Matches each team has played in IPL"
   ]
  },
  {
   "cell_type": "code",
   "execution_count": 214,
   "id": "889236a1",
   "metadata": {},
   "outputs": [
    {
     "data": {
      "application/vnd.microsoft.datawrangler.viewer.v0+json": {
       "columns": [
        {
         "name": "index",
         "rawType": "object",
         "type": "string"
        },
        {
         "name": "count",
         "rawType": "int64",
         "type": "integer"
        }
       ],
       "ref": "616783ce-6f7e-4889-88fb-072984213c0c",
       "rows": [
        [
         "Chennai Super Kings",
         "208"
        ],
        [
         "Deccan Chargers",
         "75"
        ],
        [
         "Delhi Capitals",
         "63"
        ],
        [
         "Delhi Daredevils",
         "161"
        ],
        [
         "Gujarat Lions",
         "30"
        ],
        [
         "Gujarat Titans",
         "16"
        ],
        [
         "Kings XI Punjab",
         "190"
        ],
        [
         "Kochi Tuskers Kerala",
         "14"
        ],
        [
         "Kolkata Knight Riders",
         "223"
        ],
        [
         "Lucknow Super Giants",
         "15"
        ],
        [
         "Mumbai Indians",
         "231"
        ],
        [
         "Pune Warriors",
         "46"
        ],
        [
         "Punjab Kings",
         "28"
        ],
        [
         "Rajasthan Royals",
         "192"
        ],
        [
         "Rising Pune Supergiant",
         "16"
        ],
        [
         "Rising Pune Supergiants",
         "14"
        ],
        [
         "Royal Challengers Bangalore",
         "226"
        ],
        [
         "Sunrisers Hyderabad",
         "152"
        ]
       ],
       "shape": {
        "columns": 1,
        "rows": 18
       }
      },
      "text/plain": [
       "Chennai Super Kings            208\n",
       "Deccan Chargers                 75\n",
       "Delhi Capitals                  63\n",
       "Delhi Daredevils               161\n",
       "Gujarat Lions                   30\n",
       "Gujarat Titans                  16\n",
       "Kings XI Punjab                190\n",
       "Kochi Tuskers Kerala            14\n",
       "Kolkata Knight Riders          223\n",
       "Lucknow Super Giants            15\n",
       "Mumbai Indians                 231\n",
       "Pune Warriors                   46\n",
       "Punjab Kings                    28\n",
       "Rajasthan Royals               192\n",
       "Rising Pune Supergiant          16\n",
       "Rising Pune Supergiants         14\n",
       "Royal Challengers Bangalore    226\n",
       "Sunrisers Hyderabad            152\n",
       "Name: count, dtype: int64"
      ]
     },
     "execution_count": 214,
     "metadata": {},
     "output_type": "execute_result"
    }
   ],
   "source": [
    "(ipl['Team1'].value_counts()) + (ipl['Team2'].value_counts())"
   ]
  },
  {
   "cell_type": "markdown",
   "id": "cee4bb1f",
   "metadata": {},
   "source": [
    "---"
   ]
  },
  {
   "cell_type": "markdown",
   "id": "f7b8c40f",
   "metadata": {},
   "source": [
    "## .sort_values():\n",
    "- Sorts the DataFrame wrt a passed column.\n",
    "- By default pushes nan values in last but can be reversed using na_position = 'first'"
   ]
  },
  {
   "cell_type": "code",
   "execution_count": 215,
   "id": "5c0f62b9",
   "metadata": {},
   "outputs": [
    {
     "data": {
      "application/vnd.microsoft.datawrangler.viewer.v0+json": {
       "columns": [
        {
         "name": "index",
         "rawType": "int64",
         "type": "integer"
        },
        {
         "name": "title_x",
         "rawType": "object",
         "type": "string"
        },
        {
         "name": "imdb_id",
         "rawType": "object",
         "type": "string"
        },
        {
         "name": "poster_path",
         "rawType": "object",
         "type": "unknown"
        },
        {
         "name": "wiki_link",
         "rawType": "object",
         "type": "string"
        },
        {
         "name": "title_y",
         "rawType": "object",
         "type": "string"
        },
        {
         "name": "original_title",
         "rawType": "object",
         "type": "string"
        },
        {
         "name": "is_adult",
         "rawType": "int64",
         "type": "integer"
        },
        {
         "name": "year_of_release",
         "rawType": "int64",
         "type": "integer"
        },
        {
         "name": "runtime",
         "rawType": "object",
         "type": "string"
        },
        {
         "name": "genres",
         "rawType": "object",
         "type": "string"
        },
        {
         "name": "imdb_rating",
         "rawType": "float64",
         "type": "float"
        },
        {
         "name": "imdb_votes",
         "rawType": "int64",
         "type": "integer"
        },
        {
         "name": "story",
         "rawType": "object",
         "type": "unknown"
        },
        {
         "name": "summary",
         "rawType": "object",
         "type": "string"
        },
        {
         "name": "tagline",
         "rawType": "object",
         "type": "unknown"
        },
        {
         "name": "actors",
         "rawType": "object",
         "type": "unknown"
        },
        {
         "name": "wins_nominations",
         "rawType": "object",
         "type": "unknown"
        },
        {
         "name": "release_date",
         "rawType": "object",
         "type": "unknown"
        }
       ],
       "ref": "56124376-035f-4299-81d6-2c4e9a4e1add",
       "rows": [
        [
         "1623",
         "Zubeidaa",
         "tt0255713",
         "https://upload.wikimedia.org/wikipedia/en/thumb/f/fc/Zubeidaa_poster.jpg/220px-Zubeidaa_poster.jpg",
         "https://en.wikipedia.org/wiki/Zubeidaa",
         "Zubeidaa",
         "Zubeidaa",
         "0",
         "2001",
         "153",
         "Biography|Drama|History",
         "6.2",
         "1384",
         "The film begins with Riyaz (Rajat Kapoor)  Zubeida's son setting out to research her life  and to meet the people who knew her. The story is thus told in the form of memories/reminiscences. Zubeida is a Muslim actress  who's career aspirations are thwarted by her film-producer father (Puri) who looks down upon a woman in acting. He arranges her marriage to her friend's son  but that breaks up after the birth of her son. Zubeida is now back at her parent's home  sad and depressed. Rose (Lilette Dubey) her father's mistress tries to cheer-up Zubeida by taking her out. On one of these outings  Zubeida meets Prince Vijayendra (Victor) Singh of Fatehpur (Bajpai). Quite taken with her  the Prince woos and marries her. Zubeida  now the 2nd wife of a Hindu prince  leaves her son behind with her mother (Sikri) and comes to live at Fatehpur. Here she meets the much older Mandira Devi (Rekha) the Prince's first wife  learns about the etiquette of being a Rani  and of the duties her husband has ...",
         "Zubeidaa  an aspiring Muslim actress  marries a Hindu prince to become his second wife. Her tumultuous relationship with her husband  and her inner demons lead her to a decision which has fatal consequences for them all.",
         "The Story of a Princess",
         "Karisma Kapoor|Rekha|Manoj Bajpayee|Rajit Kapoor|Surekha Sikri|Amrish Puri|Farida Jalal|Shakti Kapoor|Lillete Dubey|Ravi Jhankal|Smriti Mishra|S.M. Zaheer|Harish Patel|Seema Bhargava|",
         "3 wins & 13 nominations",
         "19 January 2001 (India)"
        ],
        [
         "939",
         "Zor Lagaa Ke...Haiya!",
         "tt1479857",
         "https://upload.wikimedia.org/wikipedia/en/thumb/a/ac/Zor_Laga_Ke_HaiyaMithun.jpg/220px-Zor_Laga_Ke_HaiyaMithun.jpg",
         "https://en.wikipedia.org/wiki/Zor_Lagaa_Ke...Haiya!",
         "Zor Lagaa Ke... Haiya!",
         "Zor Lagaa Ke... Haiya!",
         "0",
         "2009",
         "\\N",
         "Comedy|Drama|Family",
         "6.4",
         "46",
         "A tree narrates the story of four Mumbai-based school-children: Priya  Karan  Ritesh and Laddu  who are curious about a beggar  Raavan  and decide to observe him. With the help of a young construction laborer  Ram  they steal material from a construction site  build a tree-house in order to spy on him - a process that ends up in friendship. Things take a turn for the worst when a builder  Bakshi  asks his assistant  Gupta  to cut the tree down. The children object but are told that this action has been approved by the local government. The question remains: What can the children do - especially when they face opposition from their parents  and that Bakshi has not only made a donation to their society but also has Raavan arrested - in the state of Maharashtra that has set a near dubious record of cutting over Eleven Lakh Thirty Thousand trees in a five year period (2002-2007).",
         "Children build a tree-house to spy on a beggar  than seek his help against a builder.",
         null,
         "Meghan Jadhav|Mithun Chakraborty|Riya Sen|Seema Biswas|Raj Zutshi|Sachin Khedekar|Gulshan Grover|Ashwin Chitale|Ayesha Kaduskar|Mahesh Manjrekar|Ritvik Tyagi|Hardik Thakkar|",
         null,
         null
        ],
        [
         "756",
         "Zokkomon",
         "tt1605790",
         "https://upload.wikimedia.org/wikipedia/en/thumb/c/c1/Zokkomon.jpg/220px-Zokkomon.jpg",
         "https://en.wikipedia.org/wiki/Zokkomon",
         "Zokkomon",
         "Zokkomon",
         "0",
         "2011",
         "109",
         "Action|Adventure",
         "4.0",
         "274",
         "After the passing of his parents in an accident  Dehradun-based Kunal continues to study in a prestigious school  but is asked to leave and live with his paternal uncle  Deshraj; his aunt  Rajrani  and a cousin brother. Upon arrival  he is given a lukewarm response  and enrolled in the village school where not only he but all children are beaten and abused by teachers  especially Shantaram. When authorities find that Deshraj has embezzled Rs.80 Lakhs  he decides to cash the investments left behind by Kunal's parents  but finds that he can only do so after Kunal's death. He takes Kunal miles away to the fair  abandons him  returns home and informs everyone that Kunal is dead  and subsequently takes charge of the investments. Kunal befriends a petty thief  Kittu  who lives in an unoccupied house and adjusts to this new lifestyle. But more changes are in store for him after Kittu gets arrested  and he decides to return home to his uncle. Once there  he is mistaken for a ghost and takes ...",
         "An orphan is abused and abandoned  believed to be dead  and upon his return is first feared as a ghost  and then projected as a superhero.",
         "Betrayal. Friendship. Bravery.",
         "Darsheel Safary|Anupam Kher|Manjari Fadnnis|Tinnu Anand|Sheeba Chaddha|S.M. Zaheer|Aayam Mehta|Gargi Datar|Jai Vyas|Parth Muni|",
         null,
         "22 April 2011 (India)"
        ],
        [
         "670",
         "Zindagi Tere Naam",
         "tt2164702",
         "https://upload.wikimedia.org/wikipedia/en/thumb/e/e9/Zindagi_Tere_Naam.jpg/220px-Zindagi_Tere_Naam.jpg",
         "https://en.wikipedia.org/wiki/Zindagi_Tere_Naam",
         "Zindagi Tere Naam",
         "Zindagi Tere Naam",
         "0",
         "2012",
         "120",
         "Romance",
         "4.7",
         "27",
         "Mr. Singh  an elderly gentleman  relates to his wife  whose memory is fading  the story of two lovers. In the story  the lovers face great difficulties but eventually emerge victorious.",
         "Mr. Singh  an elderly gentleman  relates to his wife  whose memory is fading  the story of two lovers. In the story  the lovers face great difficulties but eventually emerge victorious.",
         null,
         "Mithun Chakraborty|Ranjeeta Kaur|Priyanka Mehta|Ashish Sharma|Aseem Ali Khan|",
         "1 win",
         "16 March 2012 (India)"
        ],
        [
         "778",
         "Zindagi Na Milegi Dobara",
         "tt1562872",
         "https://upload.wikimedia.org/wikipedia/en/thumb/1/17/Zindagi_Na_Milegi_Dobara.jpg/220px-Zindagi_Na_Milegi_Dobara.jpg",
         "https://en.wikipedia.org/wiki/Zindagi_Na_Milegi_Dobara",
         "Zindagi Na Milegi Dobara",
         "Zindagi Na Milegi Dobara",
         "0",
         "2011",
         "155",
         "Comedy|Drama",
         "8.1",
         "60826",
         "Three friends decide to turn their fantasy vacation into reality after one of their friends gets engaged.",
         "Three friends decide to turn their fantasy vacation into reality after one of their friends gets engaged.",
         null,
         "Hrithik Roshan|Farhan Akhtar|Abhay Deol|Katrina Kaif|Kalki Koechlin|Ariadna Cabrol|Naseeruddin Shah|Deepti Naval|Surpreet Bedi|Anisa Butt|Juan Jose Amador|Aashrita Kamath|Lolo Herrero|Barbara Holzer|",
         "30 wins & 22 nominations",
         "15 July 2011 (India)"
        ],
        [
         "1564",
         "Zindagi Khoobsoorat Hai",
         "tt0340464",
         null,
         "https://en.wikipedia.org/wiki/Zindagi_Khoobsoorat_Hai",
         "Zindagi Khoobsoorat Hai",
         "Zindagi Khoobsoorat Hai",
         "0",
         "2002",
         "\\N",
         "Drama|Family",
         "5.8",
         "46",
         "Murad Hussein and Gul Baloch have been enemies for years. Murad would like to propose a truce so that the two families become friends again  and for this occasion he has chosen to marry his brother to Gul's sister. The wedding is arranged and Gul and his family are accordingly invited. Gul does attend the wedding  bless the couple  and when night came  he and his accomplices brutally kill every male in the household  including his very own brother-in-law. Gul's sister loses her sanity  and is taken back home  where he lives with his daughter  Jameela. Gul's sister gives birth to a baby boy  Yusuf Zayed. Years later  Jameela has grown up  albeit disabled with a thinking of a one year old in the body of a nine year old. She is fascinated by aspiring Bollywood singer  Amar  and Gul abducts him and makes him Jameela's companion. In the meantime  Yusuf finds out that his mother has been feigning mental illness  and is able to recollect everything that happened on her wedding night. She ...",
         "Murad Hussein and Gul Baloch have been enemies for years. Murad would like to propose a truce so that the two families become friends again  and for this occasion he has chosen to marry his...                    ",
         null,
         "Gurdas Maan|Tabu|Ashish Vidyarthi|Rajit Kapoor|Divya Dutta|Akash Khurana|",
         "1 win",
         null
        ],
        [
         "602",
         "Zindagi 50-50",
         "tt2929840",
         "https://upload.wikimedia.org/wikipedia/en/thumb/c/c0/Zindagi50-50_new.jpg/220px-Zindagi50-50_new.jpg",
         "https://en.wikipedia.org/wiki/Zindagi_50-50",
         "Zindagi 50 50",
         "Zindagi 50 50",
         "0",
         "2013",
         "130",
         "Comedy|Drama",
         "2.7",
         "208",
         "Zindagi 50-50 revolves around three different stories . Zindagi means Life - Sometimes it's fun  and sometimes it's a curse - but it's just a point of view. People prays to god for happiness  so that they can enjoy their life. But the God says that he had already given a life to them  to enjoy all the happiness. It has been said that  the way you asks question to your life  it answers you in the same manner. \"Zindagi 50:50\" is the same story of such question and answers - It's a story of Rupa (A Housewife)  Madhuri (Prostitute_ and Nainja (A Struggling Actress). Rupa's husband  Birju (Auto Driver) has a dream of getting a house. To fulfill his dream  Rupa breaks all the limits of her life. To complete her dream of house  CR Lele (Government Servant) pushes her in a dark side of her life  where she gets the house  but also gets a smirch on her respect. Zindagi 50:50 is a story of special dreams of a common man. And to fulfill those dreams  he has to struggle a lot  but sometimes they ...",
         "Zindagi 50-50 revolves around three different stories . Zindagi means Life - Sometimes it's fun  and sometimes it's a curse - but it's just a point of view. People prays to god for ...                    ",
         "Rules of life are made to be broken.",
         "Veena Malik|Riya Sen|Rajan Verma|Arya Babbar|Supriya Kumari|Rajpal Yadav|",
         null,
         "24 May 2013 (India)"
        ],
        [
         "1214",
         "Zindaggi Rocks",
         "tt0823261",
         "https://upload.wikimedia.org/wikipedia/en/thumb/c/c3/Zindaggirocks.jpg/220px-Zindaggirocks.jpg",
         "https://en.wikipedia.org/wiki/Zindaggi_Rocks",
         "Zindaggi Rocks",
         "Zindaggi Rocks",
         "0",
         "2006",
         "\\N",
         "Drama|Romance",
         "4.0",
         "227",
         "During an outing Dr. Suraj Rihan  who is married to Shivani  is summoned by DCP Gazala Qadri who wants to question him about the sudden death of his girlfriend/singing diva  Kriya Sengupta. Through flashbacks Suraj attempts to clarify how he got involved with Kriya and her family  and how his involvement led to her sudden and questionable death.",
         "During an outing Dr. Suraj Rihan  who is married to Shivani  is summoned by DCP Gazala Qadri who wants to question him about the sudden death of his girlfriend/singing diva  Kriya Sengupta....                    ",
         null,
         "Sushmita Sen|Shiney Ahuja|Julian Burkhardt|Ravi Gossain|Gargi Patel|Moushumi Chatterjee|Seema Biswas|Kim Sharma|",
         null,
         null
        ],
        [
         "1224",
         "Zinda (film)",
         "tt0488906",
         "https://upload.wikimedia.org/wikipedia/en/thumb/4/44/Zindamovieposter.jpg/220px-Zindamovieposter.jpg",
         "https://en.wikipedia.org/wiki/Zinda_(film)",
         "Zinda",
         "Zinda",
         "0",
         "2006",
         "116",
         "Action|Drama|Mystery",
         "5.0",
         "3017",
         "Unkempt and unruly-looking  Balajit Roy (Sanjay Dutt)  gets released from a room in Bangkok that he had been forcibly confined to. Reflecting on his life as a Software Engineer; his first wedding anniversary with his expectant wife  Nisha (Celina Jaitley); his friend  Joy Fernandes (Mahesh Manjrekar); and his house by the jetty. It is here that an unknown male shoots a tranquilizing dart  and he wakes up in a dark cell  is fed fried Won Tons twice a day  and has a TV set for company. He watches the world news - Nisha's murder with him as the prime suspect; the events of September 11  2001; the devastating 2004 Tsunami; and the fall of Saddam Hussein. Valium gas is injected into the cell  he is rendered unconscious  taken out  groomed  while the cell is cleaned. This becomes a routine in his life  and then after 14 years he is let out. With the help of a savvy  street-smart taxi-driver  Jenny Singh Sarji  and Joy  he sets out to locate the person(s) responsible for his confinement  and...",
         "A man  taken and locked up for 14 years without any sane reason  is suddenly released  and has 4 days to figure out why this was done to him.",
         "One good act of vengeance.... deserves another",
         "Sanjay Dutt|John Abraham|Lara Dutta|Celina Jaitly|Mahesh Manjrekar|Raj Zutshi|Alisha Baig|Nitin Raghani|Aditya Siddhu|Rushita Singh|Rahhull Dosani|Chirag|Gaurav Chanana|",
         "2 nominations",
         "12 January 2006 (India)"
        ],
        [
         "580",
         "Zila Ghaziabad",
         "tt2171454",
         "https://upload.wikimedia.org/wikipedia/en/thumb/9/9e/Zilla_Ghaziabad.jpg/220px-Zilla_Ghaziabad.jpg",
         "https://en.wikipedia.org/wiki/Zilla_Ghaziabad",
         "Zila Ghaziabad",
         "Zila Ghaziabad",
         "0",
         "2013",
         "142",
         "Action|Crime|Thriller",
         "3.5",
         "1187",
         "In the city of Ghaziabad  gang war breaks between two rival groups led by Satbir Singh and Fauji. Thakur Pritam Singh  a corrupt police officer  is transferred to the city to handle the situation.",
         "In the city of Ghaziabad  gang war breaks between two rival groups led by Satbir Singh and Fauji. Thakur Pritam Singh  a corrupt police officer  is transferred to the city to handle the situation.",
         null,
         "Vivek Oberoi|Sanjay Dutt|Arshad Warsi|Paresh Rawal|Ravi Kishan|Ashutosh Rana|Minissha Lamba|Divya Dutta|Sunil Grover|Charmy Kaur|Ashutosh Kaushik|Eijaz Khan|Anil Nagrath|Shriya Saran|",
         null,
         "22 February 2013 (India)"
        ],
        [
         "560",
         "Zid (2014 film)",
         "tt4228746",
         "https://upload.wikimedia.org/wikipedia/en/thumb/7/7b/Zid_poster.jpg/220px-Zid_poster.jpg",
         "https://en.wikipedia.org/wiki/Zid_(2014_film)",
         "Zid",
         "Zid",
         "0",
         "2014",
         "126",
         "Crime|Thriller",
         "4.4",
         "929",
         "A journalist  who is still in love with his ex-girlfriend  becomes the obsession of his landlord's daughter.",
         "A journalist  who is still in love with his ex-girlfriend  becomes the obsession of his landlord's daughter.",
         "Come Play With Fire!",
         "Mannara Chopra|Karanvir Sharma|Shradha Das|Denzil Smith|Seerat Kapoor|Mohan Kapoor|",
         "1 win & 1 nomination",
         "28 November 2014 (India)"
        ],
        [
         "157",
         "Zero (2018 film)",
         "tt6527426",
         "https://upload.wikimedia.org/wikipedia/en/thumb/e/e6/Zero_official_poster.jpg/220px-Zero_official_poster.jpg",
         "https://en.wikipedia.org/wiki/Zero_(2018_film)",
         "Zero",
         "Zero",
         "0",
         "2018",
         "164",
         "Comedy|Drama|Romance",
         "5.5",
         "21456",
         "The story revolves around Bauua Singh (Shah Rukh Khan)  a vertically challenged man  who is full of charm and wit  with a pinch of arrogance. Born to a wealthy family and raised in an environment of affluence and indulgence  Bauua was never failed by Meerut or its people. But when he meets two women (Katrina Kaif  Anushka Sharma)  his experiences with these women take him on a journey to complete his 'incompleteness' and broaden his horizons to find a purpose he never knew he had.",
         "The story revolves around Bauua Singh (Shah Rukh Khan)  a vertically challenged man  who is full of charm and wit  with a pinch of arrogance. Born to a wealthy family and raised in an environment of affluence  he is challenged to broaden his horizon and find purpose in life.",
         null,
         "Shah Rukh Khan|Anushka Sharma|Katrina Kaif|Mohammed Zeeshan Ayyub|Abhay Deol|Madhavan|",
         "4 wins & 10 nominations",
         "21 December 2018 (USA)"
        ],
        [
         "1312",
         "Zeher",
         "tt0451983",
         "https://upload.wikimedia.org/wikipedia/en/c/ce/Zeher_2005_film_poster.jpg",
         "https://en.wikipedia.org/wiki/Zeher",
         "Zeher",
         "Zeher",
         "0",
         "2005",
         "132",
         "Crime|Drama|Mystery",
         "5.4",
         "1717",
         "Police Inspector Sonia Mehra is married to her subordinate Siddharth  and both are employed by the Goa Police Force. They share a fairly harmonious relationship. Then one day  a woman named Anna Verghese goes missing and is believed dead. To add to this mystery  there is also the question of a suitcase full of cash that is also missing. Sonia assumes charge of this investigation - and the deeper she probes the more sure she is that Siddharth is also somehow involved with both Anna and the missing cash. What she does not know that Siddharth was having an affair with Anna  and is also responsible for stealing the cash. Watch as events unfold that will eventually lead to the two confronting these issues  and how it will affect their marriage.",
         "Siddharth and Sonia are happily married to each other until Anna walks into Siddharth's life. Things takes a worst turn  when Anna gets killed and Siddharth finds himself in deep trouble.",
         "A love story",
         "Emraan Hashmi|Shamita Shetty|Udita Goswami|Sameer Kochhar|",
         "3 nominations",
         "25 March 2005 (India)"
        ],
        [
         "559",
         "Zed Plus",
         "tt4190220",
         null,
         "https://en.wikipedia.org/wiki/Zed_Plus",
         "Zed Plus",
         "Zed Plus",
         "0",
         "2014",
         "141",
         "Comedy",
         "6.5",
         "336",
         "A political satire involving a small town in Rajasthan  where the local government is on the verge of collapsing due to factors such as corruption.",
         "A political satire involving a small town in Rajasthan  where the local government is on the verge of collapsing due to factors such as corruption.",
         null,
         "Vinod Acharya|Adil Hussain|Ravi Jhankal|Ekavali Khanna|Kulbhushan Kharbanda|Sanjay Mishra|K.K. Raina|Anil Rastogi|Mona Singh|Rahul Singh|Shivani Tanksale|Mukesh Tiwari|Tushar Upreti|",
         null,
         "28 November 2014 (India)"
        ],
        [
         "1315",
         "Zameer: The Fire Within",
         "tt0449447",
         "https://upload.wikimedia.org/wikipedia/en/thumb/6/6b/Zameer_-_The_Fire_Within_film_poster.jpg/220px-Zameer_-_The_Fire_Within_film_poster.jpg",
         "https://en.wikipedia.org/wiki/Zameer:_The_Fire_Within",
         "Zameer",
         "Zameer",
         "0",
         "2005",
         "137",
         "Drama|Romance",
         "2.9",
         "293",
         "Wealthy widower Deepraj Khanna lives a comfortable lifestyle in India with his only child  a daughter by the name of Pooja  who always gets what she wants. When she enrolls in an all-girls college  she feasts her eyes on a young Lecturer by the name of Suraj Chauhan  and wants him all for herself. She gets all the more determined when he outrightly rejects  and even humiliates her publicly. She is devastated when she finds out that he has given his heart to an invalid former dancer  Supriya Maheshwari  who is convalescing after recovering from a paralytic stroke. Pooja thinks of the unfairness of life and confronts Supriya  who has a relapse  is again hospitalized and refuses to respond to any treatment  insisting that Suraj walk out of her life and marry Pooja. When Suraj finds that it is Supriya's last wish  he does marry Pooja  only to find out a few months later that it was Pooja who had caused Supriya's stroke. Suraj walks away from everyones lives  but he will return again five ...",
         "A spoiled brat gets married to her professor despite several challenges. Soon after  he learns that his wife was responsible for the separation of his former girlfriend and he leaves her  never to return.",
         "Obsession... Anger... Desire...",
         "Ajay Devgn|Ameesha Patel|Mahima Chaudhry|",
         null,
         "4 March 2005 (India)"
        ],
        [
         "1488",
         "Zameen (2003 film)",
         "tt0382385",
         "https://upload.wikimedia.org/wikipedia/en/6/60/Zameen_poster.jpg",
         "https://en.wikipedia.org/wiki/Zameen_(2003_film)",
         "Zameen",
         "Zameen",
         "0",
         "2003",
         "154",
         "Action|Adventure|Thriller",
         "5.3",
         "1324",
         "Islamic terrorists  backed by Pakistan  boldly attack the Indian Parliament building. The Indian army assigns this matter to Colonel Ranvir Singh Ranawat  who along with his men  apprehends and arrests the ring-leader Baba Zaheer Khan. The Colonel takes one of his subordinates  Jaideep Rai  to task as nine soldiers were killed due to his negligence  and asks him to resign. An Islamic terrorist group  Al-Tahit  recruits a group of men to try and spring Baba from prison  albeit in vain as their plans are thwarted by Jaideep  who is now the ACP in Mumbai. On the run from the Police  this group hijacks an Indian Airlines plane  en-route from Mumbai to Kathmandu  with Jaideep's wife  Nandini  an In-Flight Supervisor  on board. The plane  with 107 passengers and crew  is re-routed to Kazan in Pakistan Occupied Kashmir where they are met with more armed terrorists as well as the Pakistani army. Together they demand the release of Baba Zaheer in exchange for the lives of the passengers. The ...",
         "Colonel Ranvir and ACP Jaideep joins forces to fight against Pakistani terrorists  who hijacks an Indian airplane and demands to free their militant leader in return.",
         null,
         "Ajay Devgn|Abhishek Bachchan|Bipasha Basu|Mukesh Tiwari|Pankaj Dheer|Mohan Joshi|Manish Khanna|Amrita Arora|",
         "1 nomination",
         "26 September 2003 (India)"
        ],
        [
         "1035",
         "Yuvvraaj",
         "tt1105747",
         "https://upload.wikimedia.org/wikipedia/en/thumb/5/50/Yuvvraaj.jpg/220px-Yuvvraaj.jpg",
         "https://en.wikipedia.org/wiki/Yuvvraaj",
         "Yuvvraaj",
         "Yuvvraaj",
         "0",
         "2008",
         "151",
         "Comedy|Drama|Romance",
         "4.1",
         "3707",
         "Yogendra Yuvvraaj Singh lives a wealthy lifestyle along with 3 sons  Gyanesh - who is mentally unstable; Deven - a bully and slacker; and Danny - a Casanova. While he does tolerate Danny  he asks Deven to leave when the later assaults Gyanesh. Deven re-locates to Austria  meets with Anushka Banton  and both fall in love much to the chagrin of her dad  Dr. P.K. Banton  who wants her to wed  Daniel Mehta. When Yogendra suddenly passes away  Deven returns home to find that the household is run by his maternal uncle  Om Prakash  and his family. The family will soon find out through Advocate Sikander Mirza that the majority of the wealth and estate will be inherited by Gyanesh -leading to a conspiracy between both Deven and Danny - to try and befriend Gyanesh  and then compel him to share the estate equally between the three.",
         "Two estranged brothers must learn to work together to claim their rightful share of an inheritance left solely to their eldest sibling.",
         "Music binds love",
         "Salman Khan|Anil Kapoor|Zayed Khan|Mithun Chakraborty|Katrina Kaif|Boman Irani|Bhupinder Singh|Aushima Sawhney|Sulabha Arya|Aimee Maghera|Jaqueline Garewal|Shyam Mashalkar|Anjan Srivastav|Aparna Kumar|",
         "1 win & 1 nomination",
         "21 November 2008 (USA)"
        ],
        [
         "1322",
         "Yuva",
         "tt0382383",
         "https://upload.wikimedia.org/wikipedia/en/thumb/2/21/Yuva_%28movie_poster%29.jpg/220px-Yuva_%28movie_poster%29.jpg",
         "https://en.wikipedia.org/wiki/Yuva",
         "Yuva",
         "Yuva",
         "0",
         "2004",
         "161",
         "Action|Drama|Thriller",
         "7.4",
         "8045",
         "Michael (Ajay Devgan)   Arjun (Vivek Oberoi) and Lallan (Abhishek Bachchan) are three young men in Kolkata   with different ideals and objectives . Michael is an idealistic youth leader who dreams of a better India being created by the youth power . Arjun is a self-centered   opportunistic   easygoing fellow whose objective is to immigrate to a developed country and make big money . Lallan is a goon who works for Prosenjit Chatterjee (Om Puri)   an immoral politician . The lives of these three different people become intertwined following a murder attempt and an accident in broad daylight on the Hooghly bridge .",
         "Michael  Arjun and Lallan  three men from three different strata of society  cross paths one morning in Calcutta and change one another's lives forever.",
         null,
         "Ajay Devgn|Abhishek Bachchan|Rani Mukerji|Vivek Oberoi|Kareena Kapoor|Esha Deol|Om Puri|Sonu Sood|Anant Nag|Vijay Raaz|Loveleen Mishra|",
         "13 wins & 15 nominations",
         "22 May 2004 (India)"
        ],
        [
         "1212",
         "Yun Hota Toh Kya Hota",
         "tt0470614",
         "https://upload.wikimedia.org/wikipedia/en/thumb/7/70/Yun_Hota_Toh_Kya_Hota.jpg/220px-Yun_Hota_Toh_Kya_Hota.jpg",
         "https://en.wikipedia.org/wiki/Yun_Hota_Toh_Kya_Hota",
         "What If?",
         "Yun Hota Toh Kya Hota",
         "0",
         "2006",
         "115",
         "Drama",
         "6.7",
         "584",
         "The Visa papers have arrived for stock broker  Salim Rajabali  and he is scheduled to leave in less than a week. Then everything goes wrong when he and his brother  Javed  inadvertently implicate themselves in the murder of Deputy Commissioner of Police Paul  and Salim must flee immediately to the U.S. albeit with a heavy heart  after also being betrayed by his lover  Namrata. Following his departure the following too get ready to leave for the U.S.  Rajubhai Patel along with Payal  the daughter Tara V. Gandhi  who is now fated to live with an alcoholic husband and minor acting roles in Bollywood movies; Brilliant student Rahul Bhide who lives with his aged dad  in a dilapidated house  finds his future looking brighter when his dad passes away; Tilotamma Das who met and married Hemant Punj is now awaiting the arrival of her visa  when she finds she cannot take any more from her pushy mother-in-law. All of them try to reach America.",
         "The Visa papers have arrived for stock broker  Salim Rajabali  and he is scheduled to leave in less than a week. Then everything goes wrong when he and his brother  Javed  inadvertently ...                    ",
         null,
         "Paresh Rawal|Konkona Sen Sharma|Jimmy Sheirgill|Irrfan Khan|Ayesha Takia|Karan Khanna|Saroj Khan|Ratna Pathak Shah|Boman Irani|Imaaduddin Shah|Ravi Baswani|Razak Khan|Suhasini Mulay|Ankur Khanna|",
         null,
         "21 July 2006 (USA)"
        ],
        [
         "489",
         "Youngistaan",
         "tt3514330",
         "https://upload.wikimedia.org/wikipedia/en/thumb/8/83/Youngistaan.jpg/220px-Youngistaan.jpg",
         "https://en.wikipedia.org/wiki/Youngistaan",
         "Youngistaan",
         "Youngistaan",
         "0",
         "2014",
         "133",
         "Drama",
         "5.1",
         "1742",
         "Abhimanyu Kaul - a young  independent  Games Developer  living in Japan and the love of his life  Anwita Chauhan - a bubbly  passionate and full of life  summer intern. Their happy and content life faces the test of time  when blood ties and the pressure of being born into the first family of India tears a young Abhimanyu between his love for Anwita and a promise made to his dying father  the Prime Minister of India. Being a public figure  by reluctantly accepting to represent the governing party  much against his own wishes and at the cost of his private life  is a double-edged sword that Abhimanyu must walk on.",
         "Abhimanyu Kaul - a young  independent  Games Developer  living in Japan and the love of his life  Anwita Chauhan - a bubbly  passionate and full of life  summer intern. Their happy and ...                    ",
         null,
         "Jackky Bhagnani|Neha Sharma|Farooq Shaikh|Boman Irani|Kayoze Irani|Mita Vasisht|",
         "5 nominations",
         "28 March 2014 (India)"
        ],
        [
         "1625",
         "Yeh Zindagi Ka Safar",
         "tt0298607",
         "https://upload.wikimedia.org/wikipedia/en/thumb/2/21/Yeh_Zindagi_Ka_Safar.jpg/220px-Yeh_Zindagi_Ka_Safar.jpg",
         "https://en.wikipedia.org/wiki/Yeh_Zindagi_Ka_Safar",
         "Yeh Zindagi Ka Safar",
         "Yeh Zindagi Ka Safar",
         "0",
         "2001",
         "146",
         "Drama",
         "3.0",
         "133",
         "Hindi pop-star  Sarina Devan  lives a wealthy lifestyle with her widowed businessman father  Vivek. She soon achieves considerable success and becomes immensely popular. A struggling newspaper  Adarsh Times  publishes a story about her being born in an orphanage  which is received with shock and surprise by Vivek  and he instructs his lawyers to file a defamation suit against the owner  known as Dada  and a Journalist  Jay Bhardwaj. Dada and Jay are apologetic  however  Sarina finds out that she is not Vivek's biological daughter  and sets forth to find her parentage. She enlists Jay's assistant and they travel to Ooty where they meet with a Catholic Priest  Joseph  who refuses to divulge any information to them. Then she meets with a Nun  Sister Namrata  and subsequently finds out that she is indeed her biological mother. Expecting to be welcomed into her arms  she is shocked when Namrata outright rejects her  and tells her to return to back to her life with Vivek. But Sarina ...",
         "A singer finds out she was adopted when the editor of a struggling tabloid publishes the story.",
         null,
         "Ameesha Patel|Jimmy Sheirgill|Nafisa Ali|Gulshan Grover|Ehsan Khan|",
         null,
         "16 November 2001 (India)"
        ],
        [
         "1622",
         "Yeh Teraa Ghar Yeh Meraa Ghar",
         "tt0298606",
         "https://upload.wikimedia.org/wikipedia/en/thumb/9/9f/Yeh_Teraa_Ghar_Yeh_Meraa_Ghar_2001_film_poster.jpg/220px-Yeh_Teraa_Ghar_Yeh_Meraa_Ghar_2001_film_poster.jpg",
         "https://en.wikipedia.org/wiki/Yeh_Teraa_Ghar_Yeh_Meraa_Ghar",
         "Yeh Teraa Ghar Yeh Meraa Ghar",
         "Yeh Teraa Ghar Yeh Meraa Ghar",
         "0",
         "2001",
         "175",
         "Comedy|Drama",
         "5.7",
         "704",
         "In debt; Dayashankar Pandey is forced to go to Bombay to ask his tenants to vacate his house as it is his only means of acquiring money to pay off his loans. But the problem is these people refuse to move forcing Dayashankar to take matters into his own hands thus making it more difficult for the people to move as situations are in there favors.",
         "In debt; Dayashankar Pandey is forced to go to Bombay to ask his tenants to vacate his house as it is his only means of acquiring money to pay off his loans. But the problem is these people...                    ",
         null,
         "Sunil Shetty|Mahima Chaudhry|Paresh Rawal|Saurabh Shukla|Anjan Srivastav|Suhasini Mulay|Asrani|Master Aditi|Radhika Menon|Usha Nadkarni|Nagma|Sanjay Narvekar|Neeraj Vora|",
         "1 nomination",
         "12 October 2001 (India)"
        ],
        [
         "73",
         "Yeh Saali Aashiqui",
         "tt10443846",
         "https://upload.wikimedia.org/wikipedia/en/thumb/4/47/Yeh_Saali_Aashiqui_film_poster.jpg/220px-Yeh_Saali_Aashiqui_film_poster.jpg",
         "https://en.wikipedia.org/wiki/Yeh_Saali_Aashiqui",
         "Yeh Saali Aashiqui",
         "Yeh Saali Aashiqui",
         "0",
         "2019",
         "137",
         "Thriller",
         "7.9",
         "3200",
         null,
         "Add a Plot »",
         null,
         "Vardhan Puri|Jessey Lever|",
         null,
         null
        ],
        [
         "1620",
         "Yeh Raaste Hain Pyaar Ke",
         "tt0292740",
         "https://upload.wikimedia.org/wikipedia/en/thumb/3/3f/Yehraaste.jpg/220px-Yehraaste.jpg",
         "https://en.wikipedia.org/wiki/Yeh_Raaste_Hain_Pyaar_Ke",
         "Yeh Raaste Hain Pyaar Ke",
         "Yeh Raaste Hain Pyaar Ke",
         "0",
         "2001",
         "149",
         "Drama|Romance",
         "4.0",
         "607",
         "Two con artistes and car thieves  Vicky (Ajay Devgan) and Sakshi (Preity Zintar) run afoul of Bhanwarlal (Deep Dhillon) and his mob  when they accidentally kill his brother. Bhanwarlal and his other brother (Mayur) both swear to avenge the death of their brother and mistakenly kill Rohit Verma (also Ajay Devgan)  who is a look-alike of Vicky. Sakshi thinks that her love is dead and is devastated. Unknown to Sakshi and Bhanwarlal  Vicky is still alive and has taken the place of Rohit  fooling Rohit's dad  Pratap Verma (Vikram Gokhale); Rohit's wife  Neha (Madhuri Dixit)  little knowing that Pratap Verma already knows that Rohit is dead  but for some strange and mysterious reason permits Vicky to continue with the impersonation.",
         "Two con artistes and car thieves  Vicky (Ajay Devgan) and Sakshi (Preity Zintar) run afoul of Bhanwarlal (Deep Dhillon) and his mob  when they accidentally kill his brother. Bhanwarlal and ...                    ",
         "Love is a journey... not a destination",
         "Ajay Devgn|Madhuri Dixit|Preity Zinta|Vikram Gokhale|Deep Dhillon|Smita Jaykar|Sunny Deol|Kiran Kumar|Rajeev Verma|Jayshree T.|Asha Sharma|Lalit Tiwari|Shammi|Mayur Verma|",
         null,
         "10 August 2001 (India)"
        ],
        [
         "1560",
         "Yeh Mohabbat Hai",
         "tt0309087",
         null,
         "https://en.wikipedia.org/wiki/Yeh_Mohabbat_Hai",
         "Yeh Mohabbat Hai",
         "Yeh Mohabbat Hai",
         "0",
         "2002",
         "\\N",
         "Action|Romance",
         "5.2",
         "60",
         "This story revolves around two lovebirds Chand and Shaheen. There appear to be no complications to the lovebirds marriage  however  Chand is asked to gather together a team to play cricket. Chand's naivety is taken advantage of by a group of terrorists  and ultimately Chand becomes involved with terrorists group  and Police Inspector Chauthe (Sadashiv Amrapurkar) claims that he has sufficient evidence to convict Chand. Shaheen believes Chand is innocent  and sets out to prove his innocence.",
         "This story revolves around two lovebirds Chand and Shaheen. There appear to be no complications to the lovebirds marriage  however  Chand is asked to gather together a team to play cricket....                    ",
         "They fell in love forever...",
         "Akanksha Malhotra|Rahul Bhat|Nasirr Khan|Pinky Campbell|Danny Denzongpa|Parikshat Sahni|Shakti Kapoor|Mohnish Bahl|Gulshan Grover|Johnny Lever|Rakesh Bedi|Anjana Mumtaz|Dolly Bindra|Arbaaz Khan|",
         null,
         null
        ],
        [
         "948",
         "Yeh Mera India",
         "tt1002963",
         null,
         "https://en.wikipedia.org/wiki/Yeh_Mera_India",
         "Y.M.I. Yeh Mera India",
         "Y.M.I. Yeh Mera India",
         "0",
         "2008",
         "137",
         "Crime|Drama|Thriller",
         "7.8",
         "871",
         "Mumbai 11th July: Sameer Ali reads a verse from the Bhagvad Geeta to a dying hospitalized benevolent Hindu Pandit who had brought him after the passing of his Islamic parents; Looking for employment on an empty stomach  Bhola Paswan finds Biharis are hated and shunned; Gangster Ashfaq asks Noor Ahmed Khan  who  in turn  recruits former Naxalite Raja Shetty  to assassinate womanizing Builder Arun Talreja; An upper-caste Hindu politician  Shripad Shinde  forbids his son  Nachiket  to marry Asha Ambedkar  as she belongs to a lower Caste; Rendered homeless  Inspector Chandrakant Shinde is on the look-out for a stolen vehicle  and hates Biharis for taking over his house; TV Producer  Jennifer Ali  is attacked by Ashfaq during a party; Lower-caste Asha is stalked and molested by right-winged upper-caste Hindus; After being robbed and accused of stealing clothes  Sharada Bai prepares to attack her two-faced employer  Sushma Talreja; Caught in a traffic jam  Judge Ayyar is anxious to visit ...",
         "Lives of several people intertwine during an eventful day in Mumbai.",
         "Behind Every Bad News... There Is Good News...",
         "Anupam Kher|Atul Kulkarni|Milind Gunaji|Aakash Pandey|Parvin Dabas|Perizaad Zorabian|Rajit Kapoor|Purab Kohli|Rajpal Yadav|Sarika|Sayaji Shinde|Seema Biswas|Smiley Suri|Vijay Raaz|",
         "1 nomination",
         "28 August 2009 (India)"
        ],
        [
         "1390",
         "Yeh Lamhe Judaai Ke",
         "tt0385351",
         "https://upload.wikimedia.org/wikipedia/en/thumb/a/a3/Yeh_Lamhe_Judaai_Ke.jpg/220px-Yeh_Lamhe_Judaai_Ke.jpg",
         "https://en.wikipedia.org/wiki/Yeh_Lamhe_Judaai_Ke",
         "Yeh Lamhe Judaai Ke",
         "Yeh Lamhe Judaai Ke",
         "0",
         "2004",
         "135",
         "Drama|Mystery|Romance",
         "3.8",
         "1519",
         "Dushyant and Jaya are childhood friends. In spite of his family's poverty  Dushyant has one great ambition in life: to become a successful singer. Jaya encourages him all she can and helps him to realize his dreams. But when Dushyant finally obtains the recognition he has craved for  his career becomes all-important to him. Will the relationship shatters under the strain of his newfound celebrity status?",
         "Dushyant and Jaya are childhood friends. In spite of his family's poverty  Dushyant has one great ambition in life: to become a successful singer. Jaya encourages him all she can and helps ...                    ",
         "Love. . .Success. . .Betrayal. . .Murder. . .Who is the Killer?",
         "Shah Rukh Khan|Raveena Tandon|Navneet Nishan|Avtar Gill|",
         null,
         "9 April 2004 (India)"
        ],
        [
         "1566",
         "Yeh Kya Ho Raha Hai?",
         "tt0338566",
         "https://upload.wikimedia.org/wikipedia/en/5/59/Yeh_Kya_Ho_Raha_Hai%3F_poster.jpg",
         "https://en.wikipedia.org/wiki/Yeh_Kya_Ho_Raha_Hai%3F",
         "Yeh Kya Ho Raha Hai?",
         "Yeh Kya Ho Raha Hai?",
         "0",
         "2002",
         "\\N",
         "Comedy|Romance",
         "4.8",
         "217",
         "Four young men enter college in order to study and make careers for themselves. They develope a friendship for each other. The four also meet various young ladies  and romance them throughout their semester. The question remains will they be able to follow through with love lives after this term  and will they also get passing grades at the same time?",
         "Four young men enter college in order to study and make careers for themselves. They develope a friendship for each other. The four also meet various young ladies  and romance them ...                    ",
         null,
         "Prashant Chianani|Aamir Ali Malik|Vaibhav Jhalani|Yash Pandit|Deepti Daryanani|Payal Rohatgi|Samita Bangargi|Paakhi A. Tyrewala|Tarun Anand|Gajraj Rao|",
         null,
         "11 October 2002 (India)"
        ],
        [
         "691",
         "Yeh Khula Aasmaan",
         "tt2402745",
         "https://upload.wikimedia.org/wikipedia/en/thumb/b/b4/Yeh_Khula_Aasmaan.jpg/220px-Yeh_Khula_Aasmaan.jpg",
         "https://en.wikipedia.org/wiki/Yeh_Khula_Aasmaan",
         "Yeh Khula Aasmaan",
         "Yeh Khula Aasmaan",
         "0",
         "2012",
         "\\N",
         "Family",
         "6.9",
         "24",
         "Yeh Khula Aasmaan revolves around Avinash  an intelligent young boy who is going through a very demanding and challenging phase of his life. He has to cope with the pressures of academic failure  not living up to his parents' expectations and the isolation of his parents living thousands of miles away. He then turns to his grandfather  a star Kite Runner  who helps Avinash learn to cope with this tough time in his life through life lessons during kite flying sessions. Avinash forges new friendships and rediscovers the love of family in this relationship based film.",
         "Traces the journey of a young IIT aspirant as he copes with academic failures and is surprised to discover inspiration in a most unexpected place. Inspired by a true story.",
         null,
         "Anya Anand|Manjusha Godse|Nitin Kerur|Kishor Nadalskar|Gulshan Pandey|Yashpal Sharma|Aditya Siddhu|Raj Tandon|",
         null,
         null
        ],
        [
         "1559",
         "Yeh Kaisi Mohabbat",
         "tt0316911",
         null,
         "https://en.wikipedia.org/wiki/Yeh_Kaisi_Mohabbat",
         "Yeh Kaisi Mohabbat",
         "Yeh Kaisi Mohabbat",
         "0",
         "2002",
         "160",
         "Drama|Musical|Romance",
         "4.0",
         "29",
         "Yeh Kaisi Mohabbat (YKM) is a romantic thriller. It deals with a whole lot of fun  romance and suspense. It is story of an innocent boy Vicky. The plot involves an innocent poor boy  who is a happy go lucky  always trying to live a stylish life. He is always in search of a rich girl with a view to live a luxurious life with her money. He lives in a motor garage with his six friends. the friends always help him with his requirements. One of the friends is a dress designer and provides him the artist's clothes and imported cars are provided to him to enjoy life. The boy falls in love with a rich girl  Tina. He presents himself to be a rich boy  fool her and romance with her. He saves a rich man (Rahul Thakral) from the goons  who offers him a job. The boy gets a shock when he comes to know that the job involves spying Rahul's wife. He is again shocked to see the wife  she is Tina. He is confused. Priya is a glamorous woman and has high standards of living. She has an emotional bond with...",
         "Yeh Kaisi Mohabbat (YKM) is a romantic thriller. It deals with a whole lot of fun  romance and suspense. It is story of an innocent boy Vicky. The plot involves an innocent poor boy  who is...                    ",
         "A Musical Romantic Thriller",
         "Krishna Abhishek|Viveka Babajee|Sheeba Bhakri|Deeksha|Dinesh Hingoo|Javed Rizvi Jarehavi|Sharad S. Kapoor|Krishna|Johnny Lever|Mehmood Jr.|Mukesh Rishi|Anjan Srivastav|",
         null,
         "31 May 2002 (India)"
        ],
        [
         "603",
         "Yeh Jawaani Hai Deewani",
         "tt2178470",
         "https://upload.wikimedia.org/wikipedia/en/thumb/1/15/Yeh_jawani_hai_deewani.jpg/220px-Yeh_jawani_hai_deewani.jpg",
         "https://en.wikipedia.org/wiki/Yeh_Jawaani_Hai_Deewani",
         "Yeh Jawaani Hai Deewani",
         "Yeh Jawaani Hai Deewani",
         "0",
         "2013",
         "160",
         "Comedy|Drama|Musical",
         "7.1",
         "34952",
         "Yeh Jawaani Hai Deewani is the story of the relationship between two characters  Bunny (Ranbir Kapoor) & Naina (Deepika Padukone)  at two separate but defining times in their lives... first  when they are just out of college and standing on the crossroads of multiple decisions that will shape who and what they become... and then later on  in their late-twenties when they meet again  holding on to certain fulfilled and certain unfulfilled dreams  at a crossroads of another nature this time... how these two characters affect  change  befriend and eventually fall in love with each other is the journey the film aspires to take us on..",
         "Kabir and Naina bond during a trekking trip. Before Naina can express herself  Kabir leaves India to pursue his career. They meet again years later  but he still cherishes his dreams more than bonds.",
         null,
         "Ranbir Kapoor|Deepika Padukone|Aditya Roy Kapoor|Kalki Koechlin|Kunaal Roy Kapur|Madhuri Dixit|Farooq Shaikh|Aanoushka|Kamal Adib|Dolly Ahluwalia|Vinita Amar|Anisha|Tanvi Azmi|Priyanka Bose|",
         "24 wins & 90 nominations",
         "31 May 2013 (India)"
        ],
        [
         "1563",
         "Yeh Hai Jalwa",
         "tt0328671",
         "https://upload.wikimedia.org/wikipedia/en/thumb/f/f0/YehHaiJalwa.jpg/220px-YehHaiJalwa.jpg",
         "https://en.wikipedia.org/wiki/Yeh_Hai_Jalwa",
         "Yeh Hai Jalwa",
         "Yeh Hai Jalwa",
         "0",
         "2002",
         "165",
         "Comedy|Drama|Romance",
         "4.8",
         "1997",
         "Yeh Hai Jalwa is the story of happy-go-lucky Raju. Street-smart and worldly-wise  Raju's life takes a turn when he finds out he is the illegitimate son of seriously rich  UK-based businessman Rajesh Mittal. Raju of course sets off to London to claim his rightful place in the Mittal family and a happily married Rajesh Mittal living with wife  Smita and daughter  Rinkie is rudely confronted with a grown up illegitimate son. While Raju is busy trying to make a place for himself in his adamant father's heart  he also finds a soulmate in Sonia  the daughter of Mittal's most trusted advisor.",
         "Raj Saxena (Salman Khan) goes to London  expecting his long lost Dad (Rishi Kapoor) to warmly greet him. But things do not go as planned.",
         null,
         "Rishi Kapoor|Salman Khan|Ameesha Patel|Rati Agnihotri|Rinke Khanna|Anupam Kher|Kader Khan|Sharad S. Kapoor|Kiran Kumar|Shahbaaz Khan|Ajay Nagrath|Navin Nischol|Jaspal Bhatti|Gavin Packard|",
         null,
         "3 July 2002 (India)"
        ],
        [
         "34",
         "Yeh Hai India",
         "tt5525846",
         "https://upload.wikimedia.org/wikipedia/en/thumb/d/db/Yeh_Hai_India_Official_Poster.jpg/220px-Yeh_Hai_India_Official_Poster.jpg",
         "https://en.wikipedia.org/wiki/Yeh_Hai_India",
         "Yeh Hai India",
         "Yeh Hai India",
         "0",
         "2017",
         "128",
         "Action|Adventure|Drama",
         "5.7",
         "169",
         "Yeh Hai India  follows the story of a 25 years old NRI  who is born and brought up in U.K and shares the same stereotype views of India  which is known for its vast population  pollution and poverty. However protagonist finds new development in media or probably an 'other side of same coin' of India  which is also known for successful mars mission in first attempt  a nation which proudly holds title 'God of Cricket' for Sachin Tendulkar  who is again an Indian and a nation which is known for its holy generosity with icons like Mother Teresa\".",
         "Yeh Hai India  follows the story of a 25 years old NRI  who is born and brought up in UK. He shares the same stereotypical views about India that most NRIs have and how his perception changes.",
         "A Film for Every Indian",
         "Gavie Chahal|Mohan Agashe|Mohan Joshi|Lom Harsh|",
         "2 wins & 1 nomination",
         "24 May 2019 (India)"
        ],
        [
         "509",
         "Yeh Hai Bakrapur",
         "tt3524410",
         "https://upload.wikimedia.org/wikipedia/en/thumb/7/7e/Yeh_hai_Bakrapur.jpg/220px-Yeh_hai_Bakrapur.jpg",
         "https://en.wikipedia.org/wiki/Yeh_Hai_Bakrapur",
         "Yeh Hai Bakrapur",
         "Yeh Hai Bakrapur",
         "0",
         "2014",
         "95",
         "Comedy|Drama",
         "3.8",
         "240",
         "Set an against the backdrop of rural India this social satire dwells on the relationship between 8year old Zulfi Quereshi  his pet goat ShahRukh and the village barber(Anshuman Jha)",
         "Set an against the backdrop of rural India this social satire dwells on the relationship between 8year old Zulfi Quereshi  his pet goat ShahRukh and the village barber(Anshuman Jha)",
         null,
         "Anshuman Jha|Suruchi Aulakh|Asif Basra|Yoshika Verma|Faiz Khan|Shameem Khan|Utkarsh Mazumdar|",
         null,
         "9 May 2014 (India)"
        ],
        [
         "792",
         "Yeh Dooriyan",
         "tt1826051",
         "https://upload.wikimedia.org/wikipedia/en/9/98/Yeh_Dooriyan.jpg",
         "https://en.wikipedia.org/wiki/Yeh_Dooriyan",
         "Yeh Dooriyan",
         "Yeh Dooriyan",
         "0",
         "2011",
         "107",
         "Drama|Romance",
         "5.1",
         "68",
         "This is the story of a strong 35 year old beautiful and a famous choreographer divorced with two kids  living alone and is forced by her peers and family to remarry and find a father for her kids. She promises that she will marry any guy that loves her children as much as her.",
         "A divorced businesswoman with two children falls in love with a much younger man.",
         "Love after divorce......is it a crime?",
         "Deepshika Nagpal|Inder Kumar|Delnaaz Irani|Chitrashi Rawat|Kunickaa Sadanand|Achint Kaur|Rajesh Khera|Shishir Sharma|Anita Wahi|Ayub Khan|Baby Vidhir|Master Vivak|Kaishav Arora|",
         null,
         "26 August 2011 (India)"
        ],
        [
         "1558",
         "Yeh Dil Aashiqanaa",
         "tt0307682",
         null,
         "https://en.wikipedia.org/wiki/Yeh_Dil_Aashiqanaa",
         "Yeh Dil Aashiqanaa",
         "Yeh Dil Aashiqanaa",
         "0",
         "2002",
         "152",
         "Action|Romance",
         "4.3",
         "225",
         "Yeh Dil Ashiqana is the story of Karan and Pooja who are studying in the same college in Poona. They meet and fall in love and their romance progresses without any problems until one day while going to her brother's house in Mumbai. Pooja's flight is hijacked by a group of terrorists following the arrest of their leader Ashraf-UL-haq malik. Ironically this hijack has been engineered by Pooja's brother Vijay Varma who is league with the terrorist head Akhmash Jalal. Vijay is unaware of the fact that his beloved sister Pooja is on board the same flight. When he realizes this  he is unable to do anything as Akhmash forbids him from doing anything that would jeopardies their mission. Karan daringly risks his life and rescues Pooja and the other passengers thus making Akhmash and vijay his enemies. Akhmash is now out to kill Karan. Vijay refuses the marriage of Pooja and Karan. Pooja runs away with Karan; but they are followed and caught by Akhmash and his men and they are held captive in ...",
         "Yeh Dil Ashiqana is the story of Karan and Pooja who are studying in the same college in Poona. They meet and fall in love and their romance progresses without any problems until one day ...                    ",
         null,
         "Karan Nath|Jividha Sharma|Aruna Irani|Rajeev Verma|Mohan Azaad|Noopur|Smit Sheth|Raj Ahuja|Johnny Lever|Vishal|Nandita Mehra|Paresh|Yusuf Bawa|Vanashree Joshi|",
         null,
         null
        ],
        [
         "1485",
         "Yeh Dil",
         "tt0357328",
         null,
         "https://en.wikipedia.org/wiki/Yeh_Dil",
         "Yeh Dil",
         "Yeh Dil",
         "0",
         "2003",
         "147",
         "Drama|Romance",
         "3.9",
         "175",
         "A musical love story of Ravi and Vasundhara who study in the same college. Both are good friends until their friendship transforms into true love. Their urge of getting married is objected by both their families. After going through many obstacles they are successful in getting married with the help of their college principal and friends.",
         "A musical love story of Ravi and Vasundhara who study in the same college. Both are good friends until their friendship transforms into true love. Their urge of getting married is objected ...                    ",
         null,
         "Tusshar Kapoor|Anita Hassanandani Reddy|Chetana Das|Akhilendra Mishra|Sharat Saxena|Saurabh Shukla|Pratima Kazmi|",
         "1 nomination",
         "4 April 2003 (India)"
        ],
        [
         "1143",
         "Yatra (2007 film)",
         "tt0470611",
         "https://upload.wikimedia.org/wikipedia/en/thumb/7/77/Yatra-poster.jpg/220px-Yatra-poster.jpg",
         "https://en.wikipedia.org/wiki/Yatra_(2007_film)",
         "Yatra",
         "Yatra",
         "0",
         "2006",
         "129",
         "Drama",
         "6.3",
         "128",
         "Yatra is a journey of a person whose claim to fame is interrupted by his past which comes in the way of his present. Yatra comes across a strong subject that of a prostitute and its presence in the minds of the people. Dasrath Joglekar is a renowned writer on his way to Delhi to receive the prestigious Literary Award. On the way  he meets one of his ardent fans Nakul Vaid  who is a filmmaker by profession and is devoted to Dasrath's pieces of writings. They discuss about the novels that Dasrath has written and dig the past by striking a conversation about one of his famous novel's Janaza. Lajvanti is a prostitute and Janaza is all about her. After receiving the award  Dasrath moves on to explore the life of Lajvanti yet again. He starts for his hunt without informing anyone from his family. As far as Dasrath's memories go  Lajvanti used to perform mujras in Mehndi Galli. People from every part of the society used to assemble here to blow away their part of naughtiness. Time has ...",
         "Yatra is a journey of a person whose claim to fame is interrupted by his past which comes in the way of his present. Yatra comes across a strong subject that of a prostitute and its ...                    ",
         "A Journey To A Timeless Destination...",
         "Rekha|Nana Patekar|Deepti Naval|Nakul Vaid|Anandi Ghose|Romit Raaj|",
         "1 win & 1 nomination",
         "4 May 2007 (India)"
        ],
        [
         "126",
         "Yamla Pagla Deewana: Phir Se",
         "tt7609114",
         "https://upload.wikimedia.org/wikipedia/en/thumb/a/ac/Yamla_Pagla_Deewana_-_Phir_Se_-_2018_Movie_Poster.jpg/220px-Yamla_Pagla_Deewana_-_Phir_Se_-_2018_Movie_Poster.jpg",
         "https://en.wikipedia.org/wiki/Yamla_Pagla_Deewana:_Phir_Se",
         "Yamla Pagla Deewana Phir Se...",
         "Yamla Pagla Deewana Phir Se...",
         "0",
         "2018",
         "145",
         "Action|Comedy",
         "4.8",
         "887",
         "Inheriting from the ancestors  the legacy of the Ayurveda panacea 'Vajrakavach'  a famed and effective remedy for all ills  the brother duo Pooran and Kaala use the kavach with varied intentions. While Pooran who is good-hearted puts in use his heritage to help people  Kaala looks out for his interest in money. Parmar  an erstwhile Casanova and a colorful character who is also a sharp and intelligent lawyer of repute  is the paying guest in the brothers' house. He is a thorn in Kaala's side  as he is paying the same rent for 35 years  that is of 125 rupees. Adding to the Punjabi mix  Chikoo is a pretty Gujarati girl  who steals Kaala's heart and brings a sinister twist to the tale.",
         "An upright Ayurveda practitioner is hounded by big pharmacy giants for his age-old formula that cures everything.",
         null,
         "Dharmendra|Sunny Deol|Bobby Deol|Kriti Kharbanda|Asrani|Satish Kaushik|Binnu Dhillon|",
         null,
         "31 August 2018 (USA)"
        ],
        [
         "737",
         "Yamla Pagla Deewana",
         "tt1773109",
         "https://upload.wikimedia.org/wikipedia/en/thumb/3/33/Yamla_Pagla_Deewana.jpg/220px-Yamla_Pagla_Deewana.jpg",
         "https://en.wikipedia.org/wiki/Yamla_Pagla_Deewana",
         "Yamla Pagla Deewana",
         "Yamla Pagla Deewana",
         "0",
         "2011",
         "163",
         "Action|Comedy|Drama",
         "5.6",
         "3739",
         "The film begins in Canada  travels to Banaras and eventually makes its way to Punjab. The Father Son duo of Dharam Singh and Gajodhar Singh (Dharmendra and Bobby Deol) are the biggest conmen in Banaras. Their happy go lucky existence involves drinking and pulling off hilarious cons on unsuspecting people. The only hitch in their perfect albeit notorious life arrives in the form of Paramveer Singh Dhillon (Sunny Deol). A brawny and honest NRI from Vancover  Paramveer lands up in Banaras claiming to be Gajodhar's elder brother separated at childhood. The duo willingly accepts Paramveer into their fold only to exploit his muscle power to serve their con games. Meanwhile Gajodhar falls in love with Saheba (Kulraj Randhawa)  a beautiful Sardarni from Punjab. As their romance reaches its peak  her brothers arrive and forcibly take her away. Paramveer saves the day with a crazy plan to win the girl back for Gajodhar which leads them to the rustic heartlands of Punjab. What follows is a ...",
         "A married Canadian travels to India to re-unite with his estranged father and brother but faces obstacles and challenges.",
         null,
         "Nafisa Ali|Yugesh Anil|Madhuri Bhattacharya|Emma Brown Garett|Mahek Chahal|Bobby Deol|Sunny Deol|Mukul Dev|Ajay Devgn|Dharmendra|Puneet Issar|Sucheta Khanna|Anupam Kher|Johnny Lever|",
         null,
         "14 January 2011 (India)"
        ],
        [
         "1311",
         "Yakeen (2005 film)",
         "tt0453978",
         "https://upload.wikimedia.org/wikipedia/en/0/0d/Yakeen2005.jpg",
         "https://en.wikipedia.org/wiki/Yakeen_(2005_film)",
         "Yakeen",
         "Yakeen",
         "0",
         "2005",
         "116",
         "Drama|Thriller",
         "5.1",
         "651",
         "The film begins with the recovery of Simar (Priyanka Chopra) and her husband Nikhil (Arjun Rampal) from a car accident. Simar is almost unscratched but Nikhil not only has major internal and external damage  but he also has amnesia. Simar is determined that Nikhil will get better and resume his life  and immediately begins by bringing in the best surgeons to reconstruct his damaged leg and face  and then later helping him with the hospital therapy. Although Nikhil is at first cautious and wary  Simar's obvious love and dedication wins him over. After six months of therapy he's released from the hospital and the couple return home. Simar insists that Nikhil continue with his life and encourages him to go back to work  though beforehand she warns him that there are both good and bad people all around  and it's up to him to decide whom to trust. Once Nikhil meets up with his old friends and goes through his personal files  he finds evidence that all was not well in his previous life. Now...",
         "Left with amnesia after a car accident  a man (Arjun Rampal) believes his wife (Priyanka Chopra) is having an affair.",
         null,
         "Arjun Rampal|Priyanka Chopra|Kim Sharma|Sudhanshu Pandey|Saurabh Shukla|Anang Desai|Atul Parchure|",
         null,
         "1 July 2005 (India)"
        ],
        [
         "216",
         "Yadvi – The Dignified Princess",
         "tt4910010",
         "https://upload.wikimedia.org/wikipedia/en/thumb/1/16/Poster_of_Yadvi_The_Dignified_Princess.jpg/220px-Poster_of_Yadvi_The_Dignified_Princess.jpg",
         "https://en.wikipedia.org/wiki/Yadvi_%E2%80%93_The_Dignified_Princess",
         "YADVI: The Dignified Princess",
         "YADVI: The Dignified Princess",
         "0",
         "2017",
         "107",
         "Biography|Drama|History",
         "8.2",
         "28",
         "Based on True Story of a Princess in India. Her journey of strength and courage and living with Dignity  at times where women hardly had any freedom.",
         "Based on True Story of a Princess in India. Her journey of strength and courage and living with Dignity  at times where women hardly had any freedom.",
         "An inspiring telling of family's heritage that casts a light on 20th century Indian royalty Oaxaca FilmFest",
         "Prisha Aneja|Vinti Aneja|Marianne Borgo|Rachel Burnell|Aisha Choudhary|Mukesh Choudhary|Urmila Choudhary|Reshma D'Souza|Diksha Garg|Rahul Godara|Kuvam Handa|Yadvi Handa|Siraj Huda|Adi Singh Jalalpur|",
         "4 wins & 3 nominations",
         "25 August 2017 (India)"
        ],
        [
         "60",
         "Yaaram (2019 film)",
         "tt11007050",
         "https://upload.wikimedia.org/wikipedia/en/thumb/8/8e/Yaaram_film_poster.jpg/220px-Yaaram_film_poster.jpg",
         "https://en.wikipedia.org/wiki/Yaaram_(2019_film)",
         "#Yaaram",
         "#Yaaram",
         "0",
         "2019",
         "\\N",
         "Comedy|Romance",
         "5.7",
         "7",
         "All set for an arranged marriage  Rohit Bajaj is faced with a rather strange request from his Muslim friend Sahil. As per halala  he convinces Rohit to get hitched to his ex-wife  just for him to remarry her. This twisted tale of love turns into a sour dose of betrayal - all this and more  in the name of friendship.",
         "All set for an arranged marriage  Rohit Bajaj is faced with a rather strange request from his Muslim friend Sahil. As per halala  he convinces Rohit to get hitched to his ex-wife  just for ...                    ",
         null,
         "Siddhanth Kapoor|Prateik|Anita Raj|Ishita Raj|Subha Rajput|Natasha Stankovic|",
         null,
         null
        ],
        [
         "1573",
         "Yaadein (2001 film)",
         "tt0248617",
         "https://upload.wikimedia.org/wikipedia/en/thumb/c/cd/Yaadein_%282001_film%29.jpg/220px-Yaadein_%282001_film%29.jpg",
         "https://en.wikipedia.org/wiki/Yaadein_(2001_film)",
         "Yaadein...",
         "Yaadein...",
         "0",
         "2001",
         "171",
         "Drama|Musical|Romance",
         "4.4",
         "3034",
         "Raj Singh Puri is best friends with L.K. Malhotra who is in turn younger brother to J.K. Malhotra. The brothers are business tycoons and Raj works in their company. Raj is father to three young daughters  the first one gets married through arrangement but the second one marries her lover. After a few weeks at her in-laws  the second daughter returns home asking for divorce. After this Raj and her last daughter become strictly against love and relationships. All this changes when Isha (the third daughter) falls in love with the heir to the Malhotra empire  Ronit  L.K. Malhotra's son. The ask for Raj's blessing but he bluntly refuses and Isha understandingly shuns Ronit and Raj arranges for Ronit to be married to the daughter of another tycoon. Ronit is unhappy and makes Raj realize that his fiancé's family is not right for them and Raj approaches the Malhotras to break off the engagement however J.K. Malhotra shuns him by calling him poor and small. The other Malhotras join forces to ...",
         "Raj Singh Puri is best friends with L.K. Malhotra who is in turn younger brother to J.K. Malhotra. The brothers are business tycoons and Raj works in their company. Raj is father to three ...                    ",
         "memories to cherish...",
         "Jackie Shroff|Hrithik Roshan|Kareena Kapoor|Amrish Puri|Himani Rawat|Kiran Rathod|Anang Desai|Supriya Karnik|Avni Vasa|Madan Joshi|Suman Dutta|Suhaas Khandke|Rajan Kapoor|Jennifer Kotwal|",
         "1 nomination",
         "27 June 2001 (India)"
        ],
        [
         "461",
         "Ya Rab",
         "tt3303416",
         "https://upload.wikimedia.org/wikipedia/en/thumb/8/87/Ya_Rab.jpg/220px-Ya_Rab.jpg",
         "https://en.wikipedia.org/wiki/Ya_Rab",
         "Ya Rab",
         "Ya Rab",
         "0",
         "2014",
         "120",
         "Drama",
         "6.1",
         "270",
         "The idea behind Ya Rab is to show how Islam has been used as a tool to propagate terrorism. The film focuses on issues where so called self proclaimed Maulanas (Islamic Preachers) misinterpret The Quran and its real meaning to breed terrorists and terrorist activity. Ya Rab is a genuine effort to show the right face of Islam and to guide the misguided on the right path.",
         "The idea behind Ya Rab is to show how Islam has been used as a tool to propagate terrorism. The film focuses on issues where so called self proclaimed Maulanas (Islamic Preachers) ...                    ",
         null,
         "Indrapal Ahuja|Neha Baam|Vikram Dahiya|Rakesh Deewana|Rajesh Gupta|Imran Hasnee|Abizer Hyderabadwala|Jassi|Javed|Juli|Sayed Khalid|Ajaz Khan|Raju Kher|Akhilendra Mishra|",
         null,
         "7 February 2014 (India)"
        ],
        [
         "1486",
         "Xcuse Me",
         "tt0383719",
         "https://upload.wikimedia.org/wikipedia/en/thumb/7/75/Xcuse_Me_poster.jpg/220px-Xcuse_Me_poster.jpg",
         "https://en.wikipedia.org/wiki/Xcuse_Me",
         "Xcuse Me",
         "Xcuse Me",
         "0",
         "2003",
         "152",
         "Comedy",
         "5.7",
         "682",
         "Chantu and Bantu are unemployed  and are able to get any employment due to lack of experience. They come across an advertisement for hotel management trainees in Goa  and make their way there. Once there  they hoodwink the trainer by posing as the nephew of the owner of the hotel  and thus enroll themselves in the training course. They set about making enemies by exposing several employees and guests  and earning their wrath  and in the process end up wooing the daughters of the two owners of the hotel. Things turn sore for the two  when the guests and former employees get together to avenge their humiliation.",
         "Chantu and Bantu are unemployed  and are able to get any employment due to lack of experience. They come across an advertisement for hotel management trainees in Goa  and make their way ...                    ",
         null,
         "Sharman Joshi|Sahil Khan|",
         "1 nomination",
         "26 September 2003 (India)"
        ],
        [
         "1000",
         "Woodstock Villa",
         "tt1043876",
         "https://upload.wikimedia.org/wikipedia/en/thumb/b/b2/Woodstockvilla_poster.jpg/220px-Woodstockvilla_poster.jpg",
         "https://en.wikipedia.org/wiki/Woodstock_Villa",
         "Woodstock Villa",
         "Woodstock Villa",
         "0",
         "2008",
         "\\N",
         "Drama|Mystery|Thriller",
         "3.4",
         "370",
         "After a heated public argument between Mumbai-based Jatin Kampani and his wife  Zara  he returns home  and finds her missing. A day later  he is contacted by a male to come up with a ransom of 50 Lakh Rupees  and not to contact the police under any circumstances. Hours later  he notifies the Police  who begin their investigation but fail to trace subsequent telephone calls from the kidnapper. Jatin is then asked to deliver the cash initially at V.T. Railway Station  however  upon arrival there  he is asked to travel to Kala Ghoda and then to Sea Rock. Once there  he is told that the kidnapper is aware of the involvement of plainclothes policemen  who have been following him  and that his wife is no more. Watch what impact this has on the police and on Jatin himself.",
         "A businessman is distraught after refusing to follow the instructions of his wife's kidnapper.",
         null,
         "Sikander Kher|Neha Oberoi|Arbaaz Khan|Gulshan Grover|Shakti Kapoor|Sachin Khedekar|Sanjay Dutt|Gaurav Gera|Daya Shankar Pandey|Harry Singh|Yogendra|Mohit Chavan|",
         null,
         null
        ],
        [
         "1211",
         "Woh Lamhe...",
         "tt0833561",
         "https://upload.wikimedia.org/wikipedia/en/thumb/c/c3/Wohlahme.jpg/220px-Wohlahme.jpg",
         "https://en.wikipedia.org/wiki/Woh_Lamhe",
         "Woh Lamhe",
         "Woh Lamhe",
         "0",
         "2006",
         "156",
         "Biography|Drama|Romance",
         "6.6",
         "1115",
         "Woh Lamhe tells the story of Sana Azim (Kangana Ranaut) as a Bollywood superstar who is dominated by her boyfriend Nikhil (Shaad Randhawa)  who makes all her career decisions for her; to the world she is a successful and independent woman but in reality she is lonely and lost  a mere puppet in Nikhil's hands. Aditya Garewal (Shiney Ahuja) is an aspiring director who is keen on casting Sana for his debut film  but only on his own terms; he is willing to go to any lengths to get her to agree to the film  even if that means preying on her slight insecurities and her turbulent relationship with Nikhil. Nikhil is successful in casting her in her film and the film turns out to be a super-hit. However  he loses track of his plan somewhere along the way and realizes that even though his film is complete and a super-hit  he just can't pull himself away from Sana; he has actually fallen in love with her in spite of his friend Sam (Purab Kohli) reminding Aditya that Sana is just their ladder to ...",
         "Based upon the life of actress Parveen Babi  this film describes the life of a schizophrenic actress Sana Azim  and the love of her life - Aditya Garewal.",
         null,
         "Kangana Ranaut|Shiney Ahuja|Shaad Randhawa|Purab Kohli|Masumeh Makhija|Anita Wahi|Ram Prakash|Preeti Koppikar|Abbas|",
         null,
         "29 September 2006 (India)"
        ],
        [
         "3",
         "Why Cheat India",
         "tt8108208",
         "https://upload.wikimedia.org/wikipedia/en/thumb/a/a2/Why_Cheat_India_poster.jpg/220px-Why_Cheat_India_poster.jpg",
         "https://en.wikipedia.org/wiki/Why_Cheat_India",
         "Why Cheat India",
         "Why Cheat India",
         "0",
         "2019",
         "121",
         "Crime|Drama",
         "6.0",
         "1891",
         "The movie focuses on existing malpractices in country's education system  the whole concept of buying your way through education  jobs and earnings. Even with an evolving education system  the country faces scams like SSC and HSC paper leaks  CBSE re-examination  Vyaapam  etc. The movie tries to shift the attention of people to understand the vulnerability of hardworking and gifted students who get left out.",
         "The movie focuses on existing malpractices in country's education system  the whole concept of buying your way through education  jobs and earnings. Even with an evolving education system  ...                    ",
         null,
         "Emraan Hashmi|Shreya Dhanwanthary|Snighdadeep Chatterji|Navneet Srivastava|Nanda Yadav|",
         null,
         "18 January 2019 (USA)"
        ],
        [
         "957",
         "What's Your Raashee?",
         "tt1242530",
         "https://upload.wikimedia.org/wikipedia/en/thumb/f/f1/What%27s_Your_Raashee%3F_poster.jpg/220px-What%27s_Your_Raashee%3F_poster.jpg",
         "https://en.wikipedia.org/wiki/What%27s_Your_Raashee%3F",
         "What's Your Raashee?",
         "What's Your Raashee?",
         "0",
         "2009",
         "195",
         "Comedy|Drama|Romance",
         "4.6",
         "2417",
         "What's Your Raashee? Yogesh Patel  a young man in a hurry. Yogesh must find his dream girl within 10 days to save his family from utter ruin. Finding the dream girl is tough enough. Finding her in a hurry is even tougher.",
         "A young man has only ten days to locate his soulmate as dictated by the stars  otherwise he could lose a fortune. He thus embarks on a journey through love  looking through twelve girls to find the one who fits his horoscope.",
         null,
         "Harman Baweja|Priyanka Chopra|Anjan Srivastav|Manju Singh|Dilip Joshi|Ajeeta Kulkarni|Vishwa Mohan Badola|Darshan Jariwala|Bhairavi|Geeta Tyagi|Rajesh Vivek|Yuri Suri|Daya Shankar Pandey|Marcell Dsouza|",
         "1 nomination",
         "2 October 2009 (USA)"
        ]
       ],
       "shape": {
        "columns": 18,
        "rows": 1629
       }
      },
      "text/html": [
       "<div>\n",
       "<style scoped>\n",
       "    .dataframe tbody tr th:only-of-type {\n",
       "        vertical-align: middle;\n",
       "    }\n",
       "\n",
       "    .dataframe tbody tr th {\n",
       "        vertical-align: top;\n",
       "    }\n",
       "\n",
       "    .dataframe thead th {\n",
       "        text-align: right;\n",
       "    }\n",
       "</style>\n",
       "<table border=\"1\" class=\"dataframe\">\n",
       "  <thead>\n",
       "    <tr style=\"text-align: right;\">\n",
       "      <th></th>\n",
       "      <th>title_x</th>\n",
       "      <th>imdb_id</th>\n",
       "      <th>poster_path</th>\n",
       "      <th>wiki_link</th>\n",
       "      <th>title_y</th>\n",
       "      <th>original_title</th>\n",
       "      <th>is_adult</th>\n",
       "      <th>year_of_release</th>\n",
       "      <th>runtime</th>\n",
       "      <th>genres</th>\n",
       "      <th>imdb_rating</th>\n",
       "      <th>imdb_votes</th>\n",
       "      <th>story</th>\n",
       "      <th>summary</th>\n",
       "      <th>tagline</th>\n",
       "      <th>actors</th>\n",
       "      <th>wins_nominations</th>\n",
       "      <th>release_date</th>\n",
       "    </tr>\n",
       "  </thead>\n",
       "  <tbody>\n",
       "    <tr>\n",
       "      <th>1623</th>\n",
       "      <td>Zubeidaa</td>\n",
       "      <td>tt0255713</td>\n",
       "      <td>https://upload.wikimedia.org/wikipedia/en/thum...</td>\n",
       "      <td>https://en.wikipedia.org/wiki/Zubeidaa</td>\n",
       "      <td>Zubeidaa</td>\n",
       "      <td>Zubeidaa</td>\n",
       "      <td>0</td>\n",
       "      <td>2001</td>\n",
       "      <td>153</td>\n",
       "      <td>Biography|Drama|History</td>\n",
       "      <td>6.2</td>\n",
       "      <td>1384</td>\n",
       "      <td>The film begins with Riyaz (Rajat Kapoor)  Zub...</td>\n",
       "      <td>Zubeidaa  an aspiring Muslim actress  marries ...</td>\n",
       "      <td>The Story of a Princess</td>\n",
       "      <td>Karisma Kapoor|Rekha|Manoj Bajpayee|Rajit Kapo...</td>\n",
       "      <td>3 wins &amp; 13 nominations</td>\n",
       "      <td>19 January 2001 (India)</td>\n",
       "    </tr>\n",
       "    <tr>\n",
       "      <th>939</th>\n",
       "      <td>Zor Lagaa Ke...Haiya!</td>\n",
       "      <td>tt1479857</td>\n",
       "      <td>https://upload.wikimedia.org/wikipedia/en/thum...</td>\n",
       "      <td>https://en.wikipedia.org/wiki/Zor_Lagaa_Ke...H...</td>\n",
       "      <td>Zor Lagaa Ke... Haiya!</td>\n",
       "      <td>Zor Lagaa Ke... Haiya!</td>\n",
       "      <td>0</td>\n",
       "      <td>2009</td>\n",
       "      <td>\\N</td>\n",
       "      <td>Comedy|Drama|Family</td>\n",
       "      <td>6.4</td>\n",
       "      <td>46</td>\n",
       "      <td>A tree narrates the story of four Mumbai-based...</td>\n",
       "      <td>Children build a tree-house to spy on a beggar...</td>\n",
       "      <td>NaN</td>\n",
       "      <td>Meghan Jadhav|Mithun Chakraborty|Riya Sen|Seem...</td>\n",
       "      <td>NaN</td>\n",
       "      <td>NaN</td>\n",
       "    </tr>\n",
       "    <tr>\n",
       "      <th>756</th>\n",
       "      <td>Zokkomon</td>\n",
       "      <td>tt1605790</td>\n",
       "      <td>https://upload.wikimedia.org/wikipedia/en/thum...</td>\n",
       "      <td>https://en.wikipedia.org/wiki/Zokkomon</td>\n",
       "      <td>Zokkomon</td>\n",
       "      <td>Zokkomon</td>\n",
       "      <td>0</td>\n",
       "      <td>2011</td>\n",
       "      <td>109</td>\n",
       "      <td>Action|Adventure</td>\n",
       "      <td>4.0</td>\n",
       "      <td>274</td>\n",
       "      <td>After the passing of his parents in an acciden...</td>\n",
       "      <td>An orphan is abused and abandoned  believed to...</td>\n",
       "      <td>Betrayal. Friendship. Bravery.</td>\n",
       "      <td>Darsheel Safary|Anupam Kher|Manjari Fadnnis|Ti...</td>\n",
       "      <td>NaN</td>\n",
       "      <td>22 April 2011 (India)</td>\n",
       "    </tr>\n",
       "    <tr>\n",
       "      <th>670</th>\n",
       "      <td>Zindagi Tere Naam</td>\n",
       "      <td>tt2164702</td>\n",
       "      <td>https://upload.wikimedia.org/wikipedia/en/thum...</td>\n",
       "      <td>https://en.wikipedia.org/wiki/Zindagi_Tere_Naam</td>\n",
       "      <td>Zindagi Tere Naam</td>\n",
       "      <td>Zindagi Tere Naam</td>\n",
       "      <td>0</td>\n",
       "      <td>2012</td>\n",
       "      <td>120</td>\n",
       "      <td>Romance</td>\n",
       "      <td>4.7</td>\n",
       "      <td>27</td>\n",
       "      <td>Mr. Singh  an elderly gentleman  relates to hi...</td>\n",
       "      <td>Mr. Singh  an elderly gentleman  relates to hi...</td>\n",
       "      <td>NaN</td>\n",
       "      <td>Mithun Chakraborty|Ranjeeta Kaur|Priyanka Meht...</td>\n",
       "      <td>1 win</td>\n",
       "      <td>16 March 2012 (India)</td>\n",
       "    </tr>\n",
       "    <tr>\n",
       "      <th>778</th>\n",
       "      <td>Zindagi Na Milegi Dobara</td>\n",
       "      <td>tt1562872</td>\n",
       "      <td>https://upload.wikimedia.org/wikipedia/en/thum...</td>\n",
       "      <td>https://en.wikipedia.org/wiki/Zindagi_Na_Mileg...</td>\n",
       "      <td>Zindagi Na Milegi Dobara</td>\n",
       "      <td>Zindagi Na Milegi Dobara</td>\n",
       "      <td>0</td>\n",
       "      <td>2011</td>\n",
       "      <td>155</td>\n",
       "      <td>Comedy|Drama</td>\n",
       "      <td>8.1</td>\n",
       "      <td>60826</td>\n",
       "      <td>Three friends decide to turn their fantasy vac...</td>\n",
       "      <td>Three friends decide to turn their fantasy vac...</td>\n",
       "      <td>NaN</td>\n",
       "      <td>Hrithik Roshan|Farhan Akhtar|Abhay Deol|Katrin...</td>\n",
       "      <td>30 wins &amp; 22 nominations</td>\n",
       "      <td>15 July 2011 (India)</td>\n",
       "    </tr>\n",
       "    <tr>\n",
       "      <th>...</th>\n",
       "      <td>...</td>\n",
       "      <td>...</td>\n",
       "      <td>...</td>\n",
       "      <td>...</td>\n",
       "      <td>...</td>\n",
       "      <td>...</td>\n",
       "      <td>...</td>\n",
       "      <td>...</td>\n",
       "      <td>...</td>\n",
       "      <td>...</td>\n",
       "      <td>...</td>\n",
       "      <td>...</td>\n",
       "      <td>...</td>\n",
       "      <td>...</td>\n",
       "      <td>...</td>\n",
       "      <td>...</td>\n",
       "      <td>...</td>\n",
       "      <td>...</td>\n",
       "    </tr>\n",
       "    <tr>\n",
       "      <th>1039</th>\n",
       "      <td>1971 (2007 film)</td>\n",
       "      <td>tt0983990</td>\n",
       "      <td>https://upload.wikimedia.org/wikipedia/en/thum...</td>\n",
       "      <td>https://en.wikipedia.org/wiki/1971_(2007_film)</td>\n",
       "      <td>1971</td>\n",
       "      <td>1971</td>\n",
       "      <td>0</td>\n",
       "      <td>2007</td>\n",
       "      <td>160</td>\n",
       "      <td>Action|Drama|War</td>\n",
       "      <td>7.9</td>\n",
       "      <td>1121</td>\n",
       "      <td>Based on true facts  the film revolves around ...</td>\n",
       "      <td>Based on true facts  the film revolves around ...</td>\n",
       "      <td>Honor the heroes.......</td>\n",
       "      <td>Manoj Bajpayee|Ravi Kishan|Deepak Dobriyal|</td>\n",
       "      <td>1 win</td>\n",
       "      <td>9 March 2007 (India)</td>\n",
       "    </tr>\n",
       "    <tr>\n",
       "      <th>723</th>\n",
       "      <td>1920: The Evil Returns</td>\n",
       "      <td>tt2222550</td>\n",
       "      <td>https://upload.wikimedia.org/wikipedia/en/e/e7...</td>\n",
       "      <td>https://en.wikipedia.org/wiki/1920:_The_Evil_R...</td>\n",
       "      <td>1920: Evil Returns</td>\n",
       "      <td>1920: Evil Returns</td>\n",
       "      <td>0</td>\n",
       "      <td>2012</td>\n",
       "      <td>124</td>\n",
       "      <td>Drama|Horror|Romance</td>\n",
       "      <td>4.8</td>\n",
       "      <td>1587</td>\n",
       "      <td>This story revolves around a famous poet who m...</td>\n",
       "      <td>This story revolves around a famous poet who m...</td>\n",
       "      <td>Possession is back</td>\n",
       "      <td>Vicky Ahuja|Tia Bajpai|Irma Jämhammar|Sharad K...</td>\n",
       "      <td>NaN</td>\n",
       "      <td>2 November 2012 (India)</td>\n",
       "    </tr>\n",
       "    <tr>\n",
       "      <th>287</th>\n",
       "      <td>1920: London</td>\n",
       "      <td>tt5638500</td>\n",
       "      <td>https://upload.wikimedia.org/wikipedia/en/thum...</td>\n",
       "      <td>https://en.wikipedia.org/wiki/1920_London</td>\n",
       "      <td>1920 London</td>\n",
       "      <td>1920 London</td>\n",
       "      <td>0</td>\n",
       "      <td>2016</td>\n",
       "      <td>120</td>\n",
       "      <td>Horror|Mystery</td>\n",
       "      <td>4.1</td>\n",
       "      <td>1373</td>\n",
       "      <td>Shivangi (Meera Chopra) lives in London with h...</td>\n",
       "      <td>After her husband is possessed by an evil spir...</td>\n",
       "      <td>Fear strikes again</td>\n",
       "      <td>Sharman Joshi|Meera Chopra|Vishal Karwal|Suren...</td>\n",
       "      <td>NaN</td>\n",
       "      <td>6 May 2016 (USA)</td>\n",
       "    </tr>\n",
       "    <tr>\n",
       "      <th>1021</th>\n",
       "      <td>1920 (film)</td>\n",
       "      <td>tt1301698</td>\n",
       "      <td>https://upload.wikimedia.org/wikipedia/en/thum...</td>\n",
       "      <td>https://en.wikipedia.org/wiki/1920_(film)</td>\n",
       "      <td>1920</td>\n",
       "      <td>1920</td>\n",
       "      <td>0</td>\n",
       "      <td>2008</td>\n",
       "      <td>138</td>\n",
       "      <td>Horror|Mystery|Romance</td>\n",
       "      <td>6.4</td>\n",
       "      <td>2588</td>\n",
       "      <td>A devotee of Bhagwan Shri Hanuman  Arjun Singh...</td>\n",
       "      <td>After forsaking his family and religion  a hus...</td>\n",
       "      <td>A Love Made in Heaven...A Revenge Born in Hell...</td>\n",
       "      <td>Rajniesh Duggall|Adah Sharma|Anjori Alagh|Raj ...</td>\n",
       "      <td>NaN</td>\n",
       "      <td>12 September 2008 (India)</td>\n",
       "    </tr>\n",
       "    <tr>\n",
       "      <th>1498</th>\n",
       "      <td>16 December (film)</td>\n",
       "      <td>tt0313844</td>\n",
       "      <td>https://upload.wikimedia.org/wikipedia/en/thum...</td>\n",
       "      <td>https://en.wikipedia.org/wiki/16_December_(film)</td>\n",
       "      <td>16-Dec</td>\n",
       "      <td>16-Dec</td>\n",
       "      <td>0</td>\n",
       "      <td>2002</td>\n",
       "      <td>158</td>\n",
       "      <td>Action|Thriller</td>\n",
       "      <td>6.9</td>\n",
       "      <td>1091</td>\n",
       "      <td>16 December  1971 was the day when India won t...</td>\n",
       "      <td>Indian intelligence agents race against time t...</td>\n",
       "      <td>NaN</td>\n",
       "      <td>Danny Denzongpa|Gulshan Grover|Milind Soman|Di...</td>\n",
       "      <td>2 nominations</td>\n",
       "      <td>22 March 2002 (India)</td>\n",
       "    </tr>\n",
       "  </tbody>\n",
       "</table>\n",
       "<p>1629 rows × 18 columns</p>\n",
       "</div>"
      ],
      "text/plain": [
       "                       title_x    imdb_id  \\\n",
       "1623                  Zubeidaa  tt0255713   \n",
       "939      Zor Lagaa Ke...Haiya!  tt1479857   \n",
       "756                   Zokkomon  tt1605790   \n",
       "670          Zindagi Tere Naam  tt2164702   \n",
       "778   Zindagi Na Milegi Dobara  tt1562872   \n",
       "...                        ...        ...   \n",
       "1039          1971 (2007 film)  tt0983990   \n",
       "723     1920: The Evil Returns  tt2222550   \n",
       "287               1920: London  tt5638500   \n",
       "1021               1920 (film)  tt1301698   \n",
       "1498        16 December (film)  tt0313844   \n",
       "\n",
       "                                            poster_path  \\\n",
       "1623  https://upload.wikimedia.org/wikipedia/en/thum...   \n",
       "939   https://upload.wikimedia.org/wikipedia/en/thum...   \n",
       "756   https://upload.wikimedia.org/wikipedia/en/thum...   \n",
       "670   https://upload.wikimedia.org/wikipedia/en/thum...   \n",
       "778   https://upload.wikimedia.org/wikipedia/en/thum...   \n",
       "...                                                 ...   \n",
       "1039  https://upload.wikimedia.org/wikipedia/en/thum...   \n",
       "723   https://upload.wikimedia.org/wikipedia/en/e/e7...   \n",
       "287   https://upload.wikimedia.org/wikipedia/en/thum...   \n",
       "1021  https://upload.wikimedia.org/wikipedia/en/thum...   \n",
       "1498  https://upload.wikimedia.org/wikipedia/en/thum...   \n",
       "\n",
       "                                              wiki_link  \\\n",
       "1623             https://en.wikipedia.org/wiki/Zubeidaa   \n",
       "939   https://en.wikipedia.org/wiki/Zor_Lagaa_Ke...H...   \n",
       "756              https://en.wikipedia.org/wiki/Zokkomon   \n",
       "670     https://en.wikipedia.org/wiki/Zindagi_Tere_Naam   \n",
       "778   https://en.wikipedia.org/wiki/Zindagi_Na_Mileg...   \n",
       "...                                                 ...   \n",
       "1039     https://en.wikipedia.org/wiki/1971_(2007_film)   \n",
       "723   https://en.wikipedia.org/wiki/1920:_The_Evil_R...   \n",
       "287           https://en.wikipedia.org/wiki/1920_London   \n",
       "1021          https://en.wikipedia.org/wiki/1920_(film)   \n",
       "1498   https://en.wikipedia.org/wiki/16_December_(film)   \n",
       "\n",
       "                       title_y            original_title  is_adult  \\\n",
       "1623                  Zubeidaa                  Zubeidaa         0   \n",
       "939     Zor Lagaa Ke... Haiya!    Zor Lagaa Ke... Haiya!         0   \n",
       "756                   Zokkomon                  Zokkomon         0   \n",
       "670          Zindagi Tere Naam         Zindagi Tere Naam         0   \n",
       "778   Zindagi Na Milegi Dobara  Zindagi Na Milegi Dobara         0   \n",
       "...                        ...                       ...       ...   \n",
       "1039                      1971                      1971         0   \n",
       "723         1920: Evil Returns        1920: Evil Returns         0   \n",
       "287                1920 London               1920 London         0   \n",
       "1021                      1920                      1920         0   \n",
       "1498                    16-Dec                    16-Dec         0   \n",
       "\n",
       "      year_of_release runtime                   genres  imdb_rating  \\\n",
       "1623             2001     153  Biography|Drama|History          6.2   \n",
       "939              2009      \\N      Comedy|Drama|Family          6.4   \n",
       "756              2011     109         Action|Adventure          4.0   \n",
       "670              2012     120                  Romance          4.7   \n",
       "778              2011     155             Comedy|Drama          8.1   \n",
       "...               ...     ...                      ...          ...   \n",
       "1039             2007     160         Action|Drama|War          7.9   \n",
       "723              2012     124     Drama|Horror|Romance          4.8   \n",
       "287              2016     120           Horror|Mystery          4.1   \n",
       "1021             2008     138   Horror|Mystery|Romance          6.4   \n",
       "1498             2002     158          Action|Thriller          6.9   \n",
       "\n",
       "      imdb_votes                                              story  \\\n",
       "1623        1384  The film begins with Riyaz (Rajat Kapoor)  Zub...   \n",
       "939           46  A tree narrates the story of four Mumbai-based...   \n",
       "756          274  After the passing of his parents in an acciden...   \n",
       "670           27  Mr. Singh  an elderly gentleman  relates to hi...   \n",
       "778        60826  Three friends decide to turn their fantasy vac...   \n",
       "...          ...                                                ...   \n",
       "1039        1121  Based on true facts  the film revolves around ...   \n",
       "723         1587  This story revolves around a famous poet who m...   \n",
       "287         1373  Shivangi (Meera Chopra) lives in London with h...   \n",
       "1021        2588  A devotee of Bhagwan Shri Hanuman  Arjun Singh...   \n",
       "1498        1091  16 December  1971 was the day when India won t...   \n",
       "\n",
       "                                                summary  \\\n",
       "1623  Zubeidaa  an aspiring Muslim actress  marries ...   \n",
       "939   Children build a tree-house to spy on a beggar...   \n",
       "756   An orphan is abused and abandoned  believed to...   \n",
       "670   Mr. Singh  an elderly gentleman  relates to hi...   \n",
       "778   Three friends decide to turn their fantasy vac...   \n",
       "...                                                 ...   \n",
       "1039  Based on true facts  the film revolves around ...   \n",
       "723   This story revolves around a famous poet who m...   \n",
       "287   After her husband is possessed by an evil spir...   \n",
       "1021  After forsaking his family and religion  a hus...   \n",
       "1498  Indian intelligence agents race against time t...   \n",
       "\n",
       "                                                tagline  \\\n",
       "1623                            The Story of a Princess   \n",
       "939                                                 NaN   \n",
       "756                      Betrayal. Friendship. Bravery.   \n",
       "670                                                 NaN   \n",
       "778                                                 NaN   \n",
       "...                                                 ...   \n",
       "1039                            Honor the heroes.......   \n",
       "723                                  Possession is back   \n",
       "287                                  Fear strikes again   \n",
       "1021  A Love Made in Heaven...A Revenge Born in Hell...   \n",
       "1498                                                NaN   \n",
       "\n",
       "                                                 actors  \\\n",
       "1623  Karisma Kapoor|Rekha|Manoj Bajpayee|Rajit Kapo...   \n",
       "939   Meghan Jadhav|Mithun Chakraborty|Riya Sen|Seem...   \n",
       "756   Darsheel Safary|Anupam Kher|Manjari Fadnnis|Ti...   \n",
       "670   Mithun Chakraborty|Ranjeeta Kaur|Priyanka Meht...   \n",
       "778   Hrithik Roshan|Farhan Akhtar|Abhay Deol|Katrin...   \n",
       "...                                                 ...   \n",
       "1039        Manoj Bajpayee|Ravi Kishan|Deepak Dobriyal|   \n",
       "723   Vicky Ahuja|Tia Bajpai|Irma Jämhammar|Sharad K...   \n",
       "287   Sharman Joshi|Meera Chopra|Vishal Karwal|Suren...   \n",
       "1021  Rajniesh Duggall|Adah Sharma|Anjori Alagh|Raj ...   \n",
       "1498  Danny Denzongpa|Gulshan Grover|Milind Soman|Di...   \n",
       "\n",
       "              wins_nominations               release_date  \n",
       "1623   3 wins & 13 nominations    19 January 2001 (India)  \n",
       "939                        NaN                        NaN  \n",
       "756                        NaN      22 April 2011 (India)  \n",
       "670                      1 win      16 March 2012 (India)  \n",
       "778   30 wins & 22 nominations       15 July 2011 (India)  \n",
       "...                        ...                        ...  \n",
       "1039                     1 win       9 March 2007 (India)  \n",
       "723                        NaN    2 November 2012 (India)  \n",
       "287                        NaN           6 May 2016 (USA)  \n",
       "1021                       NaN  12 September 2008 (India)  \n",
       "1498             2 nominations      22 March 2002 (India)  \n",
       "\n",
       "[1629 rows x 18 columns]"
      ]
     },
     "execution_count": 215,
     "metadata": {},
     "output_type": "execute_result"
    }
   ],
   "source": [
    "movies.sort_values('title_x', ascending=False)"
   ]
  },
  {
   "cell_type": "markdown",
   "id": "07c43d0c",
   "metadata": {},
   "source": [
    "### Sorting on multiple columns:"
   ]
  },
  {
   "cell_type": "code",
   "execution_count": 216,
   "id": "cd7b8a21",
   "metadata": {},
   "outputs": [
    {
     "data": {
      "application/vnd.microsoft.datawrangler.viewer.v0+json": {
       "columns": [
        {
         "name": "index",
         "rawType": "int64",
         "type": "integer"
        },
        {
         "name": "title_x",
         "rawType": "object",
         "type": "string"
        },
        {
         "name": "imdb_id",
         "rawType": "object",
         "type": "string"
        },
        {
         "name": "poster_path",
         "rawType": "object",
         "type": "unknown"
        },
        {
         "name": "wiki_link",
         "rawType": "object",
         "type": "string"
        },
        {
         "name": "title_y",
         "rawType": "object",
         "type": "string"
        },
        {
         "name": "original_title",
         "rawType": "object",
         "type": "string"
        },
        {
         "name": "is_adult",
         "rawType": "int64",
         "type": "integer"
        },
        {
         "name": "year_of_release",
         "rawType": "int64",
         "type": "integer"
        },
        {
         "name": "runtime",
         "rawType": "object",
         "type": "string"
        },
        {
         "name": "genres",
         "rawType": "object",
         "type": "string"
        },
        {
         "name": "imdb_rating",
         "rawType": "float64",
         "type": "float"
        },
        {
         "name": "imdb_votes",
         "rawType": "int64",
         "type": "integer"
        },
        {
         "name": "story",
         "rawType": "object",
         "type": "unknown"
        },
        {
         "name": "summary",
         "rawType": "object",
         "type": "string"
        },
        {
         "name": "tagline",
         "rawType": "object",
         "type": "unknown"
        },
        {
         "name": "actors",
         "rawType": "object",
         "type": "unknown"
        },
        {
         "name": "wins_nominations",
         "rawType": "object",
         "type": "unknown"
        },
        {
         "name": "release_date",
         "rawType": "object",
         "type": "unknown"
        }
       ],
       "ref": "434dcb51-fb7a-4e7b-8a24-dab5bc1977cf",
       "rows": [
        [
         "1575",
         "Aalavandhan",
         "tt0294264",
         "https://upload.wikimedia.org/wikipedia/en/thumb/c/c4/Aalavandhan.jpg/220px-Aalavandhan.jpg",
         "https://en.wikipedia.org/wiki/Aalavandhan",
         "Aalavandhan",
         "Aalavandhan",
         "0",
         "2001",
         "177",
         "Action|Thriller",
         "7.1",
         "1746",
         "The story follows Abhay (Haasan) who has a disturbed childhood and severe mental trauma misunderstands her to be Sister in Law Tejasvini (Raveena Tandon) who is supposed to marry his Army Commando twin brother Major Vijay (Haasan). When Abhay meets Tejasvini  who visualizes her as her evil step mother who was the cause of the fall of his family and the death of both his parents and separation from his twin brother whom he loves dearly. He escapes the mental asylum to fulfill his duty towards his brother by getting rid of the woman. There are a lot of action packed encounters that Abhay has with his own brother  the estranged wife and many other characters including a very fun loving and popular singer - actress Sharmilee (Manisha Koirala) (cameo) who all willingly or unwillingly come in midst of the fight of a right man at the wrong place within wrong circumstances.",
         "A psychopath tries to protect his twin brother from a lady he visualizes as his evil stepmother  and eventually ends up fighting with him.",
         "The Fearless",
         "Kamal Haasan|Raveena Tandon|Manisha Koirala|Kitu Gidwani|Shri Vallabh Vyas|Milind Gunaji|Vikram Gokhale|Naveen Nischol|Smita Jaykar|",
         "1 win & 1 nomination",
         "16 November 2001 (India)"
        ],
        [
         "1576",
         "Aamdani Atthanni Kharcha Rupaiya",
         "tt0305173",
         "https://upload.wikimedia.org/wikipedia/en/thumb/a/af/Aamdani_Atthanni_Kharcha_Rupaiya.jpg/220px-Aamdani_Atthanni_Kharcha_Rupaiya.jpg",
         "https://en.wikipedia.org/wiki/Aamdani_Atthanni_Kharcha_Rupaiya",
         "Aamdani Atthanni Kharcha Rupaiya",
         "Aamdani Atthanni Kharcha Rupaiya",
         "0",
         "2001",
         "150",
         "Comedy|Drama|Family",
         "4.7",
         "1026",
         "Jhoomri and her husband  Bhimsha  move into a new neighbourhood. Their immediate neighbours are three squabbling couples  namely Vijay and Anjali who are newly married; Appu Khote and Vimla  who are married and have 4 children; and Ravi and Meena  who are also married and have one child. With their wages unable to keep up with inflation and high cost of living  unable to pay even rent to the landlord  B.K. Kakkad  the wives decide to seek employment to augment their income  with hilarious results from their spouses  who will go to any extent to keep their wives at home  even if means to bring a dancing girl home to cook and look after the children!!",
         "In order to make ends meet  three women steps out from their houses for earning. However  this irks their jobless husbands who can go to extreme lengths to stop them.",
         null,
         "Govinda|Juhi Chawla|Tabu|Chandrachur Singh|Johnny Lever|Vinay Anand|Isha Koppikar|Ketki Dave|Mink Singh|Shakti Kapoor|Asrani|Ranjeet|Sayaji Shinde|Tiku Talsania|",
         "1 nomination",
         "21 December 2001 (India)"
        ],
        [
         "1577",
         "Aashiq (2001 film)",
         "tt0273406",
         "https://upload.wikimedia.org/wikipedia/en/c/c6/Aashiqposter.jpg",
         "https://en.wikipedia.org/wiki/Aashiq_(2001_film)",
         "Aashiq",
         "Aashiq",
         "0",
         "2001",
         "160",
         "Action|Drama|Romance",
         "3.8",
         "357",
         "Pooja and Chander Kapoor have a heart-to-heart conversation on the telephone. When they finally meet and all is reveal they both fell in love with each other; Chander lives with his advocate dad Dilip Dev Kapoor while Pooja lives a wealthy but stressful family life with her alcoholic dad  her Dai Maa and a self-senile mother. Unfortunately for them Pooja's parents would like her to marry a person of their choice; this pits Chander against them. Then one day Pooja goes missing and the police headed by a rowdy inspector Mathur arrests Chander for abducting her much to his shock. Then Chander escapes from police custody and begins a man-hunt for Pooja.",
         "Pooja and Chander Kapoor have a heart-to-heart conversation on the telephone. When they finally meet and all is reveal they both fell in love with each other; Chander lives with his ...                    ",
         null,
         "Bobby Deol|Karisma Kapoor|",
         null,
         "26 January 2001 (India)"
        ],
        [
         "1579",
         "Ajnabee (2001 film)",
         "tt0278291",
         "https://upload.wikimedia.org/wikipedia/en/thumb/b/b2/AjnabeeMovie-Poster1.jpg/220px-AjnabeeMovie-Poster1.jpg",
         "https://en.wikipedia.org/wiki/Ajnabee_(2001_film)",
         "Ajnabee",
         "Ajnabee",
         "0",
         "2001",
         "165",
         "Action|Crime|Drama",
         "6.3",
         "7480",
         "A new couple get married and move to Switzerland. They make friends with their new neighbors Akshay Kumar and Bipasha Basu. Life seems perfect until one day when Raj wakes up in Vicky's house and finds out that Vicky's wife has been murdered. Raj is accused of the murder but flees from the authorities in order to prove himself innocent.",
         "Bobby Deol and Kareena Kapoor play a new couple who get married and move to Switzerland. They make friends with their new neighbours Akshay Kumar and Bipasha Basu. Life seems perfect until one day when Bobby Deol wakes up in Akshay's house and finds out that Akshay's wife has been murdered. Bobby Deol is accussed of the murder but flees from the authorities in order to prove himself innocent.",
         "Trust no one",
         "Akshay Kumar|Bobby Deol|Kareena Kapoor|Bipasha Basu|Johnny Lever|Amita Nangia|Sheela Sharma|Narendra Bedi|Amrit Patel|Sharat Saxena|Dalip Tahil|Mink Singh|Jakob Tritten|John Peter|",
         "3 wins & 9 nominations",
         "21 September 2001 (India)"
        ],
        [
         "1578",
         "Aks (2001 film)",
         "tt0289845",
         "https://upload.wikimedia.org/wikipedia/en/thumb/b/b4/AksPoster.jpg/220px-AksPoster.jpg",
         "https://en.wikipedia.org/wiki/Aks_(2001_film)",
         "Aks",
         "Aks",
         "0",
         "2001",
         "184",
         "Action|Crime|Horror",
         "5.9",
         "1518",
         "Aks is the story of a hunter and his prey. A cop and a killer. Aks is the story of Manu Verma and Raghuvan. The story begins in the heart of Budapest. The Indian Defence minister is on a routine foreign visit. He reveals the true details of his diplomatic trip to his head of Security Manu Verma by informing him about the floppy which has valuable information that could affect the very destiny of the nation. On the other hand Intelligence sources have revealed to Manu Verma that a lone assassin long feared for his ruthlessness has been paid to eliminate the Defence minister. The shadowy figure is called Raguhvan  Manu Verma reaches the Indian Defence Minister just moments too late to save him and finds the statesman in a pool of blood Raguhvan has struck and vanished into thin air. Now the hunter becomes the hunted as Manu Verma tries to find Raghuvan. When he does find him something unexpected happens  which changes both Manu and Raguhvan forever.",
         "Raghavan Ghatge  a psychotic terrorist  and Manu Verma  the cop who tracks him down  shoot each other simultaneously  the result being that Raghavan's soul is transferred into Verma's body...",
         "There is a stranger in your mirror",
         "Amitabh Bachchan|Raveena Tandon|Manoj Bajpayee|Nandita Das|K.K. Raina|Kamal Chopra|Tanvi Azmi|Vineet Kumar|Pramod Moutho|Salim Ghouse|Virendra Saxena|Vijay Raaz|Vrajesh Hirjee|Gajraj Rao|",
         "9 wins & 14 nominations",
         "13 July 2001 (India)"
        ],
        [
         "1582",
         "Albela (2001 film)",
         "tt0118578",
         "https://upload.wikimedia.org/wikipedia/en/thumb/a/a8/Albela_%282001_film%29.jpg/220px-Albela_%282001_film%29.jpg",
         "https://en.wikipedia.org/wiki/Albela_(2001_film)",
         "Albela",
         "Albela",
         "0",
         "2001",
         "145",
         "Drama|Romance",
         "3.7",
         "655",
         "Tony (Govinda) works as a guide  helping tourists  and showing them his native land. Nina (Namrata Shirodkar) finds Tony adorable  but Tony is in his own world  and does not reciprocate her attentions. When Sonia (Aishwarya Rai) for a tour of the surroundings  and is immediately taken-up with Tony and his easy manner. Tony mistakes this for love  and is smitten by her beauty. But Sonia already has a sweetheart  and so what will convince him that Sonia does not have similar feelings for him?",
         "Tony (Govinda) works as a guide  helping tourists  and showing them his native land. Nina (Namrata Shirodkar) finds Tony adorable  but Tony is in his own world  and does not reciprocate her...                    ",
         null,
         "Govinda|Aishwarya Rai Bachchan|Jackie Shroff|Namrata Shirodkar|Saeed Jaffrey|",
         null,
         "20 April 2001 (India)"
        ],
        [
         "1581",
         "Aśoka (film)",
         "tt0249371",
         "https://upload.wikimedia.org/wikipedia/en/thumb/8/88/Asoka_%282001_film%29.jpg/220px-Asoka_%282001_film%29.jpg",
         "https://en.wikipedia.org/wiki/A%C5%9Boka_(film)",
         "Ashoka the Great",
         "Asoka",
         "0",
         "2001",
         "176",
         "Action|Biography|Drama",
         "6.5",
         "12612",
         "Prince Ashoke (Shahrukh Khan)  heir to the Magadha Kingdom  bowing to his mother's (Shilpa Mehta) demand forsakes his princely status and goes to live in the wild for awhile. There he meets and falls in love with Kaurwaki (Kareena Kapoor). He identifies himself as Pawan  not wanting to disclose his identity yet. Ashoke has to return to Magadha  but when he returns to find and wed Kaurwaki  he is told by Bheema (Rahul Dev) that Kaurwaki and her brother Arya have been killed. Devastated Ashoke returns home. On the way home he is attacked and Devi (Hrishitaa Bhatt)  of the Buddhist faith rescues him and tends to him till he gets well. As a result  Devi's marriage to her groom is cancelled. Ashoke weds her and brings her to Magadha  only to be told by his father that since Devi is not of the same race as he  she cannot be welcomed. Ashoke leaves with Devi and lives in Ujjaini. Soon Devi gets pregnant  and this arouses jealously and hatred amongst Ashoke's step-brothers. As a result they ...",
         "The epic tale of King Asoka's life is recounted here.",
         "Only the dead have seen the end of war.",
         "Shah Rukh Khan|Kareena Kapoor|Danny Denzongpa|Rahul Dev|Hrishitaa Bhatt|Gerson Da Cunha|Subhashini Ali|Umesh Mehra|Sooraj Balaji|Johnny Lever|Raghuvir Yadav|Suresh Menon|Ajith Kumar|Shilpa Mehta|",
         "2 wins & 17 nominations",
         "26 October 2001 (India)"
        ],
        [
         "1512",
         "Baaja",
         "tt0405722",
         null,
         "https://en.wikipedia.org/wiki/Baaja",
         "Mouth Organ",
         "Baaja",
         "0",
         "2001",
         "\\N",
         "Family",
         "6.6",
         "8",
         null,
         "Add a Plot »",
         null,
         "Ram Awana|Saroj Bhagwar|Roni Bhatt|Chitra Pandey|Manisha Rajpal|",
         null,
         null
        ],
        [
         "1583",
         "Bas Itna Sa Khwaab Hai",
         "tt0283911",
         "https://upload.wikimedia.org/wikipedia/en/thumb/8/8f/Bas_Itna_Sa_Khwaab_Hai.jpg/220px-Bas_Itna_Sa_Khwaab_Hai.jpg",
         "https://en.wikipedia.org/wiki/Bas_Itna_Sa_Khwaab_Hai",
         "Bas Itna Sa Khwaab Hai...",
         "Bas Itna Sa Khwaab Hai...",
         "0",
         "2001",
         "\\N",
         "Romance",
         "3.8",
         "550",
         "Suryachand comes from a small town an considers Naved Ali as his idol.He dreams of becoming like him  Surya comes to Mumbai to attend college where he gets awarded by Naved Ali and gets chance to work with him.Surya will now realize that Naved Ali is a business minded person and will go to any extent to earn profit.",
         "Suryachand comes from a small town an considers Naved Ali as his idol.He dreams of becoming like him  Surya comes to Mumbai to attend college where he gets awarded by Naved Ali and gets ...                    ",
         null,
         "Rani Mukerji|Abhishek Bachchan|Sushmita Sen|Jackie Shroff|Gulshan Grover|Smita Jaykar|Himani Shivpuri|Sharat Saxena|Raman Lamba|Suchitra Pillai|",
         "1 nomination",
         null
        ],
        [
         "1586",
         "Bengal Tiger (2001 film)",
         "tt0477574",
         "https://upload.wikimedia.org/wikipedia/en/thumb/6/6b/Bengaltigerdvd.jpg/220px-Bengaltigerdvd.jpg",
         "https://en.wikipedia.org/wiki/Bengal_Tiger_(2001_film)",
         "Bengal Tiger",
         "Bengal Tiger",
         "0",
         "2001",
         "121",
         "Action|Crime",
         "5.8",
         "22",
         "In caste and religion laden India there are some people who work together without any bias - they are underworld dons and gangster - and their prime motive is to amass as much money as possible. Rukavat Singh is one such gangster  who has two lieutenants - Sultan  and Vishwa Mohan. No one has dared to stand up against any of these three. Until Inspector Durga came along - but then she was brutally burned alive  and the case was handled as a \"suicide\" and the file was closed. Then came Inspector Vishal - he ended up being crippled and his wife brutally raped and killed in his presence. And now Inspector Prashant Verma has been assigned to this area. He is quite different from the other police officers  as he is easy-going  alcoholic  and quite capable of turning the nelson's eye on crime. And then suddenly Rukavat and his men start ending up dead. Will Prashant use his resources to find the culprit(s) or will be continue in his easy-going way?",
         "In caste and religion laden India there are some people who work together without any bias - they are underworld dons and gangster - and their prime motive is to amass as much money as ...                    ",
         null,
         "Sandeep Bedi|Mithun Chakraborty|Roshini Jaffery|Raushani Jaffrey|Shakti Kapoor|Priya Kaushal|Ali Khan|Shabnam Khan|Pramod Moutho|",
         null,
         "2001 (India)"
        ],
        [
         "1585",
         "Bhairav (film)",
         "tt0466208",
         "https://upload.wikimedia.org/wikipedia/en/thumb/a/ae/Bhairavfilm.jpg/220px-Bhairavfilm.jpg",
         "https://en.wikipedia.org/wiki/Bhairav_(film)",
         "Bhairav",
         "Bhairav",
         "0",
         "2001",
         "133",
         "Action",
         "5.0",
         "23",
         "Rakesh Pandey belongs to a middle-class family  and is employed. One day when he is returning home from work  he is arrested by the police on the charge of killing a woman in cold-blood. He refutes and denies this charge  but to no avail  as the prosecution produces witness after witness that have actually seen him commit this heinous crime. Ultimately  the court convicts him  and sentences him to several years in jail. After serving his time  Rakesh returns to his family home  and finds that his house has been destroyed in a fire  and his parents killed. Rakesh then finds out that the person behind this outrage is a wealthy industrialist by the name of Jindal. The reason why Jindal chose to destroy and kill all the Pandeys was that the person killed by Rakesh was none other than Jindal's brother. Rakesh vows to avenge this outrage  and assumes the name of Bhairav  not realizing that he has an uphill task  and that all the odds are stacked against him  including the fact that the ...",
         "Rakesh Pandey belongs to a middle-class family  and is employed. One day when he is returning home from work  he is arrested by the police on the charge of killing a woman in cold-blood. He...                    ",
         null,
         "Hemant Birje|Mithun Chakraborty|Jack Gaud|Brij Gopal|Indrani Haldar|Puneet Issar|Razak Khan|Madhura|",
         null,
         "2001 (India)"
        ],
        [
         "1580",
         "Censor (film)",
         "tt0272543",
         "https://upload.wikimedia.org/wikipedia/en/thumb/f/f1/Censor_Dev_Anand.jpg/220px-Censor_Dev_Anand.jpg",
         "https://en.wikipedia.org/wiki/Censor_(film)",
         "Censor",
         "Censor",
         "0",
         "2001",
         "165",
         "Drama",
         "3.5",
         "107",
         "Under the directions of the Minister for Information and Broadcasting  the Indian Censor Board prepares a list of cuts for Bollywood film producer  Vikramjeet's new movie \"Aane Wala Kal\". Vikramjeet is unhappy and decides to meet the Minister himself to appeal against these cuts  only to find out that the Minister favors even more cuts. Then Vikramjeet shows this movie in a private theatre to an audience from all walks of life  he then takes their written opinion  smuggles a copy to America  just in time to ensure that it is nominated for an Oscar. This is where Vikramjeet's troubles start as the Censor Board refuses to grant a \"U\" certificate; he is arrested for smuggling the movie without permission from the Reserve Bank of India. The only way he can escape the wrath of the authorities is getting some fans and stars of his movie to gather some dirt on the Censor Board members and expose them publicly. But will this pacify the authorities  or will it aggravate the situation. Watch ...",
         "Depicts a filmmaker's struggle to pass his controversial film for family viewing  follows many hardships in the process.",
         null,
         "Dev Anand|Hema Malini|Shammi Kapoor|Rekha|Jackie Shroff|Mamta Kulkarni|Johnny Lever|Mukesh Khanna|Ayesha Jhulka|Sharad S. Kapoor|Tara Deshpande|Randhir Kapoor|Aruna Irani|Raj Babbar|",
         null,
         "14 February 2001 (India)"
        ],
        [
         "1589",
         "Chandni Bar",
         "tt0267363",
         "https://upload.wikimedia.org/wikipedia/en/thumb/e/e3/Chandni_Bar.jpg/220px-Chandni_Bar.jpg",
         "https://en.wikipedia.org/wiki/Chandni_Bar",
         "Chandni Bar",
         "Chandni Bar",
         "0",
         "2001",
         "150",
         "Crime|Drama",
         "7.6",
         "2284",
         "Mumtaz is a village girl whose family is killed in communal riots. She moves to Mumbai with her uncle  the only family member she has left. They are desperately poor and her uncle persuades her to become a bar girl at Chandni Bar. This is merely temporary  he promises  until he gets a job. Mumtaz is a shy girl who loathes the work  but she forces herself to dance and flirt. However  the uncle doesn't keep his promise; he lives on her earnings  drinking them away  and never gets a job. He adds one final  unforgivable crime to the list when he gets drunk and rapes her. By this time she has caught the eye of a gangster called Potiya Sawant. When she tells Potiya what her uncle did to her  Potiya decides to \"defend her honor.\" Potiya shoots the uncle. Mumtaz  bereft of any male protection in the dangerous slums  marries Potiya. She is determined to make the best of things. She leaves the bar and stays home to raise her two children  whom she carefully protects from the world of ...",
         "A displaced woman is forced to become a beer-bar dancer  and sire children of a gangster.",
         null,
         "Tabu|Atul Kulkarni|Rajpal Yadav|Shri Vallabh Vyas|Vinay Apte|Abhay Bhargav|Ananya Khare|Suhas Palshikar|Uma Shankar Pandey|Varun Vardhan|Manoj Joshi|Promodini Kadam|Sujata Naik|Shradha Naval|",
         "7 wins & 14 nominations",
         "28 September 2001 (India)"
        ],
        [
         "1587",
         "Chhupa Rustam: A Musical Thriller",
         "tt0279021",
         "https://upload.wikimedia.org/wikipedia/en/thumb/a/a3/Chhupa_Rustam_A_Musical_Thriller.jpg/220px-Chhupa_Rustam_A_Musical_Thriller.jpg",
         "https://en.wikipedia.org/wiki/Chhupa_Rustam:_A_Musical_Thriller",
         "Chhupa Rustam: A Musical Thriller",
         "Chhupa Rustam: A Musical Thriller",
         "0",
         "2001",
         "127",
         "Drama|Musical|Romance",
         "4.5",
         "73",
         "Nirmal (Sanjay Kapoor) studies in London  and his dad (Anant Mahadevan) lives in a palatial home in India with his mom (Navneet Nishan). Unknown to both Nirmal and his dad  mom is having an affair with an employee  Baldev Diwan (Dalip Tahil). When caught in the act by dad  they kill him and his driver  Satpal (Mushtaq Khan) and arrange an accident with the help of another employee Manikchand (Tinnu Anand). When Nirmal returns he is informed of the accident  and he believes his dad dies of a car accident. One day while romancing with his girlfriend Sandhya (Mamta Kulkarni)  he comes across Satpal  who is now confined in a mental institution. Curious to see what Satpal has to say about the accident  Nirmal arranges for more qualified doctors in the big city to examine Satpal. Unknown to Nirmal  Superintendent of Police Thappa (Raj Babbar) is plotting with Raja (also played by Sanjay Kapoor) to kill Nirmal and take his place  Raja's girlfriend  Nisha (Manisha Koirala) overhears this and ...",
         "A tough and rowdy look-alike takes the place of a rich young man  who has family problems and enemies.",
         null,
         "Sanjay Kapoor|Mamta Kulkarni|Manisha Koirala|Raj Babbar|",
         null,
         "25 April 2001 (Kuwait)"
        ],
        [
         "1572",
         "Chori Chori Chupke Chupke",
         "tt0256692",
         "https://upload.wikimedia.org/wikipedia/en/thumb/3/3d/Chorichorichupkechupke.jpg/220px-Chorichorichupkechupke.jpg",
         "https://en.wikipedia.org/wiki/Chori_Chori_Chupke_Chupke",
         "Chori Chori Chupke Chupke",
         "Chori Chori Chupke Chupke",
         "0",
         "2001",
         "160",
         "Drama|Musical|Romance",
         "5.4",
         "3907",
         "Raj and Priya are newly married. Priya is heavy with children  but due to unexpected circumstances  she loses her child and is unable to conceive again. Enter Madhoo  a prostitute who is willing to become surrogate mother for the couple. Their relationship becomes entangled with love triangle when Madhoo falls in love with Raj.",
         "A prostitute agrees to get impregnated and then give the baby to a couple (Raj and Priya) in exchange for a million rupees. Everything changes when she develops feelings for the baby and Raj.",
         null,
         "Preity Zinta|Salman Khan|Rani Mukerji|Amrish Puri|Dalip Tahil|Farida Jalal|Prem Chopra|Johnny Lever|",
         "1 nomination",
         "9 March 2001 (India)"
        ],
        [
         "1588",
         "Daman (film)",
         "tt0273164",
         "https://upload.wikimedia.org/wikipedia/en/thumb/7/7a/DamanRaveena.jpg/220px-DamanRaveena.jpg",
         "https://en.wikipedia.org/wiki/Daman_(film)",
         "Daman: A Victim of Marital Violence",
         "Daman: A Victim of Marital Violence",
         "0",
         "2001",
         "\\N",
         "Drama",
         "5.7",
         "79",
         "The Saikias are a wealthy family  consisting of father  mother  and two unmarried sons  Sanjoy and Sunil. Sanjoy is the elder of the two  who refuses to marry  and the rest of the family have to live with his temper tantrums  alcoholism  and patronizing prostitutes. They decide to get him married to a woman named  Durga  who comes from a lower caste  & a poor family  who they believe will be able to live with Sanjoy and his weaknesses. Sanjoy initially refuses to marry Durga  but when his mother threatens to cut him off from her will and estate  he relents and marries her. Thus begins Durga's nightmare with Sanjoy - right from day one. On the very first night Sanjoy decides to spent it with a prostitute named Chameli  who gets pregnant. He subsequently forcibly has sex with Durga  and gets her pregnant too  but blames her pregnancy on Sunil. Durga gives birth to a daughter  Deepa  much to Sanjoy's disappointment  as he had expected a son. Years pass by  Deepa is now 12 years old  and ...",
         "The Saikias are a wealthy family  consisting of father  mother  and two unmarried sons  Sanjoy and Sunil. Sanjoy is the elder of the two  who refuses to marry  and the rest of the family ...                    ",
         "A victim of marital rape",
         "Raveena Tandon|Sayaji Shinde|Sanjay Suri|Raima Sen|Ranjan Koshal|Bharti Jaffrey|Shaan|Nippon Goswami|Kalpana Barua|Ishaan Barua|Girija Das|Indra Bania|Jharna Bishaya|Dinesh Bishaya|",
         "1 win & 1 nomination",
         "4 May 2001 (India)"
        ],
        [
         "1595",
         "Dattak",
         "tt0284999",
         null,
         "https://en.wikipedia.org/wiki/Dattak",
         "Dattak",
         "Dattak",
         "0",
         "2001",
         "125",
         "Drama",
         "7.5",
         "54",
         "Sunil is an NRI married to an American girl. His father lives in Kolkata with an old servant Shambhu. When Sunil returns home after fifteen years he sees the house is locked and his father has disappeared. Guilt-ridden Sunil starts looking for him. He comes to know that his father might be in an old age home. He reaches there only to find that he had died a few months earlier. Sunil meets Satya Babu  his father's fellow inmate  who tells him all about his father's last days. Sunil tells the old man that he wants to adopt him as his father and requests him to come to US with him.",
         "Sunil is an NRI married to an American girl. His father lives in Kolkata with an old servant Shambhu. When Sunil returns home after fifteen years he sees the house is locked and his father ...                    ",
         null,
         "Rajit Kapoor|Anjan Srivastav|A.K. Hangal|Kruttika Desai|Punya Darshan Gupta|Ashok Mehra|Sheela Mishra|Satya Bandopadhyay|Kalyan Chatterjee|Manoj Mitra|Prem Prakash Modi|Bakul Ghosh|Vinayak Rao Joshi|Manjula Sinha|",
         "1 nomination",
         null
        ],
        [
         "1590",
         "Deewaanapan",
         "tt0301179",
         "https://upload.wikimedia.org/wikipedia/en/thumb/0/0d/Deewaanapan_poster.jpg/220px-Deewaanapan_poster.jpg",
         "https://en.wikipedia.org/wiki/Deewaanapan",
         "Deewaanapan",
         "Deewaanapan",
         "0",
         "2001",
         "153",
         "Action|Romance",
         "4.6",
         "378",
         "Suraj Saxena (Arjun Rampal) lives in a remote hill station in India with his dad (Om Puri)  mom (Smita Jaykar)  and sister  Asha (Amita Nangia). One day he meets with Kiran Choudhary (Diya Mirza)  who has come on holiday trip with a group of girls. He offers to show her around and they fall in love with each other. Suraj is unable to see her home by the train as his dad has chest pains and has to be rushed to hospital. But Suraj is unable to get Kiran out of his mind and heart. After his sister get's married  the family decide to relocate to Bombay  where Suraj enlists in College and makes several new friends  as well as becomes a popular football player. He eventually meets Kiran and both renew their romance. Ranvir Choudhary (Vinod Khanna) does not appreciate the attentions of a poor man like Suraj on his daughter  and has Suraj brought up before him and introduced to his many friends  which include prominent lawyers  politicians  high ranking civil and municipal employees  the ...",
         "A rebel crosses swords with an influential rich man after falling in love with his daughter. However the girl's father is hell bent to break their relation at any cost.",
         null,
         "Arjun Rampal|Dia Mirza|Vinod Khanna|Om Puri|Smita Jaykar|",
         "1 win & 2 nominations",
         "16 November 2001 (India)"
        ],
        [
         "1571",
         "Dil Chahta Hai",
         "tt0292490",
         "https://upload.wikimedia.org/wikipedia/en/thumb/d/db/Dil_Chahta_Hai.jpg/220px-Dil_Chahta_Hai.jpg",
         "https://en.wikipedia.org/wiki/Dil_Chahta_Hai",
         "Dil Chahta Hai",
         "Dil Chahta Hai",
         "0",
         "2001",
         "183",
         "Comedy|Drama|Romance",
         "8.1",
         "62313",
         "Three young men Akash  Sameer  and Siddharth are close friends  but their tastes and characters are completely incompatible. So when Siddharth falls in love with a much older woman  Tara  a woman who has been unsuccessful in keeping her marriage intact as well as alcohol-dependent  widens the rift between the trio  forcing them to part company. Years later  the trio will be re-united  they will be much mature and understanding  but will they still accept Siddharth love for Tara  especially when they themselves have fallen in love with women around their respective ages?",
         "Three inseparable childhood friends are just out of college. Nothing comes between them - until they each fall in love  and their wildly different approaches to relationships creates tension.",
         "Welcome to a summer of their lives you will never forget.",
         "Aamir Khan|Saif Ali Khan|Akshaye Khanna|Preity Zinta|Sonali Kulkarni|Dimple Kapadia|Ayub Khan|Rajat Kapoor|Suhasini Mulay|Ahmed Khan|Suchitra Pillai|Anjula Bedi|Rakesh Pandey|Samantha Tremayne|",
         "22 wins & 37 nominations",
         "10 August 2001 (India)"
        ],
        [
         "1591",
         "Dil Ne Phir Yaad Kiya (2001 film)",
         "tt0273535",
         "https://upload.wikimedia.org/wikipedia/en/thumb/3/30/Dil_Ne_Phir_Yaad_Kiya_-_2001_Movie_Poster.jpg/220px-Dil_Ne_Phir_Yaad_Kiya_-_2001_Movie_Poster.jpg",
         "https://en.wikipedia.org/wiki/Dil_Ne_Phir_Yaad_Kiya_(2001_film)",
         "Dil Ne Phir Yaad Kiya",
         "Dil Ne Phir Yaad Kiya",
         "0",
         "2001",
         "\\N",
         "Drama|Musical|Romance",
         "4.1",
         "92",
         "Rahul Khanna (Vinay Anand) and Sonia Chopra (Pooja Batra) are in love  they seek the blessings of their elders  Mahendra Pratap Khanna (Kiran Kumar)  Mr. Chopra (Sadashiv Amrapurkar) and Mrs. Chopra (Kunika)  and get married. During their honeymoon  Sonia  who is very ambitious  tells Rahul that he should start his own business  away from his father  and stand on his own feet. Rahul does so  and starts a modelling agency. His immediate rival is Sanjeev Verma (Faraaz Khan)  who is very successful. In order to compete with him  Rahul must sign up leading model  Roshni Batra. In order to do so  he meets with Roshni. Roshni  who has lost her lover  Prem (Govinda)  accepts Rahul as Prem who has been returned to her  and agrees to work with his agency. Then Roshni starts behaving like Rahul is really Prem  and she will not let anyone come between her and her lost love.",
         "Rahul Khanna (Vinay Anand) and Sonia Chopra (Pooja Batra) are in love  they seek the blessings of their elders  Mahendra Pratap Khanna (Kiran Kumar)  Mr. Chopra (Sadashiv Amrapurkar) and ...                    ",
         null,
         "Govinda|Tabu|Faraaz Khan|Pooja Batra|Vinay Anand|Sadashiv Amrapurkar|Kiran Kumar|",
         null,
         null
        ],
        [
         "1592",
         "Ehsaas: The Feeling",
         "tt0302524",
         null,
         "https://en.wikipedia.org/wiki/Ehsaas:_The_Feeling",
         "Ehsaas: The Feeling",
         "Ehsaas: The Feeling",
         "0",
         "2001",
         "116",
         "Drama",
         "5.6",
         "81",
         "Ravi Naik lives a middle class life with his son Rohan in the country of India. He brings up his son in a very strict  quiet and disciplined atmosphere  so much so that his son starts to resent him and his mannerism. All Ravi wants is to get Rohan excel as an athlete and win the forthcoming athletics event. But Rohan went through a series of operation which leads him to injury sustain about his body but Ravi is still re-vent on Rohan to win the race and so night and day he got him in to practice. His immediate neighbors  Antra Pandit and her mom too are critical of the way Ravi handles his son  and suggest that he adapt a more lenient view. But Ravi ignores this advise and assure to anyone interfering that the end result of his art of teaching will be good.",
         "Ravi Naik lives a middle class life with his son Rohan in the country of India. He brings up his son in a very strict  quiet and disciplined atmosphere  so much so that his son starts to ...                    ",
         null,
         "Anand Raj Anand|Sunidhi Chauhan|Nagesh Haldankar|Shakti Kapoor|Kiron Kher|Mahesh Manjrekar|Kishore Nandlaskar|Sanjay Narvekar|Neha|Shivaji Satam|Rakhi Sawant|Bhaskar Shetty|Sunil Shetty|Mayank Tandon|",
         null,
         "30 November 2001 (India)"
        ],
        [
         "1584",
         "Ek Rishtaa: The Bond of Love",
         "tt0284083",
         "https://upload.wikimedia.org/wikipedia/en/thumb/8/84/Ek_Rishtaa_poster.jpg/220px-Ek_Rishtaa_poster.jpg",
         "https://en.wikipedia.org/wiki/Ek_Rishtaa:_The_Bond_of_Love",
         "Bond of Love",
         "Ek Rishtaa: The Bond of Love",
         "0",
         "2001",
         "174",
         "Drama|Family",
         "5.0",
         "1418",
         "Multi-millionaire Vijay Kapoor own and manages his factory which prospers yielding profits to provide a source of income for his family. After completing his studies abroad; Vijay's only son  Ajay join his dad's business. Upon the entry of Rajesh who proposes marriage to Vijay's daughter Priti things started to go hay wild for the family. Unknown to them that Rajesh have a motive to split their happy family apart and at the same time embezzle the estate and property.",
         "Vijay Kapoor  a wealthy businessman and his family are deceived by Rajesh  Vijay Kapoor's employee and son in law. A struggle begins by both father-son duos to regain their business and position.",
         "In times of happiness| they turned their backs to each other ... In testing times| they came back ....",
         "Amitabh Bachchan|Rakhee Gulzar|Akshay Kumar|Karisma Kapoor|Mohnish Bahl|Juhi Chawla|Simone Singh|Ashish Vidyarthi|Alok Nath|Anang Desai|Kanika Kohli|Kunickaa Sadanand|Mayur Verma|Avtar Gill|",
         null,
         "18 May 2001 (India)"
        ],
        [
         "1593",
         "Farz (2001 film)",
         "tt0272607",
         "https://upload.wikimedia.org/wikipedia/en/thumb/5/5e/Farz_2001.jpg/220px-Farz_2001.jpg",
         "https://en.wikipedia.org/wiki/Farz_(2001_film)",
         "Farz",
         "Farz",
         "0",
         "2001",
         "\\N",
         "Action|Thriller",
         "4.3",
         "380",
         "ACP Arjun Singh and his brother-in-law  Tayaji are with the police force but when Tayaji is killed on duty Arjun's family are devastated by his death. His wife Rukmani  daughter Kajal and son Rahul are shattered by his death and soon Arjun is fearful that the same person that killed his brother-in-law will come after him or his family. His new partner  Karan Singh is quite controversial in his methods of getting justice and can at time break the rules. Arjun is also angered about the fact that his daughter has developed a crush for Karan. Soon the city is being terrorized by Gawa Firozi and his brother Sikander. The two officers have to work together to capture and stop them.",
         "ACP Arjun Singh and his brother-in-law  Tayaji are with the police force but when Tayaji is killed on duty Arjun's family are devastated by his death. His wife Rukmani  daughter Kajal and ...                    ",
         null,
         "Sunny Deol|Preity Zinta|Jackie Shroff|Om Puri|Pooja Batra|Farida Jalal|Johnny Lever|",
         null,
         "12 January 2001 (India)"
        ],
        [
         "1569",
         "Gadar: Ek Prem Katha",
         "tt0284137",
         "https://upload.wikimedia.org/wikipedia/en/thumb/e/e5/Gadar_-_Ek_Prem_Katha_%28movie_poster%29.jpg/220px-Gadar_-_Ek_Prem_Katha_%28movie_poster%29.jpg",
         "https://en.wikipedia.org/wiki/Gadar:_Ek_Prem_Katha",
         "Gadar: Ek Prem Katha",
         "Gadar: Ek Prem Katha",
         "0",
         "2001",
         "170",
         "Action|Drama|Romance",
         "7.2",
         "9372",
         "Amongst the communal riots that erupt in the city  Tara shelters a wayward Sakina from a crazed mob and a bond that blossoms into love is created. The two eventually get married and have a son. The happy family  now living in Amritsar  gets the shock of their lives when Sakina learns that her father (Amrish Puri)  whom she previously believed died in the riots back in Amritsar  is still alive after seeing his picture in a tattered  old newspaper. Upon contacting him  Sakina's father  now the mayor of Lahore in Pakistan  arranges for his daughter to arrive in Lahore to see him. Sakina leaves for Lahore minus Tara and her son  and upon reaching the city  learns of her father's plans for her - plans that include forcing Sakina to forget about her family and start life anew in Pakistan. Then begins an extraordinary journey which will lead Tara to cross the border into Pakistan to find his love Sakina.",
         "Set during the Partition of India in 1947  a Sikh truck driver falls in love with a Muslim girl belonging to an aristocratic family.",
         "A saga of love during the Indo-Pak partition.",
         "Sunny Deol|Ameesha Patel|Amrish Puri|Lillete Dubey|Vivek Shauq|Utkarsh Sharma|Suresh Oberoi|Madhumalti Kapoor|Tony Mirrcandani|Mushtaq Khan|Samar Jai Singh|Pramod Moutho|Kanika Shivpuri|Malvika Shivpuri|",
         "7 wins & 33 nominations",
         "15 June 2001 (India)"
        ],
        [
         "1594",
         "Grahan",
         "tt0275381",
         "https://upload.wikimedia.org/wikipedia/en/thumb/3/38/Grahan.jpg/220px-Grahan.jpg",
         "https://en.wikipedia.org/wiki/Grahan",
         "Grahan",
         "Grahan",
         "0",
         "2001",
         "110",
         "Crime|Drama",
         "5.1",
         "73",
         "Widowed Chief Minister Jagdish Acharya lives a wealthy lifestyle along with his daughter  Sunita and son  Sanjay. One day he gets a phone call from the Police Commissioner  informing him that a woman has filed a F.I.R. (First Information Report) of Rape against Sanjay. A shocked Jagdish  instructs the Police Commissioner to proceed according to law. Thereafter  while touring Jagdish has a heart attack and dies. Sunita is asked to be the new Chief Minister  which she accepts. After the funeral  the Police arrest Sanjay  hold him in a cell  and he is tried in Court. Sunita's boyfriend  Advocate Jaggan Sinha  whose brother  Raghu  is also a lawyer  represents Sanjay  examines the documentation  examines the witnesses as well as the complainant herself  and proves it before the Judge that the complaint was politically motivated by Journalist Vidyarthi  as the complainant  Parvati Shastri  did not exhibit any signs of rape nor was there any proof of her involvement with Sanjay  the Judge ...",
         "Widowed Chief Minister Jagdish Acharya lives a wealthy lifestyle along with his daughter  Sunita and son  Sanjay. One day he gets a phone call from the Police Commissioner  informing him ...                    ",
         null,
         "Jackie Shroff|Manisha Koirala|Anupama Verma|Prasad Purandhare|Raghuvaran|Raj Zutshi|",
         null,
         "16 February 2001 (India)"
        ],
        [
         "1606",
         "Hadh: Life on the Edge of Death",
         "tt0396044",
         null,
         "https://en.wikipedia.org/wiki/Hadh:_Life_on_the_Edge_of_Death",
         "Hadh: Life on the Edge of Death",
         "Hadh: Life on the Edge of Death",
         "0",
         "2001",
         "\\N",
         "Action|Crime|Drama",
         "4.5",
         "11",
         "Abandoned by his biological mother  nicknamed Harami  he comes in contact with Hajibaba  who offers to take care of him and gives him the respectable name of Vishwa. Hajibaba runs an impromptu orphanage  amongst his children are Dalal  Dalal's brother Chotey  and Shiva. When these young men grow up they are friends  however  since Hajibaba openly favors Vishwa over the others  this angers Dalal and his brother. Dalal kills Hajibaba and frames Vishwa  who is arrested  tried in court  found guilty and sentenced to five years in prison. He comes out of prison an embittered man  out to avenge the death of Hajibaba and his prison term. He will go to any lengths  and will not hesitate to sacrifice everything and everyone - including his wife  Shiva  as well his very own child.",
         "Abandoned by his biological mother  nicknamed Harami  he comes in contact with Hajibaba  who offers to take care of him and gives him the respectable name of Vishwa. Hajibaba runs an ...                    ",
         null,
         "Somesh Agarwal|Shama Deshpande|Vikram Gokhale|Ayesha Jhulka|Sharad S. Kapoor|Kiran Kumar|Suman Ranganath|Tej Sapru|",
         null,
         null
        ],
        [
         "1597",
         "Hum Ho Gaye Aapke",
         "tt0292552",
         "https://upload.wikimedia.org/wikipedia/en/thumb/0/0d/Hum_Ho_Gaye_Aapke_poster2.jpg/220px-Hum_Ho_Gaye_Aapke_poster2.jpg",
         "https://en.wikipedia.org/wiki/Hum_Ho_Gaye_Aapke",
         "Hum Ho Gaye Aap Ke",
         "Hum Ho Gaye Aap Ke",
         "0",
         "2001",
         "168",
         "Drama|Musical|Romance",
         "4.1",
         "362",
         "Wealthy and spoil Rishi Oberoi lives in a spacious bungalow and is the only child in the Oberoi family. He often indulges himself with alcohol and women only to one day come across a young woman named Chandni Gupta who is fascinated by him but Chandni will have nothing to do with him due to his lifestyle and is instead attracted to Mohan Sachdev; who is employed as a typist in Rishi's business empire. Unfortunately Chandni is unable to marry Mohan because of financial crises between both parties respective families resulting in Chandni taking up resident with Rishi. Slowly by slowly Rishi and Chandni makes the necessary adjustments to their lives resulting in both falling in love which is met with terrible shortcoming when Rishi's dad object to the couple's marriage.",
         "A playboy mends his reckless ways and learns the meaning of true love  in his efforts to win his ladylove.",
         "Love Speaks the Language known to the heart",
         "Fardeen Khan|Reema Sen|Apoorva Agnihotri|Suman Ranganath|Sadashiv Amrapurkar|Suresh Oberoi|Mahesh Thakur|Ananth Narayan Mahadevan|Shammi|Achyut Potdar|Suhas Joshi|Kinjal Joshi|Nina Kulkarni|Meghna|",
         null,
         "3 August 2001 (India)"
        ],
        [
         "1570",
         "Indian (2001 film)",
         "tt0300028",
         "https://upload.wikimedia.org/wikipedia/en/a/a5/Indian_%282001%29.jpg",
         "https://en.wikipedia.org/wiki/Indian_(2001_film)",
         "Indian",
         "Indian",
         "0",
         "2001",
         "178",
         "Action|Crime|Drama",
         "5.3",
         "1991",
         "A brave Indian policeman named Raj beats up and then arrests a Muslim terrorist by the name of Khan. This gets him promoted  and he is congratulated by none other than his father-in-law  who is also a very high ranking policeman. Then all of a sudden  Raj finds out that many policemen would like to see Khan go free. He discusses this issue with his father-in-law  and to his surprise  does not find any support from him. Disagreements and arguments ensue  and as a result  his father-in-law gets killed. The Police suspect Raj of killing him  they begin the process of arresting him  he runs away  while Khan is all set to get freed to do whatever he likes.",
         "A brave Indian policeman named Raj beats up and then arrests a Muslim terrorist by the name of Khan. This gets him promoted  and he is congratulated by none other than his father-in-law  ...                    ",
         null,
         "Sunny Deol|Shilpa Shetty Kundra|Raj Babbar|Danny Denzongpa|Rajat Bedi|Rahul Dev|Sanjay Narvekar|Om Puri|Pramod Moutho|Mukesh Rishi|Reema Lagoo|",
         null,
         "26 October 2001 (India)"
        ],
        [
         "1602",
         "Ittefaq (2001 film)",
         "tt0297983",
         null,
         "https://en.wikipedia.org/wiki/Ittefaq_(2001_film)",
         "Ittefaq",
         "Ittefaq",
         "0",
         "2001",
         "138",
         "Action|Comedy|Drama",
         "4.6",
         "67",
         "Shiva (Sunil Shetty) is a professional hit man. Shiva accepts a contract from Jindal (Mohan Joshi) to kill Vikram (Mukul Dev). Circumstances force Shiva to come to know Mukul first  and instead of killing him  he becomes his bodyguard and protects him against Jindal and his men. Soon Shiva  Mukul  and Mukul's girlfriend Roshni Hiranandani (Pooja Batra) are on the run from Jindal's men. Jindal makes it clear that he will not rest until he sees the dead bodies of all the three. How long will they survive Jindal? Did Shiva really change his mind or is this his strategy to bring Mukul alive to Jindal?",
         "Shiva (Sunil Shetty) is a professional hit man. Shiva accepts a contract from Jindal (Mohan Joshi) to kill Vikram (Mukul Dev). Circumstances force Shiva to come to know Mukul first  and ...                    ",
         null,
         "Sunil Shetty|Mukul Dev|Pooja Batra|Anupama Verma|Tiku Talsania|Shakti Kapoor|Puneet Issar|Mushtaq Khan|Shiva Rindani|Shehzad Khan|Ishrat Ali|Ashok Saraf|Arun Bakshi|Mohan Joshi|",
         null,
         "14 September 2001 (India)"
        ],
        [
         "1596",
         "Jodi No.1",
         "tt0278522",
         "https://upload.wikimedia.org/wikipedia/en/thumb/9/9e/JodiNo.1.jpg/220px-JodiNo.1.jpg",
         "https://en.wikipedia.org/wiki/Jodi_No.1",
         "Jodi No.1",
         "Jodi No.1",
         "0",
         "2001",
         "140",
         "Comedy|Romance",
         "5.8",
         "1988",
         "Rai Bahadur lives a wealthy lifestyle in Panjim  Goa  along with three brothers  Raman  Kamal  and Ashok along with their respective wives and children. He also has a sister  Shanno  and a daughter  Rinki  who is of marriageable age. Since his business is not doing too well  he asks his US-based friend  Ranjit  for assistance. In response  Ranjit sends his son  Vikramjit  to assist Rai. Vikramjit arrives at the Rai household along with his Secretary and close friend  Veeru  and soon both get involved in assisting the Rai business get back on it's feet. What Rai does not know is that Vikramjit & Veeru are not who they claim to be  but are actually Jai and Veeru  wanted by the Bombay Police and are on India's Most Wanted Criminals. Watch what happens when their photos are telecast on National TV  and the impact this has on the entire Rai clan.",
         "Rai Bahadur lives a wealthy lifestyle in Panjim  Goa  along with three brothers  Raman  Kamal  and Ashok along with their respective wives and children. He also has a sister  Shanno  and a ...                    ",
         null,
         "Sanjay Dutt|Govinda|Twinkle Khanna|Monica Bedi|Anupam Kher|Ashish Vidyarthi|Mukesh Rishi|Sayaji Shinde|Shakti Kapoor|Hans Raj Hans|Supriya Karnik|Pooja Batra|Rajat Bedi|Aashif Sheikh|",
         "1 win & 1 nomination",
         "13 April 2001 (India)"
        ],
        [
         "1565",
         "Kabhi Khushi Kabhie Gham...",
         "tt0248126",
         "https://upload.wikimedia.org/wikipedia/en/thumb/0/0d/KabhiKhushiKabhiGham_Poster.jpg/220px-KabhiKhushiKabhiGham_Poster.jpg",
         "https://en.wikipedia.org/wiki/Kabhi_Khushi_Kabhie_Gham...",
         "Kabhi Khushi Kabhie Gham...",
         "Kabhi Khushi Kabhie Gham...",
         "0",
         "2001",
         "210",
         "Drama|Musical|Romance",
         "7.4",
         "41143",
         "Yashvardhan Raichand lives a very wealthy lifestyle along with his wife  Nandini  and two sons  Rahul and Rohan. While Rahul has been adopted  Yashvardhan and Nandini treat him as their own. When their sons mature  they start to look for suitable brides for Rahul  and decide to get him married to a young woman named Naina. When Rahul is told about this  he tells them that he loves another woman by the name of Anjali Sharma. Yashvardhan decides to meet with the Sharma family  and finds out that they are middle-classed  unsophisticated  and will not be able to it into his family circle  as a result he refuses to permit Rahul to marry Anjali. A defiant Rahul decides to leave  gets married to Anjali  without his foster parents blessings  and re-locates to London  England  where Anjali's unmarried sister  Pooja  also lives. Rohan  who was studying in a hostel  returns home to find that Rahul is no longer living with them  and he also discovers that while outwardly his dad is not interested...",
         "After marrying a poor woman  rich Rahul is disowned by his father and moves to London to build a new life. Years later  his now grown up little brother Rohan embarks on a mission to bring Rahul back home and reunite the family again.",
         "Any weak man can say he's sorry. It takes a strong heart to forgive.",
         "Amitabh Bachchan|Jaya Bachchan|Shah Rukh Khan|Kajol|Hrithik Roshan|Kareena Kapoor|Farida Jalal|Jibraan Khan|Rani Mukerji|Alok Nath|Johnny Lever|Achala Sachdev|Himani Shivpuri|Aryan Khan|",
         "24 wins & 43 nominations",
         "14 December 2001 (USA)"
        ],
        [
         "1598",
         "Kasam (2001 film)",
         "tt0317811",
         null,
         "https://en.wikipedia.org/wiki/Kasam_(2001_film)",
         "Kasam",
         "Kasam",
         "0",
         "2001",
         "\\N",
         "Action|Drama",
         "4.4",
         "92",
         "In aid of seeking revenge for his dad's death  against a bandit called Kala Daku  Shankar team up with two men  a police inspector  Mangal and a run away convict  Vijay. Shankar makes his living by driving a truck while Vijay and Mangal masquerade as villagers to surface as saviors to protect the village against Kala's gang. And then Kala and his men abduct Vijay; now Mangal and the entire police force will have to negotiate with Kala to let Vijay off in exchange for the landlord's son.",
         "In aid of seeking revenge for his dad's death  against a bandit called Kala Daku  Shankar team up with two men  a police inspector  Mangal and a run away convict  Vijay. Shankar makes his ...                    ",
         null,
         "Naseeruddin Shah|Sunny Deol|Chunky Pandey|Neelam Kothari|Sonu Walia|Sharat Saxena|Hemant Birje|Ahmed Sharif|Ranjeet|Sadashiv Amrapurkar|Parikshat Sahni|Anjana Mumtaz|Tej Sapru|Ram Mohan|",
         null,
         null
        ],
        [
         "1600",
         "Kasoor",
         "tt0272688",
         "https://upload.wikimedia.org/wikipedia/en/thumb/b/b9/Kasoor_2001.Jpg/220px-Kasoor_2001.Jpg",
         "https://en.wikipedia.org/wiki/Kasoor",
         "Kasoor",
         "Kasoor",
         "0",
         "2001",
         "151",
         "Drama|Mystery|Thriller",
         "6.0",
         "801",
         "Shekar Saxena is arrested and charged with the murder of his wife  Priti Saxena. Shekar strongly contends that he is innocent  and that the murder was committed by someone else. His lawyer  Simran Bhargav  is sympathetic and not only believes him but also successfully defends and gets him acquitted. After his acquittal  she starts having doubts about his innocence  and must protect herself  before she becomes his next victim.",
         "Shekhar appoints Simran  a lawyer with an impeccable record  to represent him as he was accused of murdering his wife and soon she starts falling in love with him. Little she knows that Shekhar has some darker intentions.",
         "A dangerous passion...",
         "Divya Dutta|Sucheta Paushe|Lisa Ray|Apoorva Agnihotri|Aftab Shivdasani|Irrfan Khan|Vishwajeet Pradhan|Ashutosh Rana|Prithvi Zutshi|Chittaranjan Giri|Firdosh Mewawala|Anupam Shyam|Murali|Sushmita Daan|",
         "2 nominations",
         "2 February 2001 (India)"
        ],
        [
         "1599",
         "Kuch Khatti Kuch Meethi",
         "tt0271604",
         "https://upload.wikimedia.org/wikipedia/en/thumb/5/58/Kuch_Khatti_Kuch_Meethi.jpg/220px-Kuch_Khatti_Kuch_Meethi.jpg",
         "https://en.wikipedia.org/wiki/Kuch_Khatti_Kuch_Meethi",
         "Kuch Khatti Kuch Meethi",
         "Kuch Khatti Kuch Meethi",
         "0",
         "2001",
         "120",
         "Comedy|Drama|Family",
         "4.6",
         "574",
         "Here is another Indian that also closely resembles another Hollywood movie. This story revolves around the lives of two look-alike sisters  who are brought up separately by their estranged parents  who had separated due to a misunderstandings when the girls were little. The twins meet  find out about their backgrounds  and decide to switch places. One goes to live with the mother  while the second goes to live with the father. After doing so  they find out that their parents are still in love with each other  and they decide to bring them together and live as one big family. But the father  who believes that his wife was having an affair with another man; while the mother believes that she cannot return as she has been wronged by her husband and his sister. Will the twins succeed?",
         "Here is another Indian that also closely resembles another Hollywood movie. This story revolves around the lives of two look-alike sisters  who are brought up separately by their estranged ...                    ",
         null,
         "Kajol|Rishi Kapoor|Rati Agnihotri|Sunil Shetty|Mita Vasisht|Pramod Moutho|Pooja Batra|Mayur Verma|Dinesh Anand|",
         null,
         "19 January 2001 (India)"
        ],
        [
         "1609",
         "Kyo Kii... Main Jhuth Nahin Bolta",
         "tt0297241",
         "https://upload.wikimedia.org/wikipedia/en/thumb/5/5d/Kyo_Kii..._Main_Jhuth_Nahin_Bolta.jpg/220px-Kyo_Kii..._Main_Jhuth_Nahin_Bolta.jpg",
         "https://en.wikipedia.org/wiki/Kyo_Kii_Main_Jhuth_Nahin_Bolta",
         "Because I Don't Lie",
         "Kyo Kii... Main Jhuth Nahin Bolta",
         "0",
         "2001",
         "131",
         "Comedy|Fantasy",
         "5.3",
         "1696",
         "Inspired from the movie \"Liar Liar\"  this movie is about a lawyer (Govinda) who lies his way through marriage and career. His wife (Sushmita Sen) falls in love with him because of his honesty and when she finds out of his dishonesty she threatens to divorce him. Their son  to avoid the divorce  wishes on a shooting star that his father should lose the ability to lie. What happens after that is an enjoyable journey.",
         "Inspired from the movie \"Liar Liar\"  this movie is about a lawyer (Govinda) who lies his way through marriage and career. His wife (Sushmita Sen) falls in love with him because of his ...                    ",
         null,
         "Govinda|Sushmita Sen|Rambha|Anupam Kher|Satish Kaushik|Sharad S. Kapoor|Kiran Kumar|Mohnish Bahl|Ashish Vidyarthi|Shahbaaz Khan|Razak Khan|Jibraan Khan|Ananth Narayan Mahadevan|Jaya Bhattacharya|",
         "1 nomination",
         "21 September 2001 (India)"
        ],
        [
         "1567",
         "Lagaan",
         "tt0169102",
         "https://upload.wikimedia.org/wikipedia/en/thumb/b/b6/Lagaan.jpg/220px-Lagaan.jpg",
         "https://en.wikipedia.org/wiki/Lagaan",
         "Lagaan: Once Upon a Time in India",
         "Lagaan: Once Upon a Time in India",
         "0",
         "2001",
         "224",
         "Adventure|Drama|Musical",
         "8.1",
         "95686",
         "This is the story about the resilience shown by the Indians when they were under the British Rule. They are already taxed to the bone by the British and their cronies  but when Jack Russell announces that he will double the Lagaan (tax) from all villagers  they decide to oppose it. Leading the villagers is a handsome young man named Bhuvan  who challenges them to a game of cricket  a game that is to be played by veteran British cricket players  versus villagers  including Bhuvan himself  who have never played this game before  and do not even know a bat from a piece of wood. As the challenge is accepted  the interest grows and attracts Indians from all over the region  as well as the British from all over the country - as everyone gathers to see the 'fair play' that the British will display against their counter-parts  who are aided by none other than the sister  Elizabeth  of Captain Rusell.",
         "The people of a small village in Victorian India stake their future on a game of cricket against their ruthless British rulers.",
         "Once upon a time in India",
         "Aamir Khan|Gracy Singh|Rachel Shelley|Paul Blackthorne|Suhasini Mulay|Kulbhushan Kharbanda|Raghuvir Yadav|Rajendra Gupta|Rajesh Vivek|Shri Vallabh Vyas|Javed Khan|Raj Zutshi|Akhilendra Mishra|Daya Shankar Pandey|",
         "Nominated for 1 Oscar",
         "15 June 2001 (USA)"
        ],
        [
         "1568",
         "Lagaan",
         "tt0169102",
         "https://upload.wikimedia.org/wikipedia/en/thumb/b/b6/Lagaan.jpg/220px-Lagaan.jpg",
         "https://en.wikipedia.org/wiki/Lagaan:_Once_Upon_a_Time_in_India",
         "Lagaan: Once Upon a Time in India",
         "Lagaan: Once Upon a Time in India",
         "0",
         "2001",
         "224",
         "Adventure|Drama|Musical",
         "8.1",
         "95686",
         "This is the story about the resilience shown by the Indians when they were under the British Rule. They are already taxed to the bone by the British and their cronies  but when Jack Russell announces that he will double the Lagaan (tax) from all villagers  they decide to oppose it. Leading the villagers is a handsome young man named Bhuvan  who challenges them to a game of cricket  a game that is to be played by veteran British cricket players  versus villagers  including Bhuvan himself  who have never played this game before  and do not even know a bat from a piece of wood. As the challenge is accepted  the interest grows and attracts Indians from all over the region  as well as the British from all over the country - as everyone gathers to see the 'fair play' that the British will display against their counter-parts  who are aided by none other than the sister  Elizabeth  of Captain Rusell.",
         "The people of a small village in Victorian India stake their future on a game of cricket against their ruthless British rulers.",
         "Once upon a time in India",
         "Aamir Khan|Gracy Singh|Rachel Shelley|Paul Blackthorne|Suhasini Mulay|Kulbhushan Kharbanda|Raghuvir Yadav|Rajendra Gupta|Rajesh Vivek|Shri Vallabh Vyas|Javed Khan|Raj Zutshi|Akhilendra Mishra|Daya Shankar Pandey|",
         "Nominated for 1 Oscar",
         "15 June 2001 (USA)"
        ],
        [
         "1574",
         "Lajja (2001 film)",
         "tt0293342",
         "https://upload.wikimedia.org/wikipedia/en/thumb/4/40/Lajja_poster.jpg/220px-Lajja_poster.jpg",
         "https://en.wikipedia.org/wiki/Lajja_(2001_film)",
         "Lajja",
         "Lajja",
         "0",
         "2001",
         "202",
         "Crime|Drama",
         "6.7",
         "2357",
         "Vaidehi (Manisha Koirala) gets married to Raghuvir (Jackie Shroff)  an NRI. Suffering the agony of an unhappy marriage  she decides to run away from him when she learns that she is pregnant and he wants to take the child away from her. In her pursuit for freedom  she meets Mythili (Mahima Chaudhury) a bride-to-be  Janaki (Madhuri Dixit) a theatre artist and Ramdulari (Rekha) a village midwife - all of whom are victims of male chauvinism. They however refuse to be put down and fight for their rights.",
         "The lives of four women from different places are the victims of male chauvinism and marital abuse. They decide to fight for their rights and dignity against the social norms and injustice.",
         "When Tears Stop... A Revolution Begins",
         "Manisha Koirala|Jackie Shroff|Madhuri Dixit|Ajay Devgn|Rekha|Anil Kapoor|Mahima Chaudhry|Danny Denzongpa|Suresh Oberoi|Gulshan Grover|Tinnu Anand|Sharman Joshi|Govind Namdeo|Anjan Srivastav|",
         "1 win & 13 nominations",
         "19 September 2001 (Kuwait)"
        ],
        [
         "1610",
         "Love Ke Liye Kuch Bhi Karega",
         "tt0287537",
         "https://upload.wikimedia.org/wikipedia/en/e/e0/Love_Ke_Liye_Kuch_Bhi_Karega.jpg",
         "https://en.wikipedia.org/wiki/Love_Ke_Liye_Kuchh_Bhi_Karega",
         "Love Ke Liye Kuch Bhi Karega",
         "Love Ke Liye Kuch Bhi Karega",
         "0",
         "2001",
         "131",
         "Comedy|Crime|Romance",
         "6.0",
         "1409",
         "Prakash (Saif Ali Khan) is a handsome gold digger who thinks he has made it when he woos and subsequently marries Sapna (Sonali Bendre)   only daughter of a rich businessman Mr. Chopra (Dalip Tahil) . However his euphoria is short-lived when he learns that his father-in-law disapproves of him immensely and won't let him make his mark in the business . Finally   Prakash asks Mr.Chopra for some money to start a business of his own but Mr. Chopra refuses . One night   two masked men try to rob Prakash and he places a plan before the duo : they will kidnap Sapna and demand ransom from Mr. Chopra   which will be equally shared between Prakash and the two kidnappers - Rahul (Fardeen Khan) and Harry (Aftab Shivdasani) . Rahul and Harry have a little secret of their own : they are not professional criminals as they pretend to be . Rahul is an unemployed graduate   while Harry is a loafer . Rahul is in love with his landlord's daughter Anjali (Twinkle Khanna) and needs the money to convince ...",
         "Desperate for money  three men (Saif Ali Khan  Fardeen Khan) plot to kidnap a woman (Sonali Bendre) and hold her for ransom.",
         null,
         "Saif Ali Khan|Fardeen Khan|Aftab Shivdasani|Sonali Bendre|Twinkle Khanna|Johnny Lever|Dalip Tahil|Sharat Saxena|Snehal Dabi|Suresh Bhagwat|Tanikella Bharani|Shubha|Shri Vallabh Vyas|Haidar Ali|",
         "1 win",
         "29 June 2001 (UK)"
        ],
        [
         "1601",
         "Maya (2001 film)",
         "tt0299027",
         "https://upload.wikimedia.org/wikipedia/en/thumb/6/61/Maya_%28film%29.jpg/220px-Maya_%28film%29.jpg",
         "https://en.wikipedia.org/wiki/Maya_(2001_film)",
         "Maya",
         "Maya",
         "0",
         "2001",
         "105",
         "Drama",
         "7.0",
         "277",
         "For 12 year-old Maya  life is very simple in her village in rural India. From innocent pranks to small adventures in the nearby forest  she spends most of her time with her 11 year-old cousin Sanjay. However  their fraternal love will be shattered when Sanjay will fail to save her from an imaginary brutal ritual.",
         "MAYA is a coming of age story set against an 'imaginary and unrealistic' brutal practice of ritual rape which never seemed to happen in any part of India.",
         "A child's innocence shattered by unreal tradition.",
         "Anant Nag|Mita Vasisht|Nitya Shetty|Nikhil Yadav|Virendra Saxena|Mukesh Bhatt|Shilpa Navalkar|Shreechand Makhija|",
         "2 wins & 4 nominations",
         "16 January 2002 (Belgium)"
        ],
        [
         "1603",
         "Mitti (2001 film)",
         "tt0446159",
         null,
         "https://en.wikipedia.org/wiki/Mitti_(2001_film)",
         "Mitti",
         "Mitti",
         "0",
         "2001",
         "155",
         "Action|Crime|Thriller",
         "6.0",
         "20",
         "Ganga is sexually molested  assaulted  tortured and killed by a goon employed by Pagla Jaan  a Kolkata-based notorious gangster  whose wealth  power  and influence are beyond imagination. Deva undertakes to locate the killer  succeeds in his mission and beheads him publicly. Deva does not know that soon his friends' and family's lives will be endangered  and he  himself  will be hunted down - not only by an enraged Pagla Jaan and his army of goons - but also by the Police.",
         "Ganga is sexually molested  assaulted  tortured and killed by a goon employed by Pagla Jaan  a Kolkata-based notorious gangster  whose wealth  power  and influence are beyond imagination. ...                    ",
         null,
         "Ferdous Ahmed|Sharbani Mukherji|Rani Rajkumar|Arif Zakaria|Raju Mavani|Meghna Sane|Ragini Sinha|Ravish Dobani|Mohd. Zahiruddin|Md. Ansari|Sitaram|Pravin Patel|Kiku Sharda|Ravindra Kangura|",
         null,
         "26 October 2001 (India)"
        ],
        [
         "1614",
         "Moksha (2001 film)",
         "tt0301240",
         "https://upload.wikimedia.org/wikipedia/en/6/6e/Moksha_Salvation_2001_film_poster.jpg",
         "https://en.wikipedia.org/wiki/Moksha_(2001_film)",
         "Moksha: Salvation",
         "Moksha: Salvation",
         "0",
         "2001",
         "150",
         "Drama|Thriller",
         "6.3",
         "356",
         "Appalled at the manner lawyers treat less affluent people  Vikram Saigal decides to do something for the poor  who have a legal cause of action  but are unable to afford a lawyer. He discusses this with his girlfriend  Rithika Sanyal  and together they come up with several ideas to raise money to create an organization to help the poor get legal aid at no or reasonable cost. When this plan fails  Vikram decides to rob a bank  but Rithika does not support him  and they split up. And then Rithika is killed and the police charge Vikram with her murder  relying on considerable evidence and witnesses that will go to show that Vikram did indeed commit this crime.",
         "An idealistic lawyer wants to help the poor get justice  but lacks finance  so plans to rob a bank  alongside his love interest. His black n white emotional nature  leads to an unforgivable deed  which he severely repents.",
         null,
         "Arjun Rampal|Manisha Koirala|Kalpana Pandit|Suresh Oberoi|Kamal Chopra|Pawan Chopra|Farida Jalal|Sushma Seth|Sulabha Deshpande|Shubhangi Gokhale|Danny Denzongpa|Naseeruddin Shah|Kiran Kumar|Gulshan Grover|",
         "3 wins & 2 nominations",
         "30 November 2001 (India)"
        ],
        [
         "1605",
         "Mujhe Kucch Kehna Hai",
         "tt0284328",
         "https://upload.wikimedia.org/wikipedia/en/thumb/b/ba/Mujhe_Kuch_Kehna_Hai.jpg/220px-Mujhe_Kuch_Kehna_Hai.jpg",
         "https://en.wikipedia.org/wiki/Mujhe_Kucch_Kehna_Hai",
         "Mujhe Kucch Kehna Hai",
         "Mujhe Kucch Kehna Hai",
         "0",
         "2001",
         "135",
         "Drama|Romance",
         "5.1",
         "1013",
         "Karan who is weak in his studies but good at music and masti which always results in fighting with his father  but his life changes when he sees the girl of his dreams. Everywhere he sees her he follows her but one day he goes out of town to find her but couldn't. Later his father sents him to another city but his car breaks down and takes lift and finds it's the same girl whos name is Pooja. During the drive a truck comes and hits the cars which falls in a valley but Karan and Pooja are on the cliff but after saving Pooja his hands slip and falls down. After gaining conscious Pooja realizes it was her fault that Karan died and searches for his body  but he found by a man and is taken to a hospital. He is then reunited with his family  and goes off to search for Pooja. She finds him first and they start a friendship. Later he gets close to her but finds she is going to America for studies but confesses that he loves her and she also loves him and when she comes back they will get ...",
         "Karan  a small time musician  tries to win over a girl named Pooja.",
         null,
         "Tusshar Kapoor|Kareena Kapoor|Amrish Puri|Rinke Khanna|Dalip Tahil|Himani Shivpuri|Alok Nath|Vrajesh Hirjee|",
         "1 win & 7 nominations",
         "25 May 2001 (India)"
        ],
        [
         "1604",
         "Mujhe Meri Biwi Se Bachaao",
         "tt0272735",
         "https://upload.wikimedia.org/wikipedia/en/f/f8/Meri_biwi.jpg",
         "https://en.wikipedia.org/wiki/Mujhe_Meri_Biwi_Se_Bachaao",
         "Mujhe Meri Biwi Se Bachaao",
         "Mujhe Meri Biwi Se Bachaao",
         "0",
         "2001",
         "\\N",
         "Comedy|Crime|Family",
         "4.3",
         "85",
         "Anand Mathur comes from a middle-class background  but has always dreamed of living in luxury. His dreams take form when he meets with the only daughter  Kamini  of an aging and sick multi-millionaire. Kamini who is grossly overweight  approves of him  and soon both get married. Anand assists Kamini and her dad run their vaste business and soon becomes indispensable. When Kamini's dad passes away  Anand hopes that he may have received a fair amount of money in the last will and testament. Alas  that was not to be so  for dad had left everything in Kamini's name. Anand is dismayed  but hides it. He meets with an attractive young woman  Anuradha  and decides to make her his mistress. Anuradha likes expensive gifts and presents  so Anand sets out to make arrangements for money  by hook or by crook - with hilarious results.",
         "Anand Mathur comes from a middle-class background  but has always dreamed of living in luxury. His dreams take form when he meets with the only daughter  Kamini  of an aging and sick ...                    ",
         null,
         "Rekha|Naseeruddin Shah|Arshad Warsi|Suman Ranganath|",
         null,
         "18 June 2001 (India)"
        ],
        [
         "1607",
         "Nayak (2001 Hindi film)",
         "tt0291376",
         "https://upload.wikimedia.org/wikipedia/en/thumb/e/e8/Nayak_poster.jpg/220px-Nayak_poster.jpg",
         "https://en.wikipedia.org/wiki/Nayak_(2001_Hindi_film)",
         "Nayak: The Real Hero",
         "Nayak: The Real Hero",
         "0",
         "2001",
         "187",
         "Action|Drama|Thriller",
         "7.8",
         "12522",
         "Employed as a camera-man at a popular television station QTV; Shivaji Rao Gaekwad work his way up and is eventually promoted as a reporter. One of his job involve interviewing the Chief Minister Balraj Chauhan. During the course of the interview he brings to light the true facts of Chauhan to the general public. Agrivated at this Chauhan decides that he will challenge him to become the Chief Minister for a day which he accepts. During his tenure Shivaji attempts to make the wrong right by punishing dishonest people while at the same time ensure that the masses get what they aspire for. But when his life return to normal he will find that nothing is the same anymore as he and his loved ones are made targets by Chauhan's goons this pushes Shivaji to enter politics and eventually elect as the Chief Minister - a Chief Minister who wants to continue the remaining of his day's work.",
         "A man accepts a challenge by the chief minister of Maharashtra to run the state for one day  and makes such a success of it that soon he is embroiled in political intrigue.",
         "Fight the power",
         "Anil Kapoor|Rani Mukerji|Amrish Puri|Johnny Lever|Pooja Batra|Sushmita Sen|",
         "2 nominations",
         "7 September 2001 (India)"
        ],
        [
         "1617",
         "Officer (2001 film)",
         "tt0265452",
         null,
         "https://en.wikipedia.org/wiki/Officer_(2001_film)",
         "Officer",
         "Officer",
         "0",
         "2001",
         "\\N",
         "Action|Crime|Drama",
         "5.3",
         "97",
         "SPU unit officer Sagar Chauhan is assigned with the task of looking over Meenal Patel the mentally imbalance wife of multi-millionaire businessman Pratap Rai. When Meenal dramatizes her death; Sagar begins investigations and comes to realize that he is merely used as a poppet in the hands of some influential people who wants to divert his attention elsewhere so that they can carry on with their unlawful activities at ease.",
         "SPU unit officer Sagar Chauhan is assigned with the task of looking over Meenal Patel the mentally imbalance wife of multi-millionaire businessman Pratap Rai. When Meenal dramatizes her ...                    ",
         null,
         "Sunil Shetty|Raveena Tandon|Danny Denzongpa|",
         null,
         "14 March 2001 (Kuwait)"
        ],
        [
         "1608",
         "One 2 Ka 4",
         "tt0227194",
         "https://upload.wikimedia.org/wikipedia/en/thumb/b/bb/One_2_Ka_4.jpg/220px-One_2_Ka_4.jpg",
         "https://en.wikipedia.org/wiki/One_2_Ka_4",
         "One 2 Ka 4",
         "One 2 Ka 4",
         "0",
         "2001",
         "169",
         "Action|Comedy|Crime",
         "5.4",
         "4484",
         "Javed Abbas (Jackie Shroff) is a widowed police officer with four children. His partner is Arun Verma (Shahrukh Khan). Both Javed and Arun are honest  hard-working and diligent. This leads to the \"death\" of Javed in mysterious circumstances. After Javed's death  Arun takes over the responsibility of looking after his four children. He runs into several problems and decides to seek the help of Geeta Choudhary (Juhi Chawla)  who readily agrees and moves in with him and the four children. The children take an instant liking to Geeta and things seem to settle down. One day Arun finds out that his former partner's death was really a homicide. When he attempts to investigate  charges of drug-trafficking and bribery are brought out against him. He also finds out that Geeta is not what she claims to be.",
         "When a cop's partner is killed in the line of duty  he assumed guardianship of his orphaned children while investigating the murder.",
         null,
         "Shah Rukh Khan|Juhi Chawla|Jackie Shroff|Nirmal Pandey|Dilip Joshi|",
         null,
         "30 March 2001 (India)"
        ],
        [
         "1613",
         "Paagalpan",
         "tt0285319",
         "https://upload.wikimedia.org/wikipedia/en/thumb/9/90/Paagalpan_poster.jpg/220px-Paagalpan_poster.jpg",
         "https://en.wikipedia.org/wiki/Paagalpan",
         "Paagalpan",
         "Paagalpan",
         "0",
         "2001",
         "146",
         "Romance",
         "6.6",
         "39",
         "Young and attractive Roma Pinto is the only girl in the struggling Pinto family  consisting of five brothers  with assorted careers. They are very protective and affectionate towards her  and will not any woo her without their express permission. When Sameer Malhotra enters Roma's life  both fall in love  and decide to get married. The problem is Sameer's father is a wealthy industrialist  who will never permit his son to get married to a poor girl like Roma. And Roma's brothers do not approve of Sameer and will not permit him under any circumstances to get close to Roma  and will go to the extent of killing anyone who gets in their way.",
         "Young and attractive Roma Pinto is the only girl in the struggling Pinto family  consisting of five brothers  with assorted careers. They are very protective and affectionate towards her  ...                    ",
         null,
         "Karan Nath|Aarti Agarwal|Vilas Ujawane|Bharat Dabholkar|Joy Fernandes|Farhan Khan|Harvey Rosemeyer|Talat Rekhi|Sambhavna Sheth|Prema Kiran|Premendra Sharma|Bakul Thakker|Raj Nair|Iqbal Dosani|",
         null,
         "8 June 2001 (India)"
        ],
        [
         "1611",
         "Pyaar Ishq Aur Mohabbat",
         "tt0285958",
         "https://upload.wikimedia.org/wikipedia/en/thumb/a/ab/Pyaar_Ishq_Aur_Mohabbat.jpg/220px-Pyaar_Ishq_Aur_Mohabbat.jpg",
         "https://en.wikipedia.org/wiki/Pyaar_Ishq_Aur_Mohabbat",
         "Pyaar Ishq Aur Mohabbat",
         "Pyaar Ishq Aur Mohabbat",
         "0",
         "2001",
         "\\N",
         "Drama|Musical|Romance",
         "4.0",
         "528",
         "Young and beautiful Isha Nair has three admirers - Yash Sabharwal  Gaurav Saxena and Taj Bharadwaj; all of them comes from affluent backgrounds and are willing to go to any length in order to attain her love but it is up to Isha to choose her prospective life-partner.",
         "Young and beautiful Isha Nair has three admirers - Yash Sabharwal  Gaurav Saxena and Taj Bharadwaj; all of them comes from affluent backgrounds and are willing to go to any length in order ...                    ",
         null,
         "Arjun Rampal|Kirti Reddy|Sunil Shetty|Aftab Shivdasani|Monica Bedi|Isha Koppikar|Raza Murad|Harish Patel|Dalip Tahil|Smita Jaykar|Priya Tendulkar|Anjan Srivastav|Ashwani Chopra|Denzil Smith|",
         "1 win",
         "26 September 2001 (Kuwait)"
        ],
        [
         "1612",
         "Pyaar Tune Kya Kiya",
         "tt0281102",
         "https://upload.wikimedia.org/wikipedia/en/thumb/3/3b/Pyaar_Tune_Kya_Kiya.jpg/220px-Pyaar_Tune_Kya_Kiya.jpg",
         "https://en.wikipedia.org/wiki/Pyaar_Tune_Kya_Kiya",
         "Pyaar Tune Kya Kiya...",
         "Pyaar Tune Kya Kiya...",
         "0",
         "2001",
         "123",
         "Romance|Thriller",
         "5.7",
         "719",
         "Ria Jaiswal lives a very wealthy lifestyle along with her mom and dad. As she is the only child in this family  her parents dot on her and give in to her every wish. As a child she saw a toy on TV and asked her dad to get it. When he told her that he was unable to do  she stopped speaking and eating - until her dad somehow managed to get the toy from America. Subsequently  Ria's mom passed away. Years later  Ria has now grown up to be a very attractive young woman. She meets with Jai  a photographer from Style Magazine  she models and is very attracted to him. She tells her dad that she wants to get married and goes to Jai's house to get him to meet her dad. When she reaches his house in Lokhandwala Complex  she finds out that he is already married to a woman named Geeta  and very much in love with her. A betrayed Ria  unable to get Jai out of her mind  obsesses over him - and decides that he and she are meant for each other - and sets about to carry her task - to force Jai to accept ...",
         "A obsessive woman determines to do what it takes to get her lover - at any cost.",
         null,
         "Fardeen Khan|",
         "8 nominations",
         "27 April 2001 (India)"
        ]
       ],
       "shape": {
        "columns": 18,
        "rows": 1629
       }
      },
      "text/html": [
       "<div>\n",
       "<style scoped>\n",
       "    .dataframe tbody tr th:only-of-type {\n",
       "        vertical-align: middle;\n",
       "    }\n",
       "\n",
       "    .dataframe tbody tr th {\n",
       "        vertical-align: top;\n",
       "    }\n",
       "\n",
       "    .dataframe thead th {\n",
       "        text-align: right;\n",
       "    }\n",
       "</style>\n",
       "<table border=\"1\" class=\"dataframe\">\n",
       "  <thead>\n",
       "    <tr style=\"text-align: right;\">\n",
       "      <th></th>\n",
       "      <th>title_x</th>\n",
       "      <th>imdb_id</th>\n",
       "      <th>poster_path</th>\n",
       "      <th>wiki_link</th>\n",
       "      <th>title_y</th>\n",
       "      <th>original_title</th>\n",
       "      <th>is_adult</th>\n",
       "      <th>year_of_release</th>\n",
       "      <th>runtime</th>\n",
       "      <th>genres</th>\n",
       "      <th>imdb_rating</th>\n",
       "      <th>imdb_votes</th>\n",
       "      <th>story</th>\n",
       "      <th>summary</th>\n",
       "      <th>tagline</th>\n",
       "      <th>actors</th>\n",
       "      <th>wins_nominations</th>\n",
       "      <th>release_date</th>\n",
       "    </tr>\n",
       "  </thead>\n",
       "  <tbody>\n",
       "    <tr>\n",
       "      <th>1575</th>\n",
       "      <td>Aalavandhan</td>\n",
       "      <td>tt0294264</td>\n",
       "      <td>https://upload.wikimedia.org/wikipedia/en/thum...</td>\n",
       "      <td>https://en.wikipedia.org/wiki/Aalavandhan</td>\n",
       "      <td>Aalavandhan</td>\n",
       "      <td>Aalavandhan</td>\n",
       "      <td>0</td>\n",
       "      <td>2001</td>\n",
       "      <td>177</td>\n",
       "      <td>Action|Thriller</td>\n",
       "      <td>7.1</td>\n",
       "      <td>1746</td>\n",
       "      <td>The story follows Abhay (Haasan) who has a dis...</td>\n",
       "      <td>A psychopath tries to protect his twin brother...</td>\n",
       "      <td>The Fearless</td>\n",
       "      <td>Kamal Haasan|Raveena Tandon|Manisha Koirala|Ki...</td>\n",
       "      <td>1 win &amp; 1 nomination</td>\n",
       "      <td>16 November 2001 (India)</td>\n",
       "    </tr>\n",
       "    <tr>\n",
       "      <th>1576</th>\n",
       "      <td>Aamdani Atthanni Kharcha Rupaiya</td>\n",
       "      <td>tt0305173</td>\n",
       "      <td>https://upload.wikimedia.org/wikipedia/en/thum...</td>\n",
       "      <td>https://en.wikipedia.org/wiki/Aamdani_Atthanni...</td>\n",
       "      <td>Aamdani Atthanni Kharcha Rupaiya</td>\n",
       "      <td>Aamdani Atthanni Kharcha Rupaiya</td>\n",
       "      <td>0</td>\n",
       "      <td>2001</td>\n",
       "      <td>150</td>\n",
       "      <td>Comedy|Drama|Family</td>\n",
       "      <td>4.7</td>\n",
       "      <td>1026</td>\n",
       "      <td>Jhoomri and her husband  Bhimsha  move into a ...</td>\n",
       "      <td>In order to make ends meet  three women steps ...</td>\n",
       "      <td>NaN</td>\n",
       "      <td>Govinda|Juhi Chawla|Tabu|Chandrachur Singh|Joh...</td>\n",
       "      <td>1 nomination</td>\n",
       "      <td>21 December 2001 (India)</td>\n",
       "    </tr>\n",
       "    <tr>\n",
       "      <th>1577</th>\n",
       "      <td>Aashiq (2001 film)</td>\n",
       "      <td>tt0273406</td>\n",
       "      <td>https://upload.wikimedia.org/wikipedia/en/c/c6...</td>\n",
       "      <td>https://en.wikipedia.org/wiki/Aashiq_(2001_film)</td>\n",
       "      <td>Aashiq</td>\n",
       "      <td>Aashiq</td>\n",
       "      <td>0</td>\n",
       "      <td>2001</td>\n",
       "      <td>160</td>\n",
       "      <td>Action|Drama|Romance</td>\n",
       "      <td>3.8</td>\n",
       "      <td>357</td>\n",
       "      <td>Pooja and Chander Kapoor have a heart-to-heart...</td>\n",
       "      <td>Pooja and Chander Kapoor have a heart-to-heart...</td>\n",
       "      <td>NaN</td>\n",
       "      <td>Bobby Deol|Karisma Kapoor|</td>\n",
       "      <td>NaN</td>\n",
       "      <td>26 January 2001 (India)</td>\n",
       "    </tr>\n",
       "    <tr>\n",
       "      <th>1579</th>\n",
       "      <td>Ajnabee (2001 film)</td>\n",
       "      <td>tt0278291</td>\n",
       "      <td>https://upload.wikimedia.org/wikipedia/en/thum...</td>\n",
       "      <td>https://en.wikipedia.org/wiki/Ajnabee_(2001_film)</td>\n",
       "      <td>Ajnabee</td>\n",
       "      <td>Ajnabee</td>\n",
       "      <td>0</td>\n",
       "      <td>2001</td>\n",
       "      <td>165</td>\n",
       "      <td>Action|Crime|Drama</td>\n",
       "      <td>6.3</td>\n",
       "      <td>7480</td>\n",
       "      <td>A new couple get married and move to Switzerla...</td>\n",
       "      <td>Bobby Deol and Kareena Kapoor play a new coupl...</td>\n",
       "      <td>Trust no one</td>\n",
       "      <td>Akshay Kumar|Bobby Deol|Kareena Kapoor|Bipasha...</td>\n",
       "      <td>3 wins &amp; 9 nominations</td>\n",
       "      <td>21 September 2001 (India)</td>\n",
       "    </tr>\n",
       "    <tr>\n",
       "      <th>1578</th>\n",
       "      <td>Aks (2001 film)</td>\n",
       "      <td>tt0289845</td>\n",
       "      <td>https://upload.wikimedia.org/wikipedia/en/thum...</td>\n",
       "      <td>https://en.wikipedia.org/wiki/Aks_(2001_film)</td>\n",
       "      <td>Aks</td>\n",
       "      <td>Aks</td>\n",
       "      <td>0</td>\n",
       "      <td>2001</td>\n",
       "      <td>184</td>\n",
       "      <td>Action|Crime|Horror</td>\n",
       "      <td>5.9</td>\n",
       "      <td>1518</td>\n",
       "      <td>Aks is the story of a hunter and his prey. A c...</td>\n",
       "      <td>Raghavan Ghatge  a psychotic terrorist  and Ma...</td>\n",
       "      <td>There is a stranger in your mirror</td>\n",
       "      <td>Amitabh Bachchan|Raveena Tandon|Manoj Bajpayee...</td>\n",
       "      <td>9 wins &amp; 14 nominations</td>\n",
       "      <td>13 July 2001 (India)</td>\n",
       "    </tr>\n",
       "    <tr>\n",
       "      <th>...</th>\n",
       "      <td>...</td>\n",
       "      <td>...</td>\n",
       "      <td>...</td>\n",
       "      <td>...</td>\n",
       "      <td>...</td>\n",
       "      <td>...</td>\n",
       "      <td>...</td>\n",
       "      <td>...</td>\n",
       "      <td>...</td>\n",
       "      <td>...</td>\n",
       "      <td>...</td>\n",
       "      <td>...</td>\n",
       "      <td>...</td>\n",
       "      <td>...</td>\n",
       "      <td>...</td>\n",
       "      <td>...</td>\n",
       "      <td>...</td>\n",
       "      <td>...</td>\n",
       "    </tr>\n",
       "    <tr>\n",
       "      <th>64</th>\n",
       "      <td>Ujda Chaman</td>\n",
       "      <td>tt11046300</td>\n",
       "      <td>https://upload.wikimedia.org/wikipedia/en/thum...</td>\n",
       "      <td>https://en.wikipedia.org/wiki/Ujda_Chaman</td>\n",
       "      <td>Ujda Chaman</td>\n",
       "      <td>Ujda Chaman</td>\n",
       "      <td>0</td>\n",
       "      <td>2019</td>\n",
       "      <td>120</td>\n",
       "      <td>Comedy</td>\n",
       "      <td>8.1</td>\n",
       "      <td>1440</td>\n",
       "      <td>Ujda Chaman is about a 30 -year-old bachelor C...</td>\n",
       "      <td>Ujda Chaman is about a 30 -year-old bachelor C...</td>\n",
       "      <td>NaN</td>\n",
       "      <td>Sunny Singh Nijjar|Maanvi Gagroo|Saurabh Shukl...</td>\n",
       "      <td>NaN</td>\n",
       "      <td>1 November 2019 (USA)</td>\n",
       "    </tr>\n",
       "    <tr>\n",
       "      <th>0</th>\n",
       "      <td>Uri: The Surgical Strike</td>\n",
       "      <td>tt8291224</td>\n",
       "      <td>https://upload.wikimedia.org/wikipedia/en/thum...</td>\n",
       "      <td>https://en.wikipedia.org/wiki/Uri:_The_Surgica...</td>\n",
       "      <td>Uri: The Surgical Strike</td>\n",
       "      <td>Uri: The Surgical Strike</td>\n",
       "      <td>0</td>\n",
       "      <td>2019</td>\n",
       "      <td>138</td>\n",
       "      <td>Action|Drama|War</td>\n",
       "      <td>8.4</td>\n",
       "      <td>35112</td>\n",
       "      <td>Divided over five chapters  the film chronicle...</td>\n",
       "      <td>Indian army special forces execute a covert op...</td>\n",
       "      <td>NaN</td>\n",
       "      <td>Vicky Kaushal|Paresh Rawal|Mohit Raina|Yami Ga...</td>\n",
       "      <td>4 wins</td>\n",
       "      <td>11 January 2019 (USA)</td>\n",
       "    </tr>\n",
       "    <tr>\n",
       "      <th>3</th>\n",
       "      <td>Why Cheat India</td>\n",
       "      <td>tt8108208</td>\n",
       "      <td>https://upload.wikimedia.org/wikipedia/en/thum...</td>\n",
       "      <td>https://en.wikipedia.org/wiki/Why_Cheat_India</td>\n",
       "      <td>Why Cheat India</td>\n",
       "      <td>Why Cheat India</td>\n",
       "      <td>0</td>\n",
       "      <td>2019</td>\n",
       "      <td>121</td>\n",
       "      <td>Crime|Drama</td>\n",
       "      <td>6.0</td>\n",
       "      <td>1891</td>\n",
       "      <td>The movie focuses on existing malpractices in ...</td>\n",
       "      <td>The movie focuses on existing malpractices in ...</td>\n",
       "      <td>NaN</td>\n",
       "      <td>Emraan Hashmi|Shreya Dhanwanthary|Snighdadeep ...</td>\n",
       "      <td>NaN</td>\n",
       "      <td>18 January 2019 (USA)</td>\n",
       "    </tr>\n",
       "    <tr>\n",
       "      <th>60</th>\n",
       "      <td>Yaaram (2019 film)</td>\n",
       "      <td>tt11007050</td>\n",
       "      <td>https://upload.wikimedia.org/wikipedia/en/thum...</td>\n",
       "      <td>https://en.wikipedia.org/wiki/Yaaram_(2019_film)</td>\n",
       "      <td>#Yaaram</td>\n",
       "      <td>#Yaaram</td>\n",
       "      <td>0</td>\n",
       "      <td>2019</td>\n",
       "      <td>\\N</td>\n",
       "      <td>Comedy|Romance</td>\n",
       "      <td>5.7</td>\n",
       "      <td>7</td>\n",
       "      <td>All set for an arranged marriage  Rohit Bajaj ...</td>\n",
       "      <td>All set for an arranged marriage  Rohit Bajaj ...</td>\n",
       "      <td>NaN</td>\n",
       "      <td>Siddhanth Kapoor|Prateik|Anita Raj|Ishita Raj|...</td>\n",
       "      <td>NaN</td>\n",
       "      <td>NaN</td>\n",
       "    </tr>\n",
       "    <tr>\n",
       "      <th>73</th>\n",
       "      <td>Yeh Saali Aashiqui</td>\n",
       "      <td>tt10443846</td>\n",
       "      <td>https://upload.wikimedia.org/wikipedia/en/thum...</td>\n",
       "      <td>https://en.wikipedia.org/wiki/Yeh_Saali_Aashiqui</td>\n",
       "      <td>Yeh Saali Aashiqui</td>\n",
       "      <td>Yeh Saali Aashiqui</td>\n",
       "      <td>0</td>\n",
       "      <td>2019</td>\n",
       "      <td>137</td>\n",
       "      <td>Thriller</td>\n",
       "      <td>7.9</td>\n",
       "      <td>3200</td>\n",
       "      <td>NaN</td>\n",
       "      <td>Add a Plot »</td>\n",
       "      <td>NaN</td>\n",
       "      <td>Vardhan Puri|Jessey Lever|</td>\n",
       "      <td>NaN</td>\n",
       "      <td>NaN</td>\n",
       "    </tr>\n",
       "  </tbody>\n",
       "</table>\n",
       "<p>1629 rows × 18 columns</p>\n",
       "</div>"
      ],
      "text/plain": [
       "                               title_x     imdb_id  \\\n",
       "1575                       Aalavandhan   tt0294264   \n",
       "1576  Aamdani Atthanni Kharcha Rupaiya   tt0305173   \n",
       "1577                Aashiq (2001 film)   tt0273406   \n",
       "1579               Ajnabee (2001 film)   tt0278291   \n",
       "1578                   Aks (2001 film)   tt0289845   \n",
       "...                                ...         ...   \n",
       "64                         Ujda Chaman  tt11046300   \n",
       "0             Uri: The Surgical Strike   tt8291224   \n",
       "3                      Why Cheat India   tt8108208   \n",
       "60                  Yaaram (2019 film)  tt11007050   \n",
       "73                  Yeh Saali Aashiqui  tt10443846   \n",
       "\n",
       "                                            poster_path  \\\n",
       "1575  https://upload.wikimedia.org/wikipedia/en/thum...   \n",
       "1576  https://upload.wikimedia.org/wikipedia/en/thum...   \n",
       "1577  https://upload.wikimedia.org/wikipedia/en/c/c6...   \n",
       "1579  https://upload.wikimedia.org/wikipedia/en/thum...   \n",
       "1578  https://upload.wikimedia.org/wikipedia/en/thum...   \n",
       "...                                                 ...   \n",
       "64    https://upload.wikimedia.org/wikipedia/en/thum...   \n",
       "0     https://upload.wikimedia.org/wikipedia/en/thum...   \n",
       "3     https://upload.wikimedia.org/wikipedia/en/thum...   \n",
       "60    https://upload.wikimedia.org/wikipedia/en/thum...   \n",
       "73    https://upload.wikimedia.org/wikipedia/en/thum...   \n",
       "\n",
       "                                              wiki_link  \\\n",
       "1575          https://en.wikipedia.org/wiki/Aalavandhan   \n",
       "1576  https://en.wikipedia.org/wiki/Aamdani_Atthanni...   \n",
       "1577   https://en.wikipedia.org/wiki/Aashiq_(2001_film)   \n",
       "1579  https://en.wikipedia.org/wiki/Ajnabee_(2001_film)   \n",
       "1578      https://en.wikipedia.org/wiki/Aks_(2001_film)   \n",
       "...                                                 ...   \n",
       "64            https://en.wikipedia.org/wiki/Ujda_Chaman   \n",
       "0     https://en.wikipedia.org/wiki/Uri:_The_Surgica...   \n",
       "3         https://en.wikipedia.org/wiki/Why_Cheat_India   \n",
       "60     https://en.wikipedia.org/wiki/Yaaram_(2019_film)   \n",
       "73     https://en.wikipedia.org/wiki/Yeh_Saali_Aashiqui   \n",
       "\n",
       "                               title_y                    original_title  \\\n",
       "1575                       Aalavandhan                       Aalavandhan   \n",
       "1576  Aamdani Atthanni Kharcha Rupaiya  Aamdani Atthanni Kharcha Rupaiya   \n",
       "1577                            Aashiq                            Aashiq   \n",
       "1579                           Ajnabee                           Ajnabee   \n",
       "1578                               Aks                               Aks   \n",
       "...                                ...                               ...   \n",
       "64                         Ujda Chaman                       Ujda Chaman   \n",
       "0             Uri: The Surgical Strike          Uri: The Surgical Strike   \n",
       "3                      Why Cheat India                   Why Cheat India   \n",
       "60                             #Yaaram                           #Yaaram   \n",
       "73                  Yeh Saali Aashiqui                Yeh Saali Aashiqui   \n",
       "\n",
       "      is_adult  year_of_release runtime                genres  imdb_rating  \\\n",
       "1575         0             2001     177       Action|Thriller          7.1   \n",
       "1576         0             2001     150   Comedy|Drama|Family          4.7   \n",
       "1577         0             2001     160  Action|Drama|Romance          3.8   \n",
       "1579         0             2001     165    Action|Crime|Drama          6.3   \n",
       "1578         0             2001     184   Action|Crime|Horror          5.9   \n",
       "...        ...              ...     ...                   ...          ...   \n",
       "64           0             2019     120                Comedy          8.1   \n",
       "0            0             2019     138      Action|Drama|War          8.4   \n",
       "3            0             2019     121           Crime|Drama          6.0   \n",
       "60           0             2019      \\N        Comedy|Romance          5.7   \n",
       "73           0             2019     137              Thriller          7.9   \n",
       "\n",
       "      imdb_votes                                              story  \\\n",
       "1575        1746  The story follows Abhay (Haasan) who has a dis...   \n",
       "1576        1026  Jhoomri and her husband  Bhimsha  move into a ...   \n",
       "1577         357  Pooja and Chander Kapoor have a heart-to-heart...   \n",
       "1579        7480  A new couple get married and move to Switzerla...   \n",
       "1578        1518  Aks is the story of a hunter and his prey. A c...   \n",
       "...          ...                                                ...   \n",
       "64          1440  Ujda Chaman is about a 30 -year-old bachelor C...   \n",
       "0          35112  Divided over five chapters  the film chronicle...   \n",
       "3           1891  The movie focuses on existing malpractices in ...   \n",
       "60             7  All set for an arranged marriage  Rohit Bajaj ...   \n",
       "73          3200                                                NaN   \n",
       "\n",
       "                                                summary  \\\n",
       "1575  A psychopath tries to protect his twin brother...   \n",
       "1576  In order to make ends meet  three women steps ...   \n",
       "1577  Pooja and Chander Kapoor have a heart-to-heart...   \n",
       "1579  Bobby Deol and Kareena Kapoor play a new coupl...   \n",
       "1578  Raghavan Ghatge  a psychotic terrorist  and Ma...   \n",
       "...                                                 ...   \n",
       "64    Ujda Chaman is about a 30 -year-old bachelor C...   \n",
       "0     Indian army special forces execute a covert op...   \n",
       "3     The movie focuses on existing malpractices in ...   \n",
       "60    All set for an arranged marriage  Rohit Bajaj ...   \n",
       "73                                         Add a Plot »   \n",
       "\n",
       "                                 tagline  \\\n",
       "1575                        The Fearless   \n",
       "1576                                 NaN   \n",
       "1577                                 NaN   \n",
       "1579                        Trust no one   \n",
       "1578  There is a stranger in your mirror   \n",
       "...                                  ...   \n",
       "64                                   NaN   \n",
       "0                                    NaN   \n",
       "3                                    NaN   \n",
       "60                                   NaN   \n",
       "73                                   NaN   \n",
       "\n",
       "                                                 actors  \\\n",
       "1575  Kamal Haasan|Raveena Tandon|Manisha Koirala|Ki...   \n",
       "1576  Govinda|Juhi Chawla|Tabu|Chandrachur Singh|Joh...   \n",
       "1577                         Bobby Deol|Karisma Kapoor|   \n",
       "1579  Akshay Kumar|Bobby Deol|Kareena Kapoor|Bipasha...   \n",
       "1578  Amitabh Bachchan|Raveena Tandon|Manoj Bajpayee...   \n",
       "...                                                 ...   \n",
       "64    Sunny Singh Nijjar|Maanvi Gagroo|Saurabh Shukl...   \n",
       "0     Vicky Kaushal|Paresh Rawal|Mohit Raina|Yami Ga...   \n",
       "3     Emraan Hashmi|Shreya Dhanwanthary|Snighdadeep ...   \n",
       "60    Siddhanth Kapoor|Prateik|Anita Raj|Ishita Raj|...   \n",
       "73                           Vardhan Puri|Jessey Lever|   \n",
       "\n",
       "             wins_nominations               release_date  \n",
       "1575     1 win & 1 nomination   16 November 2001 (India)  \n",
       "1576             1 nomination   21 December 2001 (India)  \n",
       "1577                      NaN    26 January 2001 (India)  \n",
       "1579   3 wins & 9 nominations  21 September 2001 (India)  \n",
       "1578  9 wins & 14 nominations       13 July 2001 (India)  \n",
       "...                       ...                        ...  \n",
       "64                        NaN      1 November 2019 (USA)  \n",
       "0                      4 wins      11 January 2019 (USA)  \n",
       "3                         NaN      18 January 2019 (USA)  \n",
       "60                        NaN                        NaN  \n",
       "73                        NaN                        NaN  \n",
       "\n",
       "[1629 rows x 18 columns]"
      ]
     },
     "execution_count": 216,
     "metadata": {},
     "output_type": "execute_result"
    }
   ],
   "source": [
    "movies.sort_values(['year_of_release','title_x'], ascending=[True, True])"
   ]
  },
  {
   "cell_type": "markdown",
   "id": "30f55459",
   "metadata": {},
   "source": [
    "---"
   ]
  },
  {
   "cell_type": "markdown",
   "id": "8a7cea06",
   "metadata": {},
   "source": [
    "## .rank(): only applocable on series."
   ]
  },
  {
   "cell_type": "code",
   "execution_count": 217,
   "id": "89c67916",
   "metadata": {},
   "outputs": [
    {
     "data": {
      "application/vnd.microsoft.datawrangler.viewer.v0+json": {
       "columns": [
        {
         "name": "index",
         "rawType": "int64",
         "type": "integer"
        },
        {
         "name": "batter",
         "rawType": "object",
         "type": "string"
        },
        {
         "name": "batsman_run",
         "rawType": "int64",
         "type": "integer"
        },
        {
         "name": "batting_rank",
         "rawType": "float64",
         "type": "float"
        }
       ],
       "ref": "f3e824d5-4aac-4c35-b76e-a670e1a08499",
       "rows": [
        [
         "569",
         "V Kohli",
         "6634",
         "1.0"
        ],
        [
         "462",
         "S Dhawan",
         "6244",
         "2.0"
        ],
        [
         "130",
         "DA Warner",
         "5883",
         "3.0"
        ],
        [
         "430",
         "RG Sharma",
         "5881",
         "4.0"
        ],
        [
         "493",
         "SK Raina",
         "5536",
         "5.0"
        ],
        [
         "27",
         "AB de Villiers",
         "5181",
         "6.0"
        ],
        [
         "108",
         "CH Gayle",
         "4997",
         "7.0"
        ],
        [
         "339",
         "MS Dhoni",
         "4978",
         "8.0"
        ],
        [
         "452",
         "RV Uthappa",
         "4954",
         "9.0"
        ],
        [
         "256",
         "KD Karthik",
         "4377",
         "10.0"
        ],
        [
         "174",
         "G Gambhir",
         "4217",
         "11.0"
        ],
        [
         "60",
         "AT Rayudu",
         "4190",
         "12.0"
        ],
        [
         "46",
         "AM Rahane",
         "4074",
         "13.0"
        ],
        [
         "263",
         "KL Rahul",
         "3895",
         "14.0"
        ],
        [
         "511",
         "SR Watson",
         "3880",
         "15.0"
        ],
        [
         "328",
         "MK Pandey",
         "3657",
         "16.0"
        ],
        [
         "519",
         "SV Samson",
         "3526",
         "17.0"
        ],
        [
         "251",
         "KA Pollard",
         "3437",
         "18.0"
        ],
        [
         "169",
         "F du Plessis",
         "3403",
         "19.0"
        ],
        [
         "597",
         "YK Pathan",
         "3222",
         "20.0"
        ]
       ],
       "shape": {
        "columns": 3,
        "rows": 20
       }
      },
      "text/html": [
       "<div>\n",
       "<style scoped>\n",
       "    .dataframe tbody tr th:only-of-type {\n",
       "        vertical-align: middle;\n",
       "    }\n",
       "\n",
       "    .dataframe tbody tr th {\n",
       "        vertical-align: top;\n",
       "    }\n",
       "\n",
       "    .dataframe thead th {\n",
       "        text-align: right;\n",
       "    }\n",
       "</style>\n",
       "<table border=\"1\" class=\"dataframe\">\n",
       "  <thead>\n",
       "    <tr style=\"text-align: right;\">\n",
       "      <th></th>\n",
       "      <th>batter</th>\n",
       "      <th>batsman_run</th>\n",
       "      <th>batting_rank</th>\n",
       "    </tr>\n",
       "  </thead>\n",
       "  <tbody>\n",
       "    <tr>\n",
       "      <th>569</th>\n",
       "      <td>V Kohli</td>\n",
       "      <td>6634</td>\n",
       "      <td>1.0</td>\n",
       "    </tr>\n",
       "    <tr>\n",
       "      <th>462</th>\n",
       "      <td>S Dhawan</td>\n",
       "      <td>6244</td>\n",
       "      <td>2.0</td>\n",
       "    </tr>\n",
       "    <tr>\n",
       "      <th>130</th>\n",
       "      <td>DA Warner</td>\n",
       "      <td>5883</td>\n",
       "      <td>3.0</td>\n",
       "    </tr>\n",
       "    <tr>\n",
       "      <th>430</th>\n",
       "      <td>RG Sharma</td>\n",
       "      <td>5881</td>\n",
       "      <td>4.0</td>\n",
       "    </tr>\n",
       "    <tr>\n",
       "      <th>493</th>\n",
       "      <td>SK Raina</td>\n",
       "      <td>5536</td>\n",
       "      <td>5.0</td>\n",
       "    </tr>\n",
       "    <tr>\n",
       "      <th>27</th>\n",
       "      <td>AB de Villiers</td>\n",
       "      <td>5181</td>\n",
       "      <td>6.0</td>\n",
       "    </tr>\n",
       "    <tr>\n",
       "      <th>108</th>\n",
       "      <td>CH Gayle</td>\n",
       "      <td>4997</td>\n",
       "      <td>7.0</td>\n",
       "    </tr>\n",
       "    <tr>\n",
       "      <th>339</th>\n",
       "      <td>MS Dhoni</td>\n",
       "      <td>4978</td>\n",
       "      <td>8.0</td>\n",
       "    </tr>\n",
       "    <tr>\n",
       "      <th>452</th>\n",
       "      <td>RV Uthappa</td>\n",
       "      <td>4954</td>\n",
       "      <td>9.0</td>\n",
       "    </tr>\n",
       "    <tr>\n",
       "      <th>256</th>\n",
       "      <td>KD Karthik</td>\n",
       "      <td>4377</td>\n",
       "      <td>10.0</td>\n",
       "    </tr>\n",
       "    <tr>\n",
       "      <th>174</th>\n",
       "      <td>G Gambhir</td>\n",
       "      <td>4217</td>\n",
       "      <td>11.0</td>\n",
       "    </tr>\n",
       "    <tr>\n",
       "      <th>60</th>\n",
       "      <td>AT Rayudu</td>\n",
       "      <td>4190</td>\n",
       "      <td>12.0</td>\n",
       "    </tr>\n",
       "    <tr>\n",
       "      <th>46</th>\n",
       "      <td>AM Rahane</td>\n",
       "      <td>4074</td>\n",
       "      <td>13.0</td>\n",
       "    </tr>\n",
       "    <tr>\n",
       "      <th>263</th>\n",
       "      <td>KL Rahul</td>\n",
       "      <td>3895</td>\n",
       "      <td>14.0</td>\n",
       "    </tr>\n",
       "    <tr>\n",
       "      <th>511</th>\n",
       "      <td>SR Watson</td>\n",
       "      <td>3880</td>\n",
       "      <td>15.0</td>\n",
       "    </tr>\n",
       "    <tr>\n",
       "      <th>328</th>\n",
       "      <td>MK Pandey</td>\n",
       "      <td>3657</td>\n",
       "      <td>16.0</td>\n",
       "    </tr>\n",
       "    <tr>\n",
       "      <th>519</th>\n",
       "      <td>SV Samson</td>\n",
       "      <td>3526</td>\n",
       "      <td>17.0</td>\n",
       "    </tr>\n",
       "    <tr>\n",
       "      <th>251</th>\n",
       "      <td>KA Pollard</td>\n",
       "      <td>3437</td>\n",
       "      <td>18.0</td>\n",
       "    </tr>\n",
       "    <tr>\n",
       "      <th>169</th>\n",
       "      <td>F du Plessis</td>\n",
       "      <td>3403</td>\n",
       "      <td>19.0</td>\n",
       "    </tr>\n",
       "    <tr>\n",
       "      <th>597</th>\n",
       "      <td>YK Pathan</td>\n",
       "      <td>3222</td>\n",
       "      <td>20.0</td>\n",
       "    </tr>\n",
       "  </tbody>\n",
       "</table>\n",
       "</div>"
      ],
      "text/plain": [
       "             batter  batsman_run  batting_rank\n",
       "569         V Kohli         6634           1.0\n",
       "462        S Dhawan         6244           2.0\n",
       "130       DA Warner         5883           3.0\n",
       "430       RG Sharma         5881           4.0\n",
       "493        SK Raina         5536           5.0\n",
       "27   AB de Villiers         5181           6.0\n",
       "108        CH Gayle         4997           7.0\n",
       "339        MS Dhoni         4978           8.0\n",
       "452      RV Uthappa         4954           9.0\n",
       "256      KD Karthik         4377          10.0\n",
       "174       G Gambhir         4217          11.0\n",
       "60        AT Rayudu         4190          12.0\n",
       "46        AM Rahane         4074          13.0\n",
       "263        KL Rahul         3895          14.0\n",
       "511       SR Watson         3880          15.0\n",
       "328       MK Pandey         3657          16.0\n",
       "519       SV Samson         3526          17.0\n",
       "251      KA Pollard         3437          18.0\n",
       "169    F du Plessis         3403          19.0\n",
       "597       YK Pathan         3222          20.0"
      ]
     },
     "execution_count": 217,
     "metadata": {},
     "output_type": "execute_result"
    }
   ],
   "source": [
    "batsman['batting_rank']=batsman['batsman_run'].rank(ascending=False)\n",
    "batsman.sort_values('batting_rank', ascending=True).head(20)"
   ]
  },
  {
   "cell_type": "markdown",
   "id": "def7e1ad",
   "metadata": {},
   "source": [
    "---"
   ]
  },
  {
   "cell_type": "markdown",
   "id": "9ba71642",
   "metadata": {},
   "source": [
    "## .sort_index():\n",
    "- Sorts the DataFrame wrt the index."
   ]
  },
  {
   "cell_type": "code",
   "execution_count": 218,
   "id": "bb619f7b",
   "metadata": {},
   "outputs": [
    {
     "data": {
      "application/vnd.microsoft.datawrangler.viewer.v0+json": {
       "columns": [
        {
         "name": "index",
         "rawType": "object",
         "type": "string"
        },
        {
         "name": "0",
         "rawType": "int64",
         "type": "integer"
        }
       ],
       "ref": "be7155aa-c5df-40bf-9370-83250816d992",
       "rows": [
        [
         "science",
         "89"
        ],
        [
         "maths",
         "67"
        ],
        [
         "history",
         "90"
        ],
        [
         "geography",
         "85"
        ],
        [
         "english",
         "78"
        ]
       ],
       "shape": {
        "columns": 1,
        "rows": 5
       }
      },
      "text/plain": [
       "science      89\n",
       "maths        67\n",
       "history      90\n",
       "geography    85\n",
       "english      78\n",
       "dtype: int64"
      ]
     },
     "execution_count": 218,
     "metadata": {},
     "output_type": "execute_result"
    }
   ],
   "source": [
    "marks= {\n",
    "    'maths': 67,\n",
    "    'english': 78,\n",
    "    'science': 89,\n",
    "    'history': 90,\n",
    "    'geography': 85\n",
    "}\n",
    "marks_series = pd.Series(marks)\n",
    "marks_series.sort_index(ascending=False)"
   ]
  },
  {
   "cell_type": "markdown",
   "id": "54cd8e43",
   "metadata": {},
   "source": [
    "---"
   ]
  },
  {
   "cell_type": "markdown",
   "id": "3b2d0c9e",
   "metadata": {},
   "source": [
    "## .set_index():\n",
    "- This method is used to set a column as the index of the DataFrame."
   ]
  },
  {
   "cell_type": "code",
   "execution_count": 219,
   "id": "426141c7",
   "metadata": {},
   "outputs": [
    {
     "data": {
      "application/vnd.microsoft.datawrangler.viewer.v0+json": {
       "columns": [
        {
         "name": "batter",
         "rawType": "object",
         "type": "string"
        },
        {
         "name": "batsman_run",
         "rawType": "int64",
         "type": "integer"
        },
        {
         "name": "batting_rank",
         "rawType": "float64",
         "type": "float"
        }
       ],
       "ref": "86baa2d4-a69f-468e-b48a-6e2794e8e6dd",
       "rows": [
        [
         "A Ashish Reddy",
         "280",
         "166.5"
        ],
        [
         "A Badoni",
         "161",
         "226.0"
        ],
        [
         "A Chandila",
         "4",
         "535.0"
        ],
        [
         "A Chopra",
         "53",
         "329.0"
        ],
        [
         "A Choudhary",
         "25",
         "402.5"
        ],
        [
         "A Dananjaya",
         "4",
         "535.0"
        ],
        [
         "A Flintoff",
         "62",
         "319.0"
        ],
        [
         "A Kumble",
         "35",
         "371.0"
        ],
        [
         "A Manohar",
         "108",
         "262.5"
        ],
        [
         "A Mishra",
         "362",
         "145.0"
        ],
        [
         "A Mithun",
         "34",
         "374.5"
        ],
        [
         "A Mukund",
         "19",
         "431.5"
        ],
        [
         "A Nehra",
         "41",
         "352.0"
        ],
        [
         "A Nortje",
         "8",
         "497.5"
        ],
        [
         "A Singh",
         "2",
         "561.5"
        ],
        [
         "A Symonds",
         "974",
         "87.0"
        ],
        [
         "A Tomar",
         "4",
         "535.0"
        ],
        [
         "A Uniyal",
         "4",
         "535.0"
        ],
        [
         "A Zampa",
         "5",
         "524.0"
        ],
        [
         "AA Bilakhia",
         "69",
         "307.0"
        ],
        [
         "AA Chavan",
         "12",
         "470.5"
        ],
        [
         "AA Jhunjhunwala",
         "217",
         "189.0"
        ],
        [
         "AA Noffke",
         "9",
         "490.5"
        ],
        [
         "AB Agarkar",
         "179",
         "212.5"
        ],
        [
         "AB Barath",
         "42",
         "350.5"
        ],
        [
         "AB Dinda",
         "26",
         "397.5"
        ],
        [
         "AB McDonald",
         "123",
         "249.0"
        ],
        [
         "AB de Villiers",
         "5181",
         "6.0"
        ],
        [
         "AC Blizzard",
         "120",
         "253.5"
        ],
        [
         "AC Gilchrist",
         "2069",
         "45.0"
        ],
        [
         "AC Thomas",
         "20",
         "424.0"
        ],
        [
         "AC Voges",
         "181",
         "209.5"
        ],
        [
         "AD Hales",
         "148",
         "230.0"
        ],
        [
         "AD Mascarenhas",
         "79",
         "294.5"
        ],
        [
         "AD Mathews",
         "724",
         "102.0"
        ],
        [
         "AD Nath",
         "90",
         "283.0"
        ],
        [
         "AD Russell",
         "2039",
         "46.0"
        ],
        [
         "AF Milne",
         "23",
         "410.5"
        ],
        [
         "AG Murtaza",
         "10",
         "484.5"
        ],
        [
         "AG Paunikar",
         "49",
         "341.0"
        ],
        [
         "AJ Finch",
         "2092",
         "44.0"
        ],
        [
         "AJ Turner",
         "3",
         "547.5"
        ],
        [
         "AJ Tye",
         "91",
         "281.0"
        ],
        [
         "AK Markram",
         "527",
         "120.5"
        ],
        [
         "AL Menaria",
         "401",
         "136.0"
        ],
        [
         "AM Nayar",
         "672",
         "105.0"
        ],
        [
         "AM Rahane",
         "4074",
         "13.0"
        ],
        [
         "AN Ahmed",
         "36",
         "366.5"
        ],
        [
         "AN Ghosh",
         "7",
         "508.0"
        ],
        [
         "AP Dole",
         "34",
         "374.5"
        ]
       ],
       "shape": {
        "columns": 2,
        "rows": 605
       }
      },
      "text/html": [
       "<div>\n",
       "<style scoped>\n",
       "    .dataframe tbody tr th:only-of-type {\n",
       "        vertical-align: middle;\n",
       "    }\n",
       "\n",
       "    .dataframe tbody tr th {\n",
       "        vertical-align: top;\n",
       "    }\n",
       "\n",
       "    .dataframe thead th {\n",
       "        text-align: right;\n",
       "    }\n",
       "</style>\n",
       "<table border=\"1\" class=\"dataframe\">\n",
       "  <thead>\n",
       "    <tr style=\"text-align: right;\">\n",
       "      <th></th>\n",
       "      <th>batsman_run</th>\n",
       "      <th>batting_rank</th>\n",
       "    </tr>\n",
       "    <tr>\n",
       "      <th>batter</th>\n",
       "      <th></th>\n",
       "      <th></th>\n",
       "    </tr>\n",
       "  </thead>\n",
       "  <tbody>\n",
       "    <tr>\n",
       "      <th>A Ashish Reddy</th>\n",
       "      <td>280</td>\n",
       "      <td>166.5</td>\n",
       "    </tr>\n",
       "    <tr>\n",
       "      <th>A Badoni</th>\n",
       "      <td>161</td>\n",
       "      <td>226.0</td>\n",
       "    </tr>\n",
       "    <tr>\n",
       "      <th>A Chandila</th>\n",
       "      <td>4</td>\n",
       "      <td>535.0</td>\n",
       "    </tr>\n",
       "    <tr>\n",
       "      <th>A Chopra</th>\n",
       "      <td>53</td>\n",
       "      <td>329.0</td>\n",
       "    </tr>\n",
       "    <tr>\n",
       "      <th>A Choudhary</th>\n",
       "      <td>25</td>\n",
       "      <td>402.5</td>\n",
       "    </tr>\n",
       "    <tr>\n",
       "      <th>...</th>\n",
       "      <td>...</td>\n",
       "      <td>...</td>\n",
       "    </tr>\n",
       "    <tr>\n",
       "      <th>Yash Dayal</th>\n",
       "      <td>0</td>\n",
       "      <td>594.0</td>\n",
       "    </tr>\n",
       "    <tr>\n",
       "      <th>Yashpal Singh</th>\n",
       "      <td>47</td>\n",
       "      <td>343.0</td>\n",
       "    </tr>\n",
       "    <tr>\n",
       "      <th>Younis Khan</th>\n",
       "      <td>3</td>\n",
       "      <td>547.5</td>\n",
       "    </tr>\n",
       "    <tr>\n",
       "      <th>Yuvraj Singh</th>\n",
       "      <td>2754</td>\n",
       "      <td>27.0</td>\n",
       "    </tr>\n",
       "    <tr>\n",
       "      <th>Z Khan</th>\n",
       "      <td>117</td>\n",
       "      <td>256.0</td>\n",
       "    </tr>\n",
       "  </tbody>\n",
       "</table>\n",
       "<p>605 rows × 2 columns</p>\n",
       "</div>"
      ],
      "text/plain": [
       "                batsman_run  batting_rank\n",
       "batter                                   \n",
       "A Ashish Reddy          280         166.5\n",
       "A Badoni                161         226.0\n",
       "A Chandila                4         535.0\n",
       "A Chopra                 53         329.0\n",
       "A Choudhary              25         402.5\n",
       "...                     ...           ...\n",
       "Yash Dayal                0         594.0\n",
       "Yashpal Singh            47         343.0\n",
       "Younis Khan               3         547.5\n",
       "Yuvraj Singh           2754          27.0\n",
       "Z Khan                  117         256.0\n",
       "\n",
       "[605 rows x 2 columns]"
      ]
     },
     "execution_count": 219,
     "metadata": {},
     "output_type": "execute_result"
    }
   ],
   "source": [
    "batsman.set_index('batter', inplace=True)\n",
    "batsman"
   ]
  },
  {
   "cell_type": "markdown",
   "id": "7f8381b4",
   "metadata": {},
   "source": [
    "---"
   ]
  },
  {
   "cell_type": "markdown",
   "id": "0132b043",
   "metadata": {},
   "source": [
    "## reset_index():\n",
    "- This method is used to reset the index of the DataFrame or series.\n",
    "- It can be used to convert the index into a column or to reset the index to the default integer index."
   ]
  },
  {
   "cell_type": "code",
   "execution_count": 220,
   "id": "cda090f8",
   "metadata": {},
   "outputs": [
    {
     "data": {
      "application/vnd.microsoft.datawrangler.viewer.v0+json": {
       "columns": [
        {
         "name": "index",
         "rawType": "int64",
         "type": "integer"
        },
        {
         "name": "batter",
         "rawType": "object",
         "type": "string"
        },
        {
         "name": "batsman_run",
         "rawType": "int64",
         "type": "integer"
        },
        {
         "name": "batting_rank",
         "rawType": "float64",
         "type": "float"
        }
       ],
       "ref": "31cfe1e9-f4ca-4f3e-b11c-bf83d1d1153b",
       "rows": [
        [
         "0",
         "A Ashish Reddy",
         "280",
         "166.5"
        ],
        [
         "1",
         "A Badoni",
         "161",
         "226.0"
        ],
        [
         "2",
         "A Chandila",
         "4",
         "535.0"
        ],
        [
         "3",
         "A Chopra",
         "53",
         "329.0"
        ],
        [
         "4",
         "A Choudhary",
         "25",
         "402.5"
        ],
        [
         "5",
         "A Dananjaya",
         "4",
         "535.0"
        ],
        [
         "6",
         "A Flintoff",
         "62",
         "319.0"
        ],
        [
         "7",
         "A Kumble",
         "35",
         "371.0"
        ],
        [
         "8",
         "A Manohar",
         "108",
         "262.5"
        ],
        [
         "9",
         "A Mishra",
         "362",
         "145.0"
        ],
        [
         "10",
         "A Mithun",
         "34",
         "374.5"
        ],
        [
         "11",
         "A Mukund",
         "19",
         "431.5"
        ],
        [
         "12",
         "A Nehra",
         "41",
         "352.0"
        ],
        [
         "13",
         "A Nortje",
         "8",
         "497.5"
        ],
        [
         "14",
         "A Singh",
         "2",
         "561.5"
        ],
        [
         "15",
         "A Symonds",
         "974",
         "87.0"
        ],
        [
         "16",
         "A Tomar",
         "4",
         "535.0"
        ],
        [
         "17",
         "A Uniyal",
         "4",
         "535.0"
        ],
        [
         "18",
         "A Zampa",
         "5",
         "524.0"
        ],
        [
         "19",
         "AA Bilakhia",
         "69",
         "307.0"
        ],
        [
         "20",
         "AA Chavan",
         "12",
         "470.5"
        ],
        [
         "21",
         "AA Jhunjhunwala",
         "217",
         "189.0"
        ],
        [
         "22",
         "AA Noffke",
         "9",
         "490.5"
        ],
        [
         "23",
         "AB Agarkar",
         "179",
         "212.5"
        ],
        [
         "24",
         "AB Barath",
         "42",
         "350.5"
        ],
        [
         "25",
         "AB Dinda",
         "26",
         "397.5"
        ],
        [
         "26",
         "AB McDonald",
         "123",
         "249.0"
        ],
        [
         "27",
         "AB de Villiers",
         "5181",
         "6.0"
        ],
        [
         "28",
         "AC Blizzard",
         "120",
         "253.5"
        ],
        [
         "29",
         "AC Gilchrist",
         "2069",
         "45.0"
        ],
        [
         "30",
         "AC Thomas",
         "20",
         "424.0"
        ],
        [
         "31",
         "AC Voges",
         "181",
         "209.5"
        ],
        [
         "32",
         "AD Hales",
         "148",
         "230.0"
        ],
        [
         "33",
         "AD Mascarenhas",
         "79",
         "294.5"
        ],
        [
         "34",
         "AD Mathews",
         "724",
         "102.0"
        ],
        [
         "35",
         "AD Nath",
         "90",
         "283.0"
        ],
        [
         "36",
         "AD Russell",
         "2039",
         "46.0"
        ],
        [
         "37",
         "AF Milne",
         "23",
         "410.5"
        ],
        [
         "38",
         "AG Murtaza",
         "10",
         "484.5"
        ],
        [
         "39",
         "AG Paunikar",
         "49",
         "341.0"
        ],
        [
         "40",
         "AJ Finch",
         "2092",
         "44.0"
        ],
        [
         "41",
         "AJ Turner",
         "3",
         "547.5"
        ],
        [
         "42",
         "AJ Tye",
         "91",
         "281.0"
        ],
        [
         "43",
         "AK Markram",
         "527",
         "120.5"
        ],
        [
         "44",
         "AL Menaria",
         "401",
         "136.0"
        ],
        [
         "45",
         "AM Nayar",
         "672",
         "105.0"
        ],
        [
         "46",
         "AM Rahane",
         "4074",
         "13.0"
        ],
        [
         "47",
         "AN Ahmed",
         "36",
         "366.5"
        ],
        [
         "48",
         "AN Ghosh",
         "7",
         "508.0"
        ],
        [
         "49",
         "AP Dole",
         "34",
         "374.5"
        ]
       ],
       "shape": {
        "columns": 3,
        "rows": 605
       }
      },
      "text/html": [
       "<div>\n",
       "<style scoped>\n",
       "    .dataframe tbody tr th:only-of-type {\n",
       "        vertical-align: middle;\n",
       "    }\n",
       "\n",
       "    .dataframe tbody tr th {\n",
       "        vertical-align: top;\n",
       "    }\n",
       "\n",
       "    .dataframe thead th {\n",
       "        text-align: right;\n",
       "    }\n",
       "</style>\n",
       "<table border=\"1\" class=\"dataframe\">\n",
       "  <thead>\n",
       "    <tr style=\"text-align: right;\">\n",
       "      <th></th>\n",
       "      <th>batter</th>\n",
       "      <th>batsman_run</th>\n",
       "      <th>batting_rank</th>\n",
       "    </tr>\n",
       "  </thead>\n",
       "  <tbody>\n",
       "    <tr>\n",
       "      <th>0</th>\n",
       "      <td>A Ashish Reddy</td>\n",
       "      <td>280</td>\n",
       "      <td>166.5</td>\n",
       "    </tr>\n",
       "    <tr>\n",
       "      <th>1</th>\n",
       "      <td>A Badoni</td>\n",
       "      <td>161</td>\n",
       "      <td>226.0</td>\n",
       "    </tr>\n",
       "    <tr>\n",
       "      <th>2</th>\n",
       "      <td>A Chandila</td>\n",
       "      <td>4</td>\n",
       "      <td>535.0</td>\n",
       "    </tr>\n",
       "    <tr>\n",
       "      <th>3</th>\n",
       "      <td>A Chopra</td>\n",
       "      <td>53</td>\n",
       "      <td>329.0</td>\n",
       "    </tr>\n",
       "    <tr>\n",
       "      <th>4</th>\n",
       "      <td>A Choudhary</td>\n",
       "      <td>25</td>\n",
       "      <td>402.5</td>\n",
       "    </tr>\n",
       "    <tr>\n",
       "      <th>...</th>\n",
       "      <td>...</td>\n",
       "      <td>...</td>\n",
       "      <td>...</td>\n",
       "    </tr>\n",
       "    <tr>\n",
       "      <th>600</th>\n",
       "      <td>Yash Dayal</td>\n",
       "      <td>0</td>\n",
       "      <td>594.0</td>\n",
       "    </tr>\n",
       "    <tr>\n",
       "      <th>601</th>\n",
       "      <td>Yashpal Singh</td>\n",
       "      <td>47</td>\n",
       "      <td>343.0</td>\n",
       "    </tr>\n",
       "    <tr>\n",
       "      <th>602</th>\n",
       "      <td>Younis Khan</td>\n",
       "      <td>3</td>\n",
       "      <td>547.5</td>\n",
       "    </tr>\n",
       "    <tr>\n",
       "      <th>603</th>\n",
       "      <td>Yuvraj Singh</td>\n",
       "      <td>2754</td>\n",
       "      <td>27.0</td>\n",
       "    </tr>\n",
       "    <tr>\n",
       "      <th>604</th>\n",
       "      <td>Z Khan</td>\n",
       "      <td>117</td>\n",
       "      <td>256.0</td>\n",
       "    </tr>\n",
       "  </tbody>\n",
       "</table>\n",
       "<p>605 rows × 3 columns</p>\n",
       "</div>"
      ],
      "text/plain": [
       "             batter  batsman_run  batting_rank\n",
       "0    A Ashish Reddy          280         166.5\n",
       "1          A Badoni          161         226.0\n",
       "2        A Chandila            4         535.0\n",
       "3          A Chopra           53         329.0\n",
       "4       A Choudhary           25         402.5\n",
       "..              ...          ...           ...\n",
       "600      Yash Dayal            0         594.0\n",
       "601   Yashpal Singh           47         343.0\n",
       "602     Younis Khan            3         547.5\n",
       "603    Yuvraj Singh         2754          27.0\n",
       "604          Z Khan          117         256.0\n",
       "\n",
       "[605 rows x 3 columns]"
      ]
     },
     "execution_count": 220,
     "metadata": {},
     "output_type": "execute_result"
    }
   ],
   "source": [
    "batsman.reset_index(inplace=True)\n",
    "batsman"
   ]
  },
  {
   "cell_type": "code",
   "execution_count": 221,
   "id": "4d6f3852",
   "metadata": {},
   "outputs": [
    {
     "data": {
      "application/vnd.microsoft.datawrangler.viewer.v0+json": {
       "columns": [
        {
         "name": "batting_rank",
         "rawType": "float64",
         "type": "float"
        },
        {
         "name": "batter",
         "rawType": "object",
         "type": "string"
        },
        {
         "name": "batsman_run",
         "rawType": "int64",
         "type": "integer"
        }
       ],
       "ref": "69c62298-4f33-43a2-be8d-a47749a2222d",
       "rows": [
        [
         "166.5",
         "A Ashish Reddy",
         "280"
        ],
        [
         "226.0",
         "A Badoni",
         "161"
        ],
        [
         "535.0",
         "A Chandila",
         "4"
        ],
        [
         "329.0",
         "A Chopra",
         "53"
        ],
        [
         "402.5",
         "A Choudhary",
         "25"
        ],
        [
         "535.0",
         "A Dananjaya",
         "4"
        ],
        [
         "319.0",
         "A Flintoff",
         "62"
        ],
        [
         "371.0",
         "A Kumble",
         "35"
        ],
        [
         "262.5",
         "A Manohar",
         "108"
        ],
        [
         "145.0",
         "A Mishra",
         "362"
        ],
        [
         "374.5",
         "A Mithun",
         "34"
        ],
        [
         "431.5",
         "A Mukund",
         "19"
        ],
        [
         "352.0",
         "A Nehra",
         "41"
        ],
        [
         "497.5",
         "A Nortje",
         "8"
        ],
        [
         "561.5",
         "A Singh",
         "2"
        ],
        [
         "87.0",
         "A Symonds",
         "974"
        ],
        [
         "535.0",
         "A Tomar",
         "4"
        ],
        [
         "535.0",
         "A Uniyal",
         "4"
        ],
        [
         "524.0",
         "A Zampa",
         "5"
        ],
        [
         "307.0",
         "AA Bilakhia",
         "69"
        ],
        [
         "470.5",
         "AA Chavan",
         "12"
        ],
        [
         "189.0",
         "AA Jhunjhunwala",
         "217"
        ],
        [
         "490.5",
         "AA Noffke",
         "9"
        ],
        [
         "212.5",
         "AB Agarkar",
         "179"
        ],
        [
         "350.5",
         "AB Barath",
         "42"
        ],
        [
         "397.5",
         "AB Dinda",
         "26"
        ],
        [
         "249.0",
         "AB McDonald",
         "123"
        ],
        [
         "6.0",
         "AB de Villiers",
         "5181"
        ],
        [
         "253.5",
         "AC Blizzard",
         "120"
        ],
        [
         "45.0",
         "AC Gilchrist",
         "2069"
        ],
        [
         "424.0",
         "AC Thomas",
         "20"
        ],
        [
         "209.5",
         "AC Voges",
         "181"
        ],
        [
         "230.0",
         "AD Hales",
         "148"
        ],
        [
         "294.5",
         "AD Mascarenhas",
         "79"
        ],
        [
         "102.0",
         "AD Mathews",
         "724"
        ],
        [
         "283.0",
         "AD Nath",
         "90"
        ],
        [
         "46.0",
         "AD Russell",
         "2039"
        ],
        [
         "410.5",
         "AF Milne",
         "23"
        ],
        [
         "484.5",
         "AG Murtaza",
         "10"
        ],
        [
         "341.0",
         "AG Paunikar",
         "49"
        ],
        [
         "44.0",
         "AJ Finch",
         "2092"
        ],
        [
         "547.5",
         "AJ Turner",
         "3"
        ],
        [
         "281.0",
         "AJ Tye",
         "91"
        ],
        [
         "120.5",
         "AK Markram",
         "527"
        ],
        [
         "136.0",
         "AL Menaria",
         "401"
        ],
        [
         "105.0",
         "AM Nayar",
         "672"
        ],
        [
         "13.0",
         "AM Rahane",
         "4074"
        ],
        [
         "366.5",
         "AN Ahmed",
         "36"
        ],
        [
         "508.0",
         "AN Ghosh",
         "7"
        ],
        [
         "374.5",
         "AP Dole",
         "34"
        ]
       ],
       "shape": {
        "columns": 2,
        "rows": 605
       }
      },
      "text/html": [
       "<div>\n",
       "<style scoped>\n",
       "    .dataframe tbody tr th:only-of-type {\n",
       "        vertical-align: middle;\n",
       "    }\n",
       "\n",
       "    .dataframe tbody tr th {\n",
       "        vertical-align: top;\n",
       "    }\n",
       "\n",
       "    .dataframe thead th {\n",
       "        text-align: right;\n",
       "    }\n",
       "</style>\n",
       "<table border=\"1\" class=\"dataframe\">\n",
       "  <thead>\n",
       "    <tr style=\"text-align: right;\">\n",
       "      <th></th>\n",
       "      <th>batter</th>\n",
       "      <th>batsman_run</th>\n",
       "    </tr>\n",
       "    <tr>\n",
       "      <th>batting_rank</th>\n",
       "      <th></th>\n",
       "      <th></th>\n",
       "    </tr>\n",
       "  </thead>\n",
       "  <tbody>\n",
       "    <tr>\n",
       "      <th>166.5</th>\n",
       "      <td>A Ashish Reddy</td>\n",
       "      <td>280</td>\n",
       "    </tr>\n",
       "    <tr>\n",
       "      <th>226.0</th>\n",
       "      <td>A Badoni</td>\n",
       "      <td>161</td>\n",
       "    </tr>\n",
       "    <tr>\n",
       "      <th>535.0</th>\n",
       "      <td>A Chandila</td>\n",
       "      <td>4</td>\n",
       "    </tr>\n",
       "    <tr>\n",
       "      <th>329.0</th>\n",
       "      <td>A Chopra</td>\n",
       "      <td>53</td>\n",
       "    </tr>\n",
       "    <tr>\n",
       "      <th>402.5</th>\n",
       "      <td>A Choudhary</td>\n",
       "      <td>25</td>\n",
       "    </tr>\n",
       "    <tr>\n",
       "      <th>...</th>\n",
       "      <td>...</td>\n",
       "      <td>...</td>\n",
       "    </tr>\n",
       "    <tr>\n",
       "      <th>594.0</th>\n",
       "      <td>Yash Dayal</td>\n",
       "      <td>0</td>\n",
       "    </tr>\n",
       "    <tr>\n",
       "      <th>343.0</th>\n",
       "      <td>Yashpal Singh</td>\n",
       "      <td>47</td>\n",
       "    </tr>\n",
       "    <tr>\n",
       "      <th>547.5</th>\n",
       "      <td>Younis Khan</td>\n",
       "      <td>3</td>\n",
       "    </tr>\n",
       "    <tr>\n",
       "      <th>27.0</th>\n",
       "      <td>Yuvraj Singh</td>\n",
       "      <td>2754</td>\n",
       "    </tr>\n",
       "    <tr>\n",
       "      <th>256.0</th>\n",
       "      <td>Z Khan</td>\n",
       "      <td>117</td>\n",
       "    </tr>\n",
       "  </tbody>\n",
       "</table>\n",
       "<p>605 rows × 2 columns</p>\n",
       "</div>"
      ],
      "text/plain": [
       "                      batter  batsman_run\n",
       "batting_rank                             \n",
       "166.5         A Ashish Reddy          280\n",
       "226.0               A Badoni          161\n",
       "535.0             A Chandila            4\n",
       "329.0               A Chopra           53\n",
       "402.5            A Choudhary           25\n",
       "...                      ...          ...\n",
       "594.0             Yash Dayal            0\n",
       "343.0          Yashpal Singh           47\n",
       "547.5            Younis Khan            3\n",
       "27.0            Yuvraj Singh         2754\n",
       "256.0                 Z Khan          117\n",
       "\n",
       "[605 rows x 2 columns]"
      ]
     },
     "execution_count": 221,
     "metadata": {},
     "output_type": "execute_result"
    }
   ],
   "source": [
    "### How to change the index column without losing the original index?\n",
    "batsman.set_index('batter', inplace=True)\n",
    "batsman.reset_index().set_index('batting_rank')"
   ]
  },
  {
   "cell_type": "markdown",
   "id": "dfb8e66b",
   "metadata": {},
   "source": [
    "### Series to Dataframe using reset_index():"
   ]
  },
  {
   "cell_type": "code",
   "execution_count": 222,
   "id": "075dd793",
   "metadata": {},
   "outputs": [
    {
     "data": {
      "application/vnd.microsoft.datawrangler.viewer.v0+json": {
       "columns": [
        {
         "name": "index",
         "rawType": "int64",
         "type": "integer"
        },
        {
         "name": "index",
         "rawType": "object",
         "type": "string"
        },
        {
         "name": "0",
         "rawType": "int64",
         "type": "integer"
        }
       ],
       "ref": "50535e3a-6d35-4386-881f-b6239f48927e",
       "rows": [
        [
         "0",
         "maths",
         "67"
        ],
        [
         "1",
         "english",
         "78"
        ],
        [
         "2",
         "science",
         "89"
        ],
        [
         "3",
         "history",
         "90"
        ],
        [
         "4",
         "geography",
         "85"
        ]
       ],
       "shape": {
        "columns": 2,
        "rows": 5
       }
      },
      "text/html": [
       "<div>\n",
       "<style scoped>\n",
       "    .dataframe tbody tr th:only-of-type {\n",
       "        vertical-align: middle;\n",
       "    }\n",
       "\n",
       "    .dataframe tbody tr th {\n",
       "        vertical-align: top;\n",
       "    }\n",
       "\n",
       "    .dataframe thead th {\n",
       "        text-align: right;\n",
       "    }\n",
       "</style>\n",
       "<table border=\"1\" class=\"dataframe\">\n",
       "  <thead>\n",
       "    <tr style=\"text-align: right;\">\n",
       "      <th></th>\n",
       "      <th>index</th>\n",
       "      <th>0</th>\n",
       "    </tr>\n",
       "  </thead>\n",
       "  <tbody>\n",
       "    <tr>\n",
       "      <th>0</th>\n",
       "      <td>maths</td>\n",
       "      <td>67</td>\n",
       "    </tr>\n",
       "    <tr>\n",
       "      <th>1</th>\n",
       "      <td>english</td>\n",
       "      <td>78</td>\n",
       "    </tr>\n",
       "    <tr>\n",
       "      <th>2</th>\n",
       "      <td>science</td>\n",
       "      <td>89</td>\n",
       "    </tr>\n",
       "    <tr>\n",
       "      <th>3</th>\n",
       "      <td>history</td>\n",
       "      <td>90</td>\n",
       "    </tr>\n",
       "    <tr>\n",
       "      <th>4</th>\n",
       "      <td>geography</td>\n",
       "      <td>85</td>\n",
       "    </tr>\n",
       "  </tbody>\n",
       "</table>\n",
       "</div>"
      ],
      "text/plain": [
       "       index   0\n",
       "0      maths  67\n",
       "1    english  78\n",
       "2    science  89\n",
       "3    history  90\n",
       "4  geography  85"
      ]
     },
     "execution_count": 222,
     "metadata": {},
     "output_type": "execute_result"
    }
   ],
   "source": [
    "marks_series.reset_index() # This will convert the index into a column and convert the Series into a DataFrame."
   ]
  },
  {
   "cell_type": "markdown",
   "id": "abdd7b35",
   "metadata": {},
   "source": [
    "---"
   ]
  },
  {
   "cell_type": "markdown",
   "id": "9c44f759",
   "metadata": {},
   "source": [
    "## .rename():\n",
    "- This method is used to rename the index or columns of a DataFrame."
   ]
  },
  {
   "cell_type": "code",
   "execution_count": 223,
   "id": "b6599faa",
   "metadata": {},
   "outputs": [
    {
     "data": {
      "application/vnd.microsoft.datawrangler.viewer.v0+json": {
       "columns": [
        {
         "name": "title_x",
         "rawType": "object",
         "type": "string"
        },
        {
         "name": "imdb",
         "rawType": "object",
         "type": "string"
        },
        {
         "name": "link",
         "rawType": "object",
         "type": "string"
        },
        {
         "name": "wiki_link",
         "rawType": "object",
         "type": "string"
        },
        {
         "name": "title_y",
         "rawType": "object",
         "type": "string"
        },
        {
         "name": "original_title",
         "rawType": "object",
         "type": "string"
        },
        {
         "name": "is_adult",
         "rawType": "int64",
         "type": "integer"
        },
        {
         "name": "year_of_release",
         "rawType": "int64",
         "type": "integer"
        },
        {
         "name": "runtime",
         "rawType": "object",
         "type": "string"
        },
        {
         "name": "genres",
         "rawType": "object",
         "type": "string"
        },
        {
         "name": "imdb_rating",
         "rawType": "float64",
         "type": "float"
        },
        {
         "name": "imdb_votes",
         "rawType": "int64",
         "type": "integer"
        },
        {
         "name": "story",
         "rawType": "object",
         "type": "string"
        },
        {
         "name": "summary",
         "rawType": "object",
         "type": "string"
        },
        {
         "name": "tagline",
         "rawType": "object",
         "type": "unknown"
        },
        {
         "name": "actors",
         "rawType": "object",
         "type": "string"
        },
        {
         "name": "wins_nominations",
         "rawType": "object",
         "type": "string"
        },
        {
         "name": "release_date",
         "rawType": "object",
         "type": "string"
        }
       ],
       "ref": "e4696037-5876-4a7d-9ffa-ee5a581d79e7",
       "rows": [
        [
         "Uri: The Surgical Strike",
         "tt8291224",
         "https://upload.wikimedia.org/wikipedia/en/thumb/3/3b/URI_-_New_poster.jpg/220px-URI_-_New_poster.jpg",
         "https://en.wikipedia.org/wiki/Uri:_The_Surgical_Strike",
         "Uri: The Surgical Strike",
         "Uri: The Surgical Strike",
         "0",
         "2019",
         "138",
         "Action|Drama|War",
         "8.4",
         "35112",
         "Divided over five chapters  the film chronicles the events of the surgical strike conducted by the Indian military against suspected militants in Pakistan occupied Kashmir. It tells the story of the 11 tumultuous events over which the operation was carried out. Indian army special forces carry out a covert operation to avenge the killing of fellow army men at their base by a terrorist group.",
         "Indian army special forces execute a covert operation  avenging the killing of fellow army men at their base by a terrorist group.",
         null,
         "Vicky Kaushal|Paresh Rawal|Mohit Raina|Yami Gautam|Kirti Kulhari|Rajit Kapoor|Ivan Rodrigues|Manasi Parekh|Swaroop Sampat|Riva Arora|Yogesh Soman|Fareed Ahmed|Akashdeep Arora|Kallol Banerjee|",
         "4 wins",
         "11 January 2019 (USA)"
        ]
       ],
       "shape": {
        "columns": 17,
        "rows": 1
       }
      },
      "text/html": [
       "<div>\n",
       "<style scoped>\n",
       "    .dataframe tbody tr th:only-of-type {\n",
       "        vertical-align: middle;\n",
       "    }\n",
       "\n",
       "    .dataframe tbody tr th {\n",
       "        vertical-align: top;\n",
       "    }\n",
       "\n",
       "    .dataframe thead th {\n",
       "        text-align: right;\n",
       "    }\n",
       "</style>\n",
       "<table border=\"1\" class=\"dataframe\">\n",
       "  <thead>\n",
       "    <tr style=\"text-align: right;\">\n",
       "      <th></th>\n",
       "      <th>imdb</th>\n",
       "      <th>link</th>\n",
       "      <th>wiki_link</th>\n",
       "      <th>title_y</th>\n",
       "      <th>original_title</th>\n",
       "      <th>is_adult</th>\n",
       "      <th>year_of_release</th>\n",
       "      <th>runtime</th>\n",
       "      <th>genres</th>\n",
       "      <th>imdb_rating</th>\n",
       "      <th>imdb_votes</th>\n",
       "      <th>story</th>\n",
       "      <th>summary</th>\n",
       "      <th>tagline</th>\n",
       "      <th>actors</th>\n",
       "      <th>wins_nominations</th>\n",
       "      <th>release_date</th>\n",
       "    </tr>\n",
       "    <tr>\n",
       "      <th>title_x</th>\n",
       "      <th></th>\n",
       "      <th></th>\n",
       "      <th></th>\n",
       "      <th></th>\n",
       "      <th></th>\n",
       "      <th></th>\n",
       "      <th></th>\n",
       "      <th></th>\n",
       "      <th></th>\n",
       "      <th></th>\n",
       "      <th></th>\n",
       "      <th></th>\n",
       "      <th></th>\n",
       "      <th></th>\n",
       "      <th></th>\n",
       "      <th></th>\n",
       "      <th></th>\n",
       "    </tr>\n",
       "  </thead>\n",
       "  <tbody>\n",
       "    <tr>\n",
       "      <th>Uri: The Surgical Strike</th>\n",
       "      <td>tt8291224</td>\n",
       "      <td>https://upload.wikimedia.org/wikipedia/en/thum...</td>\n",
       "      <td>https://en.wikipedia.org/wiki/Uri:_The_Surgica...</td>\n",
       "      <td>Uri: The Surgical Strike</td>\n",
       "      <td>Uri: The Surgical Strike</td>\n",
       "      <td>0</td>\n",
       "      <td>2019</td>\n",
       "      <td>138</td>\n",
       "      <td>Action|Drama|War</td>\n",
       "      <td>8.4</td>\n",
       "      <td>35112</td>\n",
       "      <td>Divided over five chapters  the film chronicle...</td>\n",
       "      <td>Indian army special forces execute a covert op...</td>\n",
       "      <td>NaN</td>\n",
       "      <td>Vicky Kaushal|Paresh Rawal|Mohit Raina|Yami Ga...</td>\n",
       "      <td>4 wins</td>\n",
       "      <td>11 January 2019 (USA)</td>\n",
       "    </tr>\n",
       "  </tbody>\n",
       "</table>\n",
       "</div>"
      ],
      "text/plain": [
       "                               imdb  \\\n",
       "title_x                               \n",
       "Uri: The Surgical Strike  tt8291224   \n",
       "\n",
       "                                                                       link  \\\n",
       "title_x                                                                       \n",
       "Uri: The Surgical Strike  https://upload.wikimedia.org/wikipedia/en/thum...   \n",
       "\n",
       "                                                                  wiki_link  \\\n",
       "title_x                                                                       \n",
       "Uri: The Surgical Strike  https://en.wikipedia.org/wiki/Uri:_The_Surgica...   \n",
       "\n",
       "                                           title_y            original_title  \\\n",
       "title_x                                                                        \n",
       "Uri: The Surgical Strike  Uri: The Surgical Strike  Uri: The Surgical Strike   \n",
       "\n",
       "                          is_adult  year_of_release runtime            genres  \\\n",
       "title_x                                                                         \n",
       "Uri: The Surgical Strike         0             2019     138  Action|Drama|War   \n",
       "\n",
       "                          imdb_rating  imdb_votes  \\\n",
       "title_x                                             \n",
       "Uri: The Surgical Strike          8.4       35112   \n",
       "\n",
       "                                                                      story  \\\n",
       "title_x                                                                       \n",
       "Uri: The Surgical Strike  Divided over five chapters  the film chronicle...   \n",
       "\n",
       "                                                                    summary  \\\n",
       "title_x                                                                       \n",
       "Uri: The Surgical Strike  Indian army special forces execute a covert op...   \n",
       "\n",
       "                         tagline  \\\n",
       "title_x                            \n",
       "Uri: The Surgical Strike     NaN   \n",
       "\n",
       "                                                                     actors  \\\n",
       "title_x                                                                       \n",
       "Uri: The Surgical Strike  Vicky Kaushal|Paresh Rawal|Mohit Raina|Yami Ga...   \n",
       "\n",
       "                         wins_nominations           release_date  \n",
       "title_x                                                           \n",
       "Uri: The Surgical Strike           4 wins  11 January 2019 (USA)  "
      ]
     },
     "execution_count": 223,
     "metadata": {},
     "output_type": "execute_result"
    }
   ],
   "source": [
    "movies.set_index('title_x', inplace=True)\n",
    "movies.rename(columns={'imdb_id': 'imdb', 'poster_path': 'link'}, inplace=True)\n",
    "movies.head(1)"
   ]
  },
  {
   "cell_type": "code",
   "execution_count": 235,
   "id": "aa3fe68d",
   "metadata": {},
   "outputs": [
    {
     "data": {
      "application/vnd.microsoft.datawrangler.viewer.v0+json": {
       "columns": [
        {
         "name": "title_x",
         "rawType": "object",
         "type": "string"
        },
        {
         "name": "imdb",
         "rawType": "object",
         "type": "string"
        },
        {
         "name": "link",
         "rawType": "object",
         "type": "string"
        },
        {
         "name": "wiki_link",
         "rawType": "object",
         "type": "string"
        },
        {
         "name": "title_y",
         "rawType": "object",
         "type": "string"
        },
        {
         "name": "original_title",
         "rawType": "object",
         "type": "string"
        },
        {
         "name": "is_adult",
         "rawType": "int64",
         "type": "integer"
        },
        {
         "name": "year_of_release",
         "rawType": "int64",
         "type": "integer"
        },
        {
         "name": "runtime",
         "rawType": "object",
         "type": "string"
        },
        {
         "name": "genres",
         "rawType": "object",
         "type": "string"
        },
        {
         "name": "imdb_rating",
         "rawType": "float64",
         "type": "float"
        },
        {
         "name": "imdb_votes",
         "rawType": "int64",
         "type": "integer"
        },
        {
         "name": "story",
         "rawType": "object",
         "type": "string"
        },
        {
         "name": "summary",
         "rawType": "object",
         "type": "string"
        },
        {
         "name": "tagline",
         "rawType": "object",
         "type": "unknown"
        },
        {
         "name": "actors",
         "rawType": "object",
         "type": "string"
        },
        {
         "name": "wins_nominations",
         "rawType": "object",
         "type": "string"
        },
        {
         "name": "release_date",
         "rawType": "object",
         "type": "string"
        }
       ],
       "ref": "879f7a04-d1f7-4b80-9fa6-9a478301c68e",
       "rows": [
        [
         "Uri",
         "tt8291224",
         "https://upload.wikimedia.org/wikipedia/en/thumb/3/3b/URI_-_New_poster.jpg/220px-URI_-_New_poster.jpg",
         "https://en.wikipedia.org/wiki/Uri:_The_Surgical_Strike",
         "Uri: The Surgical Strike",
         "Uri: The Surgical Strike",
         "0",
         "2019",
         "138",
         "Action|Drama|War",
         "8.4",
         "35112",
         "Divided over five chapters  the film chronicles the events of the surgical strike conducted by the Indian military against suspected militants in Pakistan occupied Kashmir. It tells the story of the 11 tumultuous events over which the operation was carried out. Indian army special forces carry out a covert operation to avenge the killing of fellow army men at their base by a terrorist group.",
         "Indian army special forces execute a covert operation  avenging the killing of fellow army men at their base by a terrorist group.",
         null,
         "Vicky Kaushal|Paresh Rawal|Mohit Raina|Yami Gautam|Kirti Kulhari|Rajit Kapoor|Ivan Rodrigues|Manasi Parekh|Swaroop Sampat|Riva Arora|Yogesh Soman|Fareed Ahmed|Akashdeep Arora|Kallol Banerjee|",
         "4 wins",
         "11 January 2019 (USA)"
        ]
       ],
       "shape": {
        "columns": 17,
        "rows": 1
       }
      },
      "text/html": [
       "<div>\n",
       "<style scoped>\n",
       "    .dataframe tbody tr th:only-of-type {\n",
       "        vertical-align: middle;\n",
       "    }\n",
       "\n",
       "    .dataframe tbody tr th {\n",
       "        vertical-align: top;\n",
       "    }\n",
       "\n",
       "    .dataframe thead th {\n",
       "        text-align: right;\n",
       "    }\n",
       "</style>\n",
       "<table border=\"1\" class=\"dataframe\">\n",
       "  <thead>\n",
       "    <tr style=\"text-align: right;\">\n",
       "      <th></th>\n",
       "      <th>imdb</th>\n",
       "      <th>link</th>\n",
       "      <th>wiki_link</th>\n",
       "      <th>title_y</th>\n",
       "      <th>original_title</th>\n",
       "      <th>is_adult</th>\n",
       "      <th>year_of_release</th>\n",
       "      <th>runtime</th>\n",
       "      <th>genres</th>\n",
       "      <th>imdb_rating</th>\n",
       "      <th>imdb_votes</th>\n",
       "      <th>story</th>\n",
       "      <th>summary</th>\n",
       "      <th>tagline</th>\n",
       "      <th>actors</th>\n",
       "      <th>wins_nominations</th>\n",
       "      <th>release_date</th>\n",
       "    </tr>\n",
       "    <tr>\n",
       "      <th>title_x</th>\n",
       "      <th></th>\n",
       "      <th></th>\n",
       "      <th></th>\n",
       "      <th></th>\n",
       "      <th></th>\n",
       "      <th></th>\n",
       "      <th></th>\n",
       "      <th></th>\n",
       "      <th></th>\n",
       "      <th></th>\n",
       "      <th></th>\n",
       "      <th></th>\n",
       "      <th></th>\n",
       "      <th></th>\n",
       "      <th></th>\n",
       "      <th></th>\n",
       "      <th></th>\n",
       "    </tr>\n",
       "  </thead>\n",
       "  <tbody>\n",
       "    <tr>\n",
       "      <th>Uri</th>\n",
       "      <td>tt8291224</td>\n",
       "      <td>https://upload.wikimedia.org/wikipedia/en/thum...</td>\n",
       "      <td>https://en.wikipedia.org/wiki/Uri:_The_Surgica...</td>\n",
       "      <td>Uri: The Surgical Strike</td>\n",
       "      <td>Uri: The Surgical Strike</td>\n",
       "      <td>0</td>\n",
       "      <td>2019</td>\n",
       "      <td>138</td>\n",
       "      <td>Action|Drama|War</td>\n",
       "      <td>8.4</td>\n",
       "      <td>35112</td>\n",
       "      <td>Divided over five chapters  the film chronicle...</td>\n",
       "      <td>Indian army special forces execute a covert op...</td>\n",
       "      <td>NaN</td>\n",
       "      <td>Vicky Kaushal|Paresh Rawal|Mohit Raina|Yami Ga...</td>\n",
       "      <td>4 wins</td>\n",
       "      <td>11 January 2019 (USA)</td>\n",
       "    </tr>\n",
       "  </tbody>\n",
       "</table>\n",
       "</div>"
      ],
      "text/plain": [
       "              imdb                                               link  \\\n",
       "title_x                                                                 \n",
       "Uri      tt8291224  https://upload.wikimedia.org/wikipedia/en/thum...   \n",
       "\n",
       "                                                 wiki_link  \\\n",
       "title_x                                                      \n",
       "Uri      https://en.wikipedia.org/wiki/Uri:_The_Surgica...   \n",
       "\n",
       "                          title_y            original_title  is_adult  \\\n",
       "title_x                                                                 \n",
       "Uri      Uri: The Surgical Strike  Uri: The Surgical Strike         0   \n",
       "\n",
       "         year_of_release runtime            genres  imdb_rating  imdb_votes  \\\n",
       "title_x                                                                       \n",
       "Uri                 2019     138  Action|Drama|War          8.4       35112   \n",
       "\n",
       "                                                     story  \\\n",
       "title_x                                                      \n",
       "Uri      Divided over five chapters  the film chronicle...   \n",
       "\n",
       "                                                   summary tagline  \\\n",
       "title_x                                                              \n",
       "Uri      Indian army special forces execute a covert op...     NaN   \n",
       "\n",
       "                                                    actors wins_nominations  \\\n",
       "title_x                                                                       \n",
       "Uri      Vicky Kaushal|Paresh Rawal|Mohit Raina|Yami Ga...           4 wins   \n",
       "\n",
       "                  release_date  \n",
       "title_x                         \n",
       "Uri      11 January 2019 (USA)  "
      ]
     },
     "execution_count": 235,
     "metadata": {},
     "output_type": "execute_result"
    }
   ],
   "source": [
    "movies.rename(index={'Uri: The Surgical Strike': 'Uri'}).head(1)  "
   ]
  },
  {
   "cell_type": "markdown",
   "id": "c2c64c03",
   "metadata": {},
   "source": [
    "---"
   ]
  },
  {
   "cell_type": "markdown",
   "id": "0570e0a0",
   "metadata": {},
   "source": [
    "### .unique():\n",
    "- This method is used to get the unique values from a Series or DataFrame column."
   ]
  },
  {
   "cell_type": "code",
   "execution_count": 225,
   "id": "e4eea900",
   "metadata": {},
   "outputs": [
    {
     "data": {
      "text/plain": [
       "array([ 1.,  2.,  3.,  4.,  5., nan])"
      ]
     },
     "execution_count": 225,
     "metadata": {},
     "output_type": "execute_result"
    }
   ],
   "source": [
    "temp= pd.Series([1,1,2,3,4,4,5,5, np.nan, np.nan])\n",
    "temp.unique() # This will return the unique values in the Series, excluding NaN values."
   ]
  },
  {
   "cell_type": "markdown",
   "id": "990ee140",
   "metadata": {},
   "source": [
    "---"
   ]
  },
  {
   "cell_type": "markdown",
   "id": "0adc74dd",
   "metadata": {},
   "source": [
    "## nunique():\n",
    "- counts the no. of unique values in the series or dataframe.\n",
    "- does not count nan."
   ]
  },
  {
   "cell_type": "code",
   "execution_count": 226,
   "id": "532e7671",
   "metadata": {},
   "outputs": [
    {
     "data": {
      "text/plain": [
       "5"
      ]
     },
     "execution_count": 226,
     "metadata": {},
     "output_type": "execute_result"
    }
   ],
   "source": [
    "temp.nunique()"
   ]
  },
  {
   "cell_type": "markdown",
   "id": "f8b7e69e",
   "metadata": {},
   "source": [
    "---"
   ]
  },
  {
   "cell_type": "markdown",
   "id": "b45ccacc",
   "metadata": {},
   "source": [
    "## .isnull() ---> on both seies and dataframe\n",
    "- returns a boolean series or dataframe indicating whether each element is null (NaN) or not."
   ]
  },
  {
   "cell_type": "code",
   "execution_count": 227,
   "id": "d2f0237c",
   "metadata": {},
   "outputs": [
    {
     "data": {
      "application/vnd.microsoft.datawrangler.viewer.v0+json": {
       "columns": [
        {
         "name": "index",
         "rawType": "int64",
         "type": "integer"
        },
        {
         "name": "0",
         "rawType": "float64",
         "type": "float"
        }
       ],
       "ref": "c18eb1d0-4faa-44ee-9725-26b6324a0b91",
       "rows": [
        [
         "8",
         null
        ],
        [
         "9",
         null
        ]
       ],
       "shape": {
        "columns": 1,
        "rows": 2
       }
      },
      "text/plain": [
       "8   NaN\n",
       "9   NaN\n",
       "dtype: float64"
      ]
     },
     "execution_count": 227,
     "metadata": {},
     "output_type": "execute_result"
    }
   ],
   "source": [
    "temp[temp.isnull()]"
   ]
  },
  {
   "cell_type": "markdown",
   "id": "600743ea",
   "metadata": {},
   "source": [
    "### NOTE: \n",
    "- .notnull() is just opposite of isnull()"
   ]
  },
  {
   "cell_type": "markdown",
   "id": "032250bf",
   "metadata": {},
   "source": [
    "---"
   ]
  },
  {
   "cell_type": "markdown",
   "id": "4c30a924",
   "metadata": {},
   "source": [
    "## .hasnans:\n",
    "- returns True if the series or dataframe has any NaN values, otherwise returns False."
   ]
  },
  {
   "cell_type": "code",
   "execution_count": 228,
   "id": "8c6eb1fb",
   "metadata": {},
   "outputs": [
    {
     "data": {
      "text/plain": [
       "True"
      ]
     },
     "execution_count": 228,
     "metadata": {},
     "output_type": "execute_result"
    }
   ],
   "source": [
    "temp.hasnans"
   ]
  },
  {
   "cell_type": "markdown",
   "id": "83d62b9f",
   "metadata": {},
   "source": [
    "---"
   ]
  },
  {
   "cell_type": "markdown",
   "id": "79786bac",
   "metadata": {},
   "source": [
    "## .dropna()\n",
    "- works kon both series and dataframe.\n",
    "- removes all missing values."
   ]
  },
  {
   "cell_type": "code",
   "execution_count": 229,
   "id": "e294481b",
   "metadata": {},
   "outputs": [],
   "source": [
    "data = {\n",
    "    'A': [1, np.nan, 3, np.nan, 5, np.nan],\n",
    "    'B': [2, np.nan, np.nan, np.nan, 6, 8],\n",
    "    'C': [3, np.nan, 9, np.nan, 7, np.nan]\n",
    "}\n",
    "\n",
    "df = pd.DataFrame(data)"
   ]
  },
  {
   "cell_type": "code",
   "execution_count": 230,
   "id": "9cfce5e4",
   "metadata": {},
   "outputs": [
    {
     "data": {
      "application/vnd.microsoft.datawrangler.viewer.v0+json": {
       "columns": [
        {
         "name": "index",
         "rawType": "int64",
         "type": "integer"
        },
        {
         "name": "A",
         "rawType": "float64",
         "type": "float"
        },
        {
         "name": "B",
         "rawType": "float64",
         "type": "float"
        },
        {
         "name": "C",
         "rawType": "float64",
         "type": "float"
        }
       ],
       "ref": "c9a17acd-d1ad-4936-a1cf-cc1f8d81e15e",
       "rows": [
        [
         "0",
         "1.0",
         "2.0",
         "3.0"
        ],
        [
         "4",
         "5.0",
         "6.0",
         "7.0"
        ]
       ],
       "shape": {
        "columns": 3,
        "rows": 2
       }
      },
      "text/html": [
       "<div>\n",
       "<style scoped>\n",
       "    .dataframe tbody tr th:only-of-type {\n",
       "        vertical-align: middle;\n",
       "    }\n",
       "\n",
       "    .dataframe tbody tr th {\n",
       "        vertical-align: top;\n",
       "    }\n",
       "\n",
       "    .dataframe thead th {\n",
       "        text-align: right;\n",
       "    }\n",
       "</style>\n",
       "<table border=\"1\" class=\"dataframe\">\n",
       "  <thead>\n",
       "    <tr style=\"text-align: right;\">\n",
       "      <th></th>\n",
       "      <th>A</th>\n",
       "      <th>B</th>\n",
       "      <th>C</th>\n",
       "    </tr>\n",
       "  </thead>\n",
       "  <tbody>\n",
       "    <tr>\n",
       "      <th>0</th>\n",
       "      <td>1.0</td>\n",
       "      <td>2.0</td>\n",
       "      <td>3.0</td>\n",
       "    </tr>\n",
       "    <tr>\n",
       "      <th>4</th>\n",
       "      <td>5.0</td>\n",
       "      <td>6.0</td>\n",
       "      <td>7.0</td>\n",
       "    </tr>\n",
       "  </tbody>\n",
       "</table>\n",
       "</div>"
      ],
      "text/plain": [
       "     A    B    C\n",
       "0  1.0  2.0  3.0\n",
       "4  5.0  6.0  7.0"
      ]
     },
     "execution_count": 230,
     "metadata": {},
     "output_type": "execute_result"
    }
   ],
   "source": [
    "df.dropna()  # This will drop any row that contains at least one NaN value."
   ]
  },
  {
   "cell_type": "code",
   "execution_count": 231,
   "id": "8a468be3",
   "metadata": {},
   "outputs": [
    {
     "data": {
      "application/vnd.microsoft.datawrangler.viewer.v0+json": {
       "columns": [
        {
         "name": "index",
         "rawType": "int64",
         "type": "integer"
        },
        {
         "name": "A",
         "rawType": "float64",
         "type": "float"
        },
        {
         "name": "B",
         "rawType": "float64",
         "type": "float"
        },
        {
         "name": "C",
         "rawType": "float64",
         "type": "float"
        }
       ],
       "ref": "fa1f998a-f521-4295-a978-7bd64840fa79",
       "rows": [
        [
         "0",
         "1.0",
         "2.0",
         "3.0"
        ],
        [
         "2",
         "3.0",
         null,
         "9.0"
        ],
        [
         "4",
         "5.0",
         "6.0",
         "7.0"
        ],
        [
         "5",
         null,
         "8.0",
         null
        ]
       ],
       "shape": {
        "columns": 3,
        "rows": 4
       }
      },
      "text/html": [
       "<div>\n",
       "<style scoped>\n",
       "    .dataframe tbody tr th:only-of-type {\n",
       "        vertical-align: middle;\n",
       "    }\n",
       "\n",
       "    .dataframe tbody tr th {\n",
       "        vertical-align: top;\n",
       "    }\n",
       "\n",
       "    .dataframe thead th {\n",
       "        text-align: right;\n",
       "    }\n",
       "</style>\n",
       "<table border=\"1\" class=\"dataframe\">\n",
       "  <thead>\n",
       "    <tr style=\"text-align: right;\">\n",
       "      <th></th>\n",
       "      <th>A</th>\n",
       "      <th>B</th>\n",
       "      <th>C</th>\n",
       "    </tr>\n",
       "  </thead>\n",
       "  <tbody>\n",
       "    <tr>\n",
       "      <th>0</th>\n",
       "      <td>1.0</td>\n",
       "      <td>2.0</td>\n",
       "      <td>3.0</td>\n",
       "    </tr>\n",
       "    <tr>\n",
       "      <th>2</th>\n",
       "      <td>3.0</td>\n",
       "      <td>NaN</td>\n",
       "      <td>9.0</td>\n",
       "    </tr>\n",
       "    <tr>\n",
       "      <th>4</th>\n",
       "      <td>5.0</td>\n",
       "      <td>6.0</td>\n",
       "      <td>7.0</td>\n",
       "    </tr>\n",
       "    <tr>\n",
       "      <th>5</th>\n",
       "      <td>NaN</td>\n",
       "      <td>8.0</td>\n",
       "      <td>NaN</td>\n",
       "    </tr>\n",
       "  </tbody>\n",
       "</table>\n",
       "</div>"
      ],
      "text/plain": [
       "     A    B    C\n",
       "0  1.0  2.0  3.0\n",
       "2  3.0  NaN  9.0\n",
       "4  5.0  6.0  7.0\n",
       "5  NaN  8.0  NaN"
      ]
     },
     "execution_count": 231,
     "metadata": {},
     "output_type": "execute_result"
    }
   ],
   "source": [
    "df.dropna(how='all')  # This will drop rows where all elements are NaN."
   ]
  },
  {
   "cell_type": "code",
   "execution_count": 232,
   "id": "e4b3ff40",
   "metadata": {},
   "outputs": [
    {
     "data": {
      "application/vnd.microsoft.datawrangler.viewer.v0+json": {
       "columns": [
        {
         "name": "index",
         "rawType": "int64",
         "type": "integer"
        },
        {
         "name": "A",
         "rawType": "float64",
         "type": "float"
        },
        {
         "name": "B",
         "rawType": "float64",
         "type": "float"
        },
        {
         "name": "C",
         "rawType": "float64",
         "type": "float"
        }
       ],
       "ref": "5ade6b0b-4688-4849-b2f7-03e408fd095b",
       "rows": [
        [
         "0",
         "1.0",
         "2.0",
         "3.0"
        ],
        [
         "4",
         "5.0",
         "6.0",
         "7.0"
        ]
       ],
       "shape": {
        "columns": 3,
        "rows": 2
       }
      },
      "text/html": [
       "<div>\n",
       "<style scoped>\n",
       "    .dataframe tbody tr th:only-of-type {\n",
       "        vertical-align: middle;\n",
       "    }\n",
       "\n",
       "    .dataframe tbody tr th {\n",
       "        vertical-align: top;\n",
       "    }\n",
       "\n",
       "    .dataframe thead th {\n",
       "        text-align: right;\n",
       "    }\n",
       "</style>\n",
       "<table border=\"1\" class=\"dataframe\">\n",
       "  <thead>\n",
       "    <tr style=\"text-align: right;\">\n",
       "      <th></th>\n",
       "      <th>A</th>\n",
       "      <th>B</th>\n",
       "      <th>C</th>\n",
       "    </tr>\n",
       "  </thead>\n",
       "  <tbody>\n",
       "    <tr>\n",
       "      <th>0</th>\n",
       "      <td>1.0</td>\n",
       "      <td>2.0</td>\n",
       "      <td>3.0</td>\n",
       "    </tr>\n",
       "    <tr>\n",
       "      <th>4</th>\n",
       "      <td>5.0</td>\n",
       "      <td>6.0</td>\n",
       "      <td>7.0</td>\n",
       "    </tr>\n",
       "  </tbody>\n",
       "</table>\n",
       "</div>"
      ],
      "text/plain": [
       "     A    B    C\n",
       "0  1.0  2.0  3.0\n",
       "4  5.0  6.0  7.0"
      ]
     },
     "execution_count": 232,
     "metadata": {},
     "output_type": "execute_result"
    }
   ],
   "source": [
    "df.dropna(subset=['A', 'B'])  # This will drop rows where the 'A' or 'B' column has NaN values."
   ]
  },
  {
   "cell_type": "markdown",
   "id": "452f30fd",
   "metadata": {},
   "source": [
    "---"
   ]
  },
  {
   "cell_type": "markdown",
   "id": "4b045ef1",
   "metadata": {},
   "source": [
    "## .fillna():\n",
    "- works on both series and dataframe.\n",
    "- replaces NaN values with a specified value."
   ]
  },
  {
   "cell_type": "code",
   "execution_count": 233,
   "id": "89aaaa5c",
   "metadata": {},
   "outputs": [
    {
     "data": {
      "application/vnd.microsoft.datawrangler.viewer.v0+json": {
       "columns": [
        {
         "name": "index",
         "rawType": "int64",
         "type": "integer"
        },
        {
         "name": "A",
         "rawType": "object",
         "type": "unknown"
        },
        {
         "name": "B",
         "rawType": "object",
         "type": "unknown"
        },
        {
         "name": "C",
         "rawType": "object",
         "type": "unknown"
        }
       ],
       "ref": "834c6916-0894-484b-a363-10656bbc3daa",
       "rows": [
        [
         "0",
         "1.0",
         "2.0",
         "3.0"
        ],
        [
         "1",
         "Unknown",
         "Unknown",
         "Unknown"
        ],
        [
         "2",
         "3.0",
         "Unknown",
         "9.0"
        ],
        [
         "3",
         "Unknown",
         "Unknown",
         "Unknown"
        ],
        [
         "4",
         "5.0",
         "6.0",
         "7.0"
        ],
        [
         "5",
         "Unknown",
         "8.0",
         "Unknown"
        ]
       ],
       "shape": {
        "columns": 3,
        "rows": 6
       }
      },
      "text/html": [
       "<div>\n",
       "<style scoped>\n",
       "    .dataframe tbody tr th:only-of-type {\n",
       "        vertical-align: middle;\n",
       "    }\n",
       "\n",
       "    .dataframe tbody tr th {\n",
       "        vertical-align: top;\n",
       "    }\n",
       "\n",
       "    .dataframe thead th {\n",
       "        text-align: right;\n",
       "    }\n",
       "</style>\n",
       "<table border=\"1\" class=\"dataframe\">\n",
       "  <thead>\n",
       "    <tr style=\"text-align: right;\">\n",
       "      <th></th>\n",
       "      <th>A</th>\n",
       "      <th>B</th>\n",
       "      <th>C</th>\n",
       "    </tr>\n",
       "  </thead>\n",
       "  <tbody>\n",
       "    <tr>\n",
       "      <th>0</th>\n",
       "      <td>1.0</td>\n",
       "      <td>2.0</td>\n",
       "      <td>3.0</td>\n",
       "    </tr>\n",
       "    <tr>\n",
       "      <th>1</th>\n",
       "      <td>Unknown</td>\n",
       "      <td>Unknown</td>\n",
       "      <td>Unknown</td>\n",
       "    </tr>\n",
       "    <tr>\n",
       "      <th>2</th>\n",
       "      <td>3.0</td>\n",
       "      <td>Unknown</td>\n",
       "      <td>9.0</td>\n",
       "    </tr>\n",
       "    <tr>\n",
       "      <th>3</th>\n",
       "      <td>Unknown</td>\n",
       "      <td>Unknown</td>\n",
       "      <td>Unknown</td>\n",
       "    </tr>\n",
       "    <tr>\n",
       "      <th>4</th>\n",
       "      <td>5.0</td>\n",
       "      <td>6.0</td>\n",
       "      <td>7.0</td>\n",
       "    </tr>\n",
       "    <tr>\n",
       "      <th>5</th>\n",
       "      <td>Unknown</td>\n",
       "      <td>8.0</td>\n",
       "      <td>Unknown</td>\n",
       "    </tr>\n",
       "  </tbody>\n",
       "</table>\n",
       "</div>"
      ],
      "text/plain": [
       "         A        B        C\n",
       "0      1.0      2.0      3.0\n",
       "1  Unknown  Unknown  Unknown\n",
       "2      3.0  Unknown      9.0\n",
       "3  Unknown  Unknown  Unknown\n",
       "4      5.0      6.0      7.0\n",
       "5  Unknown      8.0  Unknown"
      ]
     },
     "execution_count": 233,
     "metadata": {},
     "output_type": "execute_result"
    }
   ],
   "source": [
    "df.fillna('Unknown')"
   ]
  },
  {
   "cell_type": "markdown",
   "id": "7307e2cb",
   "metadata": {},
   "source": [
    "however, it is not advised to use fillna for complete dataframe, instead use it for specific columns or series."
   ]
  },
  {
   "cell_type": "code",
   "execution_count": 234,
   "id": "e75aab2b",
   "metadata": {},
   "outputs": [
    {
     "data": {
      "application/vnd.microsoft.datawrangler.viewer.v0+json": {
       "columns": [
        {
         "name": "index",
         "rawType": "int64",
         "type": "integer"
        },
        {
         "name": "A",
         "rawType": "float64",
         "type": "float"
        }
       ],
       "ref": "5ef262cf-1225-481c-bbe4-7a11053cce4f",
       "rows": [
        [
         "0",
         "1.0"
        ],
        [
         "1",
         "3.0"
        ],
        [
         "2",
         "3.0"
        ],
        [
         "3",
         "3.0"
        ],
        [
         "4",
         "5.0"
        ],
        [
         "5",
         "3.0"
        ]
       ],
       "shape": {
        "columns": 1,
        "rows": 6
       }
      },
      "text/plain": [
       "0    1.0\n",
       "1    3.0\n",
       "2    3.0\n",
       "3    3.0\n",
       "4    5.0\n",
       "5    3.0\n",
       "Name: A, dtype: float64"
      ]
     },
     "execution_count": 234,
     "metadata": {},
     "output_type": "execute_result"
    }
   ],
   "source": [
    "df['A'].fillna(df['A'].mean())  # This will fill NaN values in column 'A' with the mean of that column."
   ]
  },
  {
   "cell_type": "markdown",
   "id": "e0d5a20c",
   "metadata": {},
   "source": [
    "---"
   ]
  },
  {
   "cell_type": "markdown",
   "id": "649bb022",
   "metadata": {},
   "source": [
    "## .drop_duplicates():\n",
    "- removes duplicated row sfrom dataframe"
   ]
  },
  {
   "cell_type": "code",
   "execution_count": 236,
   "id": "6c6f0e0b",
   "metadata": {},
   "outputs": [],
   "source": [
    "marks= pd.DataFrame([\n",
    "    [100, 80, 10],\n",
    "    [90, 70, 7],\n",
    "    [120, 100, 5],\n",
    "    [80,70, 14],\n",
    "    [80,70, 14],\n",
    "], columns=['iq', 'marks', 'package'\n",
    "])"
   ]
  },
  {
   "cell_type": "code",
   "execution_count": 238,
   "id": "783face7",
   "metadata": {},
   "outputs": [
    {
     "data": {
      "application/vnd.microsoft.datawrangler.viewer.v0+json": {
       "columns": [
        {
         "name": "index",
         "rawType": "int64",
         "type": "integer"
        },
        {
         "name": "0",
         "rawType": "bool",
         "type": "boolean"
        }
       ],
       "ref": "8875fe9f-1df2-43bd-8ada-33f765cb6682",
       "rows": [
        [
         "0",
         "False"
        ],
        [
         "1",
         "False"
        ],
        [
         "2",
         "False"
        ],
        [
         "3",
         "False"
        ],
        [
         "4",
         "True"
        ]
       ],
       "shape": {
        "columns": 1,
        "rows": 5
       }
      },
      "text/plain": [
       "0    False\n",
       "1    False\n",
       "2    False\n",
       "3    False\n",
       "4     True\n",
       "dtype: bool"
      ]
     },
     "execution_count": 238,
     "metadata": {},
     "output_type": "execute_result"
    }
   ],
   "source": [
    "marks.duplicated()"
   ]
  },
  {
   "cell_type": "code",
   "execution_count": 240,
   "id": "c1717543",
   "metadata": {},
   "outputs": [
    {
     "data": {
      "application/vnd.microsoft.datawrangler.viewer.v0+json": {
       "columns": [
        {
         "name": "index",
         "rawType": "int64",
         "type": "integer"
        },
        {
         "name": "iq",
         "rawType": "int64",
         "type": "integer"
        },
        {
         "name": "marks",
         "rawType": "int64",
         "type": "integer"
        },
        {
         "name": "package",
         "rawType": "int64",
         "type": "integer"
        }
       ],
       "ref": "1ce5dda8-6cf4-48e6-bc20-4c6d2a72ea8e",
       "rows": [
        [
         "0",
         "100",
         "80",
         "10"
        ],
        [
         "1",
         "90",
         "70",
         "7"
        ],
        [
         "2",
         "120",
         "100",
         "5"
        ],
        [
         "3",
         "80",
         "70",
         "14"
        ]
       ],
       "shape": {
        "columns": 3,
        "rows": 4
       }
      },
      "text/html": [
       "<div>\n",
       "<style scoped>\n",
       "    .dataframe tbody tr th:only-of-type {\n",
       "        vertical-align: middle;\n",
       "    }\n",
       "\n",
       "    .dataframe tbody tr th {\n",
       "        vertical-align: top;\n",
       "    }\n",
       "\n",
       "    .dataframe thead th {\n",
       "        text-align: right;\n",
       "    }\n",
       "</style>\n",
       "<table border=\"1\" class=\"dataframe\">\n",
       "  <thead>\n",
       "    <tr style=\"text-align: right;\">\n",
       "      <th></th>\n",
       "      <th>iq</th>\n",
       "      <th>marks</th>\n",
       "      <th>package</th>\n",
       "    </tr>\n",
       "  </thead>\n",
       "  <tbody>\n",
       "    <tr>\n",
       "      <th>0</th>\n",
       "      <td>100</td>\n",
       "      <td>80</td>\n",
       "      <td>10</td>\n",
       "    </tr>\n",
       "    <tr>\n",
       "      <th>1</th>\n",
       "      <td>90</td>\n",
       "      <td>70</td>\n",
       "      <td>7</td>\n",
       "    </tr>\n",
       "    <tr>\n",
       "      <th>2</th>\n",
       "      <td>120</td>\n",
       "      <td>100</td>\n",
       "      <td>5</td>\n",
       "    </tr>\n",
       "    <tr>\n",
       "      <th>3</th>\n",
       "      <td>80</td>\n",
       "      <td>70</td>\n",
       "      <td>14</td>\n",
       "    </tr>\n",
       "  </tbody>\n",
       "</table>\n",
       "</div>"
      ],
      "text/plain": [
       "    iq  marks  package\n",
       "0  100     80       10\n",
       "1   90     70        7\n",
       "2  120    100        5\n",
       "3   80     70       14"
      ]
     },
     "execution_count": 240,
     "metadata": {},
     "output_type": "execute_result"
    }
   ],
   "source": [
    "marks.drop_duplicates()"
   ]
  },
  {
   "cell_type": "markdown",
   "id": "10465e0a",
   "metadata": {},
   "source": [
    " Find the last match played by virat kohli in Delhi"
   ]
  },
  {
   "cell_type": "code",
   "execution_count": 244,
   "id": "7540cd17",
   "metadata": {},
   "outputs": [],
   "source": [
    "ipl['Total_players']= ipl['Team1Players'] + ipl['Team2Players']"
   ]
  },
  {
   "cell_type": "code",
   "execution_count": 246,
   "id": "ed37e051",
   "metadata": {},
   "outputs": [],
   "source": [
    "def did_kohli_play(player_list):\n",
    "    return 'V Kohli' in player_list"
   ]
  },
  {
   "cell_type": "code",
   "execution_count": 255,
   "id": "254f27d8",
   "metadata": {},
   "outputs": [
    {
     "data": {
      "application/vnd.microsoft.datawrangler.viewer.v0+json": {
       "columns": [
        {
         "name": "index",
         "rawType": "int64",
         "type": "integer"
        },
        {
         "name": "ID",
         "rawType": "int64",
         "type": "integer"
        },
        {
         "name": "City",
         "rawType": "object",
         "type": "string"
        },
        {
         "name": "Date",
         "rawType": "object",
         "type": "string"
        },
        {
         "name": "Season",
         "rawType": "object",
         "type": "string"
        },
        {
         "name": "MatchNumber",
         "rawType": "object",
         "type": "string"
        },
        {
         "name": "Team1",
         "rawType": "object",
         "type": "string"
        },
        {
         "name": "Team2",
         "rawType": "object",
         "type": "string"
        },
        {
         "name": "Venue",
         "rawType": "object",
         "type": "string"
        },
        {
         "name": "TossWinner",
         "rawType": "object",
         "type": "string"
        },
        {
         "name": "TossDecision",
         "rawType": "object",
         "type": "string"
        },
        {
         "name": "SuperOver",
         "rawType": "object",
         "type": "string"
        },
        {
         "name": "WinningTeam",
         "rawType": "object",
         "type": "string"
        },
        {
         "name": "WonBy",
         "rawType": "object",
         "type": "string"
        },
        {
         "name": "Margin",
         "rawType": "float64",
         "type": "float"
        },
        {
         "name": "method",
         "rawType": "object",
         "type": "unknown"
        },
        {
         "name": "Player_of_Match",
         "rawType": "object",
         "type": "string"
        },
        {
         "name": "Team1Players",
         "rawType": "object",
         "type": "string"
        },
        {
         "name": "Team2Players",
         "rawType": "object",
         "type": "string"
        },
        {
         "name": "Umpire1",
         "rawType": "object",
         "type": "string"
        },
        {
         "name": "Umpire2",
         "rawType": "object",
         "type": "string"
        },
        {
         "name": "Total_players",
         "rawType": "object",
         "type": "string"
        },
        {
         "name": "did_kohli_play",
         "rawType": "bool",
         "type": "boolean"
        }
       ],
       "ref": "7c100f28-29f9-4e76-902c-e1d90cf315bc",
       "rows": [
        [
         "208",
         "1178421",
         "Delhi",
         "2019-04-28",
         "2019",
         "46",
         "Delhi Capitals",
         "Royal Challengers Bangalore",
         "Arun Jaitley Stadium",
         "Delhi Capitals",
         "bat",
         "N",
         "Delhi Capitals",
         "Runs",
         "16.0",
         null,
         "S Dhawan",
         "['PP Shaw', 'S Dhawan', 'SS Iyer', 'RR Pant', 'CA Ingram', 'SE Rutherford', 'AR Patel', 'S Lamichhane', 'A Mishra', 'K Rabada', 'I Sharma']",
         "['PA Patel', 'V Kohli', 'AB de Villiers', 'S Dube', 'H Klaasen', 'Gurkeerat Singh', 'MP Stoinis', 'Washington Sundar', 'UT Yadav', 'YS Chahal', 'Navdeep Saini']",
         "BNJ Oxenford",
         "KN Ananthapadmanabhan",
         "['PP Shaw', 'S Dhawan', 'SS Iyer', 'RR Pant', 'CA Ingram', 'SE Rutherford', 'AR Patel', 'S Lamichhane', 'A Mishra', 'K Rabada', 'I Sharma']['PA Patel', 'V Kohli', 'AB de Villiers', 'S Dube', 'H Klaasen', 'Gurkeerat Singh', 'MP Stoinis', 'Washington Sundar', 'UT Yadav', 'YS Chahal', 'Navdeep Saini']",
         "True"
        ]
       ],
       "shape": {
        "columns": 22,
        "rows": 1
       }
      },
      "text/html": [
       "<div>\n",
       "<style scoped>\n",
       "    .dataframe tbody tr th:only-of-type {\n",
       "        vertical-align: middle;\n",
       "    }\n",
       "\n",
       "    .dataframe tbody tr th {\n",
       "        vertical-align: top;\n",
       "    }\n",
       "\n",
       "    .dataframe thead th {\n",
       "        text-align: right;\n",
       "    }\n",
       "</style>\n",
       "<table border=\"1\" class=\"dataframe\">\n",
       "  <thead>\n",
       "    <tr style=\"text-align: right;\">\n",
       "      <th></th>\n",
       "      <th>ID</th>\n",
       "      <th>City</th>\n",
       "      <th>Date</th>\n",
       "      <th>Season</th>\n",
       "      <th>MatchNumber</th>\n",
       "      <th>Team1</th>\n",
       "      <th>Team2</th>\n",
       "      <th>Venue</th>\n",
       "      <th>TossWinner</th>\n",
       "      <th>TossDecision</th>\n",
       "      <th>...</th>\n",
       "      <th>WonBy</th>\n",
       "      <th>Margin</th>\n",
       "      <th>method</th>\n",
       "      <th>Player_of_Match</th>\n",
       "      <th>Team1Players</th>\n",
       "      <th>Team2Players</th>\n",
       "      <th>Umpire1</th>\n",
       "      <th>Umpire2</th>\n",
       "      <th>Total_players</th>\n",
       "      <th>did_kohli_play</th>\n",
       "    </tr>\n",
       "  </thead>\n",
       "  <tbody>\n",
       "    <tr>\n",
       "      <th>208</th>\n",
       "      <td>1178421</td>\n",
       "      <td>Delhi</td>\n",
       "      <td>2019-04-28</td>\n",
       "      <td>2019</td>\n",
       "      <td>46</td>\n",
       "      <td>Delhi Capitals</td>\n",
       "      <td>Royal Challengers Bangalore</td>\n",
       "      <td>Arun Jaitley Stadium</td>\n",
       "      <td>Delhi Capitals</td>\n",
       "      <td>bat</td>\n",
       "      <td>...</td>\n",
       "      <td>Runs</td>\n",
       "      <td>16.0</td>\n",
       "      <td>NaN</td>\n",
       "      <td>S Dhawan</td>\n",
       "      <td>['PP Shaw', 'S Dhawan', 'SS Iyer', 'RR Pant', ...</td>\n",
       "      <td>['PA Patel', 'V Kohli', 'AB de Villiers', 'S D...</td>\n",
       "      <td>BNJ Oxenford</td>\n",
       "      <td>KN Ananthapadmanabhan</td>\n",
       "      <td>['PP Shaw', 'S Dhawan', 'SS Iyer', 'RR Pant', ...</td>\n",
       "      <td>True</td>\n",
       "    </tr>\n",
       "  </tbody>\n",
       "</table>\n",
       "<p>1 rows × 22 columns</p>\n",
       "</div>"
      ],
      "text/plain": [
       "          ID   City        Date Season MatchNumber           Team1  \\\n",
       "208  1178421  Delhi  2019-04-28   2019          46  Delhi Capitals   \n",
       "\n",
       "                           Team2                 Venue      TossWinner  \\\n",
       "208  Royal Challengers Bangalore  Arun Jaitley Stadium  Delhi Capitals   \n",
       "\n",
       "    TossDecision  ... WonBy Margin method  Player_of_Match  \\\n",
       "208          bat  ...  Runs   16.0    NaN         S Dhawan   \n",
       "\n",
       "                                          Team1Players  \\\n",
       "208  ['PP Shaw', 'S Dhawan', 'SS Iyer', 'RR Pant', ...   \n",
       "\n",
       "                                          Team2Players       Umpire1  \\\n",
       "208  ['PA Patel', 'V Kohli', 'AB de Villiers', 'S D...  BNJ Oxenford   \n",
       "\n",
       "                   Umpire2                                      Total_players  \\\n",
       "208  KN Ananthapadmanabhan  ['PP Shaw', 'S Dhawan', 'SS Iyer', 'RR Pant', ...   \n",
       "\n",
       "    did_kohli_play  \n",
       "208           True  \n",
       "\n",
       "[1 rows x 22 columns]"
      ]
     },
     "execution_count": 255,
     "metadata": {},
     "output_type": "execute_result"
    }
   ],
   "source": [
    "ipl['did_kohli_play']= ipl['Total_players'].apply(did_kohli_play)\n",
    "ipl[(ipl['did_kohli_play']== True) &  (ipl['City']== 'Delhi')].drop_duplicates(subset=['City', 'did_kohli_play'], keep ='first')"
   ]
  },
  {
   "cell_type": "markdown",
   "id": "3717218e",
   "metadata": {},
   "source": [
    "---"
   ]
  },
  {
   "cell_type": "markdown",
   "id": "62abc164",
   "metadata": {},
   "source": [
    "## drop():\n",
    "- removes the specified row or column from the DataFrame or Series."
   ]
  },
  {
   "cell_type": "code",
   "execution_count": 258,
   "id": "6ee0e29f",
   "metadata": {},
   "outputs": [
    {
     "data": {
      "application/vnd.microsoft.datawrangler.viewer.v0+json": {
       "columns": [
        {
         "name": "index",
         "rawType": "int64",
         "type": "integer"
        },
        {
         "name": "0",
         "rawType": "int64",
         "type": "integer"
        }
       ],
       "ref": "8d288d59-f1f2-4d12-a09d-beb77aac83b7",
       "rows": [
        [
         "3",
         "3"
        ],
        [
         "4",
         "4"
        ],
        [
         "5",
         "4"
        ],
        [
         "6",
         "5"
        ],
        [
         "7",
         "5"
        ]
       ],
       "shape": {
        "columns": 1,
        "rows": 5
       }
      },
      "text/plain": [
       "3    3\n",
       "4    4\n",
       "5    4\n",
       "6    5\n",
       "7    5\n",
       "dtype: int64"
      ]
     },
     "execution_count": 258,
     "metadata": {},
     "output_type": "execute_result"
    }
   ],
   "source": [
    "temp= pd.Series([1,1,2,3,4,4,5,5])\n",
    "temp.drop(index=[0, 1, 2])  # This will drop the specified indices from the Series."
   ]
  },
  {
   "cell_type": "code",
   "execution_count": 262,
   "id": "3eb1aefb",
   "metadata": {},
   "outputs": [
    {
     "data": {
      "application/vnd.microsoft.datawrangler.viewer.v0+json": {
       "columns": [
        {
         "name": "index",
         "rawType": "int64",
         "type": "integer"
        },
        {
         "name": "Name",
         "rawType": "object",
         "type": "string"
        },
        {
         "name": "College",
         "rawType": "object",
         "type": "unknown"
        },
        {
         "name": "Branch",
         "rawType": "object",
         "type": "unknown"
        },
        {
         "name": "CGPA",
         "rawType": "float64",
         "type": "float"
        },
        {
         "name": "Package",
         "rawType": "float64",
         "type": "float"
        }
       ],
       "ref": "cb9c1ca5-a0a8-4e86-9aeb-6d2f9b6092fe",
       "rows": [
        [
         "0",
         "Aniket",
         "IIT Delhi",
         "CSE",
         "9.2",
         "18.0"
        ],
        [
         "1",
         "Priya",
         "NIT Patna",
         "ECE",
         "8.5",
         "12.0"
        ],
        [
         "2",
         "Rohan",
         null,
         "ME",
         null,
         null
        ],
        [
         "3",
         "Sneha",
         "BIT Mesra",
         null,
         "7.8",
         "8.0"
        ],
        [
         "4",
         "Amit",
         "IIT Bombay",
         "CSE",
         "9.5",
         "25.0"
        ],
        [
         "5",
         "Divya",
         null,
         "CSE",
         "8.9",
         "15.0"
        ],
        [
         "6",
         "Kunal",
         "NIT Trichy",
         "EE",
         "8.0",
         "10.0"
        ],
        [
         "7",
         "Meena",
         "IIT Kanpur",
         "ECE",
         null,
         null
        ],
        [
         "8",
         "Suresh",
         "NSIT",
         null,
         "7.5",
         "7.0"
        ]
       ],
       "shape": {
        "columns": 5,
        "rows": 9
       }
      },
      "text/html": [
       "<div>\n",
       "<style scoped>\n",
       "    .dataframe tbody tr th:only-of-type {\n",
       "        vertical-align: middle;\n",
       "    }\n",
       "\n",
       "    .dataframe tbody tr th {\n",
       "        vertical-align: top;\n",
       "    }\n",
       "\n",
       "    .dataframe thead th {\n",
       "        text-align: right;\n",
       "    }\n",
       "</style>\n",
       "<table border=\"1\" class=\"dataframe\">\n",
       "  <thead>\n",
       "    <tr style=\"text-align: right;\">\n",
       "      <th></th>\n",
       "      <th>Name</th>\n",
       "      <th>College</th>\n",
       "      <th>Branch</th>\n",
       "      <th>CGPA</th>\n",
       "      <th>Package</th>\n",
       "    </tr>\n",
       "  </thead>\n",
       "  <tbody>\n",
       "    <tr>\n",
       "      <th>0</th>\n",
       "      <td>Aniket</td>\n",
       "      <td>IIT Delhi</td>\n",
       "      <td>CSE</td>\n",
       "      <td>9.2</td>\n",
       "      <td>18.0</td>\n",
       "    </tr>\n",
       "    <tr>\n",
       "      <th>1</th>\n",
       "      <td>Priya</td>\n",
       "      <td>NIT Patna</td>\n",
       "      <td>ECE</td>\n",
       "      <td>8.5</td>\n",
       "      <td>12.0</td>\n",
       "    </tr>\n",
       "    <tr>\n",
       "      <th>2</th>\n",
       "      <td>Rohan</td>\n",
       "      <td>NaN</td>\n",
       "      <td>ME</td>\n",
       "      <td>NaN</td>\n",
       "      <td>NaN</td>\n",
       "    </tr>\n",
       "    <tr>\n",
       "      <th>3</th>\n",
       "      <td>Sneha</td>\n",
       "      <td>BIT Mesra</td>\n",
       "      <td>NaN</td>\n",
       "      <td>7.8</td>\n",
       "      <td>8.0</td>\n",
       "    </tr>\n",
       "    <tr>\n",
       "      <th>4</th>\n",
       "      <td>Amit</td>\n",
       "      <td>IIT Bombay</td>\n",
       "      <td>CSE</td>\n",
       "      <td>9.5</td>\n",
       "      <td>25.0</td>\n",
       "    </tr>\n",
       "    <tr>\n",
       "      <th>5</th>\n",
       "      <td>Divya</td>\n",
       "      <td>NaN</td>\n",
       "      <td>CSE</td>\n",
       "      <td>8.9</td>\n",
       "      <td>15.0</td>\n",
       "    </tr>\n",
       "    <tr>\n",
       "      <th>6</th>\n",
       "      <td>Kunal</td>\n",
       "      <td>NIT Trichy</td>\n",
       "      <td>EE</td>\n",
       "      <td>8.0</td>\n",
       "      <td>10.0</td>\n",
       "    </tr>\n",
       "    <tr>\n",
       "      <th>7</th>\n",
       "      <td>Meena</td>\n",
       "      <td>IIT Kanpur</td>\n",
       "      <td>ECE</td>\n",
       "      <td>NaN</td>\n",
       "      <td>NaN</td>\n",
       "    </tr>\n",
       "    <tr>\n",
       "      <th>8</th>\n",
       "      <td>Suresh</td>\n",
       "      <td>NSIT</td>\n",
       "      <td>NaN</td>\n",
       "      <td>7.5</td>\n",
       "      <td>7.0</td>\n",
       "    </tr>\n",
       "  </tbody>\n",
       "</table>\n",
       "</div>"
      ],
      "text/plain": [
       "     Name     College Branch  CGPA  Package\n",
       "0  Aniket   IIT Delhi    CSE   9.2     18.0\n",
       "1   Priya   NIT Patna    ECE   8.5     12.0\n",
       "2   Rohan         NaN     ME   NaN      NaN\n",
       "3   Sneha   BIT Mesra    NaN   7.8      8.0\n",
       "4    Amit  IIT Bombay    CSE   9.5     25.0\n",
       "5   Divya         NaN    CSE   8.9     15.0\n",
       "6   Kunal  NIT Trichy     EE   8.0     10.0\n",
       "7   Meena  IIT Kanpur    ECE   NaN      NaN\n",
       "8  Suresh        NSIT    NaN   7.5      7.0"
      ]
     },
     "execution_count": 262,
     "metadata": {},
     "output_type": "execute_result"
    }
   ],
   "source": [
    "data = {\n",
    "    'Name': ['Aniket', 'Priya', 'Rohan', 'Sneha', 'Amit', 'Divya', 'Kunal', 'Meena', 'Suresh'],\n",
    "    'College': ['IIT Delhi', 'NIT Patna', np.nan, 'BIT Mesra', 'IIT Bombay', np.nan, 'NIT Trichy', 'IIT Kanpur', 'NSIT'],\n",
    "    'Branch': ['CSE', 'ECE', 'ME', np.nan, 'CSE', 'CSE', 'EE', 'ECE', np.nan],\n",
    "    'CGPA': [9.2, 8.5, np.nan, 7.8, 9.5, 8.9, 8.0, np.nan, 7.5],\n",
    "    'Package': [18, 12, np.nan, 8, 25, 15, 10, np.nan, 7]\n",
    "}\n",
    "students = pd.DataFrame(data)\n",
    "students"
   ]
  },
  {
   "cell_type": "code",
   "execution_count": 263,
   "id": "ebd34305",
   "metadata": {},
   "outputs": [
    {
     "data": {
      "application/vnd.microsoft.datawrangler.viewer.v0+json": {
       "columns": [
        {
         "name": "index",
         "rawType": "int64",
         "type": "integer"
        },
        {
         "name": "Name",
         "rawType": "object",
         "type": "string"
        },
        {
         "name": "CGPA",
         "rawType": "float64",
         "type": "float"
        },
        {
         "name": "Package",
         "rawType": "float64",
         "type": "float"
        }
       ],
       "ref": "762f16b3-fc25-40ac-8b9c-d9d748c9beea",
       "rows": [
        [
         "0",
         "Aniket",
         "9.2",
         "18.0"
        ],
        [
         "1",
         "Priya",
         "8.5",
         "12.0"
        ],
        [
         "2",
         "Rohan",
         null,
         null
        ],
        [
         "3",
         "Sneha",
         "7.8",
         "8.0"
        ],
        [
         "4",
         "Amit",
         "9.5",
         "25.0"
        ],
        [
         "5",
         "Divya",
         "8.9",
         "15.0"
        ],
        [
         "6",
         "Kunal",
         "8.0",
         "10.0"
        ],
        [
         "7",
         "Meena",
         null,
         null
        ],
        [
         "8",
         "Suresh",
         "7.5",
         "7.0"
        ]
       ],
       "shape": {
        "columns": 3,
        "rows": 9
       }
      },
      "text/html": [
       "<div>\n",
       "<style scoped>\n",
       "    .dataframe tbody tr th:only-of-type {\n",
       "        vertical-align: middle;\n",
       "    }\n",
       "\n",
       "    .dataframe tbody tr th {\n",
       "        vertical-align: top;\n",
       "    }\n",
       "\n",
       "    .dataframe thead th {\n",
       "        text-align: right;\n",
       "    }\n",
       "</style>\n",
       "<table border=\"1\" class=\"dataframe\">\n",
       "  <thead>\n",
       "    <tr style=\"text-align: right;\">\n",
       "      <th></th>\n",
       "      <th>Name</th>\n",
       "      <th>CGPA</th>\n",
       "      <th>Package</th>\n",
       "    </tr>\n",
       "  </thead>\n",
       "  <tbody>\n",
       "    <tr>\n",
       "      <th>0</th>\n",
       "      <td>Aniket</td>\n",
       "      <td>9.2</td>\n",
       "      <td>18.0</td>\n",
       "    </tr>\n",
       "    <tr>\n",
       "      <th>1</th>\n",
       "      <td>Priya</td>\n",
       "      <td>8.5</td>\n",
       "      <td>12.0</td>\n",
       "    </tr>\n",
       "    <tr>\n",
       "      <th>2</th>\n",
       "      <td>Rohan</td>\n",
       "      <td>NaN</td>\n",
       "      <td>NaN</td>\n",
       "    </tr>\n",
       "    <tr>\n",
       "      <th>3</th>\n",
       "      <td>Sneha</td>\n",
       "      <td>7.8</td>\n",
       "      <td>8.0</td>\n",
       "    </tr>\n",
       "    <tr>\n",
       "      <th>4</th>\n",
       "      <td>Amit</td>\n",
       "      <td>9.5</td>\n",
       "      <td>25.0</td>\n",
       "    </tr>\n",
       "    <tr>\n",
       "      <th>5</th>\n",
       "      <td>Divya</td>\n",
       "      <td>8.9</td>\n",
       "      <td>15.0</td>\n",
       "    </tr>\n",
       "    <tr>\n",
       "      <th>6</th>\n",
       "      <td>Kunal</td>\n",
       "      <td>8.0</td>\n",
       "      <td>10.0</td>\n",
       "    </tr>\n",
       "    <tr>\n",
       "      <th>7</th>\n",
       "      <td>Meena</td>\n",
       "      <td>NaN</td>\n",
       "      <td>NaN</td>\n",
       "    </tr>\n",
       "    <tr>\n",
       "      <th>8</th>\n",
       "      <td>Suresh</td>\n",
       "      <td>7.5</td>\n",
       "      <td>7.0</td>\n",
       "    </tr>\n",
       "  </tbody>\n",
       "</table>\n",
       "</div>"
      ],
      "text/plain": [
       "     Name  CGPA  Package\n",
       "0  Aniket   9.2     18.0\n",
       "1   Priya   8.5     12.0\n",
       "2   Rohan   NaN      NaN\n",
       "3   Sneha   7.8      8.0\n",
       "4    Amit   9.5     25.0\n",
       "5   Divya   8.9     15.0\n",
       "6   Kunal   8.0     10.0\n",
       "7   Meena   NaN      NaN\n",
       "8  Suresh   7.5      7.0"
      ]
     },
     "execution_count": 263,
     "metadata": {},
     "output_type": "execute_result"
    }
   ],
   "source": [
    "students.drop(columns=['College', 'Branch'])"
   ]
  },
  {
   "cell_type": "code",
   "execution_count": 264,
   "id": "25dd8eca",
   "metadata": {},
   "outputs": [
    {
     "data": {
      "application/vnd.microsoft.datawrangler.viewer.v0+json": {
       "columns": [
        {
         "name": "index",
         "rawType": "int64",
         "type": "integer"
        },
        {
         "name": "Name",
         "rawType": "object",
         "type": "string"
        },
        {
         "name": "College",
         "rawType": "object",
         "type": "unknown"
        },
        {
         "name": "Branch",
         "rawType": "object",
         "type": "unknown"
        },
        {
         "name": "CGPA",
         "rawType": "float64",
         "type": "float"
        },
        {
         "name": "Package",
         "rawType": "float64",
         "type": "float"
        }
       ],
       "ref": "364f41af-2122-4054-9d72-9e1a7a7f15d5",
       "rows": [
        [
         "3",
         "Sneha",
         "BIT Mesra",
         null,
         "7.8",
         "8.0"
        ],
        [
         "4",
         "Amit",
         "IIT Bombay",
         "CSE",
         "9.5",
         "25.0"
        ],
        [
         "5",
         "Divya",
         null,
         "CSE",
         "8.9",
         "15.0"
        ],
        [
         "6",
         "Kunal",
         "NIT Trichy",
         "EE",
         "8.0",
         "10.0"
        ],
        [
         "7",
         "Meena",
         "IIT Kanpur",
         "ECE",
         null,
         null
        ],
        [
         "8",
         "Suresh",
         "NSIT",
         null,
         "7.5",
         "7.0"
        ]
       ],
       "shape": {
        "columns": 5,
        "rows": 6
       }
      },
      "text/html": [
       "<div>\n",
       "<style scoped>\n",
       "    .dataframe tbody tr th:only-of-type {\n",
       "        vertical-align: middle;\n",
       "    }\n",
       "\n",
       "    .dataframe tbody tr th {\n",
       "        vertical-align: top;\n",
       "    }\n",
       "\n",
       "    .dataframe thead th {\n",
       "        text-align: right;\n",
       "    }\n",
       "</style>\n",
       "<table border=\"1\" class=\"dataframe\">\n",
       "  <thead>\n",
       "    <tr style=\"text-align: right;\">\n",
       "      <th></th>\n",
       "      <th>Name</th>\n",
       "      <th>College</th>\n",
       "      <th>Branch</th>\n",
       "      <th>CGPA</th>\n",
       "      <th>Package</th>\n",
       "    </tr>\n",
       "  </thead>\n",
       "  <tbody>\n",
       "    <tr>\n",
       "      <th>3</th>\n",
       "      <td>Sneha</td>\n",
       "      <td>BIT Mesra</td>\n",
       "      <td>NaN</td>\n",
       "      <td>7.8</td>\n",
       "      <td>8.0</td>\n",
       "    </tr>\n",
       "    <tr>\n",
       "      <th>4</th>\n",
       "      <td>Amit</td>\n",
       "      <td>IIT Bombay</td>\n",
       "      <td>CSE</td>\n",
       "      <td>9.5</td>\n",
       "      <td>25.0</td>\n",
       "    </tr>\n",
       "    <tr>\n",
       "      <th>5</th>\n",
       "      <td>Divya</td>\n",
       "      <td>NaN</td>\n",
       "      <td>CSE</td>\n",
       "      <td>8.9</td>\n",
       "      <td>15.0</td>\n",
       "    </tr>\n",
       "    <tr>\n",
       "      <th>6</th>\n",
       "      <td>Kunal</td>\n",
       "      <td>NIT Trichy</td>\n",
       "      <td>EE</td>\n",
       "      <td>8.0</td>\n",
       "      <td>10.0</td>\n",
       "    </tr>\n",
       "    <tr>\n",
       "      <th>7</th>\n",
       "      <td>Meena</td>\n",
       "      <td>IIT Kanpur</td>\n",
       "      <td>ECE</td>\n",
       "      <td>NaN</td>\n",
       "      <td>NaN</td>\n",
       "    </tr>\n",
       "    <tr>\n",
       "      <th>8</th>\n",
       "      <td>Suresh</td>\n",
       "      <td>NSIT</td>\n",
       "      <td>NaN</td>\n",
       "      <td>7.5</td>\n",
       "      <td>7.0</td>\n",
       "    </tr>\n",
       "  </tbody>\n",
       "</table>\n",
       "</div>"
      ],
      "text/plain": [
       "     Name     College Branch  CGPA  Package\n",
       "3   Sneha   BIT Mesra    NaN   7.8      8.0\n",
       "4    Amit  IIT Bombay    CSE   9.5     25.0\n",
       "5   Divya         NaN    CSE   8.9     15.0\n",
       "6   Kunal  NIT Trichy     EE   8.0     10.0\n",
       "7   Meena  IIT Kanpur    ECE   NaN      NaN\n",
       "8  Suresh        NSIT    NaN   7.5      7.0"
      ]
     },
     "execution_count": 264,
     "metadata": {},
     "output_type": "execute_result"
    }
   ],
   "source": [
    "students.drop(index=[0, 1, 2]) "
   ]
  },
  {
   "cell_type": "markdown",
   "id": "0290e895",
   "metadata": {},
   "source": [
    "---"
   ]
  },
  {
   "cell_type": "markdown",
   "id": "4d7eb2f5",
   "metadata": {},
   "source": [
    "## .apply():\n",
    "- This function is used to apply a function along the axis of the DataFrame or Series."
   ]
  },
  {
   "cell_type": "code",
   "execution_count": 269,
   "id": "6529498b",
   "metadata": {},
   "outputs": [
    {
     "data": {
      "application/vnd.microsoft.datawrangler.viewer.v0+json": {
       "columns": [
        {
         "name": "index",
         "rawType": "int64",
         "type": "integer"
        },
        {
         "name": "pt_A",
         "rawType": "object",
         "type": "unknown"
        },
        {
         "name": "pt_B",
         "rawType": "object",
         "type": "unknown"
        }
       ],
       "ref": "85d4416e-45b5-455a-ac2f-c3f80ee99879",
       "rows": [
        [
         "0",
         "(1, 2)",
         "(3, 5)"
        ],
        [
         "1",
         "(4, 7)",
         "(1, 2)"
        ],
        [
         "2",
         "(5, 3)",
         "(6, 8)"
        ],
        [
         "3",
         "(2, 9)",
         "(5, 1)"
        ],
        [
         "4",
         "(8, 6)",
         "(2, 4)"
        ]
       ],
       "shape": {
        "columns": 2,
        "rows": 5
       }
      },
      "text/html": [
       "<div>\n",
       "<style scoped>\n",
       "    .dataframe tbody tr th:only-of-type {\n",
       "        vertical-align: middle;\n",
       "    }\n",
       "\n",
       "    .dataframe tbody tr th {\n",
       "        vertical-align: top;\n",
       "    }\n",
       "\n",
       "    .dataframe thead th {\n",
       "        text-align: right;\n",
       "    }\n",
       "</style>\n",
       "<table border=\"1\" class=\"dataframe\">\n",
       "  <thead>\n",
       "    <tr style=\"text-align: right;\">\n",
       "      <th></th>\n",
       "      <th>pt_A</th>\n",
       "      <th>pt_B</th>\n",
       "    </tr>\n",
       "  </thead>\n",
       "  <tbody>\n",
       "    <tr>\n",
       "      <th>0</th>\n",
       "      <td>(1, 2)</td>\n",
       "      <td>(3, 5)</td>\n",
       "    </tr>\n",
       "    <tr>\n",
       "      <th>1</th>\n",
       "      <td>(4, 7)</td>\n",
       "      <td>(1, 2)</td>\n",
       "    </tr>\n",
       "    <tr>\n",
       "      <th>2</th>\n",
       "      <td>(5, 3)</td>\n",
       "      <td>(6, 8)</td>\n",
       "    </tr>\n",
       "    <tr>\n",
       "      <th>3</th>\n",
       "      <td>(2, 9)</td>\n",
       "      <td>(5, 1)</td>\n",
       "    </tr>\n",
       "    <tr>\n",
       "      <th>4</th>\n",
       "      <td>(8, 6)</td>\n",
       "      <td>(2, 4)</td>\n",
       "    </tr>\n",
       "  </tbody>\n",
       "</table>\n",
       "</div>"
      ],
      "text/plain": [
       "     pt_A    pt_B\n",
       "0  (1, 2)  (3, 5)\n",
       "1  (4, 7)  (1, 2)\n",
       "2  (5, 3)  (6, 8)\n",
       "3  (2, 9)  (5, 1)\n",
       "4  (8, 6)  (2, 4)"
      ]
     },
     "execution_count": 269,
     "metadata": {},
     "output_type": "execute_result"
    }
   ],
   "source": [
    "data = {\n",
    "    'pt_A': [(1, 2), (4, 7), (5, 3), (2, 9), (8, 6)],\n",
    "    'pt_B': [(3, 5), (1, 2), (6, 8), (5, 1), (2, 4)]\n",
    "}\n",
    "points_df = pd.DataFrame(data)\n",
    "points_df"
   ]
  },
  {
   "cell_type": "markdown",
   "id": "f40be803",
   "metadata": {},
   "source": [
    "Create a function to calculate eucleading distance between pt_A and pt_B using apply."
   ]
  },
  {
   "cell_type": "code",
   "execution_count": 271,
   "id": "13217edb",
   "metadata": {},
   "outputs": [],
   "source": [
    "def cal_dist(row):\n",
    "    pt_A = row['pt_A']\n",
    "    pt_B = row['pt_B']\n",
    "    return ((pt_A[0] - pt_B[0]) ** 2 + (pt_A[1] - pt_B[1]) ** 2) ** 0.5"
   ]
  },
  {
   "cell_type": "code",
   "execution_count": 273,
   "id": "7bcda775",
   "metadata": {},
   "outputs": [
    {
     "data": {
      "application/vnd.microsoft.datawrangler.viewer.v0+json": {
       "columns": [
        {
         "name": "index",
         "rawType": "int64",
         "type": "integer"
        },
        {
         "name": "pt_A",
         "rawType": "object",
         "type": "unknown"
        },
        {
         "name": "pt_B",
         "rawType": "object",
         "type": "unknown"
        },
        {
         "name": "distance",
         "rawType": "float64",
         "type": "float"
        }
       ],
       "ref": "76b95836-db45-49db-b9d6-4720f1ea6c9f",
       "rows": [
        [
         "0",
         "(1, 2)",
         "(3, 5)",
         "3.605551275463989"
        ],
        [
         "1",
         "(4, 7)",
         "(1, 2)",
         "5.830951894845301"
        ],
        [
         "2",
         "(5, 3)",
         "(6, 8)",
         "5.0990195135927845"
        ],
        [
         "3",
         "(2, 9)",
         "(5, 1)",
         "8.54400374531753"
        ],
        [
         "4",
         "(8, 6)",
         "(2, 4)",
         "6.324555320336759"
        ]
       ],
       "shape": {
        "columns": 3,
        "rows": 5
       }
      },
      "text/html": [
       "<div>\n",
       "<style scoped>\n",
       "    .dataframe tbody tr th:only-of-type {\n",
       "        vertical-align: middle;\n",
       "    }\n",
       "\n",
       "    .dataframe tbody tr th {\n",
       "        vertical-align: top;\n",
       "    }\n",
       "\n",
       "    .dataframe thead th {\n",
       "        text-align: right;\n",
       "    }\n",
       "</style>\n",
       "<table border=\"1\" class=\"dataframe\">\n",
       "  <thead>\n",
       "    <tr style=\"text-align: right;\">\n",
       "      <th></th>\n",
       "      <th>pt_A</th>\n",
       "      <th>pt_B</th>\n",
       "      <th>distance</th>\n",
       "    </tr>\n",
       "  </thead>\n",
       "  <tbody>\n",
       "    <tr>\n",
       "      <th>0</th>\n",
       "      <td>(1, 2)</td>\n",
       "      <td>(3, 5)</td>\n",
       "      <td>3.605551</td>\n",
       "    </tr>\n",
       "    <tr>\n",
       "      <th>1</th>\n",
       "      <td>(4, 7)</td>\n",
       "      <td>(1, 2)</td>\n",
       "      <td>5.830952</td>\n",
       "    </tr>\n",
       "    <tr>\n",
       "      <th>2</th>\n",
       "      <td>(5, 3)</td>\n",
       "      <td>(6, 8)</td>\n",
       "      <td>5.099020</td>\n",
       "    </tr>\n",
       "    <tr>\n",
       "      <th>3</th>\n",
       "      <td>(2, 9)</td>\n",
       "      <td>(5, 1)</td>\n",
       "      <td>8.544004</td>\n",
       "    </tr>\n",
       "    <tr>\n",
       "      <th>4</th>\n",
       "      <td>(8, 6)</td>\n",
       "      <td>(2, 4)</td>\n",
       "      <td>6.324555</td>\n",
       "    </tr>\n",
       "  </tbody>\n",
       "</table>\n",
       "</div>"
      ],
      "text/plain": [
       "     pt_A    pt_B  distance\n",
       "0  (1, 2)  (3, 5)  3.605551\n",
       "1  (4, 7)  (1, 2)  5.830952\n",
       "2  (5, 3)  (6, 8)  5.099020\n",
       "3  (2, 9)  (5, 1)  8.544004\n",
       "4  (8, 6)  (2, 4)  6.324555"
      ]
     },
     "execution_count": 273,
     "metadata": {},
     "output_type": "execute_result"
    }
   ],
   "source": [
    "points_df['distance']= points_df.apply(cal_dist, axis=1)\n",
    "points_df"
   ]
  }
 ],
 "metadata": {
  "kernelspec": {
   "display_name": ".venv",
   "language": "python",
   "name": "python3"
  },
  "language_info": {
   "codemirror_mode": {
    "name": "ipython",
    "version": 3
   },
   "file_extension": ".py",
   "mimetype": "text/x-python",
   "name": "python",
   "nbconvert_exporter": "python",
   "pygments_lexer": "ipython3",
   "version": "3.12.2"
  }
 },
 "nbformat": 4,
 "nbformat_minor": 5
}
