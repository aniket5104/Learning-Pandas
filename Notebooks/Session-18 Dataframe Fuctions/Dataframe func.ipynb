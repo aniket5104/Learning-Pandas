{
 "cells": [
  {
   "cell_type": "code",
   "execution_count": 1,
   "id": "dd37edd1",
   "metadata": {},
   "outputs": [],
   "source": [
    "import pandas as pd\n",
    "import numpy as np"
   ]
  },
  {
   "cell_type": "code",
   "execution_count": 2,
   "id": "864ce47c",
   "metadata": {},
   "outputs": [],
   "source": [
    "df= pd.read_csv('C:/Users/anike/OneDrive/Desktop/Learning Pandas/Datasets/Session-17/ipl-matches.csv')\n",
    "ipl= pd.DataFrame(df)\n",
    "df= pd.read_csv('C:/Users/anike/OneDrive/Desktop/Learning Pandas/Datasets/Session-17/movies.csv')\n",
    "movies= pd.DataFrame(df)\n",
    "df = pd.read_csv(\"C:/Users/anike/OneDrive/Desktop/Learning Pandas/Datasets/Session-16/kohli_ipl.csv\")\n",
    "vk= df['runs']"
   ]
  },
  {
   "cell_type": "markdown",
   "id": "9be20778",
   "metadata": {},
   "source": [
    "---"
   ]
  },
  {
   "cell_type": "markdown",
   "id": "91096c2c",
   "metadata": {},
   "source": [
    "# Important Dataframe Functions:\n",
    "## .astype():\n",
    "- converts the dtype of given parameter into another parameter.\n",
    "- helps in memory optimization and saving memory."
   ]
  },
  {
   "cell_type": "code",
   "execution_count": 3,
   "id": "80f2abd6",
   "metadata": {},
   "outputs": [
    {
     "data": {
      "text/plain": [
       "0                   Gujarat Titans\n",
       "1                 Rajasthan Royals\n",
       "2             Lucknow Super Giants\n",
       "3                   Gujarat Titans\n",
       "4                     Punjab Kings\n",
       "                  ...             \n",
       "945                Deccan Chargers\n",
       "946    Royal Challengers Bangalore\n",
       "947               Rajasthan Royals\n",
       "948            Chennai Super Kings\n",
       "949          Kolkata Knight Riders\n",
       "Name: Team2, Length: 950, dtype: category\n",
       "Categories (18, object): ['Chennai Super Kings', 'Deccan Chargers', 'Delhi Capitals', 'Delhi Daredevils', ..., 'Rising Pune Supergiant', 'Rising Pune Supergiants', 'Royal Challengers Bangalore', 'Sunrisers Hyderabad']"
      ]
     },
     "execution_count": 3,
     "metadata": {},
     "output_type": "execute_result"
    }
   ],
   "source": [
    "ipl['Team1'].astype('category')\n",
    "ipl['Team2'].astype('category')"
   ]
  },
  {
   "cell_type": "markdown",
   "id": "cf949629",
   "metadata": {},
   "source": [
    "---"
   ]
  },
  {
   "cell_type": "markdown",
   "id": "bcb199a7",
   "metadata": {},
   "source": [
    "## .between():\n",
    "- returns a boolean value for whether the series value lies in the given range."
   ]
  },
  {
   "cell_type": "code",
   "execution_count": 4,
   "id": "820f92fe",
   "metadata": {},
   "outputs": [
    {
     "data": {
      "text/plain": [
       "45"
      ]
     },
     "execution_count": 4,
     "metadata": {},
     "output_type": "execute_result"
    }
   ],
   "source": [
    "vk[vk.between(50,99)].shape[0]"
   ]
  },
  {
   "cell_type": "markdown",
   "id": "e5b1d4f6",
   "metadata": {},
   "source": [
    "---"
   ]
  },
  {
   "cell_type": "markdown",
   "id": "82b9e151",
   "metadata": {},
   "source": [
    "## .clip():\n",
    "- clips data between a given range."
   ]
  },
  {
   "cell_type": "code",
   "execution_count": 5,
   "id": "03c11d08",
   "metadata": {},
   "outputs": [],
   "source": [
    "df = pd.read_csv(\"C:/Users/anike/OneDrive/Desktop/Learning Pandas/Datasets/Session-16/subs.csv\")\n",
    "subs= df['Subscribers gained']"
   ]
  },
  {
   "cell_type": "code",
   "execution_count": 6,
   "id": "cac897c2",
   "metadata": {},
   "outputs": [
    {
     "data": {
      "text/plain": [
       "0      100\n",
       "1      100\n",
       "2      100\n",
       "3      100\n",
       "4      100\n",
       "      ... \n",
       "360    200\n",
       "361    200\n",
       "362    155\n",
       "363    144\n",
       "364    172\n",
       "Name: Subscribers gained, Length: 365, dtype: int64"
      ]
     },
     "execution_count": 6,
     "metadata": {},
     "output_type": "execute_result"
    }
   ],
   "source": [
    "subs.clip(100, 200)"
   ]
  },
  {
   "cell_type": "markdown",
   "id": "4f0ac65b",
   "metadata": {
    "vscode": {
     "languageId": "javascript"
    }
   },
   "source": [
    "---"
   ]
  },
  {
   "cell_type": "markdown",
   "id": "c8371ed5",
   "metadata": {},
   "source": [
    "## .drop_duplicates():\n",
    "- removes non unique values from series."
   ]
  },
  {
   "cell_type": "code",
   "execution_count": 7,
   "id": "1e5ec340",
   "metadata": {},
   "outputs": [
    {
     "data": {
      "text/plain": [
       "0    1\n",
       "2    2\n",
       "5    3\n",
       "7    4\n",
       "9    5\n",
       "dtype: int64"
      ]
     },
     "execution_count": 7,
     "metadata": {},
     "output_type": "execute_result"
    }
   ],
   "source": [
    "temp = pd.Series([1, 1, 2, 2, 2, 3, 3, 4 , 4, 5, 5])\n",
    "temp.drop_duplicates()"
   ]
  },
  {
   "cell_type": "code",
   "execution_count": 8,
   "id": "7325a8e4",
   "metadata": {},
   "outputs": [
    {
     "data": {
      "text/plain": [
       "1     1\n",
       "4     2\n",
       "6     3\n",
       "8     4\n",
       "10    5\n",
       "dtype: int64"
      ]
     },
     "execution_count": 8,
     "metadata": {},
     "output_type": "execute_result"
    }
   ],
   "source": [
    "temp.drop_duplicates(keep='last') # keeps the last occurrence of the duplicate value."
   ]
  },
  {
   "cell_type": "markdown",
   "id": "df60f91b",
   "metadata": {},
   "source": [
    "---"
   ]
  },
  {
   "cell_type": "markdown",
   "id": "680c7fa4",
   "metadata": {},
   "source": [
    "## .duplictaed()\n",
    "- returns a boolean value for whether a value is duplicated or not"
   ]
  },
  {
   "cell_type": "code",
   "execution_count": 13,
   "id": "f508f402",
   "metadata": {},
   "outputs": [
    {
     "data": {
      "text/plain": [
       "np.int64(6)"
      ]
     },
     "execution_count": 13,
     "metadata": {},
     "output_type": "execute_result"
    }
   ],
   "source": [
    "temp.duplicated().sum() # returns a boolean value for whether a value is duplicated or not"
   ]
  },
  {
   "cell_type": "markdown",
   "id": "18569a1c",
   "metadata": {},
   "source": [
    "---"
   ]
  },
  {
   "cell_type": "markdown",
   "id": "299cf8b7",
   "metadata": {},
   "source": [
    "## .isnull():\n",
    "- returns a boolean value for whether a value is null or not"
   ]
  },
  {
   "cell_type": "code",
   "execution_count": 10,
   "id": "057b1da9",
   "metadata": {},
   "outputs": [
    {
     "data": {
      "text/plain": [
       "np.int64(0)"
      ]
     },
     "execution_count": 10,
     "metadata": {},
     "output_type": "execute_result"
    }
   ],
   "source": [
    "vk.isnull().sum() # returns the number of null values in the series"
   ]
  },
  {
   "cell_type": "markdown",
   "id": "25e1dd20",
   "metadata": {},
   "source": [
    "---"
   ]
  },
  {
   "cell_type": "markdown",
   "id": "1777102b",
   "metadata": {},
   "source": [
    "## .dropna():\n",
    "- removes the null values from the series."
   ]
  },
  {
   "cell_type": "code",
   "execution_count": 14,
   "id": "134e5c5e",
   "metadata": {},
   "outputs": [
    {
     "data": {
      "text/html": [
       "<div>\n",
       "<style scoped>\n",
       "    .dataframe tbody tr th:only-of-type {\n",
       "        vertical-align: middle;\n",
       "    }\n",
       "\n",
       "    .dataframe tbody tr th {\n",
       "        vertical-align: top;\n",
       "    }\n",
       "\n",
       "    .dataframe thead th {\n",
       "        text-align: right;\n",
       "    }\n",
       "</style>\n",
       "<table border=\"1\" class=\"dataframe\">\n",
       "  <thead>\n",
       "    <tr style=\"text-align: right;\">\n",
       "      <th></th>\n",
       "      <th>Name</th>\n",
       "      <th>Age</th>\n",
       "      <th>Maths</th>\n",
       "      <th>Science</th>\n",
       "      <th>City</th>\n",
       "    </tr>\n",
       "  </thead>\n",
       "  <tbody>\n",
       "    <tr>\n",
       "      <th>0</th>\n",
       "      <td>Anni</td>\n",
       "      <td>19.0</td>\n",
       "      <td>95.0</td>\n",
       "      <td>89.0</td>\n",
       "      <td>Patna</td>\n",
       "    </tr>\n",
       "  </tbody>\n",
       "</table>\n",
       "</div>"
      ],
      "text/plain": [
       "   Name   Age  Maths  Science   City\n",
       "0  Anni  19.0   95.0     89.0  Patna"
      ]
     },
     "execution_count": 14,
     "metadata": {},
     "output_type": "execute_result"
    }
   ],
   "source": [
    "data = {\n",
    "    'Name': ['Anni', 'Aman', 'Ashish', 'Balendu', 'Shubham'],\n",
    "    'Age': [19, np.nan, 22, 20, np.nan],\n",
    "    'Maths': [95, 45, np.nan, 30, 101],\n",
    "    'Science': [89, 55, 120, np.nan, -5],\n",
    "    'City': ['Patna', np.nan, 'Patna', 'Muzaffarpur', 'Gaya']\n",
    "}\n",
    "\n",
    "df = pd.DataFrame(data)\n",
    "df.dropna()"
   ]
  },
  {
   "cell_type": "markdown",
   "id": "e49ce577",
   "metadata": {},
   "source": [
    "---"
   ]
  },
  {
   "cell_type": "markdown",
   "id": "91fde013",
   "metadata": {},
   "source": [
    "## .fillna():\n",
    "- replaces the null values with a specified value."
   ]
  },
  {
   "cell_type": "code",
   "execution_count": 15,
   "id": "dbb358bf",
   "metadata": {},
   "outputs": [
    {
     "data": {
      "text/html": [
       "<div>\n",
       "<style scoped>\n",
       "    .dataframe tbody tr th:only-of-type {\n",
       "        vertical-align: middle;\n",
       "    }\n",
       "\n",
       "    .dataframe tbody tr th {\n",
       "        vertical-align: top;\n",
       "    }\n",
       "\n",
       "    .dataframe thead th {\n",
       "        text-align: right;\n",
       "    }\n",
       "</style>\n",
       "<table border=\"1\" class=\"dataframe\">\n",
       "  <thead>\n",
       "    <tr style=\"text-align: right;\">\n",
       "      <th></th>\n",
       "      <th>Name</th>\n",
       "      <th>Age</th>\n",
       "      <th>Maths</th>\n",
       "      <th>Science</th>\n",
       "      <th>City</th>\n",
       "    </tr>\n",
       "  </thead>\n",
       "  <tbody>\n",
       "    <tr>\n",
       "      <th>0</th>\n",
       "      <td>Anni</td>\n",
       "      <td>19.0</td>\n",
       "      <td>95.0</td>\n",
       "      <td>89.0</td>\n",
       "      <td>Patna</td>\n",
       "    </tr>\n",
       "    <tr>\n",
       "      <th>1</th>\n",
       "      <td>Aman</td>\n",
       "      <td>0.0</td>\n",
       "      <td>45.0</td>\n",
       "      <td>55.0</td>\n",
       "      <td>0</td>\n",
       "    </tr>\n",
       "    <tr>\n",
       "      <th>2</th>\n",
       "      <td>Ashish</td>\n",
       "      <td>22.0</td>\n",
       "      <td>0.0</td>\n",
       "      <td>120.0</td>\n",
       "      <td>Patna</td>\n",
       "    </tr>\n",
       "    <tr>\n",
       "      <th>3</th>\n",
       "      <td>Balendu</td>\n",
       "      <td>20.0</td>\n",
       "      <td>30.0</td>\n",
       "      <td>0.0</td>\n",
       "      <td>Muzaffarpur</td>\n",
       "    </tr>\n",
       "    <tr>\n",
       "      <th>4</th>\n",
       "      <td>Shubham</td>\n",
       "      <td>0.0</td>\n",
       "      <td>101.0</td>\n",
       "      <td>-5.0</td>\n",
       "      <td>Gaya</td>\n",
       "    </tr>\n",
       "  </tbody>\n",
       "</table>\n",
       "</div>"
      ],
      "text/plain": [
       "      Name   Age  Maths  Science         City\n",
       "0     Anni  19.0   95.0     89.0        Patna\n",
       "1     Aman   0.0   45.0     55.0            0\n",
       "2   Ashish  22.0    0.0    120.0        Patna\n",
       "3  Balendu  20.0   30.0      0.0  Muzaffarpur\n",
       "4  Shubham   0.0  101.0     -5.0         Gaya"
      ]
     },
     "execution_count": 15,
     "metadata": {},
     "output_type": "execute_result"
    }
   ],
   "source": [
    "df.fillna(0) # replaces all NaN values with 0"
   ]
  },
  {
   "cell_type": "markdown",
   "id": "fdbaa887",
   "metadata": {},
   "source": [
    "---"
   ]
  },
  {
   "cell_type": "markdown",
   "id": "7d85e7fa",
   "metadata": {},
   "source": [
    "## .isin():\n",
    "- returuns a boolean value for whether values passed as a list is present in the series or not"
   ]
  },
  {
   "cell_type": "code",
   "execution_count": 17,
   "id": "0014eeb6",
   "metadata": {},
   "outputs": [
    {
     "data": {
      "text/plain": [
       "14      50\n",
       "119    100\n",
       "163    100\n",
       "181     50\n",
       "Name: runs, dtype: int64"
      ]
     },
     "execution_count": 17,
     "metadata": {},
     "output_type": "execute_result"
    }
   ],
   "source": [
    "vk[vk.isin([50, 100, 150])] # returns a boolean series indicating whether each element is in the list"
   ]
  },
  {
   "cell_type": "markdown",
   "id": "e6a67a48",
   "metadata": {},
   "source": [
    "---"
   ]
  },
  {
   "cell_type": "markdown",
   "id": "d642bbd7",
   "metadata": {},
   "source": [
    "# .apply():\n",
    "- This function applies a function along the axis of the DataFrame or Series."
   ]
  },
  {
   "cell_type": "code",
   "execution_count": 22,
   "id": "0b5fe19c",
   "metadata": {},
   "outputs": [
    {
     "data": {
      "text/html": [
       "<div>\n",
       "<style scoped>\n",
       "    .dataframe tbody tr th:only-of-type {\n",
       "        vertical-align: middle;\n",
       "    }\n",
       "\n",
       "    .dataframe tbody tr th {\n",
       "        vertical-align: top;\n",
       "    }\n",
       "\n",
       "    .dataframe thead th {\n",
       "        text-align: right;\n",
       "    }\n",
       "</style>\n",
       "<table border=\"1\" class=\"dataframe\">\n",
       "  <thead>\n",
       "    <tr style=\"text-align: right;\">\n",
       "      <th></th>\n",
       "      <th>title_x</th>\n",
       "      <th>imdb_id</th>\n",
       "      <th>poster_path</th>\n",
       "      <th>wiki_link</th>\n",
       "      <th>title_y</th>\n",
       "      <th>original_title</th>\n",
       "      <th>is_adult</th>\n",
       "      <th>year_of_release</th>\n",
       "      <th>runtime</th>\n",
       "      <th>genres</th>\n",
       "      <th>imdb_rating</th>\n",
       "      <th>imdb_votes</th>\n",
       "      <th>story</th>\n",
       "      <th>summary</th>\n",
       "      <th>tagline</th>\n",
       "      <th>actors</th>\n",
       "      <th>wins_nominations</th>\n",
       "      <th>release_date</th>\n",
       "      <th>lead_actor</th>\n",
       "    </tr>\n",
       "  </thead>\n",
       "  <tbody>\n",
       "    <tr>\n",
       "      <th>0</th>\n",
       "      <td>Uri: The Surgical Strike</td>\n",
       "      <td>tt8291224</td>\n",
       "      <td>https://upload.wikimedia.org/wikipedia/en/thum...</td>\n",
       "      <td>https://en.wikipedia.org/wiki/Uri:_The_Surgica...</td>\n",
       "      <td>Uri: The Surgical Strike</td>\n",
       "      <td>Uri: The Surgical Strike</td>\n",
       "      <td>0</td>\n",
       "      <td>2019</td>\n",
       "      <td>138</td>\n",
       "      <td>Action|Drama|War</td>\n",
       "      <td>8.4</td>\n",
       "      <td>35112</td>\n",
       "      <td>Divided over five chapters  the film chronicle...</td>\n",
       "      <td>Indian army special forces execute a covert op...</td>\n",
       "      <td>NaN</td>\n",
       "      <td>Vicky Kaushal|Paresh Rawal|Mohit Raina|Yami Ga...</td>\n",
       "      <td>4 wins</td>\n",
       "      <td>11 January 2019 (USA)</td>\n",
       "      <td>Vicky Kaushal</td>\n",
       "    </tr>\n",
       "    <tr>\n",
       "      <th>1</th>\n",
       "      <td>Battalion 609</td>\n",
       "      <td>tt9472208</td>\n",
       "      <td>NaN</td>\n",
       "      <td>https://en.wikipedia.org/wiki/Battalion_609</td>\n",
       "      <td>Battalion 609</td>\n",
       "      <td>Battalion 609</td>\n",
       "      <td>0</td>\n",
       "      <td>2019</td>\n",
       "      <td>131</td>\n",
       "      <td>War</td>\n",
       "      <td>4.1</td>\n",
       "      <td>73</td>\n",
       "      <td>The story revolves around a cricket match betw...</td>\n",
       "      <td>The story of Battalion 609 revolves around a c...</td>\n",
       "      <td>NaN</td>\n",
       "      <td>Vicky Ahuja|Shoaib Ibrahim|Shrikant Kamat|Elen...</td>\n",
       "      <td>NaN</td>\n",
       "      <td>11 January 2019 (India)</td>\n",
       "      <td>Vicky Ahuja</td>\n",
       "    </tr>\n",
       "  </tbody>\n",
       "</table>\n",
       "</div>"
      ],
      "text/plain": [
       "                    title_x    imdb_id  \\\n",
       "0  Uri: The Surgical Strike  tt8291224   \n",
       "1             Battalion 609  tt9472208   \n",
       "\n",
       "                                         poster_path  \\\n",
       "0  https://upload.wikimedia.org/wikipedia/en/thum...   \n",
       "1                                                NaN   \n",
       "\n",
       "                                           wiki_link  \\\n",
       "0  https://en.wikipedia.org/wiki/Uri:_The_Surgica...   \n",
       "1        https://en.wikipedia.org/wiki/Battalion_609   \n",
       "\n",
       "                    title_y            original_title  is_adult  \\\n",
       "0  Uri: The Surgical Strike  Uri: The Surgical Strike         0   \n",
       "1             Battalion 609             Battalion 609         0   \n",
       "\n",
       "   year_of_release runtime            genres  imdb_rating  imdb_votes  \\\n",
       "0             2019     138  Action|Drama|War          8.4       35112   \n",
       "1             2019     131               War          4.1          73   \n",
       "\n",
       "                                               story  \\\n",
       "0  Divided over five chapters  the film chronicle...   \n",
       "1  The story revolves around a cricket match betw...   \n",
       "\n",
       "                                             summary tagline  \\\n",
       "0  Indian army special forces execute a covert op...     NaN   \n",
       "1  The story of Battalion 609 revolves around a c...     NaN   \n",
       "\n",
       "                                              actors wins_nominations  \\\n",
       "0  Vicky Kaushal|Paresh Rawal|Mohit Raina|Yami Ga...           4 wins   \n",
       "1  Vicky Ahuja|Shoaib Ibrahim|Shrikant Kamat|Elen...              NaN   \n",
       "\n",
       "              release_date     lead_actor  \n",
       "0    11 January 2019 (USA)  Vicky Kaushal  \n",
       "1  11 January 2019 (India)    Vicky Ahuja  "
      ]
     },
     "execution_count": 22,
     "metadata": {},
     "output_type": "execute_result"
    }
   ],
   "source": [
    "movies['lead_actor'] = movies['actors'].str.split('|').apply(lambda x: x[0] if isinstance(x, list) and len(x)>0 else np.nan)\n",
    "movies.head(2)  # Display the first two rows to verify the new column"
   ]
  }
 ],
 "metadata": {
  "kernelspec": {
   "display_name": ".venv",
   "language": "python",
   "name": "python3"
  },
  "language_info": {
   "codemirror_mode": {
    "name": "ipython",
    "version": 3
   },
   "file_extension": ".py",
   "mimetype": "text/x-python",
   "name": "python",
   "nbconvert_exporter": "python",
   "pygments_lexer": "ipython3",
   "version": "3.12.2"
  }
 },
 "nbformat": 4,
 "nbformat_minor": 5
}
