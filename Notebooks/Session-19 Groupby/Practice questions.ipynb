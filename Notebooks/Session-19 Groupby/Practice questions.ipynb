{
 "cells": [
  {
   "cell_type": "code",
   "execution_count": 1,
   "id": "0b13ee85",
   "metadata": {},
   "outputs": [],
   "source": [
    "import pandas as pd\n",
    "import numpy as np"
   ]
  },
  {
   "cell_type": "code",
   "execution_count": 2,
   "id": "9ec840a1",
   "metadata": {},
   "outputs": [],
   "source": [
    "ipl= pd.read_csv('C:/Users/anike/OneDrive/Desktop/Learning Pandas/Datasets/Session-19/deliveries.csv')"
   ]
  },
  {
   "cell_type": "code",
   "execution_count": 6,
   "id": "ae748bb6",
   "metadata": {},
   "outputs": [
    {
     "data": {
      "application/vnd.microsoft.datawrangler.viewer.v0+json": {
       "columns": [
        {
         "name": "index",
         "rawType": "int64",
         "type": "integer"
        },
        {
         "name": "match_id",
         "rawType": "int64",
         "type": "integer"
        },
        {
         "name": "inning",
         "rawType": "int64",
         "type": "integer"
        },
        {
         "name": "batting_team",
         "rawType": "object",
         "type": "string"
        },
        {
         "name": "bowling_team",
         "rawType": "object",
         "type": "string"
        },
        {
         "name": "over",
         "rawType": "int64",
         "type": "integer"
        },
        {
         "name": "ball",
         "rawType": "int64",
         "type": "integer"
        },
        {
         "name": "batsman",
         "rawType": "object",
         "type": "string"
        },
        {
         "name": "non_striker",
         "rawType": "object",
         "type": "string"
        },
        {
         "name": "bowler",
         "rawType": "object",
         "type": "string"
        },
        {
         "name": "is_super_over",
         "rawType": "int64",
         "type": "integer"
        },
        {
         "name": "wide_runs",
         "rawType": "int64",
         "type": "integer"
        },
        {
         "name": "bye_runs",
         "rawType": "int64",
         "type": "integer"
        },
        {
         "name": "legbye_runs",
         "rawType": "int64",
         "type": "integer"
        },
        {
         "name": "noball_runs",
         "rawType": "int64",
         "type": "integer"
        },
        {
         "name": "penalty_runs",
         "rawType": "int64",
         "type": "integer"
        },
        {
         "name": "batsman_runs",
         "rawType": "int64",
         "type": "integer"
        },
        {
         "name": "extra_runs",
         "rawType": "int64",
         "type": "integer"
        },
        {
         "name": "total_runs",
         "rawType": "int64",
         "type": "integer"
        },
        {
         "name": "player_dismissed",
         "rawType": "object",
         "type": "unknown"
        },
        {
         "name": "dismissal_kind",
         "rawType": "object",
         "type": "unknown"
        },
        {
         "name": "fielder",
         "rawType": "object",
         "type": "unknown"
        }
       ],
       "ref": "c5674f4b-d3b7-449c-a09e-51115e637fe2",
       "rows": [
        [
         "158431",
         "7927",
         "2",
         "Mumbai Indians",
         "Kings XI Punjab",
         "6",
         "2",
         "AS Yadav",
         "E Lewis",
         "M Ur Rahman",
         "0",
         "0",
         "0",
         "0",
         "0",
         "0",
         "1",
         "0",
         "1",
         null,
         null,
         null
        ]
       ],
       "shape": {
        "columns": 21,
        "rows": 1
       }
      },
      "text/html": [
       "<div>\n",
       "<style scoped>\n",
       "    .dataframe tbody tr th:only-of-type {\n",
       "        vertical-align: middle;\n",
       "    }\n",
       "\n",
       "    .dataframe tbody tr th {\n",
       "        vertical-align: top;\n",
       "    }\n",
       "\n",
       "    .dataframe thead th {\n",
       "        text-align: right;\n",
       "    }\n",
       "</style>\n",
       "<table border=\"1\" class=\"dataframe\">\n",
       "  <thead>\n",
       "    <tr style=\"text-align: right;\">\n",
       "      <th></th>\n",
       "      <th>match_id</th>\n",
       "      <th>inning</th>\n",
       "      <th>batting_team</th>\n",
       "      <th>bowling_team</th>\n",
       "      <th>over</th>\n",
       "      <th>ball</th>\n",
       "      <th>batsman</th>\n",
       "      <th>non_striker</th>\n",
       "      <th>bowler</th>\n",
       "      <th>is_super_over</th>\n",
       "      <th>...</th>\n",
       "      <th>bye_runs</th>\n",
       "      <th>legbye_runs</th>\n",
       "      <th>noball_runs</th>\n",
       "      <th>penalty_runs</th>\n",
       "      <th>batsman_runs</th>\n",
       "      <th>extra_runs</th>\n",
       "      <th>total_runs</th>\n",
       "      <th>player_dismissed</th>\n",
       "      <th>dismissal_kind</th>\n",
       "      <th>fielder</th>\n",
       "    </tr>\n",
       "  </thead>\n",
       "  <tbody>\n",
       "    <tr>\n",
       "      <th>158431</th>\n",
       "      <td>7927</td>\n",
       "      <td>2</td>\n",
       "      <td>Mumbai Indians</td>\n",
       "      <td>Kings XI Punjab</td>\n",
       "      <td>6</td>\n",
       "      <td>2</td>\n",
       "      <td>AS Yadav</td>\n",
       "      <td>E Lewis</td>\n",
       "      <td>M Ur Rahman</td>\n",
       "      <td>0</td>\n",
       "      <td>...</td>\n",
       "      <td>0</td>\n",
       "      <td>0</td>\n",
       "      <td>0</td>\n",
       "      <td>0</td>\n",
       "      <td>1</td>\n",
       "      <td>0</td>\n",
       "      <td>1</td>\n",
       "      <td>NaN</td>\n",
       "      <td>NaN</td>\n",
       "      <td>NaN</td>\n",
       "    </tr>\n",
       "  </tbody>\n",
       "</table>\n",
       "<p>1 rows × 21 columns</p>\n",
       "</div>"
      ],
      "text/plain": [
       "        match_id  inning    batting_team     bowling_team  over  ball  \\\n",
       "158431      7927       2  Mumbai Indians  Kings XI Punjab     6     2   \n",
       "\n",
       "         batsman non_striker       bowler  is_super_over  ...  bye_runs  \\\n",
       "158431  AS Yadav     E Lewis  M Ur Rahman              0  ...         0   \n",
       "\n",
       "        legbye_runs  noball_runs  penalty_runs  batsman_runs  extra_runs  \\\n",
       "158431            0            0             0             1           0   \n",
       "\n",
       "        total_runs  player_dismissed dismissal_kind fielder  \n",
       "158431           1               NaN            NaN     NaN  \n",
       "\n",
       "[1 rows x 21 columns]"
      ]
     },
     "execution_count": 6,
     "metadata": {},
     "output_type": "execute_result"
    }
   ],
   "source": [
    "ipl.sample()"
   ]
  },
  {
   "cell_type": "markdown",
   "id": "9402ab43",
   "metadata": {},
   "source": [
    "1. Find the top 10 batsman in terms of runs."
   ]
  },
  {
   "cell_type": "code",
   "execution_count": 5,
   "id": "7b16ed24",
   "metadata": {},
   "outputs": [
    {
     "data": {
      "application/vnd.microsoft.datawrangler.viewer.v0+json": {
       "columns": [
        {
         "name": "batsman",
         "rawType": "object",
         "type": "string"
        },
        {
         "name": "batsman_runs",
         "rawType": "int64",
         "type": "integer"
        }
       ],
       "ref": "66782978-345a-42cc-8428-ffeb01fdf537",
       "rows": [
        [
         "V Kohli",
         "5434"
        ],
        [
         "SK Raina",
         "5415"
        ],
        [
         "RG Sharma",
         "4914"
        ],
        [
         "DA Warner",
         "4741"
        ],
        [
         "S Dhawan",
         "4632"
        ],
        [
         "CH Gayle",
         "4560"
        ],
        [
         "MS Dhoni",
         "4477"
        ],
        [
         "RV Uthappa",
         "4446"
        ],
        [
         "AB de Villiers",
         "4428"
        ],
        [
         "G Gambhir",
         "4223"
        ]
       ],
       "shape": {
        "columns": 1,
        "rows": 10
       }
      },
      "text/plain": [
       "batsman\n",
       "V Kohli           5434\n",
       "SK Raina          5415\n",
       "RG Sharma         4914\n",
       "DA Warner         4741\n",
       "S Dhawan          4632\n",
       "CH Gayle          4560\n",
       "MS Dhoni          4477\n",
       "RV Uthappa        4446\n",
       "AB de Villiers    4428\n",
       "G Gambhir         4223\n",
       "Name: batsman_runs, dtype: int64"
      ]
     },
     "execution_count": 5,
     "metadata": {},
     "output_type": "execute_result"
    }
   ],
   "source": [
    "batter= ipl.groupby('batsman')\n",
    "batter['batsman_runs'].sum().sort_values(ascending=False).head(10)"
   ]
  },
  {
   "cell_type": "markdown",
   "id": "a9ac38cf",
   "metadata": {},
   "source": [
    "2. FInd the batsman with max no of sixes"
   ]
  },
  {
   "cell_type": "code",
   "execution_count": 15,
   "id": "67918bd7",
   "metadata": {},
   "outputs": [
    {
     "data": {
      "application/vnd.microsoft.datawrangler.viewer.v0+json": {
       "columns": [
        {
         "name": "batsman",
         "rawType": "object",
         "type": "string"
        },
        {
         "name": "batsman",
         "rawType": "int64",
         "type": "integer"
        }
       ],
       "ref": "33e2df33-eed4-41fd-9f00-c119c010cdae",
       "rows": [
        [
         "CH Gayle",
         "327"
        ]
       ],
       "shape": {
        "columns": 1,
        "rows": 1
       }
      },
      "text/plain": [
       "batsman\n",
       "CH Gayle    327\n",
       "Name: batsman, dtype: int64"
      ]
     },
     "execution_count": 15,
     "metadata": {},
     "output_type": "execute_result"
    }
   ],
   "source": [
    "six=ipl[ipl['batsman_runs']==6]\n",
    "six.groupby('batsman')['batsman'].count().sort_values(ascending=False).head(1)"
   ]
  },
  {
   "cell_type": "markdown",
   "id": "21949988",
   "metadata": {},
   "source": [
    "3. Find the batsman with most number of 4's and 6's in last 5 overs."
   ]
  },
  {
   "cell_type": "code",
   "execution_count": 22,
   "id": "7e0d9ada",
   "metadata": {},
   "outputs": [
    {
     "data": {
      "application/vnd.microsoft.datawrangler.viewer.v0+json": {
       "columns": [
        {
         "name": "batsman",
         "rawType": "object",
         "type": "string"
        },
        {
         "name": "batsman",
         "rawType": "int64",
         "type": "integer"
        }
       ],
       "ref": "70f178e2-3673-4853-9e6b-e59ce3490636",
       "rows": [
        [
         "MS Dhoni",
         "1548"
        ],
        [
         "KA Pollard",
         "967"
        ],
        [
         "RG Sharma",
         "818"
        ],
        [
         "YK Pathan",
         "732"
        ],
        [
         "RA Jadeja",
         "707"
        ],
        [
         "KD Karthik",
         "660"
        ],
        [
         "AB de Villiers",
         "653"
        ],
        [
         "V Kohli",
         "624"
        ],
        [
         "AT Rayudu",
         "546"
        ],
        [
         "Yuvraj Singh",
         "535"
        ],
        [
         "JP Duminy",
         "530"
        ],
        [
         "SK Raina",
         "516"
        ],
        [
         "DJ Bravo",
         "505"
        ],
        [
         "IK Pathan",
         "465"
        ],
        [
         "HH Pandya",
         "450"
        ],
        [
         "Harbhajan Singh",
         "430"
        ],
        [
         "DA Miller",
         "430"
        ],
        [
         "MK Tiwary",
         "426"
        ],
        [
         "JA Morkel",
         "425"
        ],
        [
         "AD Russell",
         "423"
        ],
        [
         "BJ Hodge",
         "385"
        ],
        [
         "SPD Smith",
         "382"
        ],
        [
         "KM Jadhav",
         "380"
        ],
        [
         "PP Chawla",
         "359"
        ],
        [
         "MK Pandey",
         "359"
        ],
        [
         "WP Saha",
         "317"
        ],
        [
         "RV Uthappa",
         "315"
        ],
        [
         "AM Rahane",
         "309"
        ],
        [
         "NV Ojha",
         "308"
        ],
        [
         "AR Patel",
         "303"
        ],
        [
         "SS Tiwary",
         "300"
        ],
        [
         "JP Faulkner",
         "294"
        ],
        [
         "AD Mathews",
         "289"
        ],
        [
         "S Badrinath",
         "283"
        ],
        [
         "S Dhawan",
         "280"
        ],
        [
         "DA Warner",
         "274"
        ],
        [
         "P Kumar",
         "268"
        ],
        [
         "Mandeep Singh",
         "266"
        ],
        [
         "STR Binny",
         "266"
        ],
        [
         "Y Venugopal Rao",
         "260"
        ],
        [
         "A Mishra",
         "247"
        ],
        [
         "DPMD Jayawardene",
         "246"
        ],
        [
         "SR Watson",
         "243"
        ],
        [
         "KH Pandya",
         "242"
        ],
        [
         "CH Morris",
         "242"
        ],
        [
         "CH Gayle",
         "241"
        ],
        [
         "R Vinay Kumar",
         "239"
        ],
        [
         "DJ Hussey",
         "234"
        ],
        [
         "JH Kallis",
         "231"
        ],
        [
         "Shakib Al Hasan",
         "231"
        ]
       ],
       "shape": {
        "columns": 1,
        "rows": 465
       }
      },
      "text/plain": [
       "batsman\n",
       "MS Dhoni          1548\n",
       "KA Pollard         967\n",
       "RG Sharma          818\n",
       "YK Pathan          732\n",
       "RA Jadeja          707\n",
       "                  ... \n",
       "DT Patil             1\n",
       "DP Vijaykumar        1\n",
       "YA Abdulla           1\n",
       "Sunny Gupta          1\n",
       "V Pratap Singh       1\n",
       "Name: batsman, Length: 465, dtype: int64"
      ]
     },
     "execution_count": 22,
     "metadata": {},
     "output_type": "execute_result"
    }
   ],
   "source": [
    "temp_df= ipl[ipl['over']>15]\n",
    "temp_df[(temp_df['batsman_runs']==4) | (temp_df['batsman_runs']==6)]\n",
    "temp_df.groupby('batsman')['batsman'].count().sort_values(ascending=False)"
   ]
  },
  {
   "cell_type": "markdown",
   "id": "b0e1f24a",
   "metadata": {},
   "source": [
    "4. Find V kohli record against all teams."
   ]
  },
  {
   "cell_type": "code",
   "execution_count": 25,
   "id": "244fa708",
   "metadata": {},
   "outputs": [
    {
     "data": {
      "application/vnd.microsoft.datawrangler.viewer.v0+json": {
       "columns": [
        {
         "name": "bowling_team",
         "rawType": "object",
         "type": "string"
        },
        {
         "name": "batsman_runs",
         "rawType": "int64",
         "type": "integer"
        }
       ],
       "ref": "ea2ff6f0-298f-4ee6-b482-e9878ea4735b",
       "rows": [
        [
         "Chennai Super Kings",
         "749"
        ],
        [
         "Deccan Chargers",
         "306"
        ],
        [
         "Delhi Capitals",
         "66"
        ],
        [
         "Delhi Daredevils",
         "763"
        ],
        [
         "Gujarat Lions",
         "283"
        ],
        [
         "Kings XI Punjab",
         "636"
        ],
        [
         "Kochi Tuskers Kerala",
         "50"
        ],
        [
         "Kolkata Knight Riders",
         "675"
        ],
        [
         "Mumbai Indians",
         "628"
        ],
        [
         "Pune Warriors",
         "128"
        ],
        [
         "Rajasthan Royals",
         "370"
        ],
        [
         "Rising Pune Supergiant",
         "83"
        ],
        [
         "Rising Pune Supergiants",
         "188"
        ],
        [
         "Sunrisers Hyderabad",
         "509"
        ]
       ],
       "shape": {
        "columns": 1,
        "rows": 14
       }
      },
      "text/plain": [
       "bowling_team\n",
       "Chennai Super Kings        749\n",
       "Deccan Chargers            306\n",
       "Delhi Capitals              66\n",
       "Delhi Daredevils           763\n",
       "Gujarat Lions              283\n",
       "Kings XI Punjab            636\n",
       "Kochi Tuskers Kerala        50\n",
       "Kolkata Knight Riders      675\n",
       "Mumbai Indians             628\n",
       "Pune Warriors              128\n",
       "Rajasthan Royals           370\n",
       "Rising Pune Supergiant      83\n",
       "Rising Pune Supergiants    188\n",
       "Sunrisers Hyderabad        509\n",
       "Name: batsman_runs, dtype: int64"
      ]
     },
     "execution_count": 25,
     "metadata": {},
     "output_type": "execute_result"
    }
   ],
   "source": [
    "vk= ipl[ipl['batsman']=='V Kohli']\n",
    "vk_runs= vk.groupby('bowling_team')\n",
    "vk_runs.sum()['batsman_runs']"
   ]
  },
  {
   "cell_type": "code",
   "execution_count": 26,
   "id": "6e4bf7b5",
   "metadata": {},
   "outputs": [],
   "source": [
    "def best_score(name):\n",
    "    name= ipl[ipl['batsman']==name]\n",
    "    name_runs= name.groupby('match_id')\n",
    "    score= name_runs.sum()['batsman_runs']\n",
    "    return score.max()"
   ]
  },
  {
   "cell_type": "code",
   "execution_count": 28,
   "id": "262ca05f",
   "metadata": {},
   "outputs": [
    {
     "data": {
      "text/plain": [
       "np.int64(89)"
      ]
     },
     "execution_count": 28,
     "metadata": {},
     "output_type": "execute_result"
    }
   ],
   "source": [
    "best_score('MS Dhoni')"
   ]
  }
 ],
 "metadata": {
  "kernelspec": {
   "display_name": ".venv",
   "language": "python",
   "name": "python3"
  },
  "language_info": {
   "codemirror_mode": {
    "name": "ipython",
    "version": 3
   },
   "file_extension": ".py",
   "mimetype": "text/x-python",
   "name": "python",
   "nbconvert_exporter": "python",
   "pygments_lexer": "ipython3",
   "version": "3.12.2"
  }
 },
 "nbformat": 4,
 "nbformat_minor": 5
}
