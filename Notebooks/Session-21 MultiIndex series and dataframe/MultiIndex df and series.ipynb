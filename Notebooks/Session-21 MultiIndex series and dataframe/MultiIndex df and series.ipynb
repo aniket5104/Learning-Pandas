{
 "cells": [
  {
   "cell_type": "code",
   "execution_count": 2,
   "id": "41076245",
   "metadata": {},
   "outputs": [],
   "source": [
    "import pandas as pd\n",
    "import numpy as np"
   ]
  },
  {
   "cell_type": "markdown",
   "id": "9ff5771e",
   "metadata": {},
   "source": [
    "---"
   ]
  },
  {
   "cell_type": "markdown",
   "id": "5bfb87a5",
   "metadata": {},
   "source": [
    "Series is 1D and Dataframes are 2D objects\n",
    "- But why?--> Because we need two piece of information to fetch a any value in df and one in series"
   ]
  },
  {
   "cell_type": "markdown",
   "id": "495dd035",
   "metadata": {},
   "source": [
    "---"
   ]
  },
  {
   "cell_type": "markdown",
   "id": "5950f5f3",
   "metadata": {},
   "source": [
    "# **Multiple Indexing:**\n",
    "## **Creating multiple Indices:**\n",
    "- **Method 1:**"
   ]
  },
  {
   "cell_type": "code",
   "execution_count": 3,
   "id": "965a8c70",
   "metadata": {},
   "outputs": [
    {
     "data": {
      "application/vnd.microsoft.datawrangler.viewer.v0+json": {
       "columns": [
        {
         "name": "index",
         "rawType": "object",
         "type": "unknown"
        },
        {
         "name": "0",
         "rawType": "int64",
         "type": "integer"
        }
       ],
       "ref": "cb542489-aa34-47a0-9e66-86d03775c2d7",
       "rows": [
        [
         "('cse', 2019)",
         "1"
        ],
        [
         "('cse', 2020)",
         "2"
        ],
        [
         "('cse', 2021)",
         "3"
        ],
        [
         "('cse', 2022)",
         "4"
        ],
        [
         "('ece', 2019)",
         "5"
        ],
        [
         "('ece', 2020)",
         "6"
        ],
        [
         "('ece', 2021)",
         "7"
        ],
        [
         "('ece', 2022)",
         "8"
        ]
       ],
       "shape": {
        "columns": 1,
        "rows": 8
       }
      },
      "text/plain": [
       "(cse, 2019)    1\n",
       "(cse, 2020)    2\n",
       "(cse, 2021)    3\n",
       "(cse, 2022)    4\n",
       "(ece, 2019)    5\n",
       "(ece, 2020)    6\n",
       "(ece, 2021)    7\n",
       "(ece, 2022)    8\n",
       "dtype: int64"
      ]
     },
     "execution_count": 3,
     "metadata": {},
     "output_type": "execute_result"
    }
   ],
   "source": [
    "index_val=[('cse',2019),('cse',2020),('cse',2021),('cse',2022),('ece',2019),('ece',2020),('ece',2021),('ece',2022)]\n",
    "a= pd.Series([1,2,3,4,5,6,7,8],index=index_val)\n",
    "a"
   ]
  },
  {
   "cell_type": "markdown",
   "id": "40b4f9ac",
   "metadata": {},
   "source": [
    "The Problem:"
   ]
  },
  {
   "cell_type": "code",
   "execution_count": 4,
   "id": "16596f15",
   "metadata": {},
   "outputs": [
    {
     "ename": "KeyError",
     "evalue": "'cse'",
     "output_type": "error",
     "traceback": [
      "\u001b[31m---------------------------------------------------------------------------\u001b[39m",
      "\u001b[31mKeyError\u001b[39m                                  Traceback (most recent call last)",
      "\u001b[36mFile \u001b[39m\u001b[32mc:\\Users\\anike\\OneDrive\\Desktop\\Learning Pandas\\.venv\\Lib\\site-packages\\pandas\\core\\indexes\\base.py:3812\u001b[39m, in \u001b[36mIndex.get_loc\u001b[39m\u001b[34m(self, key)\u001b[39m\n\u001b[32m   3811\u001b[39m \u001b[38;5;28;01mtry\u001b[39;00m:\n\u001b[32m-> \u001b[39m\u001b[32m3812\u001b[39m     \u001b[38;5;28;01mreturn\u001b[39;00m \u001b[38;5;28;43mself\u001b[39;49m\u001b[43m.\u001b[49m\u001b[43m_engine\u001b[49m\u001b[43m.\u001b[49m\u001b[43mget_loc\u001b[49m\u001b[43m(\u001b[49m\u001b[43mcasted_key\u001b[49m\u001b[43m)\u001b[49m\n\u001b[32m   3813\u001b[39m \u001b[38;5;28;01mexcept\u001b[39;00m \u001b[38;5;167;01mKeyError\u001b[39;00m \u001b[38;5;28;01mas\u001b[39;00m err:\n",
      "\u001b[36mFile \u001b[39m\u001b[32mpandas/_libs/index.pyx:167\u001b[39m, in \u001b[36mpandas._libs.index.IndexEngine.get_loc\u001b[39m\u001b[34m()\u001b[39m\n",
      "\u001b[36mFile \u001b[39m\u001b[32mpandas/_libs/index.pyx:196\u001b[39m, in \u001b[36mpandas._libs.index.IndexEngine.get_loc\u001b[39m\u001b[34m()\u001b[39m\n",
      "\u001b[36mFile \u001b[39m\u001b[32mpandas/_libs/hashtable_class_helper.pxi:7088\u001b[39m, in \u001b[36mpandas._libs.hashtable.PyObjectHashTable.get_item\u001b[39m\u001b[34m()\u001b[39m\n",
      "\u001b[36mFile \u001b[39m\u001b[32mpandas/_libs/hashtable_class_helper.pxi:7096\u001b[39m, in \u001b[36mpandas._libs.hashtable.PyObjectHashTable.get_item\u001b[39m\u001b[34m()\u001b[39m\n",
      "\u001b[31mKeyError\u001b[39m: 'cse'",
      "\nThe above exception was the direct cause of the following exception:\n",
      "\u001b[31mKeyError\u001b[39m                                  Traceback (most recent call last)",
      "\u001b[36mCell\u001b[39m\u001b[36m \u001b[39m\u001b[32mIn[4]\u001b[39m\u001b[32m, line 1\u001b[39m\n\u001b[32m----> \u001b[39m\u001b[32m1\u001b[39m \u001b[43ma\u001b[49m\u001b[43m[\u001b[49m\u001b[33;43m'\u001b[39;49m\u001b[33;43mcse\u001b[39;49m\u001b[33;43m'\u001b[39;49m\u001b[43m]\u001b[49m \u001b[38;5;66;03m#this will throw an error\u001b[39;00m\n",
      "\u001b[36mFile \u001b[39m\u001b[32mc:\\Users\\anike\\OneDrive\\Desktop\\Learning Pandas\\.venv\\Lib\\site-packages\\pandas\\core\\series.py:1130\u001b[39m, in \u001b[36mSeries.__getitem__\u001b[39m\u001b[34m(self, key)\u001b[39m\n\u001b[32m   1127\u001b[39m     \u001b[38;5;28;01mreturn\u001b[39;00m \u001b[38;5;28mself\u001b[39m._values[key]\n\u001b[32m   1129\u001b[39m \u001b[38;5;28;01melif\u001b[39;00m key_is_scalar:\n\u001b[32m-> \u001b[39m\u001b[32m1130\u001b[39m     \u001b[38;5;28;01mreturn\u001b[39;00m \u001b[38;5;28;43mself\u001b[39;49m\u001b[43m.\u001b[49m\u001b[43m_get_value\u001b[49m\u001b[43m(\u001b[49m\u001b[43mkey\u001b[49m\u001b[43m)\u001b[49m\n\u001b[32m   1132\u001b[39m \u001b[38;5;66;03m# Convert generator to list before going through hashable part\u001b[39;00m\n\u001b[32m   1133\u001b[39m \u001b[38;5;66;03m# (We will iterate through the generator there to check for slices)\u001b[39;00m\n\u001b[32m   1134\u001b[39m \u001b[38;5;28;01mif\u001b[39;00m is_iterator(key):\n",
      "\u001b[36mFile \u001b[39m\u001b[32mc:\\Users\\anike\\OneDrive\\Desktop\\Learning Pandas\\.venv\\Lib\\site-packages\\pandas\\core\\series.py:1246\u001b[39m, in \u001b[36mSeries._get_value\u001b[39m\u001b[34m(self, label, takeable)\u001b[39m\n\u001b[32m   1243\u001b[39m     \u001b[38;5;28;01mreturn\u001b[39;00m \u001b[38;5;28mself\u001b[39m._values[label]\n\u001b[32m   1245\u001b[39m \u001b[38;5;66;03m# Similar to Index.get_value, but we do not fall back to positional\u001b[39;00m\n\u001b[32m-> \u001b[39m\u001b[32m1246\u001b[39m loc = \u001b[38;5;28;43mself\u001b[39;49m\u001b[43m.\u001b[49m\u001b[43mindex\u001b[49m\u001b[43m.\u001b[49m\u001b[43mget_loc\u001b[49m\u001b[43m(\u001b[49m\u001b[43mlabel\u001b[49m\u001b[43m)\u001b[49m\n\u001b[32m   1248\u001b[39m \u001b[38;5;28;01mif\u001b[39;00m is_integer(loc):\n\u001b[32m   1249\u001b[39m     \u001b[38;5;28;01mreturn\u001b[39;00m \u001b[38;5;28mself\u001b[39m._values[loc]\n",
      "\u001b[36mFile \u001b[39m\u001b[32mc:\\Users\\anike\\OneDrive\\Desktop\\Learning Pandas\\.venv\\Lib\\site-packages\\pandas\\core\\indexes\\base.py:3819\u001b[39m, in \u001b[36mIndex.get_loc\u001b[39m\u001b[34m(self, key)\u001b[39m\n\u001b[32m   3814\u001b[39m     \u001b[38;5;28;01mif\u001b[39;00m \u001b[38;5;28misinstance\u001b[39m(casted_key, \u001b[38;5;28mslice\u001b[39m) \u001b[38;5;129;01mor\u001b[39;00m (\n\u001b[32m   3815\u001b[39m         \u001b[38;5;28misinstance\u001b[39m(casted_key, abc.Iterable)\n\u001b[32m   3816\u001b[39m         \u001b[38;5;129;01mand\u001b[39;00m \u001b[38;5;28many\u001b[39m(\u001b[38;5;28misinstance\u001b[39m(x, \u001b[38;5;28mslice\u001b[39m) \u001b[38;5;28;01mfor\u001b[39;00m x \u001b[38;5;129;01min\u001b[39;00m casted_key)\n\u001b[32m   3817\u001b[39m     ):\n\u001b[32m   3818\u001b[39m         \u001b[38;5;28;01mraise\u001b[39;00m InvalidIndexError(key)\n\u001b[32m-> \u001b[39m\u001b[32m3819\u001b[39m     \u001b[38;5;28;01mraise\u001b[39;00m \u001b[38;5;167;01mKeyError\u001b[39;00m(key) \u001b[38;5;28;01mfrom\u001b[39;00m\u001b[38;5;250m \u001b[39m\u001b[34;01merr\u001b[39;00m\n\u001b[32m   3820\u001b[39m \u001b[38;5;28;01mexcept\u001b[39;00m \u001b[38;5;167;01mTypeError\u001b[39;00m:\n\u001b[32m   3821\u001b[39m     \u001b[38;5;66;03m# If we have a listlike key, _check_indexing_error will raise\u001b[39;00m\n\u001b[32m   3822\u001b[39m     \u001b[38;5;66;03m#  InvalidIndexError. Otherwise we fall through and re-raise\u001b[39;00m\n\u001b[32m   3823\u001b[39m     \u001b[38;5;66;03m#  the TypeError.\u001b[39;00m\n\u001b[32m   3824\u001b[39m     \u001b[38;5;28mself\u001b[39m._check_indexing_error(key)\n",
      "\u001b[31mKeyError\u001b[39m: 'cse'"
     ]
    }
   ],
   "source": [
    "a['cse'] #this will throw an error"
   ]
  },
  {
   "cell_type": "markdown",
   "id": "e78cc9b1",
   "metadata": {},
   "source": [
    "---"
   ]
  },
  {
   "cell_type": "markdown",
   "id": "5a1d1857",
   "metadata": {},
   "source": [
    "## **Method 2:** Using a multiIndex object.\n",
    "### How to create a Multi index object:\n",
    "1. pd.MultiIndex.from_tuples()"
   ]
  },
  {
   "cell_type": "code",
   "execution_count": 6,
   "id": "63a37cb0",
   "metadata": {},
   "outputs": [
    {
     "data": {
      "text/plain": [
       "MultiIndex([('cse', 2019),\n",
       "            ('cse', 2020),\n",
       "            ('cse', 2021),\n",
       "            ('cse', 2022),\n",
       "            ('ece', 2019),\n",
       "            ('ece', 2020),\n",
       "            ('ece', 2021),\n",
       "            ('ece', 2022)],\n",
       "           )"
      ]
     },
     "execution_count": 6,
     "metadata": {},
     "output_type": "execute_result"
    }
   ],
   "source": [
    "index_val= [('cse',2019),('cse',2020),('cse',2021),('cse',2022),('ece',2019),('ece',2020),('ece',2021),('ece',2022)]\n",
    "multi_idx= pd.MultiIndex.from_tuples(index_val)\n",
    "multi_idx"
   ]
  },
  {
   "cell_type": "code",
   "execution_count": 7,
   "id": "57db0f96",
   "metadata": {},
   "outputs": [
    {
     "name": "stdout",
     "output_type": "stream",
     "text": [
      "Index(['cse', 'ece'], dtype='object')\n",
      "Index([2019, 2020, 2021, 2022], dtype='int64')\n"
     ]
    }
   ],
   "source": [
    "print(multi_idx.levels[0])\n",
    "print(multi_idx.levels[1])"
   ]
  },
  {
   "cell_type": "markdown",
   "id": "5b572da7",
   "metadata": {},
   "source": [
    "---"
   ]
  },
  {
   "cell_type": "markdown",
   "id": "15d60402",
   "metadata": {},
   "source": [
    "2. pd.MultiIndex.from_product()"
   ]
  },
  {
   "cell_type": "code",
   "execution_count": 8,
   "id": "5906012d",
   "metadata": {},
   "outputs": [
    {
     "data": {
      "text/plain": [
       "MultiIndex([('cse', 2019),\n",
       "            ('cse', 2020),\n",
       "            ('cse', 2021),\n",
       "            ('cse', 2022),\n",
       "            ('ece', 2019),\n",
       "            ('ece', 2020),\n",
       "            ('ece', 2021),\n",
       "            ('ece', 2022)],\n",
       "           )"
      ]
     },
     "execution_count": 8,
     "metadata": {},
     "output_type": "execute_result"
    }
   ],
   "source": [
    "pd.MultiIndex.from_product([['cse','ece'],[2019,2020,2021,2022]])"
   ]
  },
  {
   "cell_type": "markdown",
   "id": "435bccbd",
   "metadata": {},
   "source": [
    "---"
   ]
  },
  {
   "cell_type": "markdown",
   "id": "11ea6b6c",
   "metadata": {},
   "source": [
    "# **Creating a multiIndex Series:**"
   ]
  },
  {
   "cell_type": "code",
   "execution_count": 9,
   "id": "cd046800",
   "metadata": {},
   "outputs": [
    {
     "data": {
      "application/vnd.microsoft.datawrangler.viewer.v0+json": {
       "columns": [
        {
         "name": "(None, None)",
         "rawType": "object",
         "type": "unknown"
        },
        {
         "name": "0",
         "rawType": "int64",
         "type": "integer"
        }
       ],
       "ref": "42a1d435-6e24-45b8-9c17-3eafb0b0098a",
       "rows": [
        [
         "('cse', np.int64(2019))",
         "1"
        ],
        [
         "('cse', np.int64(2020))",
         "2"
        ],
        [
         "('cse', np.int64(2021))",
         "3"
        ],
        [
         "('cse', np.int64(2022))",
         "4"
        ],
        [
         "('ece', np.int64(2019))",
         "5"
        ],
        [
         "('ece', np.int64(2020))",
         "6"
        ],
        [
         "('ece', np.int64(2021))",
         "7"
        ],
        [
         "('ece', np.int64(2022))",
         "8"
        ]
       ],
       "shape": {
        "columns": 1,
        "rows": 8
       }
      },
      "text/plain": [
       "cse  2019    1\n",
       "     2020    2\n",
       "     2021    3\n",
       "     2022    4\n",
       "ece  2019    5\n",
       "     2020    6\n",
       "     2021    7\n",
       "     2022    8\n",
       "dtype: int64"
      ]
     },
     "execution_count": 9,
     "metadata": {},
     "output_type": "execute_result"
    }
   ],
   "source": [
    "s=pd.Series([1,2,3,4,5,6,7,8], index= multi_idx)\n",
    "s"
   ]
  },
  {
   "cell_type": "markdown",
   "id": "03435162",
   "metadata": {},
   "source": [
    "---"
   ]
  },
  {
   "cell_type": "markdown",
   "id": "97b9b79e",
   "metadata": {},
   "source": [
    "### Fetching items from a multiIndex series:"
   ]
  },
  {
   "cell_type": "code",
   "execution_count": 10,
   "id": "9a911418",
   "metadata": {},
   "outputs": [
    {
     "data": {
      "text/plain": [
       "np.int64(4)"
      ]
     },
     "execution_count": 10,
     "metadata": {},
     "output_type": "execute_result"
    }
   ],
   "source": [
    "s[('cse',2022)]"
   ]
  },
  {
   "cell_type": "code",
   "execution_count": 11,
   "id": "716fb83f",
   "metadata": {},
   "outputs": [
    {
     "data": {
      "application/vnd.microsoft.datawrangler.viewer.v0+json": {
       "columns": [
        {
         "name": "index",
         "rawType": "int64",
         "type": "integer"
        },
        {
         "name": "0",
         "rawType": "int64",
         "type": "integer"
        }
       ],
       "ref": "f8577394-91fa-42da-8302-345c20ea1947",
       "rows": [
        [
         "2019",
         "1"
        ],
        [
         "2020",
         "2"
        ],
        [
         "2021",
         "3"
        ],
        [
         "2022",
         "4"
        ]
       ],
       "shape": {
        "columns": 1,
        "rows": 4
       }
      },
      "text/plain": [
       "2019    1\n",
       "2020    2\n",
       "2021    3\n",
       "2022    4\n",
       "dtype: int64"
      ]
     },
     "execution_count": 11,
     "metadata": {},
     "output_type": "execute_result"
    }
   ],
   "source": [
    "s['cse']"
   ]
  },
  {
   "cell_type": "markdown",
   "id": "4c9828e1",
   "metadata": {},
   "source": [
    "---"
   ]
  },
  {
   "cell_type": "markdown",
   "id": "a251ef19",
   "metadata": {},
   "source": [
    "**NOTE**\n",
    "- a multiIndex series is **NOT** an 1D object for e.g. the above seies 's' is a **2d series** and hence can also be represented as a dataframe as shown ahead."
   ]
  },
  {
   "cell_type": "markdown",
   "id": "edc914b5",
   "metadata": {},
   "source": [
    "---"
   ]
  },
  {
   "cell_type": "markdown",
   "id": "a7e356b8",
   "metadata": {},
   "source": [
    "### unstack() and stack():"
   ]
  },
  {
   "cell_type": "code",
   "execution_count": 12,
   "id": "1dc2b525",
   "metadata": {},
   "outputs": [
    {
     "name": "stdout",
     "output_type": "stream",
     "text": [
      "     2019  2020  2021  2022\n",
      "cse     1     2     3     4\n",
      "ece     5     6     7     8\n",
      "<class 'pandas.core.frame.DataFrame'>\n"
     ]
    }
   ],
   "source": [
    "print(s.unstack()) #converts the innermost level of the index to columns\n",
    "print(type(s.unstack())) #this will return a dataframe"
   ]
  },
  {
   "cell_type": "code",
   "execution_count": 13,
   "id": "3f9d4637",
   "metadata": {},
   "outputs": [],
   "source": [
    "temp= s.unstack()"
   ]
  },
  {
   "cell_type": "code",
   "execution_count": 14,
   "id": "24250df9",
   "metadata": {},
   "outputs": [
    {
     "data": {
      "application/vnd.microsoft.datawrangler.viewer.v0+json": {
       "columns": [
        {
         "name": "(None, None)",
         "rawType": "object",
         "type": "unknown"
        },
        {
         "name": "0",
         "rawType": "int64",
         "type": "integer"
        }
       ],
       "ref": "71abd3c0-e4aa-4766-9c11-8fdd6e3d0f7f",
       "rows": [
        [
         "('cse', np.int64(2019))",
         "1"
        ],
        [
         "('cse', np.int64(2020))",
         "2"
        ],
        [
         "('cse', np.int64(2021))",
         "3"
        ],
        [
         "('cse', np.int64(2022))",
         "4"
        ],
        [
         "('ece', np.int64(2019))",
         "5"
        ],
        [
         "('ece', np.int64(2020))",
         "6"
        ],
        [
         "('ece', np.int64(2021))",
         "7"
        ],
        [
         "('ece', np.int64(2022))",
         "8"
        ]
       ],
       "shape": {
        "columns": 1,
        "rows": 8
       }
      },
      "text/plain": [
       "cse  2019    1\n",
       "     2020    2\n",
       "     2021    3\n",
       "     2022    4\n",
       "ece  2019    5\n",
       "     2020    6\n",
       "     2021    7\n",
       "     2022    8\n",
       "dtype: int64"
      ]
     },
     "execution_count": 14,
     "metadata": {},
     "output_type": "execute_result"
    }
   ],
   "source": [
    "temp.stack() #converts the columns to innermost level of the index"
   ]
  },
  {
   "cell_type": "markdown",
   "id": "9f7d5262",
   "metadata": {},
   "source": [
    "---"
   ]
  },
  {
   "cell_type": "markdown",
   "id": "7b2ad698",
   "metadata": {},
   "source": [
    "Why to use MultiIndex series?\n",
    "- Because it allows us to represent high dimensions data like 10D 0r 25D data into dataframe i.e. 2D data"
   ]
  },
  {
   "cell_type": "markdown",
   "id": "c9d785a3",
   "metadata": {},
   "source": [
    "---"
   ]
  },
  {
   "cell_type": "markdown",
   "id": "6ca570ac",
   "metadata": {},
   "source": [
    "# **Creating a multiIndex Dataframe:**"
   ]
  },
  {
   "cell_type": "code",
   "execution_count": 15,
   "id": "eb21c207",
   "metadata": {},
   "outputs": [
    {
     "data": {
      "application/vnd.microsoft.datawrangler.viewer.v0+json": {
       "columns": [
        {
         "name": "(None, None)",
         "rawType": "object",
         "type": "unknown"
        },
        {
         "name": "avg_package",
         "rawType": "object",
         "type": "string"
        },
        {
         "name": "students",
         "rawType": "object",
         "type": "string"
        }
       ],
       "ref": "a6787ebc-8cd7-43ee-a190-b4419a9e5e2b",
       "rows": [
        [
         "('cse', np.int64(2019))",
         "1",
         "2"
        ],
        [
         "('cse', np.int64(2020))",
         "3",
         "4"
        ],
        [
         "('cse', np.int64(2021))",
         "5",
         "6"
        ],
        [
         "('cse', np.int64(2022))",
         "7",
         "8"
        ],
        [
         "('ece', np.int64(2019))",
         "9",
         "10"
        ],
        [
         "('ece', np.int64(2020))",
         "11",
         "12"
        ],
        [
         "('ece', np.int64(2021))",
         "13",
         "14"
        ],
        [
         "('ece', np.int64(2022))",
         "15",
         "16"
        ]
       ],
       "shape": {
        "columns": 2,
        "rows": 8
       }
      },
      "text/html": [
       "<div>\n",
       "<style scoped>\n",
       "    .dataframe tbody tr th:only-of-type {\n",
       "        vertical-align: middle;\n",
       "    }\n",
       "\n",
       "    .dataframe tbody tr th {\n",
       "        vertical-align: top;\n",
       "    }\n",
       "\n",
       "    .dataframe thead th {\n",
       "        text-align: right;\n",
       "    }\n",
       "</style>\n",
       "<table border=\"1\" class=\"dataframe\">\n",
       "  <thead>\n",
       "    <tr style=\"text-align: right;\">\n",
       "      <th></th>\n",
       "      <th></th>\n",
       "      <th>avg_package</th>\n",
       "      <th>students</th>\n",
       "    </tr>\n",
       "  </thead>\n",
       "  <tbody>\n",
       "    <tr>\n",
       "      <th rowspan=\"4\" valign=\"top\">cse</th>\n",
       "      <th>2019</th>\n",
       "      <td>1</td>\n",
       "      <td>2</td>\n",
       "    </tr>\n",
       "    <tr>\n",
       "      <th>2020</th>\n",
       "      <td>3</td>\n",
       "      <td>4</td>\n",
       "    </tr>\n",
       "    <tr>\n",
       "      <th>2021</th>\n",
       "      <td>5</td>\n",
       "      <td>6</td>\n",
       "    </tr>\n",
       "    <tr>\n",
       "      <th>2022</th>\n",
       "      <td>7</td>\n",
       "      <td>8</td>\n",
       "    </tr>\n",
       "    <tr>\n",
       "      <th rowspan=\"4\" valign=\"top\">ece</th>\n",
       "      <th>2019</th>\n",
       "      <td>9</td>\n",
       "      <td>10</td>\n",
       "    </tr>\n",
       "    <tr>\n",
       "      <th>2020</th>\n",
       "      <td>11</td>\n",
       "      <td>12</td>\n",
       "    </tr>\n",
       "    <tr>\n",
       "      <th>2021</th>\n",
       "      <td>13</td>\n",
       "      <td>14</td>\n",
       "    </tr>\n",
       "    <tr>\n",
       "      <th>2022</th>\n",
       "      <td>15</td>\n",
       "      <td>16</td>\n",
       "    </tr>\n",
       "  </tbody>\n",
       "</table>\n",
       "</div>"
      ],
      "text/plain": [
       "         avg_package students\n",
       "cse 2019           1        2\n",
       "    2020           3        4\n",
       "    2021           5        6\n",
       "    2022           7        8\n",
       "ece 2019           9       10\n",
       "    2020          11       12\n",
       "    2021          13       14\n",
       "    2022          15       16"
      ]
     },
     "execution_count": 15,
     "metadata": {},
     "output_type": "execute_result"
    }
   ],
   "source": [
    "branch_df1= pd.DataFrame([\n",
    "    ['1','2'],\n",
    "    ['3','4'],\n",
    "    ['5','6'],\n",
    "    ['7','8'],\n",
    "    ['9','10'],\n",
    "    ['11','12'],\n",
    "    ['13','14'],\n",
    "    ['15','16']\n",
    "], index=multi_idx, columns= ['avg_package', 'students'])\n",
    "branch_df1"
   ]
  },
  {
   "cell_type": "markdown",
   "id": "fd391e38",
   "metadata": {},
   "source": [
    "- the above dataframe is a 3D information represented into a 2D dataframe"
   ]
  },
  {
   "cell_type": "code",
   "execution_count": 17,
   "id": "3d595c25",
   "metadata": {},
   "outputs": [
    {
     "data": {
      "application/vnd.microsoft.datawrangler.viewer.v0+json": {
       "columns": [
        {
         "name": "index",
         "rawType": "int64",
         "type": "integer"
        },
        {
         "name": "avg_package",
         "rawType": "object",
         "type": "string"
        },
        {
         "name": "students",
         "rawType": "object",
         "type": "string"
        }
       ],
       "ref": "d7d4bb66-9e35-4d79-acce-49d9bd9db4d1",
       "rows": [
        [
         "2019",
         "1",
         "2"
        ],
        [
         "2020",
         "3",
         "4"
        ],
        [
         "2021",
         "5",
         "6"
        ],
        [
         "2022",
         "7",
         "8"
        ]
       ],
       "shape": {
        "columns": 2,
        "rows": 4
       }
      },
      "text/html": [
       "<div>\n",
       "<style scoped>\n",
       "    .dataframe tbody tr th:only-of-type {\n",
       "        vertical-align: middle;\n",
       "    }\n",
       "\n",
       "    .dataframe tbody tr th {\n",
       "        vertical-align: top;\n",
       "    }\n",
       "\n",
       "    .dataframe thead th {\n",
       "        text-align: right;\n",
       "    }\n",
       "</style>\n",
       "<table border=\"1\" class=\"dataframe\">\n",
       "  <thead>\n",
       "    <tr style=\"text-align: right;\">\n",
       "      <th></th>\n",
       "      <th>avg_package</th>\n",
       "      <th>students</th>\n",
       "    </tr>\n",
       "  </thead>\n",
       "  <tbody>\n",
       "    <tr>\n",
       "      <th>2019</th>\n",
       "      <td>1</td>\n",
       "      <td>2</td>\n",
       "    </tr>\n",
       "    <tr>\n",
       "      <th>2020</th>\n",
       "      <td>3</td>\n",
       "      <td>4</td>\n",
       "    </tr>\n",
       "    <tr>\n",
       "      <th>2021</th>\n",
       "      <td>5</td>\n",
       "      <td>6</td>\n",
       "    </tr>\n",
       "    <tr>\n",
       "      <th>2022</th>\n",
       "      <td>7</td>\n",
       "      <td>8</td>\n",
       "    </tr>\n",
       "  </tbody>\n",
       "</table>\n",
       "</div>"
      ],
      "text/plain": [
       "     avg_package students\n",
       "2019           1        2\n",
       "2020           3        4\n",
       "2021           5        6\n",
       "2022           7        8"
      ]
     },
     "execution_count": 17,
     "metadata": {},
     "output_type": "execute_result"
    }
   ],
   "source": [
    "branch_df1.loc['cse'] #fetching an index in multiindex dataframe"
   ]
  },
  {
   "cell_type": "code",
   "execution_count": 18,
   "id": "97aa02e3",
   "metadata": {},
   "outputs": [
    {
     "data": {
      "application/vnd.microsoft.datawrangler.viewer.v0+json": {
       "columns": [
        {
         "name": "(None, None)",
         "rawType": "object",
         "type": "unknown"
        },
        {
         "name": "avg_package",
         "rawType": "object",
         "type": "string"
        }
       ],
       "ref": "80de2534-8a3a-4617-83d4-dfcd0f2cf6b3",
       "rows": [
        [
         "('cse', np.int64(2019))",
         "1"
        ],
        [
         "('cse', np.int64(2020))",
         "3"
        ],
        [
         "('cse', np.int64(2021))",
         "5"
        ],
        [
         "('cse', np.int64(2022))",
         "7"
        ],
        [
         "('ece', np.int64(2019))",
         "9"
        ],
        [
         "('ece', np.int64(2020))",
         "11"
        ],
        [
         "('ece', np.int64(2021))",
         "13"
        ],
        [
         "('ece', np.int64(2022))",
         "15"
        ]
       ],
       "shape": {
        "columns": 1,
        "rows": 8
       }
      },
      "text/plain": [
       "cse  2019     1\n",
       "     2020     3\n",
       "     2021     5\n",
       "     2022     7\n",
       "ece  2019     9\n",
       "     2020    11\n",
       "     2021    13\n",
       "     2022    15\n",
       "Name: avg_package, dtype: object"
      ]
     },
     "execution_count": 18,
     "metadata": {},
     "output_type": "execute_result"
    }
   ],
   "source": [
    "branch_df1['avg_package'] #fetching a column in multiindex dataframe"
   ]
  },
  {
   "cell_type": "markdown",
   "id": "3fe7b455",
   "metadata": {},
   "source": [
    "---"
   ]
  },
  {
   "cell_type": "markdown",
   "id": "5fee9edb",
   "metadata": {},
   "source": [
    "### Are columns really **Different** from index?\n",
    "- No, pandas treat columns and index as the same so, multi indexing can also be performed on coluns as shown"
   ]
  },
  {
   "cell_type": "code",
   "execution_count": null,
   "id": "67a93f5a",
   "metadata": {},
   "outputs": [
    {
     "data": {
      "application/vnd.microsoft.datawrangler.viewer.v0+json": {
       "columns": [
        {
         "name": "index",
         "rawType": "object",
         "type": "string"
        },
        {
         "name": "('delhi', 'avg_package')",
         "rawType": "object",
         "type": "string"
        },
        {
         "name": "('delhi', 'students')",
         "rawType": "object",
         "type": "string"
        },
        {
         "name": "('mumbai', 'avg_package')",
         "rawType": "object",
         "type": "string"
        },
        {
         "name": "('mumbai', 'students')",
         "rawType": "object",
         "type": "string"
        }
       ],
       "ref": "5852206f-46ba-48b9-b7e2-59a6ecd4d834",
       "rows": [
        [
         "2019",
         "1",
         "2",
         "0",
         "0"
        ],
        [
         "2020",
         "3",
         "4",
         "0",
         "0"
        ],
        [
         "2021",
         "5",
         "6",
         "0",
         "0"
        ],
        [
         "2022",
         "7",
         "8",
         "0",
         "0"
        ]
       ],
       "shape": {
        "columns": 4,
        "rows": 4
       }
      },
      "text/html": [
       "<div>\n",
       "<style scoped>\n",
       "    .dataframe tbody tr th:only-of-type {\n",
       "        vertical-align: middle;\n",
       "    }\n",
       "\n",
       "    .dataframe tbody tr th {\n",
       "        vertical-align: top;\n",
       "    }\n",
       "\n",
       "    .dataframe thead tr th {\n",
       "        text-align: left;\n",
       "    }\n",
       "</style>\n",
       "<table border=\"1\" class=\"dataframe\">\n",
       "  <thead>\n",
       "    <tr>\n",
       "      <th></th>\n",
       "      <th colspan=\"2\" halign=\"left\">delhi</th>\n",
       "      <th colspan=\"2\" halign=\"left\">mumbai</th>\n",
       "    </tr>\n",
       "    <tr>\n",
       "      <th></th>\n",
       "      <th>avg_package</th>\n",
       "      <th>students</th>\n",
       "      <th>avg_package</th>\n",
       "      <th>students</th>\n",
       "    </tr>\n",
       "  </thead>\n",
       "  <tbody>\n",
       "    <tr>\n",
       "      <th>2019</th>\n",
       "      <td>1</td>\n",
       "      <td>2</td>\n",
       "      <td>0</td>\n",
       "      <td>0</td>\n",
       "    </tr>\n",
       "    <tr>\n",
       "      <th>2020</th>\n",
       "      <td>3</td>\n",
       "      <td>4</td>\n",
       "      <td>0</td>\n",
       "      <td>0</td>\n",
       "    </tr>\n",
       "    <tr>\n",
       "      <th>2021</th>\n",
       "      <td>5</td>\n",
       "      <td>6</td>\n",
       "      <td>0</td>\n",
       "      <td>0</td>\n",
       "    </tr>\n",
       "    <tr>\n",
       "      <th>2022</th>\n",
       "      <td>7</td>\n",
       "      <td>8</td>\n",
       "      <td>0</td>\n",
       "      <td>0</td>\n",
       "    </tr>\n",
       "  </tbody>\n",
       "</table>\n",
       "</div>"
      ],
      "text/plain": [
       "           delhi               mumbai         \n",
       "     avg_package students avg_package students\n",
       "2019           1        2           0        0\n",
       "2020           3        4           0        0\n",
       "2021           5        6           0        0\n",
       "2022           7        8           0        0"
      ]
     },
     "execution_count": 21,
     "metadata": {},
     "output_type": "execute_result"
    }
   ],
   "source": [
    "branch_df2= pd.DataFrame(\n",
    "    [\n",
    "        ['1','2','0','0'],\n",
    "        ['3','4','0','0'],\n",
    "        ['5','6','0','0'],\n",
    "        ['7','8','0','0']\n",
    "    ],\n",
    "    index= ['2019','2020','2021','2022'],\n",
    "    columns=pd.MultiIndex.from_product([['delhi', 'mumbai'],['avg_package', 'students']]) # passing a multiindex object as columns\n",
    ")\n",
    "branch_df2 # a 3D data represented as a 2D dataframe"
   ]
  },
  {
   "cell_type": "code",
   "execution_count": 23,
   "id": "9c1d5e1c",
   "metadata": {},
   "outputs": [
    {
     "data": {
      "application/vnd.microsoft.datawrangler.viewer.v0+json": {
       "columns": [
        {
         "name": "index",
         "rawType": "object",
         "type": "string"
        },
        {
         "name": "avg_package",
         "rawType": "object",
         "type": "string"
        }
       ],
       "ref": "ad01d28e-ee68-4785-9232-87d43757d557",
       "rows": [
        [
         "2019",
         "1"
        ],
        [
         "2020",
         "3"
        ],
        [
         "2021",
         "5"
        ],
        [
         "2022",
         "7"
        ]
       ],
       "shape": {
        "columns": 1,
        "rows": 4
       }
      },
      "text/plain": [
       "2019    1\n",
       "2020    3\n",
       "2021    5\n",
       "2022    7\n",
       "Name: avg_package, dtype: object"
      ]
     },
     "execution_count": 23,
     "metadata": {},
     "output_type": "execute_result"
    }
   ],
   "source": [
    "branch_df2['delhi']['avg_package'] #fetching a column in multiindex dataframe"
   ]
  },
  {
   "cell_type": "markdown",
   "id": "4c400fbc",
   "metadata": {},
   "source": [
    "---"
   ]
  },
  {
   "cell_type": "markdown",
   "id": "3dd2212b",
   "metadata": {},
   "source": [
    "## Creating a dataframe with **both index and columns** as **multiindex** objects"
   ]
  },
  {
   "cell_type": "code",
   "execution_count": 26,
   "id": "85fa8284",
   "metadata": {},
   "outputs": [
    {
     "data": {
      "application/vnd.microsoft.datawrangler.viewer.v0+json": {
       "columns": [
        {
         "name": "(None, None)",
         "rawType": "object",
         "type": "unknown"
        },
        {
         "name": "('delhi', 'avg_package')",
         "rawType": "object",
         "type": "string"
        },
        {
         "name": "('delhi', 'students')",
         "rawType": "object",
         "type": "string"
        },
        {
         "name": "('mumbai', 'avg_package')",
         "rawType": "object",
         "type": "string"
        },
        {
         "name": "('mumbai', 'students')",
         "rawType": "object",
         "type": "string"
        }
       ],
       "ref": "5ae7eb7c-5a4d-48e4-a5bd-a6b91135689e",
       "rows": [
        [
         "('cse', np.int64(2019))",
         "1",
         "2",
         "0",
         "0"
        ],
        [
         "('cse', np.int64(2020))",
         "3",
         "4",
         "0",
         "0"
        ],
        [
         "('cse', np.int64(2021))",
         "5",
         "6",
         "0",
         "0"
        ],
        [
         "('cse', np.int64(2022))",
         "7",
         "8",
         "0",
         "0"
        ],
        [
         "('ece', np.int64(2019))",
         "9",
         "10",
         "0",
         "0"
        ],
        [
         "('ece', np.int64(2020))",
         "11",
         "12",
         "0",
         "0"
        ],
        [
         "('ece', np.int64(2021))",
         "13",
         "14",
         "0",
         "0"
        ],
        [
         "('ece', np.int64(2022))",
         "15",
         "16",
         "0",
         "0"
        ]
       ],
       "shape": {
        "columns": 4,
        "rows": 8
       }
      },
      "text/html": [
       "<div>\n",
       "<style scoped>\n",
       "    .dataframe tbody tr th:only-of-type {\n",
       "        vertical-align: middle;\n",
       "    }\n",
       "\n",
       "    .dataframe tbody tr th {\n",
       "        vertical-align: top;\n",
       "    }\n",
       "\n",
       "    .dataframe thead tr th {\n",
       "        text-align: left;\n",
       "    }\n",
       "</style>\n",
       "<table border=\"1\" class=\"dataframe\">\n",
       "  <thead>\n",
       "    <tr>\n",
       "      <th></th>\n",
       "      <th></th>\n",
       "      <th colspan=\"2\" halign=\"left\">delhi</th>\n",
       "      <th colspan=\"2\" halign=\"left\">mumbai</th>\n",
       "    </tr>\n",
       "    <tr>\n",
       "      <th></th>\n",
       "      <th></th>\n",
       "      <th>avg_package</th>\n",
       "      <th>students</th>\n",
       "      <th>avg_package</th>\n",
       "      <th>students</th>\n",
       "    </tr>\n",
       "  </thead>\n",
       "  <tbody>\n",
       "    <tr>\n",
       "      <th rowspan=\"4\" valign=\"top\">cse</th>\n",
       "      <th>2019</th>\n",
       "      <td>1</td>\n",
       "      <td>2</td>\n",
       "      <td>0</td>\n",
       "      <td>0</td>\n",
       "    </tr>\n",
       "    <tr>\n",
       "      <th>2020</th>\n",
       "      <td>3</td>\n",
       "      <td>4</td>\n",
       "      <td>0</td>\n",
       "      <td>0</td>\n",
       "    </tr>\n",
       "    <tr>\n",
       "      <th>2021</th>\n",
       "      <td>5</td>\n",
       "      <td>6</td>\n",
       "      <td>0</td>\n",
       "      <td>0</td>\n",
       "    </tr>\n",
       "    <tr>\n",
       "      <th>2022</th>\n",
       "      <td>7</td>\n",
       "      <td>8</td>\n",
       "      <td>0</td>\n",
       "      <td>0</td>\n",
       "    </tr>\n",
       "    <tr>\n",
       "      <th rowspan=\"4\" valign=\"top\">ece</th>\n",
       "      <th>2019</th>\n",
       "      <td>9</td>\n",
       "      <td>10</td>\n",
       "      <td>0</td>\n",
       "      <td>0</td>\n",
       "    </tr>\n",
       "    <tr>\n",
       "      <th>2020</th>\n",
       "      <td>11</td>\n",
       "      <td>12</td>\n",
       "      <td>0</td>\n",
       "      <td>0</td>\n",
       "    </tr>\n",
       "    <tr>\n",
       "      <th>2021</th>\n",
       "      <td>13</td>\n",
       "      <td>14</td>\n",
       "      <td>0</td>\n",
       "      <td>0</td>\n",
       "    </tr>\n",
       "    <tr>\n",
       "      <th>2022</th>\n",
       "      <td>15</td>\n",
       "      <td>16</td>\n",
       "      <td>0</td>\n",
       "      <td>0</td>\n",
       "    </tr>\n",
       "  </tbody>\n",
       "</table>\n",
       "</div>"
      ],
      "text/plain": [
       "               delhi               mumbai         \n",
       "         avg_package students avg_package students\n",
       "cse 2019           1        2           0        0\n",
       "    2020           3        4           0        0\n",
       "    2021           5        6           0        0\n",
       "    2022           7        8           0        0\n",
       "ece 2019           9       10           0        0\n",
       "    2020          11       12           0        0\n",
       "    2021          13       14           0        0\n",
       "    2022          15       16           0        0"
      ]
     },
     "execution_count": 26,
     "metadata": {},
     "output_type": "execute_result"
    }
   ],
   "source": [
    "branch_df3= pd.DataFrame(\n",
    "    [\n",
    "        ['1','2','0','0'],\n",
    "        ['3','4','0','0'],\n",
    "        ['5','6','0','0'],\n",
    "        ['7','8','0','0'],\n",
    "        ['9','10','0','0'],\n",
    "        ['11','12','0','0'],\n",
    "        ['13','14','0','0'],\n",
    "        ['15','16','0','0']\n",
    "    ],\n",
    "    index= multi_idx, # using a multiindex object as index\n",
    "    columns=pd.MultiIndex.from_product([['delhi', 'mumbai'],['avg_package', 'students']]) # passing a multiindex object as columns\n",
    ")\n",
    "branch_df3"
   ]
  },
  {
   "cell_type": "markdown",
   "id": "75a04d64",
   "metadata": {},
   "source": [
    "---"
   ]
  },
  {
   "cell_type": "markdown",
   "id": "0b7336b5",
   "metadata": {},
   "source": [
    "## Stacking and Unstacking:"
   ]
  },
  {
   "cell_type": "markdown",
   "id": "fb938348",
   "metadata": {},
   "source": [
    "### **Unstacking:**"
   ]
  },
  {
   "cell_type": "code",
   "execution_count": 28,
   "id": "3e59072a",
   "metadata": {},
   "outputs": [
    {
     "data": {
      "application/vnd.microsoft.datawrangler.viewer.v0+json": {
       "columns": [
        {
         "name": "index",
         "rawType": "object",
         "type": "string"
        },
        {
         "name": "('avg_package', 2019)",
         "rawType": "object",
         "type": "string"
        },
        {
         "name": "('avg_package', 2020)",
         "rawType": "object",
         "type": "string"
        },
        {
         "name": "('avg_package', 2021)",
         "rawType": "object",
         "type": "string"
        },
        {
         "name": "('avg_package', 2022)",
         "rawType": "object",
         "type": "string"
        },
        {
         "name": "('students', 2019)",
         "rawType": "object",
         "type": "string"
        },
        {
         "name": "('students', 2020)",
         "rawType": "object",
         "type": "string"
        },
        {
         "name": "('students', 2021)",
         "rawType": "object",
         "type": "string"
        },
        {
         "name": "('students', 2022)",
         "rawType": "object",
         "type": "string"
        }
       ],
       "ref": "905af94c-94ed-40f2-ad27-150ba0639bfb",
       "rows": [
        [
         "cse",
         "1",
         "3",
         "5",
         "7",
         "2",
         "4",
         "6",
         "8"
        ],
        [
         "ece",
         "9",
         "11",
         "13",
         "15",
         "10",
         "12",
         "14",
         "16"
        ]
       ],
       "shape": {
        "columns": 8,
        "rows": 2
       }
      },
      "text/html": [
       "<div>\n",
       "<style scoped>\n",
       "    .dataframe tbody tr th:only-of-type {\n",
       "        vertical-align: middle;\n",
       "    }\n",
       "\n",
       "    .dataframe tbody tr th {\n",
       "        vertical-align: top;\n",
       "    }\n",
       "\n",
       "    .dataframe thead tr th {\n",
       "        text-align: left;\n",
       "    }\n",
       "</style>\n",
       "<table border=\"1\" class=\"dataframe\">\n",
       "  <thead>\n",
       "    <tr>\n",
       "      <th></th>\n",
       "      <th colspan=\"4\" halign=\"left\">avg_package</th>\n",
       "      <th colspan=\"4\" halign=\"left\">students</th>\n",
       "    </tr>\n",
       "    <tr>\n",
       "      <th></th>\n",
       "      <th>2019</th>\n",
       "      <th>2020</th>\n",
       "      <th>2021</th>\n",
       "      <th>2022</th>\n",
       "      <th>2019</th>\n",
       "      <th>2020</th>\n",
       "      <th>2021</th>\n",
       "      <th>2022</th>\n",
       "    </tr>\n",
       "  </thead>\n",
       "  <tbody>\n",
       "    <tr>\n",
       "      <th>cse</th>\n",
       "      <td>1</td>\n",
       "      <td>3</td>\n",
       "      <td>5</td>\n",
       "      <td>7</td>\n",
       "      <td>2</td>\n",
       "      <td>4</td>\n",
       "      <td>6</td>\n",
       "      <td>8</td>\n",
       "    </tr>\n",
       "    <tr>\n",
       "      <th>ece</th>\n",
       "      <td>9</td>\n",
       "      <td>11</td>\n",
       "      <td>13</td>\n",
       "      <td>15</td>\n",
       "      <td>10</td>\n",
       "      <td>12</td>\n",
       "      <td>14</td>\n",
       "      <td>16</td>\n",
       "    </tr>\n",
       "  </tbody>\n",
       "</table>\n",
       "</div>"
      ],
      "text/plain": [
       "    avg_package                students               \n",
       "           2019 2020 2021 2022     2019 2020 2021 2022\n",
       "cse           1    3    5    7        2    4    6    8\n",
       "ece           9   11   13   15       10   12   14   16"
      ]
     },
     "execution_count": 28,
     "metadata": {},
     "output_type": "execute_result"
    }
   ],
   "source": [
    "branch_df1.unstack() #converts the innermost level of the index to columns"
   ]
  },
  {
   "cell_type": "code",
   "execution_count": 30,
   "id": "4cbb8c32",
   "metadata": {},
   "outputs": [
    {
     "data": {
      "application/vnd.microsoft.datawrangler.viewer.v0+json": {
       "columns": [
        {
         "name": "(None, None, None)",
         "rawType": "object",
         "type": "unknown"
        },
        {
         "name": "0",
         "rawType": "object",
         "type": "string"
        }
       ],
       "ref": "0fdd9c8c-f859-4218-ab4a-0cfc807d851e",
       "rows": [
        [
         "('avg_package', np.int64(2019), 'cse')",
         "1"
        ],
        [
         "('avg_package', np.int64(2019), 'ece')",
         "9"
        ],
        [
         "('avg_package', np.int64(2020), 'cse')",
         "3"
        ],
        [
         "('avg_package', np.int64(2020), 'ece')",
         "11"
        ],
        [
         "('avg_package', np.int64(2021), 'cse')",
         "5"
        ],
        [
         "('avg_package', np.int64(2021), 'ece')",
         "13"
        ],
        [
         "('avg_package', np.int64(2022), 'cse')",
         "7"
        ],
        [
         "('avg_package', np.int64(2022), 'ece')",
         "15"
        ],
        [
         "('students', np.int64(2019), 'cse')",
         "2"
        ],
        [
         "('students', np.int64(2019), 'ece')",
         "10"
        ],
        [
         "('students', np.int64(2020), 'cse')",
         "4"
        ],
        [
         "('students', np.int64(2020), 'ece')",
         "12"
        ],
        [
         "('students', np.int64(2021), 'cse')",
         "6"
        ],
        [
         "('students', np.int64(2021), 'ece')",
         "14"
        ],
        [
         "('students', np.int64(2022), 'cse')",
         "8"
        ],
        [
         "('students', np.int64(2022), 'ece')",
         "16"
        ]
       ],
       "shape": {
        "columns": 1,
        "rows": 16
       }
      },
      "text/plain": [
       "avg_package  2019  cse     1\n",
       "                   ece     9\n",
       "             2020  cse     3\n",
       "                   ece    11\n",
       "             2021  cse     5\n",
       "                   ece    13\n",
       "             2022  cse     7\n",
       "                   ece    15\n",
       "students     2019  cse     2\n",
       "                   ece    10\n",
       "             2020  cse     4\n",
       "                   ece    12\n",
       "             2021  cse     6\n",
       "                   ece    14\n",
       "             2022  cse     8\n",
       "                   ece    16\n",
       "dtype: object"
      ]
     },
     "execution_count": 30,
     "metadata": {},
     "output_type": "execute_result"
    }
   ],
   "source": [
    "branch_df1.unstack().unstack() #again converts the innermost level indexing to columns\n",
    "#Now it is no longer a df but a series with multiindex"
   ]
  },
  {
   "cell_type": "markdown",
   "id": "76a8bd05",
   "metadata": {},
   "source": [
    "### **Stacking:**"
   ]
  },
  {
   "cell_type": "code",
   "execution_count": 31,
   "id": "c61c73b9",
   "metadata": {},
   "outputs": [
    {
     "name": "stderr",
     "output_type": "stream",
     "text": [
      "C:\\Users\\anike\\AppData\\Local\\Temp\\ipykernel_20908\\290685592.py:1: FutureWarning: The previous implementation of stack is deprecated and will be removed in a future version of pandas. See the What's New notes for pandas 2.1.0 for details. Specify future_stack=True to adopt the new implementation and silence this warning.\n",
      "  branch_df1.unstack().stack() #Converts the innermost columns to innermost index\n"
     ]
    },
    {
     "data": {
      "application/vnd.microsoft.datawrangler.viewer.v0+json": {
       "columns": [
        {
         "name": "(None, None)",
         "rawType": "object",
         "type": "unknown"
        },
        {
         "name": "avg_package",
         "rawType": "object",
         "type": "string"
        },
        {
         "name": "students",
         "rawType": "object",
         "type": "string"
        }
       ],
       "ref": "935b1f26-9856-4e7b-a6ef-7ec9b066fcaa",
       "rows": [
        [
         "('cse', np.int64(2019))",
         "1",
         "2"
        ],
        [
         "('cse', np.int64(2020))",
         "3",
         "4"
        ],
        [
         "('cse', np.int64(2021))",
         "5",
         "6"
        ],
        [
         "('cse', np.int64(2022))",
         "7",
         "8"
        ],
        [
         "('ece', np.int64(2019))",
         "9",
         "10"
        ],
        [
         "('ece', np.int64(2020))",
         "11",
         "12"
        ],
        [
         "('ece', np.int64(2021))",
         "13",
         "14"
        ],
        [
         "('ece', np.int64(2022))",
         "15",
         "16"
        ]
       ],
       "shape": {
        "columns": 2,
        "rows": 8
       }
      },
      "text/html": [
       "<div>\n",
       "<style scoped>\n",
       "    .dataframe tbody tr th:only-of-type {\n",
       "        vertical-align: middle;\n",
       "    }\n",
       "\n",
       "    .dataframe tbody tr th {\n",
       "        vertical-align: top;\n",
       "    }\n",
       "\n",
       "    .dataframe thead th {\n",
       "        text-align: right;\n",
       "    }\n",
       "</style>\n",
       "<table border=\"1\" class=\"dataframe\">\n",
       "  <thead>\n",
       "    <tr style=\"text-align: right;\">\n",
       "      <th></th>\n",
       "      <th></th>\n",
       "      <th>avg_package</th>\n",
       "      <th>students</th>\n",
       "    </tr>\n",
       "  </thead>\n",
       "  <tbody>\n",
       "    <tr>\n",
       "      <th rowspan=\"4\" valign=\"top\">cse</th>\n",
       "      <th>2019</th>\n",
       "      <td>1</td>\n",
       "      <td>2</td>\n",
       "    </tr>\n",
       "    <tr>\n",
       "      <th>2020</th>\n",
       "      <td>3</td>\n",
       "      <td>4</td>\n",
       "    </tr>\n",
       "    <tr>\n",
       "      <th>2021</th>\n",
       "      <td>5</td>\n",
       "      <td>6</td>\n",
       "    </tr>\n",
       "    <tr>\n",
       "      <th>2022</th>\n",
       "      <td>7</td>\n",
       "      <td>8</td>\n",
       "    </tr>\n",
       "    <tr>\n",
       "      <th rowspan=\"4\" valign=\"top\">ece</th>\n",
       "      <th>2019</th>\n",
       "      <td>9</td>\n",
       "      <td>10</td>\n",
       "    </tr>\n",
       "    <tr>\n",
       "      <th>2020</th>\n",
       "      <td>11</td>\n",
       "      <td>12</td>\n",
       "    </tr>\n",
       "    <tr>\n",
       "      <th>2021</th>\n",
       "      <td>13</td>\n",
       "      <td>14</td>\n",
       "    </tr>\n",
       "    <tr>\n",
       "      <th>2022</th>\n",
       "      <td>15</td>\n",
       "      <td>16</td>\n",
       "    </tr>\n",
       "  </tbody>\n",
       "</table>\n",
       "</div>"
      ],
      "text/plain": [
       "         avg_package students\n",
       "cse 2019           1        2\n",
       "    2020           3        4\n",
       "    2021           5        6\n",
       "    2022           7        8\n",
       "ece 2019           9       10\n",
       "    2020          11       12\n",
       "    2021          13       14\n",
       "    2022          15       16"
      ]
     },
     "execution_count": 31,
     "metadata": {},
     "output_type": "execute_result"
    }
   ],
   "source": [
    "branch_df1.unstack().stack() #Converts the innermost columns to innermost index"
   ]
  },
  {
   "cell_type": "code",
   "execution_count": 33,
   "id": "d0041de4",
   "metadata": {},
   "outputs": [
    {
     "name": "stderr",
     "output_type": "stream",
     "text": [
      "C:\\Users\\anike\\AppData\\Local\\Temp\\ipykernel_20908\\1788888824.py:1: FutureWarning: The previous implementation of stack is deprecated and will be removed in a future version of pandas. See the What's New notes for pandas 2.1.0 for details. Specify future_stack=True to adopt the new implementation and silence this warning.\n",
      "  branch_df1.unstack().stack().stack() #Converts the innermost columns to innermost index again\n"
     ]
    },
    {
     "data": {
      "application/vnd.microsoft.datawrangler.viewer.v0+json": {
       "columns": [
        {
         "name": "(None, None, None)",
         "rawType": "object",
         "type": "unknown"
        },
        {
         "name": "0",
         "rawType": "object",
         "type": "string"
        }
       ],
       "ref": "92703a53-0cf5-47fb-90d1-90eb7e6987be",
       "rows": [
        [
         "('cse', np.int64(2019), 'avg_package')",
         "1"
        ],
        [
         "('cse', np.int64(2019), 'students')",
         "2"
        ],
        [
         "('cse', np.int64(2020), 'avg_package')",
         "3"
        ],
        [
         "('cse', np.int64(2020), 'students')",
         "4"
        ],
        [
         "('cse', np.int64(2021), 'avg_package')",
         "5"
        ],
        [
         "('cse', np.int64(2021), 'students')",
         "6"
        ],
        [
         "('cse', np.int64(2022), 'avg_package')",
         "7"
        ],
        [
         "('cse', np.int64(2022), 'students')",
         "8"
        ],
        [
         "('ece', np.int64(2019), 'avg_package')",
         "9"
        ],
        [
         "('ece', np.int64(2019), 'students')",
         "10"
        ],
        [
         "('ece', np.int64(2020), 'avg_package')",
         "11"
        ],
        [
         "('ece', np.int64(2020), 'students')",
         "12"
        ],
        [
         "('ece', np.int64(2021), 'avg_package')",
         "13"
        ],
        [
         "('ece', np.int64(2021), 'students')",
         "14"
        ],
        [
         "('ece', np.int64(2022), 'avg_package')",
         "15"
        ],
        [
         "('ece', np.int64(2022), 'students')",
         "16"
        ]
       ],
       "shape": {
        "columns": 1,
        "rows": 16
       }
      },
      "text/plain": [
       "cse  2019  avg_package     1\n",
       "           students        2\n",
       "     2020  avg_package     3\n",
       "           students        4\n",
       "     2021  avg_package     5\n",
       "           students        6\n",
       "     2022  avg_package     7\n",
       "           students        8\n",
       "ece  2019  avg_package     9\n",
       "           students       10\n",
       "     2020  avg_package    11\n",
       "           students       12\n",
       "     2021  avg_package    13\n",
       "           students       14\n",
       "     2022  avg_package    15\n",
       "           students       16\n",
       "dtype: object"
      ]
     },
     "execution_count": 33,
     "metadata": {},
     "output_type": "execute_result"
    }
   ],
   "source": [
    "branch_df1.unstack().stack().stack() #Converts the innermost columns to innermost index again\n",
    "# Now it is no longer a df but a series with multiindex"
   ]
  },
  {
   "cell_type": "markdown",
   "id": "c348f519",
   "metadata": {},
   "source": [
    "Stacking and Unstacking on a 4d data."
   ]
  },
  {
   "cell_type": "code",
   "execution_count": 36,
   "id": "93496913",
   "metadata": {},
   "outputs": [
    {
     "data": {
      "application/vnd.microsoft.datawrangler.viewer.v0+json": {
       "columns": [
        {
         "name": "index",
         "rawType": "object",
         "type": "string"
        },
        {
         "name": "('delhi', 'avg_package', 2019)",
         "rawType": "object",
         "type": "string"
        },
        {
         "name": "('delhi', 'avg_package', 2020)",
         "rawType": "object",
         "type": "string"
        },
        {
         "name": "('delhi', 'avg_package', 2021)",
         "rawType": "object",
         "type": "string"
        },
        {
         "name": "('delhi', 'avg_package', 2022)",
         "rawType": "object",
         "type": "string"
        },
        {
         "name": "('delhi', 'students', 2019)",
         "rawType": "object",
         "type": "string"
        },
        {
         "name": "('delhi', 'students', 2020)",
         "rawType": "object",
         "type": "string"
        },
        {
         "name": "('delhi', 'students', 2021)",
         "rawType": "object",
         "type": "string"
        },
        {
         "name": "('delhi', 'students', 2022)",
         "rawType": "object",
         "type": "string"
        },
        {
         "name": "('mumbai', 'avg_package', 2019)",
         "rawType": "object",
         "type": "string"
        },
        {
         "name": "('mumbai', 'avg_package', 2020)",
         "rawType": "object",
         "type": "string"
        },
        {
         "name": "('mumbai', 'avg_package', 2021)",
         "rawType": "object",
         "type": "string"
        },
        {
         "name": "('mumbai', 'avg_package', 2022)",
         "rawType": "object",
         "type": "string"
        },
        {
         "name": "('mumbai', 'students', 2019)",
         "rawType": "object",
         "type": "string"
        },
        {
         "name": "('mumbai', 'students', 2020)",
         "rawType": "object",
         "type": "string"
        },
        {
         "name": "('mumbai', 'students', 2021)",
         "rawType": "object",
         "type": "string"
        },
        {
         "name": "('mumbai', 'students', 2022)",
         "rawType": "object",
         "type": "string"
        }
       ],
       "ref": "53126d58-564f-4d71-90ff-ff15cff76ba4",
       "rows": [
        [
         "cse",
         "1",
         "3",
         "5",
         "7",
         "2",
         "4",
         "6",
         "8",
         "0",
         "0",
         "0",
         "0",
         "0",
         "0",
         "0",
         "0"
        ],
        [
         "ece",
         "9",
         "11",
         "13",
         "15",
         "10",
         "12",
         "14",
         "16",
         "0",
         "0",
         "0",
         "0",
         "0",
         "0",
         "0",
         "0"
        ]
       ],
       "shape": {
        "columns": 16,
        "rows": 2
       }
      },
      "text/html": [
       "<div>\n",
       "<style scoped>\n",
       "    .dataframe tbody tr th:only-of-type {\n",
       "        vertical-align: middle;\n",
       "    }\n",
       "\n",
       "    .dataframe tbody tr th {\n",
       "        vertical-align: top;\n",
       "    }\n",
       "\n",
       "    .dataframe thead tr th {\n",
       "        text-align: left;\n",
       "    }\n",
       "</style>\n",
       "<table border=\"1\" class=\"dataframe\">\n",
       "  <thead>\n",
       "    <tr>\n",
       "      <th></th>\n",
       "      <th colspan=\"8\" halign=\"left\">delhi</th>\n",
       "      <th colspan=\"8\" halign=\"left\">mumbai</th>\n",
       "    </tr>\n",
       "    <tr>\n",
       "      <th></th>\n",
       "      <th colspan=\"4\" halign=\"left\">avg_package</th>\n",
       "      <th colspan=\"4\" halign=\"left\">students</th>\n",
       "      <th colspan=\"4\" halign=\"left\">avg_package</th>\n",
       "      <th colspan=\"4\" halign=\"left\">students</th>\n",
       "    </tr>\n",
       "    <tr>\n",
       "      <th></th>\n",
       "      <th>2019</th>\n",
       "      <th>2020</th>\n",
       "      <th>2021</th>\n",
       "      <th>2022</th>\n",
       "      <th>2019</th>\n",
       "      <th>2020</th>\n",
       "      <th>2021</th>\n",
       "      <th>2022</th>\n",
       "      <th>2019</th>\n",
       "      <th>2020</th>\n",
       "      <th>2021</th>\n",
       "      <th>2022</th>\n",
       "      <th>2019</th>\n",
       "      <th>2020</th>\n",
       "      <th>2021</th>\n",
       "      <th>2022</th>\n",
       "    </tr>\n",
       "  </thead>\n",
       "  <tbody>\n",
       "    <tr>\n",
       "      <th>cse</th>\n",
       "      <td>1</td>\n",
       "      <td>3</td>\n",
       "      <td>5</td>\n",
       "      <td>7</td>\n",
       "      <td>2</td>\n",
       "      <td>4</td>\n",
       "      <td>6</td>\n",
       "      <td>8</td>\n",
       "      <td>0</td>\n",
       "      <td>0</td>\n",
       "      <td>0</td>\n",
       "      <td>0</td>\n",
       "      <td>0</td>\n",
       "      <td>0</td>\n",
       "      <td>0</td>\n",
       "      <td>0</td>\n",
       "    </tr>\n",
       "    <tr>\n",
       "      <th>ece</th>\n",
       "      <td>9</td>\n",
       "      <td>11</td>\n",
       "      <td>13</td>\n",
       "      <td>15</td>\n",
       "      <td>10</td>\n",
       "      <td>12</td>\n",
       "      <td>14</td>\n",
       "      <td>16</td>\n",
       "      <td>0</td>\n",
       "      <td>0</td>\n",
       "      <td>0</td>\n",
       "      <td>0</td>\n",
       "      <td>0</td>\n",
       "      <td>0</td>\n",
       "      <td>0</td>\n",
       "      <td>0</td>\n",
       "    </tr>\n",
       "  </tbody>\n",
       "</table>\n",
       "</div>"
      ],
      "text/plain": [
       "          delhi                                             mumbai            \\\n",
       "    avg_package                students                avg_package             \n",
       "           2019 2020 2021 2022     2019 2020 2021 2022        2019 2020 2021   \n",
       "cse           1    3    5    7        2    4    6    8           0    0    0   \n",
       "ece           9   11   13   15       10   12   14   16           0    0    0   \n",
       "\n",
       "                                  \n",
       "         students                 \n",
       "    2022     2019 2020 2021 2022  \n",
       "cse    0        0    0    0    0  \n",
       "ece    0        0    0    0    0  "
      ]
     },
     "execution_count": 36,
     "metadata": {},
     "output_type": "execute_result"
    }
   ],
   "source": [
    "branch_df3.unstack()"
   ]
  },
  {
   "cell_type": "code",
   "execution_count": 38,
   "id": "e74f1daf",
   "metadata": {},
   "outputs": [
    {
     "data": {
      "application/vnd.microsoft.datawrangler.viewer.v0+json": {
       "columns": [
        {
         "name": "(None, None, None, None)",
         "rawType": "object",
         "type": "unknown"
        },
        {
         "name": "0",
         "rawType": "object",
         "type": "string"
        }
       ],
       "ref": "27ea70da-3a21-4ee5-9a9a-bf831dd21248",
       "rows": [
        [
         "('delhi', 'avg_package', np.int64(2019), 'cse')",
         "1"
        ],
        [
         "('delhi', 'avg_package', np.int64(2019), 'ece')",
         "9"
        ],
        [
         "('delhi', 'avg_package', np.int64(2020), 'cse')",
         "3"
        ],
        [
         "('delhi', 'avg_package', np.int64(2020), 'ece')",
         "11"
        ],
        [
         "('delhi', 'avg_package', np.int64(2021), 'cse')",
         "5"
        ],
        [
         "('delhi', 'avg_package', np.int64(2021), 'ece')",
         "13"
        ],
        [
         "('delhi', 'avg_package', np.int64(2022), 'cse')",
         "7"
        ],
        [
         "('delhi', 'avg_package', np.int64(2022), 'ece')",
         "15"
        ],
        [
         "('delhi', 'students', np.int64(2019), 'cse')",
         "2"
        ],
        [
         "('delhi', 'students', np.int64(2019), 'ece')",
         "10"
        ],
        [
         "('delhi', 'students', np.int64(2020), 'cse')",
         "4"
        ],
        [
         "('delhi', 'students', np.int64(2020), 'ece')",
         "12"
        ],
        [
         "('delhi', 'students', np.int64(2021), 'cse')",
         "6"
        ],
        [
         "('delhi', 'students', np.int64(2021), 'ece')",
         "14"
        ],
        [
         "('delhi', 'students', np.int64(2022), 'cse')",
         "8"
        ],
        [
         "('delhi', 'students', np.int64(2022), 'ece')",
         "16"
        ],
        [
         "('mumbai', 'avg_package', np.int64(2019), 'cse')",
         "0"
        ],
        [
         "('mumbai', 'avg_package', np.int64(2019), 'ece')",
         "0"
        ],
        [
         "('mumbai', 'avg_package', np.int64(2020), 'cse')",
         "0"
        ],
        [
         "('mumbai', 'avg_package', np.int64(2020), 'ece')",
         "0"
        ],
        [
         "('mumbai', 'avg_package', np.int64(2021), 'cse')",
         "0"
        ],
        [
         "('mumbai', 'avg_package', np.int64(2021), 'ece')",
         "0"
        ],
        [
         "('mumbai', 'avg_package', np.int64(2022), 'cse')",
         "0"
        ],
        [
         "('mumbai', 'avg_package', np.int64(2022), 'ece')",
         "0"
        ],
        [
         "('mumbai', 'students', np.int64(2019), 'cse')",
         "0"
        ],
        [
         "('mumbai', 'students', np.int64(2019), 'ece')",
         "0"
        ],
        [
         "('mumbai', 'students', np.int64(2020), 'cse')",
         "0"
        ],
        [
         "('mumbai', 'students', np.int64(2020), 'ece')",
         "0"
        ],
        [
         "('mumbai', 'students', np.int64(2021), 'cse')",
         "0"
        ],
        [
         "('mumbai', 'students', np.int64(2021), 'ece')",
         "0"
        ],
        [
         "('mumbai', 'students', np.int64(2022), 'cse')",
         "0"
        ],
        [
         "('mumbai', 'students', np.int64(2022), 'ece')",
         "0"
        ]
       ],
       "shape": {
        "columns": 1,
        "rows": 32
       }
      },
      "text/plain": [
       "delhi   avg_package  2019  cse     1\n",
       "                           ece     9\n",
       "                     2020  cse     3\n",
       "                           ece    11\n",
       "                     2021  cse     5\n",
       "                           ece    13\n",
       "                     2022  cse     7\n",
       "                           ece    15\n",
       "        students     2019  cse     2\n",
       "                           ece    10\n",
       "                     2020  cse     4\n",
       "                           ece    12\n",
       "                     2021  cse     6\n",
       "                           ece    14\n",
       "                     2022  cse     8\n",
       "                           ece    16\n",
       "mumbai  avg_package  2019  cse     0\n",
       "                           ece     0\n",
       "                     2020  cse     0\n",
       "                           ece     0\n",
       "                     2021  cse     0\n",
       "                           ece     0\n",
       "                     2022  cse     0\n",
       "                           ece     0\n",
       "        students     2019  cse     0\n",
       "                           ece     0\n",
       "                     2020  cse     0\n",
       "                           ece     0\n",
       "                     2021  cse     0\n",
       "                           ece     0\n",
       "                     2022  cse     0\n",
       "                           ece     0\n",
       "dtype: object"
      ]
     },
     "execution_count": 38,
     "metadata": {},
     "output_type": "execute_result"
    }
   ],
   "source": [
    "branch_df3.unstack().unstack()"
   ]
  },
  {
   "cell_type": "code",
   "execution_count": 41,
   "id": "8a2df8db",
   "metadata": {},
   "outputs": [
    {
     "name": "stderr",
     "output_type": "stream",
     "text": [
      "C:\\Users\\anike\\AppData\\Local\\Temp\\ipykernel_20908\\4023844418.py:1: FutureWarning: The previous implementation of stack is deprecated and will be removed in a future version of pandas. See the What's New notes for pandas 2.1.0 for details. Specify future_stack=True to adopt the new implementation and silence this warning.\n",
      "  branch_df3.stack().stack()\n"
     ]
    },
    {
     "data": {
      "application/vnd.microsoft.datawrangler.viewer.v0+json": {
       "columns": [
        {
         "name": "(None, None, None, None)",
         "rawType": "object",
         "type": "unknown"
        },
        {
         "name": "0",
         "rawType": "object",
         "type": "string"
        }
       ],
       "ref": "36a4b1a9-1338-445e-b17e-b826a11806e0",
       "rows": [
        [
         "('cse', np.int64(2019), 'avg_package', 'delhi')",
         "1"
        ],
        [
         "('cse', np.int64(2019), 'avg_package', 'mumbai')",
         "0"
        ],
        [
         "('cse', np.int64(2019), 'students', 'delhi')",
         "2"
        ],
        [
         "('cse', np.int64(2019), 'students', 'mumbai')",
         "0"
        ],
        [
         "('cse', np.int64(2020), 'avg_package', 'delhi')",
         "3"
        ],
        [
         "('cse', np.int64(2020), 'avg_package', 'mumbai')",
         "0"
        ],
        [
         "('cse', np.int64(2020), 'students', 'delhi')",
         "4"
        ],
        [
         "('cse', np.int64(2020), 'students', 'mumbai')",
         "0"
        ],
        [
         "('cse', np.int64(2021), 'avg_package', 'delhi')",
         "5"
        ],
        [
         "('cse', np.int64(2021), 'avg_package', 'mumbai')",
         "0"
        ],
        [
         "('cse', np.int64(2021), 'students', 'delhi')",
         "6"
        ],
        [
         "('cse', np.int64(2021), 'students', 'mumbai')",
         "0"
        ],
        [
         "('cse', np.int64(2022), 'avg_package', 'delhi')",
         "7"
        ],
        [
         "('cse', np.int64(2022), 'avg_package', 'mumbai')",
         "0"
        ],
        [
         "('cse', np.int64(2022), 'students', 'delhi')",
         "8"
        ],
        [
         "('cse', np.int64(2022), 'students', 'mumbai')",
         "0"
        ],
        [
         "('ece', np.int64(2019), 'avg_package', 'delhi')",
         "9"
        ],
        [
         "('ece', np.int64(2019), 'avg_package', 'mumbai')",
         "0"
        ],
        [
         "('ece', np.int64(2019), 'students', 'delhi')",
         "10"
        ],
        [
         "('ece', np.int64(2019), 'students', 'mumbai')",
         "0"
        ],
        [
         "('ece', np.int64(2020), 'avg_package', 'delhi')",
         "11"
        ],
        [
         "('ece', np.int64(2020), 'avg_package', 'mumbai')",
         "0"
        ],
        [
         "('ece', np.int64(2020), 'students', 'delhi')",
         "12"
        ],
        [
         "('ece', np.int64(2020), 'students', 'mumbai')",
         "0"
        ],
        [
         "('ece', np.int64(2021), 'avg_package', 'delhi')",
         "13"
        ],
        [
         "('ece', np.int64(2021), 'avg_package', 'mumbai')",
         "0"
        ],
        [
         "('ece', np.int64(2021), 'students', 'delhi')",
         "14"
        ],
        [
         "('ece', np.int64(2021), 'students', 'mumbai')",
         "0"
        ],
        [
         "('ece', np.int64(2022), 'avg_package', 'delhi')",
         "15"
        ],
        [
         "('ece', np.int64(2022), 'avg_package', 'mumbai')",
         "0"
        ],
        [
         "('ece', np.int64(2022), 'students', 'delhi')",
         "16"
        ],
        [
         "('ece', np.int64(2022), 'students', 'mumbai')",
         "0"
        ]
       ],
       "shape": {
        "columns": 1,
        "rows": 32
       }
      },
      "text/plain": [
       "cse  2019  avg_package  delhi      1\n",
       "                        mumbai     0\n",
       "           students     delhi      2\n",
       "                        mumbai     0\n",
       "     2020  avg_package  delhi      3\n",
       "                        mumbai     0\n",
       "           students     delhi      4\n",
       "                        mumbai     0\n",
       "     2021  avg_package  delhi      5\n",
       "                        mumbai     0\n",
       "           students     delhi      6\n",
       "                        mumbai     0\n",
       "     2022  avg_package  delhi      7\n",
       "                        mumbai     0\n",
       "           students     delhi      8\n",
       "                        mumbai     0\n",
       "ece  2019  avg_package  delhi      9\n",
       "                        mumbai     0\n",
       "           students     delhi     10\n",
       "                        mumbai     0\n",
       "     2020  avg_package  delhi     11\n",
       "                        mumbai     0\n",
       "           students     delhi     12\n",
       "                        mumbai     0\n",
       "     2021  avg_package  delhi     13\n",
       "                        mumbai     0\n",
       "           students     delhi     14\n",
       "                        mumbai     0\n",
       "     2022  avg_package  delhi     15\n",
       "                        mumbai     0\n",
       "           students     delhi     16\n",
       "                        mumbai     0\n",
       "dtype: object"
      ]
     },
     "execution_count": 41,
     "metadata": {},
     "output_type": "execute_result"
    }
   ],
   "source": [
    "branch_df3.stack().stack()"
   ]
  },
  {
   "cell_type": "markdown",
   "id": "85501a2d",
   "metadata": {},
   "source": [
    "---"
   ]
  },
  {
   "cell_type": "markdown",
   "id": "eec1785a",
   "metadata": {},
   "source": [
    "## **Working** with multiIndex Dataframe:"
   ]
  },
  {
   "cell_type": "code",
   "execution_count": 46,
   "id": "934a3353",
   "metadata": {},
   "outputs": [
    {
     "name": "stdout",
     "output_type": "stream",
     "text": [
      "               delhi               mumbai         \n",
      "         avg_package students avg_package students\n",
      "cse 2019           1        2           0        0\n",
      "    2020           3        4           0        0\n",
      "    2021           5        6           0        0\n",
      "               delhi               mumbai         \n",
      "         avg_package students avg_package students\n",
      "ece 2020          11       12           0        0\n",
      "    2021          13       14           0        0\n",
      "    2022          15       16           0        0\n"
     ]
    }
   ],
   "source": [
    "#head and tail\n",
    "print(branch_df3.head(3)) #returns the first 3 rows\n",
    "print(branch_df3.tail(3)) #returns the last 3 rows"
   ]
  },
  {
   "cell_type": "code",
   "execution_count": 47,
   "id": "ae327c11",
   "metadata": {},
   "outputs": [
    {
     "name": "stdout",
     "output_type": "stream",
     "text": [
      "(8, 4)\n"
     ]
    }
   ],
   "source": [
    "#shape\n",
    "print(branch_df3.shape) #returns the shape of the dataframe"
   ]
  },
  {
   "cell_type": "code",
   "execution_count": 49,
   "id": "4365921b",
   "metadata": {},
   "outputs": [
    {
     "name": "stdout",
     "output_type": "stream",
     "text": [
      "<class 'pandas.core.frame.DataFrame'>\n",
      "MultiIndex: 8 entries, ('cse', np.int64(2019)) to ('ece', np.int64(2022))\n",
      "Data columns (total 4 columns):\n",
      " #   Column                 Non-Null Count  Dtype \n",
      "---  ------                 --------------  ----- \n",
      " 0   (delhi, avg_package)   8 non-null      object\n",
      " 1   (delhi, students)      8 non-null      object\n",
      " 2   (mumbai, avg_package)  8 non-null      object\n",
      " 3   (mumbai, students)     8 non-null      object\n",
      "dtypes: object(4)\n",
      "memory usage: 932.0+ bytes\n",
      "None\n"
     ]
    }
   ],
   "source": [
    "#info\n",
    "print(branch_df3.info()) #returns the information about the dataframe"
   ]
  },
  {
   "cell_type": "code",
   "execution_count": 51,
   "id": "9c8a3ae4",
   "metadata": {},
   "outputs": [
    {
     "name": "stdout",
     "output_type": "stream",
     "text": [
      "cse  2019    False\n",
      "     2020    False\n",
      "     2021    False\n",
      "     2022    False\n",
      "ece  2019    False\n",
      "     2020    False\n",
      "     2021    False\n",
      "     2022    False\n",
      "dtype: bool\n"
     ]
    }
   ],
   "source": [
    "#duplicated\n",
    "print(branch_df3.duplicated()) #returns a boolean series indicating duplicate rows"
   ]
  },
  {
   "cell_type": "code",
   "execution_count": 53,
   "id": "961a2d0e",
   "metadata": {},
   "outputs": [
    {
     "name": "stdout",
     "output_type": "stream",
     "text": [
      "               delhi               mumbai         \n",
      "         avg_package students avg_package students\n",
      "cse 2019       False    False       False    False\n",
      "    2020       False    False       False    False\n",
      "    2021       False    False       False    False\n",
      "    2022       False    False       False    False\n",
      "ece 2019       False    False       False    False\n",
      "    2020       False    False       False    False\n",
      "    2021       False    False       False    False\n",
      "    2022       False    False       False    False\n"
     ]
    }
   ],
   "source": [
    "#isnull\n",
    "print(branch_df3.isnull()) #returns a boolean dataframe indicating null values"
   ]
  },
  {
   "cell_type": "markdown",
   "id": "f3dc26ad",
   "metadata": {},
   "source": [
    "---"
   ]
  },
  {
   "cell_type": "markdown",
   "id": "92c8b85a",
   "metadata": {},
   "source": [
    "## **Extracting** Rows and Columns from a **4D** dataframe:"
   ]
  },
  {
   "cell_type": "markdown",
   "id": "a27a4da0",
   "metadata": {},
   "source": [
    "1. Extracting a single row:"
   ]
  },
  {
   "cell_type": "code",
   "execution_count": 58,
   "id": "eab31625",
   "metadata": {},
   "outputs": [
    {
     "data": {
      "application/vnd.microsoft.datawrangler.viewer.v0+json": {
       "columns": [
        {
         "name": "(None, None)",
         "rawType": "object",
         "type": "unknown"
        },
        {
         "name": "('cse', 2019)",
         "rawType": "object",
         "type": "string"
        }
       ],
       "ref": "9601cf5c-6d3b-4815-992f-b39a47d264f6",
       "rows": [
        [
         "('delhi', 'avg_package')",
         "1"
        ],
        [
         "('delhi', 'students')",
         "2"
        ],
        [
         "('mumbai', 'avg_package')",
         "0"
        ],
        [
         "('mumbai', 'students')",
         "0"
        ]
       ],
       "shape": {
        "columns": 1,
        "rows": 4
       }
      },
      "text/plain": [
       "delhi   avg_package    1\n",
       "        students       2\n",
       "mumbai  avg_package    0\n",
       "        students       0\n",
       "Name: (cse, 2019), dtype: object"
      ]
     },
     "execution_count": 58,
     "metadata": {},
     "output_type": "execute_result"
    }
   ],
   "source": [
    "branch_df3.loc[('cse',2019)] #Extracting a single row"
   ]
  },
  {
   "cell_type": "markdown",
   "id": "e9d20906",
   "metadata": {},
   "source": [
    "Using iloc:"
   ]
  },
  {
   "cell_type": "code",
   "execution_count": 61,
   "id": "42fe0150",
   "metadata": {},
   "outputs": [
    {
     "data": {
      "application/vnd.microsoft.datawrangler.viewer.v0+json": {
       "columns": [
        {
         "name": "(None, None)",
         "rawType": "object",
         "type": "unknown"
        },
        {
         "name": "('cse', 2019)",
         "rawType": "object",
         "type": "string"
        }
       ],
       "ref": "fae4b2a4-b87b-4e61-aff0-fdac8ef88091",
       "rows": [
        [
         "('delhi', 'avg_package')",
         "1"
        ],
        [
         "('delhi', 'students')",
         "2"
        ],
        [
         "('mumbai', 'avg_package')",
         "0"
        ],
        [
         "('mumbai', 'students')",
         "0"
        ]
       ],
       "shape": {
        "columns": 1,
        "rows": 4
       }
      },
      "text/plain": [
       "delhi   avg_package    1\n",
       "        students       2\n",
       "mumbai  avg_package    0\n",
       "        students       0\n",
       "Name: (cse, 2019), dtype: object"
      ]
     },
     "execution_count": 61,
     "metadata": {},
     "output_type": "execute_result"
    }
   ],
   "source": [
    "branch_df3.iloc[0]"
   ]
  },
  {
   "cell_type": "markdown",
   "id": "150cadf7",
   "metadata": {},
   "source": [
    "2. Extracting multiple rows:"
   ]
  },
  {
   "cell_type": "code",
   "execution_count": 67,
   "id": "6cf1b32d",
   "metadata": {},
   "outputs": [
    {
     "data": {
      "application/vnd.microsoft.datawrangler.viewer.v0+json": {
       "columns": [
        {
         "name": "(None, None)",
         "rawType": "object",
         "type": "unknown"
        },
        {
         "name": "('delhi', 'avg_package')",
         "rawType": "object",
         "type": "string"
        },
        {
         "name": "('delhi', 'students')",
         "rawType": "object",
         "type": "string"
        },
        {
         "name": "('mumbai', 'avg_package')",
         "rawType": "object",
         "type": "string"
        },
        {
         "name": "('mumbai', 'students')",
         "rawType": "object",
         "type": "string"
        }
       ],
       "ref": "d7346cd8-227e-4b91-a9b3-9f53b38bfac2",
       "rows": [
        [
         "('cse', np.int64(2019))",
         "1",
         "2",
         "0",
         "0"
        ],
        [
         "('cse', np.int64(2021))",
         "5",
         "6",
         "0",
         "0"
        ],
        [
         "('ece', np.int64(2019))",
         "9",
         "10",
         "0",
         "0"
        ]
       ],
       "shape": {
        "columns": 4,
        "rows": 3
       }
      },
      "text/html": [
       "<div>\n",
       "<style scoped>\n",
       "    .dataframe tbody tr th:only-of-type {\n",
       "        vertical-align: middle;\n",
       "    }\n",
       "\n",
       "    .dataframe tbody tr th {\n",
       "        vertical-align: top;\n",
       "    }\n",
       "\n",
       "    .dataframe thead tr th {\n",
       "        text-align: left;\n",
       "    }\n",
       "</style>\n",
       "<table border=\"1\" class=\"dataframe\">\n",
       "  <thead>\n",
       "    <tr>\n",
       "      <th></th>\n",
       "      <th></th>\n",
       "      <th colspan=\"2\" halign=\"left\">delhi</th>\n",
       "      <th colspan=\"2\" halign=\"left\">mumbai</th>\n",
       "    </tr>\n",
       "    <tr>\n",
       "      <th></th>\n",
       "      <th></th>\n",
       "      <th>avg_package</th>\n",
       "      <th>students</th>\n",
       "      <th>avg_package</th>\n",
       "      <th>students</th>\n",
       "    </tr>\n",
       "  </thead>\n",
       "  <tbody>\n",
       "    <tr>\n",
       "      <th rowspan=\"2\" valign=\"top\">cse</th>\n",
       "      <th>2019</th>\n",
       "      <td>1</td>\n",
       "      <td>2</td>\n",
       "      <td>0</td>\n",
       "      <td>0</td>\n",
       "    </tr>\n",
       "    <tr>\n",
       "      <th>2021</th>\n",
       "      <td>5</td>\n",
       "      <td>6</td>\n",
       "      <td>0</td>\n",
       "      <td>0</td>\n",
       "    </tr>\n",
       "    <tr>\n",
       "      <th>ece</th>\n",
       "      <th>2019</th>\n",
       "      <td>9</td>\n",
       "      <td>10</td>\n",
       "      <td>0</td>\n",
       "      <td>0</td>\n",
       "    </tr>\n",
       "  </tbody>\n",
       "</table>\n",
       "</div>"
      ],
      "text/plain": [
       "               delhi               mumbai         \n",
       "         avg_package students avg_package students\n",
       "cse 2019           1        2           0        0\n",
       "    2021           5        6           0        0\n",
       "ece 2019           9       10           0        0"
      ]
     },
     "execution_count": 67,
     "metadata": {},
     "output_type": "execute_result"
    }
   ],
   "source": [
    "branch_df3.loc[('cse',2019):('ece',2019):2] "
   ]
  },
  {
   "cell_type": "markdown",
   "id": "310d9a8b",
   "metadata": {},
   "source": [
    "Using iloc:"
   ]
  },
  {
   "cell_type": "code",
   "execution_count": 71,
   "id": "7425815f",
   "metadata": {},
   "outputs": [
    {
     "data": {
      "application/vnd.microsoft.datawrangler.viewer.v0+json": {
       "columns": [
        {
         "name": "(None, None)",
         "rawType": "object",
         "type": "unknown"
        },
        {
         "name": "('delhi', 'avg_package')",
         "rawType": "object",
         "type": "string"
        },
        {
         "name": "('delhi', 'students')",
         "rawType": "object",
         "type": "string"
        },
        {
         "name": "('mumbai', 'avg_package')",
         "rawType": "object",
         "type": "string"
        },
        {
         "name": "('mumbai', 'students')",
         "rawType": "object",
         "type": "string"
        }
       ],
       "ref": "8909c26f-e390-4f4e-94d3-e6d1cef32e45",
       "rows": [
        [
         "('cse', np.int64(2019))",
         "1",
         "2",
         "0",
         "0"
        ],
        [
         "('cse', np.int64(2021))",
         "5",
         "6",
         "0",
         "0"
        ],
        [
         "('ece', np.int64(2019))",
         "9",
         "10",
         "0",
         "0"
        ]
       ],
       "shape": {
        "columns": 4,
        "rows": 3
       }
      },
      "text/html": [
       "<div>\n",
       "<style scoped>\n",
       "    .dataframe tbody tr th:only-of-type {\n",
       "        vertical-align: middle;\n",
       "    }\n",
       "\n",
       "    .dataframe tbody tr th {\n",
       "        vertical-align: top;\n",
       "    }\n",
       "\n",
       "    .dataframe thead tr th {\n",
       "        text-align: left;\n",
       "    }\n",
       "</style>\n",
       "<table border=\"1\" class=\"dataframe\">\n",
       "  <thead>\n",
       "    <tr>\n",
       "      <th></th>\n",
       "      <th></th>\n",
       "      <th colspan=\"2\" halign=\"left\">delhi</th>\n",
       "      <th colspan=\"2\" halign=\"left\">mumbai</th>\n",
       "    </tr>\n",
       "    <tr>\n",
       "      <th></th>\n",
       "      <th></th>\n",
       "      <th>avg_package</th>\n",
       "      <th>students</th>\n",
       "      <th>avg_package</th>\n",
       "      <th>students</th>\n",
       "    </tr>\n",
       "  </thead>\n",
       "  <tbody>\n",
       "    <tr>\n",
       "      <th rowspan=\"2\" valign=\"top\">cse</th>\n",
       "      <th>2019</th>\n",
       "      <td>1</td>\n",
       "      <td>2</td>\n",
       "      <td>0</td>\n",
       "      <td>0</td>\n",
       "    </tr>\n",
       "    <tr>\n",
       "      <th>2021</th>\n",
       "      <td>5</td>\n",
       "      <td>6</td>\n",
       "      <td>0</td>\n",
       "      <td>0</td>\n",
       "    </tr>\n",
       "    <tr>\n",
       "      <th>ece</th>\n",
       "      <th>2019</th>\n",
       "      <td>9</td>\n",
       "      <td>10</td>\n",
       "      <td>0</td>\n",
       "      <td>0</td>\n",
       "    </tr>\n",
       "  </tbody>\n",
       "</table>\n",
       "</div>"
      ],
      "text/plain": [
       "               delhi               mumbai         \n",
       "         avg_package students avg_package students\n",
       "cse 2019           1        2           0        0\n",
       "    2021           5        6           0        0\n",
       "ece 2019           9       10           0        0"
      ]
     },
     "execution_count": 71,
     "metadata": {},
     "output_type": "execute_result"
    }
   ],
   "source": [
    "branch_df3.iloc[0:5:2]"
   ]
  },
  {
   "cell_type": "markdown",
   "id": "138d88f4",
   "metadata": {},
   "source": [
    "3. Extracting a single column:"
   ]
  },
  {
   "cell_type": "code",
   "execution_count": 74,
   "id": "9bf9a71a",
   "metadata": {},
   "outputs": [
    {
     "data": {
      "application/vnd.microsoft.datawrangler.viewer.v0+json": {
       "columns": [
        {
         "name": "(None, None)",
         "rawType": "object",
         "type": "unknown"
        },
        {
         "name": "avg_package",
         "rawType": "object",
         "type": "string"
        },
        {
         "name": "students",
         "rawType": "object",
         "type": "string"
        }
       ],
       "ref": "d35c64d6-feb7-49b5-9b9b-01e4c2d5279d",
       "rows": [
        [
         "('cse', np.int64(2019))",
         "1",
         "2"
        ],
        [
         "('cse', np.int64(2020))",
         "3",
         "4"
        ],
        [
         "('cse', np.int64(2021))",
         "5",
         "6"
        ],
        [
         "('cse', np.int64(2022))",
         "7",
         "8"
        ],
        [
         "('ece', np.int64(2019))",
         "9",
         "10"
        ],
        [
         "('ece', np.int64(2020))",
         "11",
         "12"
        ],
        [
         "('ece', np.int64(2021))",
         "13",
         "14"
        ],
        [
         "('ece', np.int64(2022))",
         "15",
         "16"
        ]
       ],
       "shape": {
        "columns": 2,
        "rows": 8
       }
      },
      "text/html": [
       "<div>\n",
       "<style scoped>\n",
       "    .dataframe tbody tr th:only-of-type {\n",
       "        vertical-align: middle;\n",
       "    }\n",
       "\n",
       "    .dataframe tbody tr th {\n",
       "        vertical-align: top;\n",
       "    }\n",
       "\n",
       "    .dataframe thead th {\n",
       "        text-align: right;\n",
       "    }\n",
       "</style>\n",
       "<table border=\"1\" class=\"dataframe\">\n",
       "  <thead>\n",
       "    <tr style=\"text-align: right;\">\n",
       "      <th></th>\n",
       "      <th></th>\n",
       "      <th>avg_package</th>\n",
       "      <th>students</th>\n",
       "    </tr>\n",
       "  </thead>\n",
       "  <tbody>\n",
       "    <tr>\n",
       "      <th rowspan=\"4\" valign=\"top\">cse</th>\n",
       "      <th>2019</th>\n",
       "      <td>1</td>\n",
       "      <td>2</td>\n",
       "    </tr>\n",
       "    <tr>\n",
       "      <th>2020</th>\n",
       "      <td>3</td>\n",
       "      <td>4</td>\n",
       "    </tr>\n",
       "    <tr>\n",
       "      <th>2021</th>\n",
       "      <td>5</td>\n",
       "      <td>6</td>\n",
       "    </tr>\n",
       "    <tr>\n",
       "      <th>2022</th>\n",
       "      <td>7</td>\n",
       "      <td>8</td>\n",
       "    </tr>\n",
       "    <tr>\n",
       "      <th rowspan=\"4\" valign=\"top\">ece</th>\n",
       "      <th>2019</th>\n",
       "      <td>9</td>\n",
       "      <td>10</td>\n",
       "    </tr>\n",
       "    <tr>\n",
       "      <th>2020</th>\n",
       "      <td>11</td>\n",
       "      <td>12</td>\n",
       "    </tr>\n",
       "    <tr>\n",
       "      <th>2021</th>\n",
       "      <td>13</td>\n",
       "      <td>14</td>\n",
       "    </tr>\n",
       "    <tr>\n",
       "      <th>2022</th>\n",
       "      <td>15</td>\n",
       "      <td>16</td>\n",
       "    </tr>\n",
       "  </tbody>\n",
       "</table>\n",
       "</div>"
      ],
      "text/plain": [
       "         avg_package students\n",
       "cse 2019           1        2\n",
       "    2020           3        4\n",
       "    2021           5        6\n",
       "    2022           7        8\n",
       "ece 2019           9       10\n",
       "    2020          11       12\n",
       "    2021          13       14\n",
       "    2022          15       16"
      ]
     },
     "execution_count": 74,
     "metadata": {},
     "output_type": "execute_result"
    }
   ],
   "source": [
    "branch_df3['delhi']"
   ]
  },
  {
   "cell_type": "code",
   "execution_count": 75,
   "id": "7174f123",
   "metadata": {},
   "outputs": [
    {
     "data": {
      "application/vnd.microsoft.datawrangler.viewer.v0+json": {
       "columns": [
        {
         "name": "(None, None)",
         "rawType": "object",
         "type": "unknown"
        },
        {
         "name": "students",
         "rawType": "object",
         "type": "string"
        }
       ],
       "ref": "b78cc5cf-7d8f-44b3-9e64-b6611bcc77eb",
       "rows": [
        [
         "('cse', np.int64(2019))",
         "2"
        ],
        [
         "('cse', np.int64(2020))",
         "4"
        ],
        [
         "('cse', np.int64(2021))",
         "6"
        ],
        [
         "('cse', np.int64(2022))",
         "8"
        ],
        [
         "('ece', np.int64(2019))",
         "10"
        ],
        [
         "('ece', np.int64(2020))",
         "12"
        ],
        [
         "('ece', np.int64(2021))",
         "14"
        ],
        [
         "('ece', np.int64(2022))",
         "16"
        ]
       ],
       "shape": {
        "columns": 1,
        "rows": 8
       }
      },
      "text/plain": [
       "cse  2019     2\n",
       "     2020     4\n",
       "     2021     6\n",
       "     2022     8\n",
       "ece  2019    10\n",
       "     2020    12\n",
       "     2021    14\n",
       "     2022    16\n",
       "Name: students, dtype: object"
      ]
     },
     "execution_count": 75,
     "metadata": {},
     "output_type": "execute_result"
    }
   ],
   "source": [
    "branch_df3['delhi']['students']"
   ]
  },
  {
   "cell_type": "markdown",
   "id": "820890e0",
   "metadata": {},
   "source": [
    "4. Extracting **Multiple** Columns:"
   ]
  },
  {
   "cell_type": "code",
   "execution_count": 78,
   "id": "93515371",
   "metadata": {},
   "outputs": [
    {
     "data": {
      "application/vnd.microsoft.datawrangler.viewer.v0+json": {
       "columns": [
        {
         "name": "(None, None)",
         "rawType": "object",
         "type": "unknown"
        },
        {
         "name": "('delhi', 'students')",
         "rawType": "object",
         "type": "string"
        },
        {
         "name": "('mumbai', 'avg_package')",
         "rawType": "object",
         "type": "string"
        }
       ],
       "ref": "8ca7b540-8eca-4c17-b2c6-aac23ea5b7b7",
       "rows": [
        [
         "('cse', np.int64(2019))",
         "2",
         "0"
        ],
        [
         "('cse', np.int64(2020))",
         "4",
         "0"
        ],
        [
         "('cse', np.int64(2021))",
         "6",
         "0"
        ],
        [
         "('cse', np.int64(2022))",
         "8",
         "0"
        ],
        [
         "('ece', np.int64(2019))",
         "10",
         "0"
        ],
        [
         "('ece', np.int64(2020))",
         "12",
         "0"
        ],
        [
         "('ece', np.int64(2021))",
         "14",
         "0"
        ],
        [
         "('ece', np.int64(2022))",
         "16",
         "0"
        ]
       ],
       "shape": {
        "columns": 2,
        "rows": 8
       }
      },
      "text/html": [
       "<div>\n",
       "<style scoped>\n",
       "    .dataframe tbody tr th:only-of-type {\n",
       "        vertical-align: middle;\n",
       "    }\n",
       "\n",
       "    .dataframe tbody tr th {\n",
       "        vertical-align: top;\n",
       "    }\n",
       "\n",
       "    .dataframe thead tr th {\n",
       "        text-align: left;\n",
       "    }\n",
       "</style>\n",
       "<table border=\"1\" class=\"dataframe\">\n",
       "  <thead>\n",
       "    <tr>\n",
       "      <th></th>\n",
       "      <th></th>\n",
       "      <th>delhi</th>\n",
       "      <th>mumbai</th>\n",
       "    </tr>\n",
       "    <tr>\n",
       "      <th></th>\n",
       "      <th></th>\n",
       "      <th>students</th>\n",
       "      <th>avg_package</th>\n",
       "    </tr>\n",
       "  </thead>\n",
       "  <tbody>\n",
       "    <tr>\n",
       "      <th rowspan=\"4\" valign=\"top\">cse</th>\n",
       "      <th>2019</th>\n",
       "      <td>2</td>\n",
       "      <td>0</td>\n",
       "    </tr>\n",
       "    <tr>\n",
       "      <th>2020</th>\n",
       "      <td>4</td>\n",
       "      <td>0</td>\n",
       "    </tr>\n",
       "    <tr>\n",
       "      <th>2021</th>\n",
       "      <td>6</td>\n",
       "      <td>0</td>\n",
       "    </tr>\n",
       "    <tr>\n",
       "      <th>2022</th>\n",
       "      <td>8</td>\n",
       "      <td>0</td>\n",
       "    </tr>\n",
       "    <tr>\n",
       "      <th rowspan=\"4\" valign=\"top\">ece</th>\n",
       "      <th>2019</th>\n",
       "      <td>10</td>\n",
       "      <td>0</td>\n",
       "    </tr>\n",
       "    <tr>\n",
       "      <th>2020</th>\n",
       "      <td>12</td>\n",
       "      <td>0</td>\n",
       "    </tr>\n",
       "    <tr>\n",
       "      <th>2021</th>\n",
       "      <td>14</td>\n",
       "      <td>0</td>\n",
       "    </tr>\n",
       "    <tr>\n",
       "      <th>2022</th>\n",
       "      <td>16</td>\n",
       "      <td>0</td>\n",
       "    </tr>\n",
       "  </tbody>\n",
       "</table>\n",
       "</div>"
      ],
      "text/plain": [
       "            delhi      mumbai\n",
       "         students avg_package\n",
       "cse 2019        2           0\n",
       "    2020        4           0\n",
       "    2021        6           0\n",
       "    2022        8           0\n",
       "ece 2019       10           0\n",
       "    2020       12           0\n",
       "    2021       14           0\n",
       "    2022       16           0"
      ]
     },
     "execution_count": 78,
     "metadata": {},
     "output_type": "execute_result"
    }
   ],
   "source": [
    "branch_df3.iloc[:, 1:3]"
   ]
  },
  {
   "cell_type": "markdown",
   "id": "687113e4",
   "metadata": {},
   "source": [
    "5. Extracting **Both** rows and Columns"
   ]
  },
  {
   "cell_type": "code",
   "execution_count": 83,
   "id": "6a41038f",
   "metadata": {},
   "outputs": [
    {
     "data": {
      "application/vnd.microsoft.datawrangler.viewer.v0+json": {
       "columns": [
        {
         "name": "(None, None)",
         "rawType": "object",
         "type": "unknown"
        },
        {
         "name": "('delhi', 'students')",
         "rawType": "object",
         "type": "string"
        },
        {
         "name": "('mumbai', 'avg_package')",
         "rawType": "object",
         "type": "string"
        }
       ],
       "ref": "2b3603a2-92b8-49d8-b4e3-8cea70d04724",
       "rows": [
        [
         "('cse', np.int64(2019))",
         "2",
         "0"
        ],
        [
         "('ece', np.int64(2019))",
         "10",
         "0"
        ]
       ],
       "shape": {
        "columns": 2,
        "rows": 2
       }
      },
      "text/html": [
       "<div>\n",
       "<style scoped>\n",
       "    .dataframe tbody tr th:only-of-type {\n",
       "        vertical-align: middle;\n",
       "    }\n",
       "\n",
       "    .dataframe tbody tr th {\n",
       "        vertical-align: top;\n",
       "    }\n",
       "\n",
       "    .dataframe thead tr th {\n",
       "        text-align: left;\n",
       "    }\n",
       "</style>\n",
       "<table border=\"1\" class=\"dataframe\">\n",
       "  <thead>\n",
       "    <tr>\n",
       "      <th></th>\n",
       "      <th></th>\n",
       "      <th>delhi</th>\n",
       "      <th>mumbai</th>\n",
       "    </tr>\n",
       "    <tr>\n",
       "      <th></th>\n",
       "      <th></th>\n",
       "      <th>students</th>\n",
       "      <th>avg_package</th>\n",
       "    </tr>\n",
       "  </thead>\n",
       "  <tbody>\n",
       "    <tr>\n",
       "      <th>cse</th>\n",
       "      <th>2019</th>\n",
       "      <td>2</td>\n",
       "      <td>0</td>\n",
       "    </tr>\n",
       "    <tr>\n",
       "      <th>ece</th>\n",
       "      <th>2019</th>\n",
       "      <td>10</td>\n",
       "      <td>0</td>\n",
       "    </tr>\n",
       "  </tbody>\n",
       "</table>\n",
       "</div>"
      ],
      "text/plain": [
       "            delhi      mumbai\n",
       "         students avg_package\n",
       "cse 2019        2           0\n",
       "ece 2019       10           0"
      ]
     },
     "execution_count": 83,
     "metadata": {},
     "output_type": "execute_result"
    }
   ],
   "source": [
    "branch_df3.iloc[[0,4],[1,2]]"
   ]
  },
  {
   "cell_type": "markdown",
   "id": "cf4aa94f",
   "metadata": {},
   "source": [
    "---"
   ]
  },
  {
   "cell_type": "markdown",
   "id": "d8556bbd",
   "metadata": {},
   "source": [
    "## Sorting the **Index** of a multiIndex DataFrame:"
   ]
  },
  {
   "cell_type": "code",
   "execution_count": null,
   "id": "c7e34019",
   "metadata": {},
   "outputs": [
    {
     "data": {
      "application/vnd.microsoft.datawrangler.viewer.v0+json": {
       "columns": [
        {
         "name": "(None, None)",
         "rawType": "object",
         "type": "unknown"
        },
        {
         "name": "('delhi', 'avg_package')",
         "rawType": "object",
         "type": "string"
        },
        {
         "name": "('delhi', 'students')",
         "rawType": "object",
         "type": "string"
        },
        {
         "name": "('mumbai', 'avg_package')",
         "rawType": "object",
         "type": "string"
        },
        {
         "name": "('mumbai', 'students')",
         "rawType": "object",
         "type": "string"
        }
       ],
       "ref": "ea456660-be90-41de-af8d-9623c0f6a49a",
       "rows": [
        [
         "('ece', np.int64(2022))",
         "15",
         "16",
         "0",
         "0"
        ],
        [
         "('ece', np.int64(2021))",
         "13",
         "14",
         "0",
         "0"
        ],
        [
         "('ece', np.int64(2020))",
         "11",
         "12",
         "0",
         "0"
        ],
        [
         "('ece', np.int64(2019))",
         "9",
         "10",
         "0",
         "0"
        ],
        [
         "('cse', np.int64(2022))",
         "7",
         "8",
         "0",
         "0"
        ],
        [
         "('cse', np.int64(2021))",
         "5",
         "6",
         "0",
         "0"
        ],
        [
         "('cse', np.int64(2020))",
         "3",
         "4",
         "0",
         "0"
        ],
        [
         "('cse', np.int64(2019))",
         "1",
         "2",
         "0",
         "0"
        ]
       ],
       "shape": {
        "columns": 4,
        "rows": 8
       }
      },
      "text/html": [
       "<div>\n",
       "<style scoped>\n",
       "    .dataframe tbody tr th:only-of-type {\n",
       "        vertical-align: middle;\n",
       "    }\n",
       "\n",
       "    .dataframe tbody tr th {\n",
       "        vertical-align: top;\n",
       "    }\n",
       "\n",
       "    .dataframe thead tr th {\n",
       "        text-align: left;\n",
       "    }\n",
       "</style>\n",
       "<table border=\"1\" class=\"dataframe\">\n",
       "  <thead>\n",
       "    <tr>\n",
       "      <th></th>\n",
       "      <th></th>\n",
       "      <th colspan=\"2\" halign=\"left\">delhi</th>\n",
       "      <th colspan=\"2\" halign=\"left\">mumbai</th>\n",
       "    </tr>\n",
       "    <tr>\n",
       "      <th></th>\n",
       "      <th></th>\n",
       "      <th>avg_package</th>\n",
       "      <th>students</th>\n",
       "      <th>avg_package</th>\n",
       "      <th>students</th>\n",
       "    </tr>\n",
       "  </thead>\n",
       "  <tbody>\n",
       "    <tr>\n",
       "      <th rowspan=\"4\" valign=\"top\">ece</th>\n",
       "      <th>2022</th>\n",
       "      <td>15</td>\n",
       "      <td>16</td>\n",
       "      <td>0</td>\n",
       "      <td>0</td>\n",
       "    </tr>\n",
       "    <tr>\n",
       "      <th>2021</th>\n",
       "      <td>13</td>\n",
       "      <td>14</td>\n",
       "      <td>0</td>\n",
       "      <td>0</td>\n",
       "    </tr>\n",
       "    <tr>\n",
       "      <th>2020</th>\n",
       "      <td>11</td>\n",
       "      <td>12</td>\n",
       "      <td>0</td>\n",
       "      <td>0</td>\n",
       "    </tr>\n",
       "    <tr>\n",
       "      <th>2019</th>\n",
       "      <td>9</td>\n",
       "      <td>10</td>\n",
       "      <td>0</td>\n",
       "      <td>0</td>\n",
       "    </tr>\n",
       "    <tr>\n",
       "      <th rowspan=\"4\" valign=\"top\">cse</th>\n",
       "      <th>2022</th>\n",
       "      <td>7</td>\n",
       "      <td>8</td>\n",
       "      <td>0</td>\n",
       "      <td>0</td>\n",
       "    </tr>\n",
       "    <tr>\n",
       "      <th>2021</th>\n",
       "      <td>5</td>\n",
       "      <td>6</td>\n",
       "      <td>0</td>\n",
       "      <td>0</td>\n",
       "    </tr>\n",
       "    <tr>\n",
       "      <th>2020</th>\n",
       "      <td>3</td>\n",
       "      <td>4</td>\n",
       "      <td>0</td>\n",
       "      <td>0</td>\n",
       "    </tr>\n",
       "    <tr>\n",
       "      <th>2019</th>\n",
       "      <td>1</td>\n",
       "      <td>2</td>\n",
       "      <td>0</td>\n",
       "      <td>0</td>\n",
       "    </tr>\n",
       "  </tbody>\n",
       "</table>\n",
       "</div>"
      ],
      "text/plain": [
       "               delhi               mumbai         \n",
       "         avg_package students avg_package students\n",
       "ece 2022          15       16           0        0\n",
       "    2021          13       14           0        0\n",
       "    2020          11       12           0        0\n",
       "    2019           9       10           0        0\n",
       "cse 2022           7        8           0        0\n",
       "    2021           5        6           0        0\n",
       "    2020           3        4           0        0\n",
       "    2019           1        2           0        0"
      ]
     },
     "execution_count": 86,
     "metadata": {},
     "output_type": "execute_result"
    }
   ],
   "source": [
    "branch_df3.sort_index(ascending=False)"
   ]
  },
  {
   "cell_type": "code",
   "execution_count": 88,
   "id": "07d517cc",
   "metadata": {},
   "outputs": [
    {
     "data": {
      "application/vnd.microsoft.datawrangler.viewer.v0+json": {
       "columns": [
        {
         "name": "(None, None)",
         "rawType": "object",
         "type": "unknown"
        },
        {
         "name": "('delhi', 'avg_package')",
         "rawType": "object",
         "type": "string"
        },
        {
         "name": "('delhi', 'students')",
         "rawType": "object",
         "type": "string"
        },
        {
         "name": "('mumbai', 'avg_package')",
         "rawType": "object",
         "type": "string"
        },
        {
         "name": "('mumbai', 'students')",
         "rawType": "object",
         "type": "string"
        }
       ],
       "ref": "06f23c24-5d5f-4e22-a896-5b305c28a769",
       "rows": [
        [
         "('ece', np.int64(2019))",
         "9",
         "10",
         "0",
         "0"
        ],
        [
         "('ece', np.int64(2020))",
         "11",
         "12",
         "0",
         "0"
        ],
        [
         "('ece', np.int64(2021))",
         "13",
         "14",
         "0",
         "0"
        ],
        [
         "('ece', np.int64(2022))",
         "15",
         "16",
         "0",
         "0"
        ],
        [
         "('cse', np.int64(2019))",
         "1",
         "2",
         "0",
         "0"
        ],
        [
         "('cse', np.int64(2020))",
         "3",
         "4",
         "0",
         "0"
        ],
        [
         "('cse', np.int64(2021))",
         "5",
         "6",
         "0",
         "0"
        ],
        [
         "('cse', np.int64(2022))",
         "7",
         "8",
         "0",
         "0"
        ]
       ],
       "shape": {
        "columns": 4,
        "rows": 8
       }
      },
      "text/html": [
       "<div>\n",
       "<style scoped>\n",
       "    .dataframe tbody tr th:only-of-type {\n",
       "        vertical-align: middle;\n",
       "    }\n",
       "\n",
       "    .dataframe tbody tr th {\n",
       "        vertical-align: top;\n",
       "    }\n",
       "\n",
       "    .dataframe thead tr th {\n",
       "        text-align: left;\n",
       "    }\n",
       "</style>\n",
       "<table border=\"1\" class=\"dataframe\">\n",
       "  <thead>\n",
       "    <tr>\n",
       "      <th></th>\n",
       "      <th></th>\n",
       "      <th colspan=\"2\" halign=\"left\">delhi</th>\n",
       "      <th colspan=\"2\" halign=\"left\">mumbai</th>\n",
       "    </tr>\n",
       "    <tr>\n",
       "      <th></th>\n",
       "      <th></th>\n",
       "      <th>avg_package</th>\n",
       "      <th>students</th>\n",
       "      <th>avg_package</th>\n",
       "      <th>students</th>\n",
       "    </tr>\n",
       "  </thead>\n",
       "  <tbody>\n",
       "    <tr>\n",
       "      <th rowspan=\"4\" valign=\"top\">ece</th>\n",
       "      <th>2019</th>\n",
       "      <td>9</td>\n",
       "      <td>10</td>\n",
       "      <td>0</td>\n",
       "      <td>0</td>\n",
       "    </tr>\n",
       "    <tr>\n",
       "      <th>2020</th>\n",
       "      <td>11</td>\n",
       "      <td>12</td>\n",
       "      <td>0</td>\n",
       "      <td>0</td>\n",
       "    </tr>\n",
       "    <tr>\n",
       "      <th>2021</th>\n",
       "      <td>13</td>\n",
       "      <td>14</td>\n",
       "      <td>0</td>\n",
       "      <td>0</td>\n",
       "    </tr>\n",
       "    <tr>\n",
       "      <th>2022</th>\n",
       "      <td>15</td>\n",
       "      <td>16</td>\n",
       "      <td>0</td>\n",
       "      <td>0</td>\n",
       "    </tr>\n",
       "    <tr>\n",
       "      <th rowspan=\"4\" valign=\"top\">cse</th>\n",
       "      <th>2019</th>\n",
       "      <td>1</td>\n",
       "      <td>2</td>\n",
       "      <td>0</td>\n",
       "      <td>0</td>\n",
       "    </tr>\n",
       "    <tr>\n",
       "      <th>2020</th>\n",
       "      <td>3</td>\n",
       "      <td>4</td>\n",
       "      <td>0</td>\n",
       "      <td>0</td>\n",
       "    </tr>\n",
       "    <tr>\n",
       "      <th>2021</th>\n",
       "      <td>5</td>\n",
       "      <td>6</td>\n",
       "      <td>0</td>\n",
       "      <td>0</td>\n",
       "    </tr>\n",
       "    <tr>\n",
       "      <th>2022</th>\n",
       "      <td>7</td>\n",
       "      <td>8</td>\n",
       "      <td>0</td>\n",
       "      <td>0</td>\n",
       "    </tr>\n",
       "  </tbody>\n",
       "</table>\n",
       "</div>"
      ],
      "text/plain": [
       "               delhi               mumbai         \n",
       "         avg_package students avg_package students\n",
       "ece 2019           9       10           0        0\n",
       "    2020          11       12           0        0\n",
       "    2021          13       14           0        0\n",
       "    2022          15       16           0        0\n",
       "cse 2019           1        2           0        0\n",
       "    2020           3        4           0        0\n",
       "    2021           5        6           0        0\n",
       "    2022           7        8           0        0"
      ]
     },
     "execution_count": 88,
     "metadata": {},
     "output_type": "execute_result"
    }
   ],
   "source": [
    "branch_df3.sort_index(ascending=[False, True]) #sorts the index in descending order for first level and ascending order for second level"
   ]
  },
  {
   "cell_type": "code",
   "execution_count": null,
   "id": "28224504",
   "metadata": {},
   "outputs": [
    {
     "data": {
      "application/vnd.microsoft.datawrangler.viewer.v0+json": {
       "columns": [
        {
         "name": "(None, None)",
         "rawType": "object",
         "type": "unknown"
        },
        {
         "name": "('delhi', 'avg_package')",
         "rawType": "object",
         "type": "string"
        },
        {
         "name": "('delhi', 'students')",
         "rawType": "object",
         "type": "string"
        },
        {
         "name": "('mumbai', 'avg_package')",
         "rawType": "object",
         "type": "string"
        },
        {
         "name": "('mumbai', 'students')",
         "rawType": "object",
         "type": "string"
        }
       ],
       "ref": "fd0a2c3d-94d3-4c21-bbaf-122e3e813764",
       "rows": [
        [
         "('cse', np.int64(2022))",
         "7",
         "8",
         "0",
         "0"
        ],
        [
         "('ece', np.int64(2022))",
         "15",
         "16",
         "0",
         "0"
        ],
        [
         "('cse', np.int64(2021))",
         "5",
         "6",
         "0",
         "0"
        ],
        [
         "('ece', np.int64(2021))",
         "13",
         "14",
         "0",
         "0"
        ],
        [
         "('cse', np.int64(2020))",
         "3",
         "4",
         "0",
         "0"
        ],
        [
         "('ece', np.int64(2020))",
         "11",
         "12",
         "0",
         "0"
        ],
        [
         "('cse', np.int64(2019))",
         "1",
         "2",
         "0",
         "0"
        ],
        [
         "('ece', np.int64(2019))",
         "9",
         "10",
         "0",
         "0"
        ]
       ],
       "shape": {
        "columns": 4,
        "rows": 8
       }
      },
      "text/html": [
       "<div>\n",
       "<style scoped>\n",
       "    .dataframe tbody tr th:only-of-type {\n",
       "        vertical-align: middle;\n",
       "    }\n",
       "\n",
       "    .dataframe tbody tr th {\n",
       "        vertical-align: top;\n",
       "    }\n",
       "\n",
       "    .dataframe thead tr th {\n",
       "        text-align: left;\n",
       "    }\n",
       "</style>\n",
       "<table border=\"1\" class=\"dataframe\">\n",
       "  <thead>\n",
       "    <tr>\n",
       "      <th></th>\n",
       "      <th></th>\n",
       "      <th colspan=\"2\" halign=\"left\">delhi</th>\n",
       "      <th colspan=\"2\" halign=\"left\">mumbai</th>\n",
       "    </tr>\n",
       "    <tr>\n",
       "      <th></th>\n",
       "      <th></th>\n",
       "      <th>avg_package</th>\n",
       "      <th>students</th>\n",
       "      <th>avg_package</th>\n",
       "      <th>students</th>\n",
       "    </tr>\n",
       "  </thead>\n",
       "  <tbody>\n",
       "    <tr>\n",
       "      <th>cse</th>\n",
       "      <th>2022</th>\n",
       "      <td>7</td>\n",
       "      <td>8</td>\n",
       "      <td>0</td>\n",
       "      <td>0</td>\n",
       "    </tr>\n",
       "    <tr>\n",
       "      <th>ece</th>\n",
       "      <th>2022</th>\n",
       "      <td>15</td>\n",
       "      <td>16</td>\n",
       "      <td>0</td>\n",
       "      <td>0</td>\n",
       "    </tr>\n",
       "    <tr>\n",
       "      <th>cse</th>\n",
       "      <th>2021</th>\n",
       "      <td>5</td>\n",
       "      <td>6</td>\n",
       "      <td>0</td>\n",
       "      <td>0</td>\n",
       "    </tr>\n",
       "    <tr>\n",
       "      <th>ece</th>\n",
       "      <th>2021</th>\n",
       "      <td>13</td>\n",
       "      <td>14</td>\n",
       "      <td>0</td>\n",
       "      <td>0</td>\n",
       "    </tr>\n",
       "    <tr>\n",
       "      <th>cse</th>\n",
       "      <th>2020</th>\n",
       "      <td>3</td>\n",
       "      <td>4</td>\n",
       "      <td>0</td>\n",
       "      <td>0</td>\n",
       "    </tr>\n",
       "    <tr>\n",
       "      <th>ece</th>\n",
       "      <th>2020</th>\n",
       "      <td>11</td>\n",
       "      <td>12</td>\n",
       "      <td>0</td>\n",
       "      <td>0</td>\n",
       "    </tr>\n",
       "    <tr>\n",
       "      <th>cse</th>\n",
       "      <th>2019</th>\n",
       "      <td>1</td>\n",
       "      <td>2</td>\n",
       "      <td>0</td>\n",
       "      <td>0</td>\n",
       "    </tr>\n",
       "    <tr>\n",
       "      <th>ece</th>\n",
       "      <th>2019</th>\n",
       "      <td>9</td>\n",
       "      <td>10</td>\n",
       "      <td>0</td>\n",
       "      <td>0</td>\n",
       "    </tr>\n",
       "  </tbody>\n",
       "</table>\n",
       "</div>"
      ],
      "text/plain": [
       "               delhi               mumbai         \n",
       "         avg_package students avg_package students\n",
       "cse 2022           7        8           0        0\n",
       "ece 2022          15       16           0        0\n",
       "cse 2021           5        6           0        0\n",
       "ece 2021          13       14           0        0\n",
       "cse 2020           3        4           0        0\n",
       "ece 2020          11       12           0        0\n",
       "cse 2019           1        2           0        0\n",
       "ece 2019           9       10           0        0"
      ]
     },
     "execution_count": 91,
     "metadata": {},
     "output_type": "execute_result"
    }
   ],
   "source": [
    "branch_df3.sort_index(level=1, ascending=[False]) ##sorts the index in descending order for second level"
   ]
  },
  {
   "cell_type": "markdown",
   "id": "e47564f5",
   "metadata": {},
   "source": [
    "---"
   ]
  },
  {
   "cell_type": "markdown",
   "id": "9f448125",
   "metadata": {},
   "source": [
    "## **Transpose:**"
   ]
  },
  {
   "cell_type": "code",
   "execution_count": 95,
   "id": "fdb8b7e5",
   "metadata": {},
   "outputs": [
    {
     "data": {
      "application/vnd.microsoft.datawrangler.viewer.v0+json": {
       "columns": [
        {
         "name": "(None, None)",
         "rawType": "object",
         "type": "unknown"
        },
        {
         "name": "('cse', 2019)",
         "rawType": "object",
         "type": "string"
        },
        {
         "name": "('cse', 2020)",
         "rawType": "object",
         "type": "string"
        },
        {
         "name": "('cse', 2021)",
         "rawType": "object",
         "type": "string"
        },
        {
         "name": "('cse', 2022)",
         "rawType": "object",
         "type": "string"
        },
        {
         "name": "('ece', 2019)",
         "rawType": "object",
         "type": "string"
        },
        {
         "name": "('ece', 2020)",
         "rawType": "object",
         "type": "string"
        },
        {
         "name": "('ece', 2021)",
         "rawType": "object",
         "type": "string"
        },
        {
         "name": "('ece', 2022)",
         "rawType": "object",
         "type": "string"
        }
       ],
       "ref": "8f9a3326-8929-4076-bcd2-14fa062a670b",
       "rows": [
        [
         "('delhi', 'avg_package')",
         "1",
         "3",
         "5",
         "7",
         "9",
         "11",
         "13",
         "15"
        ],
        [
         "('delhi', 'students')",
         "2",
         "4",
         "6",
         "8",
         "10",
         "12",
         "14",
         "16"
        ],
        [
         "('mumbai', 'avg_package')",
         "0",
         "0",
         "0",
         "0",
         "0",
         "0",
         "0",
         "0"
        ],
        [
         "('mumbai', 'students')",
         "0",
         "0",
         "0",
         "0",
         "0",
         "0",
         "0",
         "0"
        ]
       ],
       "shape": {
        "columns": 8,
        "rows": 4
       }
      },
      "text/html": [
       "<div>\n",
       "<style scoped>\n",
       "    .dataframe tbody tr th:only-of-type {\n",
       "        vertical-align: middle;\n",
       "    }\n",
       "\n",
       "    .dataframe tbody tr th {\n",
       "        vertical-align: top;\n",
       "    }\n",
       "\n",
       "    .dataframe thead tr th {\n",
       "        text-align: left;\n",
       "    }\n",
       "</style>\n",
       "<table border=\"1\" class=\"dataframe\">\n",
       "  <thead>\n",
       "    <tr>\n",
       "      <th></th>\n",
       "      <th></th>\n",
       "      <th colspan=\"4\" halign=\"left\">cse</th>\n",
       "      <th colspan=\"4\" halign=\"left\">ece</th>\n",
       "    </tr>\n",
       "    <tr>\n",
       "      <th></th>\n",
       "      <th></th>\n",
       "      <th>2019</th>\n",
       "      <th>2020</th>\n",
       "      <th>2021</th>\n",
       "      <th>2022</th>\n",
       "      <th>2019</th>\n",
       "      <th>2020</th>\n",
       "      <th>2021</th>\n",
       "      <th>2022</th>\n",
       "    </tr>\n",
       "  </thead>\n",
       "  <tbody>\n",
       "    <tr>\n",
       "      <th rowspan=\"2\" valign=\"top\">delhi</th>\n",
       "      <th>avg_package</th>\n",
       "      <td>1</td>\n",
       "      <td>3</td>\n",
       "      <td>5</td>\n",
       "      <td>7</td>\n",
       "      <td>9</td>\n",
       "      <td>11</td>\n",
       "      <td>13</td>\n",
       "      <td>15</td>\n",
       "    </tr>\n",
       "    <tr>\n",
       "      <th>students</th>\n",
       "      <td>2</td>\n",
       "      <td>4</td>\n",
       "      <td>6</td>\n",
       "      <td>8</td>\n",
       "      <td>10</td>\n",
       "      <td>12</td>\n",
       "      <td>14</td>\n",
       "      <td>16</td>\n",
       "    </tr>\n",
       "    <tr>\n",
       "      <th rowspan=\"2\" valign=\"top\">mumbai</th>\n",
       "      <th>avg_package</th>\n",
       "      <td>0</td>\n",
       "      <td>0</td>\n",
       "      <td>0</td>\n",
       "      <td>0</td>\n",
       "      <td>0</td>\n",
       "      <td>0</td>\n",
       "      <td>0</td>\n",
       "      <td>0</td>\n",
       "    </tr>\n",
       "    <tr>\n",
       "      <th>students</th>\n",
       "      <td>0</td>\n",
       "      <td>0</td>\n",
       "      <td>0</td>\n",
       "      <td>0</td>\n",
       "      <td>0</td>\n",
       "      <td>0</td>\n",
       "      <td>0</td>\n",
       "      <td>0</td>\n",
       "    </tr>\n",
       "  </tbody>\n",
       "</table>\n",
       "</div>"
      ],
      "text/plain": [
       "                    cse                 ece               \n",
       "                   2019 2020 2021 2022 2019 2020 2021 2022\n",
       "delhi  avg_package    1    3    5    7    9   11   13   15\n",
       "       students       2    4    6    8   10   12   14   16\n",
       "mumbai avg_package    0    0    0    0    0    0    0    0\n",
       "       students       0    0    0    0    0    0    0    0"
      ]
     },
     "execution_count": 95,
     "metadata": {},
     "output_type": "execute_result"
    }
   ],
   "source": [
    "branch_df3.transpose()"
   ]
  },
  {
   "cell_type": "markdown",
   "id": "f542a676",
   "metadata": {},
   "source": [
    "---"
   ]
  },
  {
   "cell_type": "markdown",
   "id": "19f9fb74",
   "metadata": {},
   "source": [
    "## **swaplevel:**"
   ]
  },
  {
   "cell_type": "code",
   "execution_count": 98,
   "id": "20510a02",
   "metadata": {},
   "outputs": [
    {
     "data": {
      "application/vnd.microsoft.datawrangler.viewer.v0+json": {
       "columns": [
        {
         "name": "(None, None)",
         "rawType": "object",
         "type": "unknown"
        },
        {
         "name": "('delhi', 'avg_package')",
         "rawType": "object",
         "type": "string"
        },
        {
         "name": "('delhi', 'students')",
         "rawType": "object",
         "type": "string"
        },
        {
         "name": "('mumbai', 'avg_package')",
         "rawType": "object",
         "type": "string"
        },
        {
         "name": "('mumbai', 'students')",
         "rawType": "object",
         "type": "string"
        }
       ],
       "ref": "36efe789-c42d-41b0-90e5-9f8b8dbf6b57",
       "rows": [
        [
         "(np.int64(2019), 'cse')",
         "1",
         "2",
         "0",
         "0"
        ],
        [
         "(np.int64(2020), 'cse')",
         "3",
         "4",
         "0",
         "0"
        ],
        [
         "(np.int64(2021), 'cse')",
         "5",
         "6",
         "0",
         "0"
        ],
        [
         "(np.int64(2022), 'cse')",
         "7",
         "8",
         "0",
         "0"
        ],
        [
         "(np.int64(2019), 'ece')",
         "9",
         "10",
         "0",
         "0"
        ],
        [
         "(np.int64(2020), 'ece')",
         "11",
         "12",
         "0",
         "0"
        ],
        [
         "(np.int64(2021), 'ece')",
         "13",
         "14",
         "0",
         "0"
        ],
        [
         "(np.int64(2022), 'ece')",
         "15",
         "16",
         "0",
         "0"
        ]
       ],
       "shape": {
        "columns": 4,
        "rows": 8
       }
      },
      "text/html": [
       "<div>\n",
       "<style scoped>\n",
       "    .dataframe tbody tr th:only-of-type {\n",
       "        vertical-align: middle;\n",
       "    }\n",
       "\n",
       "    .dataframe tbody tr th {\n",
       "        vertical-align: top;\n",
       "    }\n",
       "\n",
       "    .dataframe thead tr th {\n",
       "        text-align: left;\n",
       "    }\n",
       "</style>\n",
       "<table border=\"1\" class=\"dataframe\">\n",
       "  <thead>\n",
       "    <tr>\n",
       "      <th></th>\n",
       "      <th></th>\n",
       "      <th colspan=\"2\" halign=\"left\">delhi</th>\n",
       "      <th colspan=\"2\" halign=\"left\">mumbai</th>\n",
       "    </tr>\n",
       "    <tr>\n",
       "      <th></th>\n",
       "      <th></th>\n",
       "      <th>avg_package</th>\n",
       "      <th>students</th>\n",
       "      <th>avg_package</th>\n",
       "      <th>students</th>\n",
       "    </tr>\n",
       "  </thead>\n",
       "  <tbody>\n",
       "    <tr>\n",
       "      <th>2019</th>\n",
       "      <th>cse</th>\n",
       "      <td>1</td>\n",
       "      <td>2</td>\n",
       "      <td>0</td>\n",
       "      <td>0</td>\n",
       "    </tr>\n",
       "    <tr>\n",
       "      <th>2020</th>\n",
       "      <th>cse</th>\n",
       "      <td>3</td>\n",
       "      <td>4</td>\n",
       "      <td>0</td>\n",
       "      <td>0</td>\n",
       "    </tr>\n",
       "    <tr>\n",
       "      <th>2021</th>\n",
       "      <th>cse</th>\n",
       "      <td>5</td>\n",
       "      <td>6</td>\n",
       "      <td>0</td>\n",
       "      <td>0</td>\n",
       "    </tr>\n",
       "    <tr>\n",
       "      <th>2022</th>\n",
       "      <th>cse</th>\n",
       "      <td>7</td>\n",
       "      <td>8</td>\n",
       "      <td>0</td>\n",
       "      <td>0</td>\n",
       "    </tr>\n",
       "    <tr>\n",
       "      <th>2019</th>\n",
       "      <th>ece</th>\n",
       "      <td>9</td>\n",
       "      <td>10</td>\n",
       "      <td>0</td>\n",
       "      <td>0</td>\n",
       "    </tr>\n",
       "    <tr>\n",
       "      <th>2020</th>\n",
       "      <th>ece</th>\n",
       "      <td>11</td>\n",
       "      <td>12</td>\n",
       "      <td>0</td>\n",
       "      <td>0</td>\n",
       "    </tr>\n",
       "    <tr>\n",
       "      <th>2021</th>\n",
       "      <th>ece</th>\n",
       "      <td>13</td>\n",
       "      <td>14</td>\n",
       "      <td>0</td>\n",
       "      <td>0</td>\n",
       "    </tr>\n",
       "    <tr>\n",
       "      <th>2022</th>\n",
       "      <th>ece</th>\n",
       "      <td>15</td>\n",
       "      <td>16</td>\n",
       "      <td>0</td>\n",
       "      <td>0</td>\n",
       "    </tr>\n",
       "  </tbody>\n",
       "</table>\n",
       "</div>"
      ],
      "text/plain": [
       "               delhi               mumbai         \n",
       "         avg_package students avg_package students\n",
       "2019 cse           1        2           0        0\n",
       "2020 cse           3        4           0        0\n",
       "2021 cse           5        6           0        0\n",
       "2022 cse           7        8           0        0\n",
       "2019 ece           9       10           0        0\n",
       "2020 ece          11       12           0        0\n",
       "2021 ece          13       14           0        0\n",
       "2022 ece          15       16           0        0"
      ]
     },
     "execution_count": 98,
     "metadata": {},
     "output_type": "execute_result"
    }
   ],
   "source": [
    "branch_df3.swaplevel()"
   ]
  },
  {
   "cell_type": "code",
   "execution_count": 99,
   "id": "aceace1b",
   "metadata": {},
   "outputs": [
    {
     "data": {
      "application/vnd.microsoft.datawrangler.viewer.v0+json": {
       "columns": [
        {
         "name": "(None, None)",
         "rawType": "object",
         "type": "unknown"
        },
        {
         "name": "('avg_package', 'delhi')",
         "rawType": "object",
         "type": "string"
        },
        {
         "name": "('students', 'delhi')",
         "rawType": "object",
         "type": "string"
        },
        {
         "name": "('avg_package', 'mumbai')",
         "rawType": "object",
         "type": "string"
        },
        {
         "name": "('students', 'mumbai')",
         "rawType": "object",
         "type": "string"
        }
       ],
       "ref": "4af0de99-ef28-4aa7-b419-281f9a91caa4",
       "rows": [
        [
         "('cse', np.int64(2019))",
         "1",
         "2",
         "0",
         "0"
        ],
        [
         "('cse', np.int64(2020))",
         "3",
         "4",
         "0",
         "0"
        ],
        [
         "('cse', np.int64(2021))",
         "5",
         "6",
         "0",
         "0"
        ],
        [
         "('cse', np.int64(2022))",
         "7",
         "8",
         "0",
         "0"
        ],
        [
         "('ece', np.int64(2019))",
         "9",
         "10",
         "0",
         "0"
        ],
        [
         "('ece', np.int64(2020))",
         "11",
         "12",
         "0",
         "0"
        ],
        [
         "('ece', np.int64(2021))",
         "13",
         "14",
         "0",
         "0"
        ],
        [
         "('ece', np.int64(2022))",
         "15",
         "16",
         "0",
         "0"
        ]
       ],
       "shape": {
        "columns": 4,
        "rows": 8
       }
      },
      "text/html": [
       "<div>\n",
       "<style scoped>\n",
       "    .dataframe tbody tr th:only-of-type {\n",
       "        vertical-align: middle;\n",
       "    }\n",
       "\n",
       "    .dataframe tbody tr th {\n",
       "        vertical-align: top;\n",
       "    }\n",
       "\n",
       "    .dataframe thead tr th {\n",
       "        text-align: left;\n",
       "    }\n",
       "</style>\n",
       "<table border=\"1\" class=\"dataframe\">\n",
       "  <thead>\n",
       "    <tr>\n",
       "      <th></th>\n",
       "      <th></th>\n",
       "      <th>avg_package</th>\n",
       "      <th>students</th>\n",
       "      <th>avg_package</th>\n",
       "      <th>students</th>\n",
       "    </tr>\n",
       "    <tr>\n",
       "      <th></th>\n",
       "      <th></th>\n",
       "      <th>delhi</th>\n",
       "      <th>delhi</th>\n",
       "      <th>mumbai</th>\n",
       "      <th>mumbai</th>\n",
       "    </tr>\n",
       "  </thead>\n",
       "  <tbody>\n",
       "    <tr>\n",
       "      <th rowspan=\"4\" valign=\"top\">cse</th>\n",
       "      <th>2019</th>\n",
       "      <td>1</td>\n",
       "      <td>2</td>\n",
       "      <td>0</td>\n",
       "      <td>0</td>\n",
       "    </tr>\n",
       "    <tr>\n",
       "      <th>2020</th>\n",
       "      <td>3</td>\n",
       "      <td>4</td>\n",
       "      <td>0</td>\n",
       "      <td>0</td>\n",
       "    </tr>\n",
       "    <tr>\n",
       "      <th>2021</th>\n",
       "      <td>5</td>\n",
       "      <td>6</td>\n",
       "      <td>0</td>\n",
       "      <td>0</td>\n",
       "    </tr>\n",
       "    <tr>\n",
       "      <th>2022</th>\n",
       "      <td>7</td>\n",
       "      <td>8</td>\n",
       "      <td>0</td>\n",
       "      <td>0</td>\n",
       "    </tr>\n",
       "    <tr>\n",
       "      <th rowspan=\"4\" valign=\"top\">ece</th>\n",
       "      <th>2019</th>\n",
       "      <td>9</td>\n",
       "      <td>10</td>\n",
       "      <td>0</td>\n",
       "      <td>0</td>\n",
       "    </tr>\n",
       "    <tr>\n",
       "      <th>2020</th>\n",
       "      <td>11</td>\n",
       "      <td>12</td>\n",
       "      <td>0</td>\n",
       "      <td>0</td>\n",
       "    </tr>\n",
       "    <tr>\n",
       "      <th>2021</th>\n",
       "      <td>13</td>\n",
       "      <td>14</td>\n",
       "      <td>0</td>\n",
       "      <td>0</td>\n",
       "    </tr>\n",
       "    <tr>\n",
       "      <th>2022</th>\n",
       "      <td>15</td>\n",
       "      <td>16</td>\n",
       "      <td>0</td>\n",
       "      <td>0</td>\n",
       "    </tr>\n",
       "  </tbody>\n",
       "</table>\n",
       "</div>"
      ],
      "text/plain": [
       "         avg_package students avg_package students\n",
       "               delhi    delhi      mumbai   mumbai\n",
       "cse 2019           1        2           0        0\n",
       "    2020           3        4           0        0\n",
       "    2021           5        6           0        0\n",
       "    2022           7        8           0        0\n",
       "ece 2019           9       10           0        0\n",
       "    2020          11       12           0        0\n",
       "    2021          13       14           0        0\n",
       "    2022          15       16           0        0"
      ]
     },
     "execution_count": 99,
     "metadata": {},
     "output_type": "execute_result"
    }
   ],
   "source": [
    "branch_df3.swaplevel(axis=1)"
   ]
  },
  {
   "cell_type": "markdown",
   "id": "2b7756da",
   "metadata": {},
   "source": [
    "---"
   ]
  },
  {
   "cell_type": "markdown",
   "id": "0d714fce",
   "metadata": {},
   "source": [
    "# **Long** vs **Wide** data:"
   ]
  },
  {
   "cell_type": "markdown",
   "id": "87d12620",
   "metadata": {},
   "source": [
    "**Wide Format** is where we have a single row for every data point with multiple columns to hold the values of variuos attributes."
   ]
  },
  {
   "cell_type": "markdown",
   "id": "c39c72a7",
   "metadata": {},
   "source": [
    "**Long Fomat** is where, for each point we have as many rows as the number of attributes and each row conntains the value of a particular attribute for a given point."
   ]
  },
  {
   "cell_type": "markdown",
   "id": "86525806",
   "metadata": {},
   "source": [
    "### melt:\n",
    "- converts wide data format to long data format."
   ]
  },
  {
   "cell_type": "code",
   "execution_count": 101,
   "id": "87ea4985",
   "metadata": {},
   "outputs": [
    {
     "data": {
      "application/vnd.microsoft.datawrangler.viewer.v0+json": {
       "columns": [
        {
         "name": "index",
         "rawType": "int64",
         "type": "integer"
        },
        {
         "name": "cse",
         "rawType": "int64",
         "type": "integer"
        }
       ],
       "ref": "74ab6339-c9ca-4bde-be96-98292682ff32",
       "rows": [
        [
         "0",
         "120"
        ]
       ],
       "shape": {
        "columns": 1,
        "rows": 1
       }
      },
      "text/html": [
       "<div>\n",
       "<style scoped>\n",
       "    .dataframe tbody tr th:only-of-type {\n",
       "        vertical-align: middle;\n",
       "    }\n",
       "\n",
       "    .dataframe tbody tr th {\n",
       "        vertical-align: top;\n",
       "    }\n",
       "\n",
       "    .dataframe thead th {\n",
       "        text-align: right;\n",
       "    }\n",
       "</style>\n",
       "<table border=\"1\" class=\"dataframe\">\n",
       "  <thead>\n",
       "    <tr style=\"text-align: right;\">\n",
       "      <th></th>\n",
       "      <th>cse</th>\n",
       "    </tr>\n",
       "  </thead>\n",
       "  <tbody>\n",
       "    <tr>\n",
       "      <th>0</th>\n",
       "      <td>120</td>\n",
       "    </tr>\n",
       "  </tbody>\n",
       "</table>\n",
       "</div>"
      ],
      "text/plain": [
       "   cse\n",
       "0  120"
      ]
     },
     "execution_count": 101,
     "metadata": {},
     "output_type": "execute_result"
    }
   ],
   "source": [
    "pd.DataFrame({'cse':[120]})"
   ]
  },
  {
   "cell_type": "code",
   "execution_count": 103,
   "id": "906d602e",
   "metadata": {},
   "outputs": [
    {
     "data": {
      "application/vnd.microsoft.datawrangler.viewer.v0+json": {
       "columns": [
        {
         "name": "index",
         "rawType": "int64",
         "type": "integer"
        },
        {
         "name": "variable",
         "rawType": "object",
         "type": "string"
        },
        {
         "name": "value",
         "rawType": "int64",
         "type": "integer"
        }
       ],
       "ref": "a7ff8df2-b92d-4321-a228-873b65ec0312",
       "rows": [
        [
         "0",
         "cse",
         "120"
        ]
       ],
       "shape": {
        "columns": 2,
        "rows": 1
       }
      },
      "text/html": [
       "<div>\n",
       "<style scoped>\n",
       "    .dataframe tbody tr th:only-of-type {\n",
       "        vertical-align: middle;\n",
       "    }\n",
       "\n",
       "    .dataframe tbody tr th {\n",
       "        vertical-align: top;\n",
       "    }\n",
       "\n",
       "    .dataframe thead th {\n",
       "        text-align: right;\n",
       "    }\n",
       "</style>\n",
       "<table border=\"1\" class=\"dataframe\">\n",
       "  <thead>\n",
       "    <tr style=\"text-align: right;\">\n",
       "      <th></th>\n",
       "      <th>variable</th>\n",
       "      <th>value</th>\n",
       "    </tr>\n",
       "  </thead>\n",
       "  <tbody>\n",
       "    <tr>\n",
       "      <th>0</th>\n",
       "      <td>cse</td>\n",
       "      <td>120</td>\n",
       "    </tr>\n",
       "  </tbody>\n",
       "</table>\n",
       "</div>"
      ],
      "text/plain": [
       "  variable  value\n",
       "0      cse    120"
      ]
     },
     "execution_count": 103,
     "metadata": {},
     "output_type": "execute_result"
    }
   ],
   "source": [
    "pd.DataFrame({'cse':[120]}).melt()"
   ]
  },
  {
   "cell_type": "markdown",
   "id": "047e2dfb",
   "metadata": {},
   "source": [
    "Parameters: 'var_name=' and 'value_name='"
   ]
  },
  {
   "cell_type": "code",
   "execution_count": 105,
   "id": "9a23e554",
   "metadata": {},
   "outputs": [
    {
     "data": {
      "application/vnd.microsoft.datawrangler.viewer.v0+json": {
       "columns": [
        {
         "name": "index",
         "rawType": "int64",
         "type": "integer"
        },
        {
         "name": "cse",
         "rawType": "int64",
         "type": "integer"
        },
        {
         "name": "ece",
         "rawType": "int64",
         "type": "integer"
        },
        {
         "name": "mech",
         "rawType": "int64",
         "type": "integer"
        }
       ],
       "ref": "4d29c7be-8b0d-48df-872c-819cd42f575b",
       "rows": [
        [
         "0",
         "120",
         "100",
         "50"
        ]
       ],
       "shape": {
        "columns": 3,
        "rows": 1
       }
      },
      "text/html": [
       "<div>\n",
       "<style scoped>\n",
       "    .dataframe tbody tr th:only-of-type {\n",
       "        vertical-align: middle;\n",
       "    }\n",
       "\n",
       "    .dataframe tbody tr th {\n",
       "        vertical-align: top;\n",
       "    }\n",
       "\n",
       "    .dataframe thead th {\n",
       "        text-align: right;\n",
       "    }\n",
       "</style>\n",
       "<table border=\"1\" class=\"dataframe\">\n",
       "  <thead>\n",
       "    <tr style=\"text-align: right;\">\n",
       "      <th></th>\n",
       "      <th>cse</th>\n",
       "      <th>ece</th>\n",
       "      <th>mech</th>\n",
       "    </tr>\n",
       "  </thead>\n",
       "  <tbody>\n",
       "    <tr>\n",
       "      <th>0</th>\n",
       "      <td>120</td>\n",
       "      <td>100</td>\n",
       "      <td>50</td>\n",
       "    </tr>\n",
       "  </tbody>\n",
       "</table>\n",
       "</div>"
      ],
      "text/plain": [
       "   cse  ece  mech\n",
       "0  120  100    50"
      ]
     },
     "execution_count": 105,
     "metadata": {},
     "output_type": "execute_result"
    }
   ],
   "source": [
    "pd.DataFrame({'cse':[120],'ece':[100],'mech':[50]})"
   ]
  },
  {
   "cell_type": "code",
   "execution_count": 108,
   "id": "d928d597",
   "metadata": {},
   "outputs": [
    {
     "data": {
      "application/vnd.microsoft.datawrangler.viewer.v0+json": {
       "columns": [
        {
         "name": "index",
         "rawType": "int64",
         "type": "integer"
        },
        {
         "name": "branch",
         "rawType": "object",
         "type": "string"
        },
        {
         "name": "students",
         "rawType": "int64",
         "type": "integer"
        }
       ],
       "ref": "350cf164-a6c0-4cd0-ade3-4cecfbd53720",
       "rows": [
        [
         "0",
         "cse",
         "120"
        ],
        [
         "1",
         "ece",
         "100"
        ],
        [
         "2",
         "mech",
         "50"
        ]
       ],
       "shape": {
        "columns": 2,
        "rows": 3
       }
      },
      "text/html": [
       "<div>\n",
       "<style scoped>\n",
       "    .dataframe tbody tr th:only-of-type {\n",
       "        vertical-align: middle;\n",
       "    }\n",
       "\n",
       "    .dataframe tbody tr th {\n",
       "        vertical-align: top;\n",
       "    }\n",
       "\n",
       "    .dataframe thead th {\n",
       "        text-align: right;\n",
       "    }\n",
       "</style>\n",
       "<table border=\"1\" class=\"dataframe\">\n",
       "  <thead>\n",
       "    <tr style=\"text-align: right;\">\n",
       "      <th></th>\n",
       "      <th>branch</th>\n",
       "      <th>students</th>\n",
       "    </tr>\n",
       "  </thead>\n",
       "  <tbody>\n",
       "    <tr>\n",
       "      <th>0</th>\n",
       "      <td>cse</td>\n",
       "      <td>120</td>\n",
       "    </tr>\n",
       "    <tr>\n",
       "      <th>1</th>\n",
       "      <td>ece</td>\n",
       "      <td>100</td>\n",
       "    </tr>\n",
       "    <tr>\n",
       "      <th>2</th>\n",
       "      <td>mech</td>\n",
       "      <td>50</td>\n",
       "    </tr>\n",
       "  </tbody>\n",
       "</table>\n",
       "</div>"
      ],
      "text/plain": [
       "  branch  students\n",
       "0    cse       120\n",
       "1    ece       100\n",
       "2   mech        50"
      ]
     },
     "execution_count": 108,
     "metadata": {},
     "output_type": "execute_result"
    }
   ],
   "source": [
    "pd.DataFrame({'cse':[120],'ece':[100],'mech':[50]}).melt(var_name='branch', value_name='students')"
   ]
  },
  {
   "cell_type": "markdown",
   "id": "9ebcd947",
   "metadata": {},
   "source": [
    "Parameter: 'id_vars='"
   ]
  },
  {
   "cell_type": "code",
   "execution_count": 111,
   "id": "629ea167",
   "metadata": {},
   "outputs": [
    {
     "data": {
      "application/vnd.microsoft.datawrangler.viewer.v0+json": {
       "columns": [
        {
         "name": "index",
         "rawType": "int64",
         "type": "integer"
        },
        {
         "name": "branch",
         "rawType": "object",
         "type": "string"
        },
        {
         "name": "2020",
         "rawType": "int64",
         "type": "integer"
        },
        {
         "name": "2021",
         "rawType": "int64",
         "type": "integer"
        },
        {
         "name": "2022",
         "rawType": "int64",
         "type": "integer"
        }
       ],
       "ref": "b3baa062-600a-42c5-b4ed-b40dfbb02095",
       "rows": [
        [
         "0",
         "cse",
         "120",
         "130",
         "140"
        ],
        [
         "1",
         "ece",
         "100",
         "110",
         "120"
        ],
        [
         "2",
         "mech",
         "50",
         "60",
         "70"
        ]
       ],
       "shape": {
        "columns": 4,
        "rows": 3
       }
      },
      "text/html": [
       "<div>\n",
       "<style scoped>\n",
       "    .dataframe tbody tr th:only-of-type {\n",
       "        vertical-align: middle;\n",
       "    }\n",
       "\n",
       "    .dataframe tbody tr th {\n",
       "        vertical-align: top;\n",
       "    }\n",
       "\n",
       "    .dataframe thead th {\n",
       "        text-align: right;\n",
       "    }\n",
       "</style>\n",
       "<table border=\"1\" class=\"dataframe\">\n",
       "  <thead>\n",
       "    <tr style=\"text-align: right;\">\n",
       "      <th></th>\n",
       "      <th>branch</th>\n",
       "      <th>2020</th>\n",
       "      <th>2021</th>\n",
       "      <th>2022</th>\n",
       "    </tr>\n",
       "  </thead>\n",
       "  <tbody>\n",
       "    <tr>\n",
       "      <th>0</th>\n",
       "      <td>cse</td>\n",
       "      <td>120</td>\n",
       "      <td>130</td>\n",
       "      <td>140</td>\n",
       "    </tr>\n",
       "    <tr>\n",
       "      <th>1</th>\n",
       "      <td>ece</td>\n",
       "      <td>100</td>\n",
       "      <td>110</td>\n",
       "      <td>120</td>\n",
       "    </tr>\n",
       "    <tr>\n",
       "      <th>2</th>\n",
       "      <td>mech</td>\n",
       "      <td>50</td>\n",
       "      <td>60</td>\n",
       "      <td>70</td>\n",
       "    </tr>\n",
       "  </tbody>\n",
       "</table>\n",
       "</div>"
      ],
      "text/plain": [
       "  branch  2020  2021  2022\n",
       "0    cse   120   130   140\n",
       "1    ece   100   110   120\n",
       "2   mech    50    60    70"
      ]
     },
     "execution_count": 111,
     "metadata": {},
     "output_type": "execute_result"
    }
   ],
   "source": [
    "df3= pd.DataFrame(\n",
    "    {\n",
    "        'branch': ['cse', 'ece', 'mech'],\n",
    "        '2020': [120, 100, 50],\n",
    "        '2021': [130, 110, 60],\n",
    "        '2022': [140, 120, 70]\n",
    "    }\n",
    ")\n",
    "df3"
   ]
  },
  {
   "cell_type": "code",
   "execution_count": 113,
   "id": "4fcd25d7",
   "metadata": {},
   "outputs": [
    {
     "data": {
      "application/vnd.microsoft.datawrangler.viewer.v0+json": {
       "columns": [
        {
         "name": "index",
         "rawType": "int64",
         "type": "integer"
        },
        {
         "name": "variable",
         "rawType": "object",
         "type": "string"
        },
        {
         "name": "value",
         "rawType": "object",
         "type": "unknown"
        }
       ],
       "ref": "fc3460ae-3441-4adb-ad65-c93c8ea894a7",
       "rows": [
        [
         "0",
         "branch",
         "cse"
        ],
        [
         "1",
         "branch",
         "ece"
        ],
        [
         "2",
         "branch",
         "mech"
        ],
        [
         "3",
         "2020",
         "120"
        ],
        [
         "4",
         "2020",
         "100"
        ],
        [
         "5",
         "2020",
         "50"
        ],
        [
         "6",
         "2021",
         "130"
        ],
        [
         "7",
         "2021",
         "110"
        ],
        [
         "8",
         "2021",
         "60"
        ],
        [
         "9",
         "2022",
         "140"
        ],
        [
         "10",
         "2022",
         "120"
        ],
        [
         "11",
         "2022",
         "70"
        ]
       ],
       "shape": {
        "columns": 2,
        "rows": 12
       }
      },
      "text/html": [
       "<div>\n",
       "<style scoped>\n",
       "    .dataframe tbody tr th:only-of-type {\n",
       "        vertical-align: middle;\n",
       "    }\n",
       "\n",
       "    .dataframe tbody tr th {\n",
       "        vertical-align: top;\n",
       "    }\n",
       "\n",
       "    .dataframe thead th {\n",
       "        text-align: right;\n",
       "    }\n",
       "</style>\n",
       "<table border=\"1\" class=\"dataframe\">\n",
       "  <thead>\n",
       "    <tr style=\"text-align: right;\">\n",
       "      <th></th>\n",
       "      <th>variable</th>\n",
       "      <th>value</th>\n",
       "    </tr>\n",
       "  </thead>\n",
       "  <tbody>\n",
       "    <tr>\n",
       "      <th>0</th>\n",
       "      <td>branch</td>\n",
       "      <td>cse</td>\n",
       "    </tr>\n",
       "    <tr>\n",
       "      <th>1</th>\n",
       "      <td>branch</td>\n",
       "      <td>ece</td>\n",
       "    </tr>\n",
       "    <tr>\n",
       "      <th>2</th>\n",
       "      <td>branch</td>\n",
       "      <td>mech</td>\n",
       "    </tr>\n",
       "    <tr>\n",
       "      <th>3</th>\n",
       "      <td>2020</td>\n",
       "      <td>120</td>\n",
       "    </tr>\n",
       "    <tr>\n",
       "      <th>4</th>\n",
       "      <td>2020</td>\n",
       "      <td>100</td>\n",
       "    </tr>\n",
       "    <tr>\n",
       "      <th>5</th>\n",
       "      <td>2020</td>\n",
       "      <td>50</td>\n",
       "    </tr>\n",
       "    <tr>\n",
       "      <th>6</th>\n",
       "      <td>2021</td>\n",
       "      <td>130</td>\n",
       "    </tr>\n",
       "    <tr>\n",
       "      <th>7</th>\n",
       "      <td>2021</td>\n",
       "      <td>110</td>\n",
       "    </tr>\n",
       "    <tr>\n",
       "      <th>8</th>\n",
       "      <td>2021</td>\n",
       "      <td>60</td>\n",
       "    </tr>\n",
       "    <tr>\n",
       "      <th>9</th>\n",
       "      <td>2022</td>\n",
       "      <td>140</td>\n",
       "    </tr>\n",
       "    <tr>\n",
       "      <th>10</th>\n",
       "      <td>2022</td>\n",
       "      <td>120</td>\n",
       "    </tr>\n",
       "    <tr>\n",
       "      <th>11</th>\n",
       "      <td>2022</td>\n",
       "      <td>70</td>\n",
       "    </tr>\n",
       "  </tbody>\n",
       "</table>\n",
       "</div>"
      ],
      "text/plain": [
       "   variable value\n",
       "0    branch   cse\n",
       "1    branch   ece\n",
       "2    branch  mech\n",
       "3      2020   120\n",
       "4      2020   100\n",
       "5      2020    50\n",
       "6      2021   130\n",
       "7      2021   110\n",
       "8      2021    60\n",
       "9      2022   140\n",
       "10     2022   120\n",
       "11     2022    70"
      ]
     },
     "execution_count": 113,
     "metadata": {},
     "output_type": "execute_result"
    }
   ],
   "source": [
    "df3.melt() #This is unreadable data"
   ]
  },
  {
   "cell_type": "code",
   "execution_count": 116,
   "id": "8253fe40",
   "metadata": {},
   "outputs": [
    {
     "data": {
      "application/vnd.microsoft.datawrangler.viewer.v0+json": {
       "columns": [
        {
         "name": "index",
         "rawType": "int64",
         "type": "integer"
        },
        {
         "name": "branch",
         "rawType": "object",
         "type": "string"
        },
        {
         "name": "year",
         "rawType": "object",
         "type": "string"
        },
        {
         "name": "students",
         "rawType": "int64",
         "type": "integer"
        }
       ],
       "ref": "74f3b076-c3e8-40c0-85a6-bae72afbccf3",
       "rows": [
        [
         "0",
         "cse",
         "2020",
         "120"
        ],
        [
         "1",
         "ece",
         "2020",
         "100"
        ],
        [
         "2",
         "mech",
         "2020",
         "50"
        ],
        [
         "3",
         "cse",
         "2021",
         "130"
        ],
        [
         "4",
         "ece",
         "2021",
         "110"
        ],
        [
         "5",
         "mech",
         "2021",
         "60"
        ],
        [
         "6",
         "cse",
         "2022",
         "140"
        ],
        [
         "7",
         "ece",
         "2022",
         "120"
        ],
        [
         "8",
         "mech",
         "2022",
         "70"
        ]
       ],
       "shape": {
        "columns": 3,
        "rows": 9
       }
      },
      "text/html": [
       "<div>\n",
       "<style scoped>\n",
       "    .dataframe tbody tr th:only-of-type {\n",
       "        vertical-align: middle;\n",
       "    }\n",
       "\n",
       "    .dataframe tbody tr th {\n",
       "        vertical-align: top;\n",
       "    }\n",
       "\n",
       "    .dataframe thead th {\n",
       "        text-align: right;\n",
       "    }\n",
       "</style>\n",
       "<table border=\"1\" class=\"dataframe\">\n",
       "  <thead>\n",
       "    <tr style=\"text-align: right;\">\n",
       "      <th></th>\n",
       "      <th>branch</th>\n",
       "      <th>year</th>\n",
       "      <th>students</th>\n",
       "    </tr>\n",
       "  </thead>\n",
       "  <tbody>\n",
       "    <tr>\n",
       "      <th>0</th>\n",
       "      <td>cse</td>\n",
       "      <td>2020</td>\n",
       "      <td>120</td>\n",
       "    </tr>\n",
       "    <tr>\n",
       "      <th>1</th>\n",
       "      <td>ece</td>\n",
       "      <td>2020</td>\n",
       "      <td>100</td>\n",
       "    </tr>\n",
       "    <tr>\n",
       "      <th>2</th>\n",
       "      <td>mech</td>\n",
       "      <td>2020</td>\n",
       "      <td>50</td>\n",
       "    </tr>\n",
       "    <tr>\n",
       "      <th>3</th>\n",
       "      <td>cse</td>\n",
       "      <td>2021</td>\n",
       "      <td>130</td>\n",
       "    </tr>\n",
       "    <tr>\n",
       "      <th>4</th>\n",
       "      <td>ece</td>\n",
       "      <td>2021</td>\n",
       "      <td>110</td>\n",
       "    </tr>\n",
       "    <tr>\n",
       "      <th>5</th>\n",
       "      <td>mech</td>\n",
       "      <td>2021</td>\n",
       "      <td>60</td>\n",
       "    </tr>\n",
       "    <tr>\n",
       "      <th>6</th>\n",
       "      <td>cse</td>\n",
       "      <td>2022</td>\n",
       "      <td>140</td>\n",
       "    </tr>\n",
       "    <tr>\n",
       "      <th>7</th>\n",
       "      <td>ece</td>\n",
       "      <td>2022</td>\n",
       "      <td>120</td>\n",
       "    </tr>\n",
       "    <tr>\n",
       "      <th>8</th>\n",
       "      <td>mech</td>\n",
       "      <td>2022</td>\n",
       "      <td>70</td>\n",
       "    </tr>\n",
       "  </tbody>\n",
       "</table>\n",
       "</div>"
      ],
      "text/plain": [
       "  branch  year  students\n",
       "0    cse  2020       120\n",
       "1    ece  2020       100\n",
       "2   mech  2020        50\n",
       "3    cse  2021       130\n",
       "4    ece  2021       110\n",
       "5   mech  2021        60\n",
       "6    cse  2022       140\n",
       "7    ece  2022       120\n",
       "8   mech  2022        70"
      ]
     },
     "execution_count": 116,
     "metadata": {},
     "output_type": "execute_result"
    }
   ],
   "source": [
    "df3.melt(id_vars='branch',var_name='year', value_name='students') #converts 'branch' to index"
   ]
  }
 ],
 "metadata": {
  "kernelspec": {
   "display_name": ".venv",
   "language": "python",
   "name": "python3"
  },
  "language_info": {
   "codemirror_mode": {
    "name": "ipython",
    "version": 3
   },
   "file_extension": ".py",
   "mimetype": "text/x-python",
   "name": "python",
   "nbconvert_exporter": "python",
   "pygments_lexer": "ipython3",
   "version": "3.12.2"
  }
 },
 "nbformat": 4,
 "nbformat_minor": 5
}
